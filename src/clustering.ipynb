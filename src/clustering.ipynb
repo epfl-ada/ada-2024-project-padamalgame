{
 "cells": [
  {
   "cell_type": "code",
   "execution_count": 57,
   "metadata": {},
   "outputs": [],
   "source": [
    "import random\n",
    "import math\n",
    "import pandas as pd\n",
    "import matplotlib.pyplot as plt\n",
    "import numpy as np\n",
    "from sklearn.cluster import KMeans, DBSCAN\n",
    "from sklearn.metrics import silhouette_score\n",
    "from sklearn.manifold import TSNE\n",
    "from sklearn.decomposition import PCA\n",
    "from sklearn.preprocessing import StandardScaler\n",
    "from scripts.category_analysis import *\n",
    "from clustering import *\n",
    "import plotly.express as px"
   ]
  },
  {
   "cell_type": "code",
   "execution_count": 2,
   "metadata": {},
   "outputs": [],
   "source": [
    "adapted_movies_df = pd.read_csv('adapted_movies.csv')\n",
    "_, adapted_movies_df = analysis_by_category(adapted_movies_df)"
   ]
  },
  {
   "cell_type": "code",
   "execution_count": 78,
   "metadata": {},
   "outputs": [],
   "source": [
    "genres = adapted_movies_df.groupby('wikipedia_id')['MovieGenre'].apply(lambda x: list(x)).reset_index(drop=True)"
   ]
  },
  {
   "cell_type": "code",
   "execution_count": 14,
   "metadata": {},
   "outputs": [],
   "source": [
    "all_movies_df = pd.read_csv('all_movies.csv')\n",
    "_, all_movies_df = analysis_by_category(all_movies_df)"
   ]
  },
  {
   "cell_type": "code",
   "execution_count": 65,
   "metadata": {},
   "outputs": [
    {
     "data": {
      "text/plain": [
       "(2795, 53)"
      ]
     },
     "execution_count": 65,
     "metadata": {},
     "output_type": "execute_result"
    }
   ],
   "source": [
    "df_genre_adapted, df_transformed_adapted = get_dummy_genre(adapted_movies_df)\n",
    "# df_genre_all, df_transformed_all = get_dummy_genre(all_movies_df)\n",
    "df_genre_adapted\n",
    "df_transformed_adapted.shape"
   ]
  },
  {
   "cell_type": "code",
   "execution_count": 21,
   "metadata": {},
   "outputs": [
    {
     "data": {
      "text/html": [
       "<div>\n",
       "<style scoped>\n",
       "    .dataframe tbody tr th:only-of-type {\n",
       "        vertical-align: middle;\n",
       "    }\n",
       "\n",
       "    .dataframe tbody tr th {\n",
       "        vertical-align: top;\n",
       "    }\n",
       "\n",
       "    .dataframe thead th {\n",
       "        text-align: right;\n",
       "    }\n",
       "</style>\n",
       "<table border=\"1\" class=\"dataframe\">\n",
       "  <thead>\n",
       "    <tr style=\"text-align: right;\">\n",
       "      <th></th>\n",
       "      <th>k</th>\n",
       "      <th>sse</th>\n",
       "    </tr>\n",
       "  </thead>\n",
       "  <tbody>\n",
       "    <tr>\n",
       "      <th>0</th>\n",
       "      <td>2</td>\n",
       "      <td>2.126587e+06</td>\n",
       "    </tr>\n",
       "    <tr>\n",
       "      <th>1</th>\n",
       "      <td>3</td>\n",
       "      <td>1.292736e+06</td>\n",
       "    </tr>\n",
       "    <tr>\n",
       "      <th>2</th>\n",
       "      <td>4</td>\n",
       "      <td>1.006982e+06</td>\n",
       "    </tr>\n",
       "    <tr>\n",
       "      <th>3</th>\n",
       "      <td>5</td>\n",
       "      <td>7.263684e+05</td>\n",
       "    </tr>\n",
       "    <tr>\n",
       "      <th>4</th>\n",
       "      <td>6</td>\n",
       "      <td>5.974352e+05</td>\n",
       "    </tr>\n",
       "    <tr>\n",
       "      <th>5</th>\n",
       "      <td>7</td>\n",
       "      <td>4.850570e+05</td>\n",
       "    </tr>\n",
       "    <tr>\n",
       "      <th>6</th>\n",
       "      <td>8</td>\n",
       "      <td>4.116850e+05</td>\n",
       "    </tr>\n",
       "    <tr>\n",
       "      <th>7</th>\n",
       "      <td>9</td>\n",
       "      <td>3.646090e+05</td>\n",
       "    </tr>\n",
       "    <tr>\n",
       "      <th>8</th>\n",
       "      <td>10</td>\n",
       "      <td>3.279543e+05</td>\n",
       "    </tr>\n",
       "    <tr>\n",
       "      <th>9</th>\n",
       "      <td>11</td>\n",
       "      <td>2.781442e+05</td>\n",
       "    </tr>\n",
       "    <tr>\n",
       "      <th>10</th>\n",
       "      <td>12</td>\n",
       "      <td>2.506792e+05</td>\n",
       "    </tr>\n",
       "    <tr>\n",
       "      <th>11</th>\n",
       "      <td>13</td>\n",
       "      <td>2.396579e+05</td>\n",
       "    </tr>\n",
       "    <tr>\n",
       "      <th>12</th>\n",
       "      <td>14</td>\n",
       "      <td>2.167388e+05</td>\n",
       "    </tr>\n",
       "    <tr>\n",
       "      <th>13</th>\n",
       "      <td>15</td>\n",
       "      <td>1.907347e+05</td>\n",
       "    </tr>\n",
       "    <tr>\n",
       "      <th>14</th>\n",
       "      <td>16</td>\n",
       "      <td>1.682833e+05</td>\n",
       "    </tr>\n",
       "    <tr>\n",
       "      <th>15</th>\n",
       "      <td>17</td>\n",
       "      <td>1.583213e+05</td>\n",
       "    </tr>\n",
       "    <tr>\n",
       "      <th>16</th>\n",
       "      <td>18</td>\n",
       "      <td>1.406121e+05</td>\n",
       "    </tr>\n",
       "    <tr>\n",
       "      <th>17</th>\n",
       "      <td>19</td>\n",
       "      <td>1.340241e+05</td>\n",
       "    </tr>\n",
       "    <tr>\n",
       "      <th>18</th>\n",
       "      <td>20</td>\n",
       "      <td>1.285413e+05</td>\n",
       "    </tr>\n",
       "    <tr>\n",
       "      <th>19</th>\n",
       "      <td>21</td>\n",
       "      <td>1.275176e+05</td>\n",
       "    </tr>\n",
       "    <tr>\n",
       "      <th>20</th>\n",
       "      <td>22</td>\n",
       "      <td>1.226974e+05</td>\n",
       "    </tr>\n",
       "    <tr>\n",
       "      <th>21</th>\n",
       "      <td>23</td>\n",
       "      <td>1.180940e+05</td>\n",
       "    </tr>\n",
       "    <tr>\n",
       "      <th>22</th>\n",
       "      <td>24</td>\n",
       "      <td>1.173008e+05</td>\n",
       "    </tr>\n",
       "    <tr>\n",
       "      <th>23</th>\n",
       "      <td>25</td>\n",
       "      <td>1.038489e+05</td>\n",
       "    </tr>\n",
       "    <tr>\n",
       "      <th>24</th>\n",
       "      <td>26</td>\n",
       "      <td>9.783207e+04</td>\n",
       "    </tr>\n",
       "    <tr>\n",
       "      <th>25</th>\n",
       "      <td>27</td>\n",
       "      <td>9.453043e+04</td>\n",
       "    </tr>\n",
       "    <tr>\n",
       "      <th>26</th>\n",
       "      <td>28</td>\n",
       "      <td>9.087633e+04</td>\n",
       "    </tr>\n",
       "    <tr>\n",
       "      <th>27</th>\n",
       "      <td>29</td>\n",
       "      <td>8.684156e+04</td>\n",
       "    </tr>\n",
       "    <tr>\n",
       "      <th>28</th>\n",
       "      <td>30</td>\n",
       "      <td>8.097086e+04</td>\n",
       "    </tr>\n",
       "    <tr>\n",
       "      <th>29</th>\n",
       "      <td>31</td>\n",
       "      <td>7.840238e+04</td>\n",
       "    </tr>\n",
       "    <tr>\n",
       "      <th>30</th>\n",
       "      <td>32</td>\n",
       "      <td>7.498186e+04</td>\n",
       "    </tr>\n",
       "    <tr>\n",
       "      <th>31</th>\n",
       "      <td>33</td>\n",
       "      <td>7.289544e+04</td>\n",
       "    </tr>\n",
       "    <tr>\n",
       "      <th>32</th>\n",
       "      <td>34</td>\n",
       "      <td>7.170562e+04</td>\n",
       "    </tr>\n",
       "    <tr>\n",
       "      <th>33</th>\n",
       "      <td>35</td>\n",
       "      <td>6.517877e+04</td>\n",
       "    </tr>\n",
       "    <tr>\n",
       "      <th>34</th>\n",
       "      <td>36</td>\n",
       "      <td>6.721989e+04</td>\n",
       "    </tr>\n",
       "    <tr>\n",
       "      <th>35</th>\n",
       "      <td>37</td>\n",
       "      <td>6.207284e+04</td>\n",
       "    </tr>\n",
       "    <tr>\n",
       "      <th>36</th>\n",
       "      <td>38</td>\n",
       "      <td>5.973565e+04</td>\n",
       "    </tr>\n",
       "    <tr>\n",
       "      <th>37</th>\n",
       "      <td>39</td>\n",
       "      <td>5.701559e+04</td>\n",
       "    </tr>\n",
       "    <tr>\n",
       "      <th>38</th>\n",
       "      <td>40</td>\n",
       "      <td>5.557042e+04</td>\n",
       "    </tr>\n",
       "    <tr>\n",
       "      <th>39</th>\n",
       "      <td>41</td>\n",
       "      <td>5.383974e+04</td>\n",
       "    </tr>\n",
       "    <tr>\n",
       "      <th>40</th>\n",
       "      <td>42</td>\n",
       "      <td>5.241843e+04</td>\n",
       "    </tr>\n",
       "    <tr>\n",
       "      <th>41</th>\n",
       "      <td>43</td>\n",
       "      <td>5.165810e+04</td>\n",
       "    </tr>\n",
       "    <tr>\n",
       "      <th>42</th>\n",
       "      <td>44</td>\n",
       "      <td>4.869895e+04</td>\n",
       "    </tr>\n",
       "    <tr>\n",
       "      <th>43</th>\n",
       "      <td>45</td>\n",
       "      <td>4.655193e+04</td>\n",
       "    </tr>\n",
       "    <tr>\n",
       "      <th>44</th>\n",
       "      <td>46</td>\n",
       "      <td>4.479128e+04</td>\n",
       "    </tr>\n",
       "    <tr>\n",
       "      <th>45</th>\n",
       "      <td>47</td>\n",
       "      <td>4.417765e+04</td>\n",
       "    </tr>\n",
       "    <tr>\n",
       "      <th>46</th>\n",
       "      <td>48</td>\n",
       "      <td>4.291384e+04</td>\n",
       "    </tr>\n",
       "    <tr>\n",
       "      <th>47</th>\n",
       "      <td>49</td>\n",
       "      <td>4.192748e+04</td>\n",
       "    </tr>\n",
       "  </tbody>\n",
       "</table>\n",
       "</div>"
      ],
      "text/plain": [
       "     k           sse\n",
       "0    2  2.126587e+06\n",
       "1    3  1.292736e+06\n",
       "2    4  1.006982e+06\n",
       "3    5  7.263684e+05\n",
       "4    6  5.974352e+05\n",
       "5    7  4.850570e+05\n",
       "6    8  4.116850e+05\n",
       "7    9  3.646090e+05\n",
       "8   10  3.279543e+05\n",
       "9   11  2.781442e+05\n",
       "10  12  2.506792e+05\n",
       "11  13  2.396579e+05\n",
       "12  14  2.167388e+05\n",
       "13  15  1.907347e+05\n",
       "14  16  1.682833e+05\n",
       "15  17  1.583213e+05\n",
       "16  18  1.406121e+05\n",
       "17  19  1.340241e+05\n",
       "18  20  1.285413e+05\n",
       "19  21  1.275176e+05\n",
       "20  22  1.226974e+05\n",
       "21  23  1.180940e+05\n",
       "22  24  1.173008e+05\n",
       "23  25  1.038489e+05\n",
       "24  26  9.783207e+04\n",
       "25  27  9.453043e+04\n",
       "26  28  9.087633e+04\n",
       "27  29  8.684156e+04\n",
       "28  30  8.097086e+04\n",
       "29  31  7.840238e+04\n",
       "30  32  7.498186e+04\n",
       "31  33  7.289544e+04\n",
       "32  34  7.170562e+04\n",
       "33  35  6.517877e+04\n",
       "34  36  6.721989e+04\n",
       "35  37  6.207284e+04\n",
       "36  38  5.973565e+04\n",
       "37  39  5.701559e+04\n",
       "38  40  5.557042e+04\n",
       "39  41  5.383974e+04\n",
       "40  42  5.241843e+04\n",
       "41  43  5.165810e+04\n",
       "42  44  4.869895e+04\n",
       "43  45  4.655193e+04\n",
       "44  46  4.479128e+04\n",
       "45  47  4.417765e+04\n",
       "46  48  4.291384e+04\n",
       "47  49  4.192748e+04"
      ]
     },
     "execution_count": 21,
     "metadata": {},
     "output_type": "execute_result"
    },
    {
     "data": {
      "image/png": "[encoded data removed]",
      "text/plain": [
       "<Figure size 640x480 with 1 Axes>"
      ]
     },
     "metadata": {},
     "output_type": "display_data"
    }
   ],
   "source": [
    "df = df_genre_adapted.drop(columns=['wikipedia_id' ])\n",
    "\n",
    "X_reduced_tsne = TSNE(n_components=2, init='random', learning_rate='auto', random_state=0).fit_transform(df)\n",
    "\n",
    "plot_sse(X_reduced_tsne, start=2, end=50)"
   ]
  },
  {
   "cell_type": "code",
   "execution_count": null,
   "metadata": {},
   "outputs": [
    {
     "data": {
      "application/vnd.plotly.v1+json": {
       "config": {
        "plotlyServerURL": "https://plot.ly"
       },
       "data": [
        {
         "customdata": [
          [
           "The Fairylogue and Radio-Plays",
           [
            "Silent film",
            "Indie",
            "Costume drama",
            "Epic",
            "Black-and-white",
            "Drama",
            "War film"
           ]
          ],
          [
           "Cleopatra",
           [
            "Thriller",
            "Cyberpunk",
            "Science Fiction",
            "Future noir",
            "Existentialism",
            "Cult",
            "Drama",
            "Film noir",
            "Crime Thriller",
            "Chinese Movies",
            "Dystopia",
            "Neo-noir"
           ]
          ],
          [
           "Atlantis",
           [
            "Costume drama",
            "Film adaptation",
            "Period piece",
            "Drama",
            "War film",
            "Romance Film",
            "New Hollywood"
           ]
          ],
          [
           "Ivanhoe",
           [
            "Adventure",
            "Period piece",
            "Martial Arts Film",
            "Fantasy",
            "Drama",
            "Romance Film",
            "Action",
            "Chinese Movies"
           ]
          ],
          [
           "Cinderella",
           [
            "Action/Adventure",
            "Western",
            "Comedy",
            "Black-and-white"
           ]
          ],
          [
           "His Majesty, the Scarecrow of Oz",
           [
            "Thriller",
            "Horror",
            "Erotica",
            "Mystery",
            "Psychological thriller",
            "Erotic thriller",
            "Suspense",
            "Crime Thriller",
            "Slasher",
            "Indie"
           ]
          ],
          [
           "The Jungle",
           [
            "Drama",
            "Comedy"
           ]
          ],
          [
           "The Nightingale",
           [
            "Thriller",
            "World cinema",
            "History",
            "Action/Adventure",
            "Drama",
            "War film",
            "Action"
           ]
          ],
          [
           "The Patchwork Girl of Oz",
           [
            "Crime Fiction",
            "Thriller",
            "Suspense",
            "Black-and-white"
           ]
          ],
          [
           "The Spoilers",
           [
            "Thriller",
            "Erotic Drama",
            "Erotica",
            "Mystery",
            "Surrealism",
            "Psychological thriller",
            "Erotic thriller",
            "Marriage Drama",
            "Drama",
            "Romance Film"
           ]
          ],
          [
           "The Virginian",
           [
            "Parody",
            "Crime Fiction",
            "Buddy film",
            "Adventure",
            "Crime Comedy",
            "Road movie",
            "Americana",
            "Action/Adventure",
            "Comedy",
            "Music",
            "Action"
           ]
          ],
          [
           "The World, the Flesh and the Devil",
           [
            "Thriller",
            "Mystery",
            "Romance Film",
            "Drama"
           ]
          ],
          [
           "Alice in Wonderland",
           [
            "Thriller",
            "LGBT",
            "Horror",
            "Psychological thriller",
            "Crime Fiction",
            "Suspense",
            "Drama",
            "Crime Thriller"
           ]
          ],
          [
           "Anna Karenina",
           [
            "Science Fiction",
            "Horror"
           ]
          ],
          [
           "The Birth of a Nation",
           [
            "Crime Fiction",
            "Buddy film",
            "Prison film",
            "Drama",
            "Escape Film",
            "Prison"
           ]
          ],
          [
           "Camille",
           [
            "Thriller",
            "Mystery",
            "Science Fiction",
            "Horror"
           ]
          ],
          [
           "The Coward",
           [
            "Adventure",
            "Children's/Family",
            "Fairy tale",
            "Fantasy",
            "Comedy",
            "Adventure Comedy",
            "Romance Film",
            "Action",
            "Family Film"
           ]
          ],
          [
           "Four Feathers",
           [
            "Romantic comedy",
            "Comedy"
           ]
          ],
          [
           "McTeague",
           [
            "Coming of age",
            "Comedy film",
            "Drama",
            "War film",
            "Romantic drama",
            "Romance Film"
           ]
          ],
          [
           "20,000 Leagues Under the Sea",
           [
            "LGBT",
            "Black comedy",
            "Comedy-drama",
            "Drama",
            "Black-and-white"
           ]
          ],
          [
           "The Fall of a Nation",
           [
            "Ensemble Film",
            "Family Drama",
            "Americana",
            "Epic",
            "Black-and-white",
            "Drama",
            "War film"
           ]
          ],
          [
           "Oliver Twist",
           [
            "War film",
            "Epic",
            "Drama",
            "Film adaptation",
            "Romantic drama",
            "Romance Film"
           ]
          ],
          [
           "Sherlock Holmes",
           [
            "Crime Fiction",
            "Drama",
            "Indie",
            "Psychological thriller"
           ]
          ],
          [
           "Snow White",
           [
            "Ensemble Film",
            "Drama",
            "Adventure",
            "War film"
           ]
          ],
          [
           "The Three Godfathers",
           [
            "Christian film",
            "Drama",
            "Epic",
            "Biopic [feature]"
           ]
          ],
          [
           "Camille",
           [
            "Romantic comedy",
            "Road movie",
            "Screwball comedy",
            "Black-and-white",
            "Pre-Code",
            "Comedy",
            "Romance Film"
           ]
          ],
          [
           "Cleopatra",
           [
            "Thriller",
            "Mystery",
            "Science Fiction",
            "Drama"
           ]
          ],
          [
           "The Darling of Paris",
           [
            "Drama",
            "Buddy film",
            "Adventure",
            "Film adaptation"
           ]
          ],
          [
           "Great Expectations",
           [
            "Period piece",
            "Melodrama",
            "Drama"
           ]
          ],
          [
           "Kidnapped",
           [
            "Romantic comedy",
            "Comedy of manners",
            "Comedy-drama",
            "Drama",
            "Comedy",
            "Romance Film"
           ]
          ],
          [
           "Rebecca of Sunnybrook Farm",
           [
            "Thriller",
            "Science Fiction",
            "Future noir",
            "Adventure",
            "Action/Adventure",
            "Action",
            "Dystopia"
           ]
          ],
          [
           "She",
           [
            "Thriller",
            "Period Horror",
            "Detective fiction",
            "Horror",
            "Detective",
            "Supernatural",
            "Costume drama",
            "Gothic Film",
            "Mystery",
            "Fantasy",
            "Crime Fiction",
            "Steampunk",
            "Costume Horror"
           ]
          ],
          [
           "Tom Jones",
           [
            "Thriller",
            "Political thriller",
            "Cold War",
            "Film adaptation",
            "Psychological thriller",
            "Black-and-white",
            "Mystery",
            "Drama",
            "War film",
            "Political drama",
            "Film noir",
            "Spy"
           ]
          ],
          [
           "Tom Sawyer",
           [
            "Period piece",
            "Drama",
            "Black-and-white",
            "Film adaptation"
           ]
          ],
          [
           "Anna Karenina",
           [
            "Drama",
            "Family Film",
            "Fantasy"
           ]
          ],
          [
           "The Blue Bird",
           [
            "Dance",
            "Roadshow theatrical release",
            "Musical",
            "Drama",
            "Romantic drama",
            "Music",
            "Romance Film"
           ]
          ],
          [
           "The Romance of Tarzan",
           [
            "Musical",
            "Americana",
            "Drama",
            "Comedy",
            "Adventure"
           ]
          ],
          [
           "Tarzan of the Apes",
           [
            "Pre-Code",
            "Romantic drama",
            "Romance Film",
            "Drama",
            "Black-and-white"
           ]
          ],
          [
           "Anne of Green Gables",
           [
            "Drama",
            "Comedy of manners",
            "Comedy-drama",
            "Comedy",
            "Black-and-white"
           ]
          ],
          [
           "Bolshevism on Trial",
           [
            "Musical",
            "Animation",
            "Childhood Drama",
            "Family Film",
            "Children's/Family"
           ]
          ],
          [
           "Deliverance",
           [
            "Swashbuckler films",
            "Adventure",
            "Black-and-white",
            "Action/Adventure",
            "Romance Film",
            "Action"
           ]
          ],
          [
           "Marked Men",
           [
            "History",
            "Romance Film",
            "Drama"
           ]
          ],
          [
           "The Outcasts of Poker Flat",
           [
            "Adventure",
            "Epic",
            "Black-and-white",
            "Period piece",
            "Drama",
            "Film adaptation",
            "Romantic drama",
            "Romance Film"
           ]
          ],
          [
           "The Roaring Road",
           [
            "Romantic comedy",
            "Americana",
            "Screwball comedy",
            "Comedy of manners",
            "Comedy-drama",
            "Black-and-white",
            "Drama",
            "Comedy",
            "Romance Film"
           ]
          ],
          [
           "Sahara",
           [
            "Costume drama",
            "Epic",
            "Black-and-white",
            "Action/Adventure",
            "Drama",
            "Action",
            "Political drama"
           ]
          ],
          [
           "Victory",
           [
            "Adventure",
            "Black-and-white",
            "Action/Adventure",
            "Fantasy",
            "Film adaptation",
            "Drama",
            "Romance Film"
           ]
          ],
          [
           "Bleak House",
           [
            "Drama",
            "Black-and-white",
            "Film adaptation"
           ]
          ],
          [
           "Dr. Jekyll and Mr. Hyde",
           [
            "Fantasy",
            "Black-and-white"
           ]
          ],
          [
           "The Elusive Pimpernel",
           [
            "Thriller",
            "Horror",
            "Supernatural",
            "Mystery",
            "Suspense",
            "Japanese Movies"
           ]
          ],
          [
           "Excuse My Dust",
           [
            "Drama",
            "Period piece",
            "Horror",
            "Psychological thriller",
            "Film adaptation"
           ]
          ],
          [
           "The Hound of the Baskervilles",
           [
            "Tragedy",
            "Biography",
            "History",
            "War film",
            "Biopic [feature]",
            "Black-and-white",
            "Period piece",
            "Drama",
            "Film adaptation",
            "Biographical film"
           ]
          ],
          [
           "The Last of the Mohicans",
           [
            "Crime Fiction",
            "Thriller",
            "Action/Adventure",
            "Mystery",
            "Martial Arts Film",
            "Action"
           ]
          ],
          [
           "The Mark of Zorro",
           [
            "Courtroom Drama",
            "Drama",
            "War film"
           ]
          ],
          [
           "Pollyanna",
           [
            "Adventure",
            "War film",
            "Action/Adventure",
            "Drama",
            "Film adaptation",
            "Romance Film",
            "Action"
           ]
          ],
          [
           "The Revenge of Tarzan",
           [
            "Parody",
            "Horror",
            "Screwball comedy",
            "Creature Film",
            "Black-and-white",
            "Horror Comedy",
            "Comedy",
            "Monster",
            "Slapstick"
           ]
          ],
          [
           "The Son of Tarzan",
           [
            "Thriller",
            "Natural horror films",
            "Science Fiction",
            "Horror",
            "Adventure",
            "Film adaptation",
            "Action/Adventure",
            "Monster",
            "Action"
           ]
          ],
          [
           "Treasure Island",
           [
            "LGBT",
            "Thriller",
            "Science Fiction",
            "Adventure",
            "Cult",
            "Drama",
            "Film adaptation",
            "Action"
           ]
          ],
          [
           "Action",
           [
            "Thriller",
            "Psychological thriller",
            "Black-and-white",
            "Mystery",
            "Drama",
            "Suspense",
            "Film adaptation",
            "Film noir"
           ]
          ],
          [
           "The Bait",
           [
            "Monster movie",
            "Thriller",
            "Horror",
            "Supernatural",
            "Cult",
            "Slasher"
           ]
          ],
          [
           "Camille",
           [
            "Science Fiction",
            "Horror",
            "Comedy",
            "Black-and-white",
            "Monster"
           ]
          ],
          [
           "A Connecticut Yankee in King Arthur's Court",
           [
            "Romantic comedy",
            "Romance Film",
            "Screwball comedy",
            "Comedy"
           ]
          ],
          [
           "Daniel Deronda",
           [
            "Silent film",
            "Indie",
            "Black-and-white",
            "Drama",
            "Romantic drama",
            "Romance Film"
           ]
          ],
          [
           "Desperate Trails",
           [
            "Thriller",
            "Science Fiction",
            "Doomsday film",
            "Cold War",
            "Therimin music",
            "Black-and-white",
            "Drama"
           ]
          ],
          [
           "The Four Feathers",
           [
            "Thriller",
            "Crime Fiction",
            "Drama",
            "Film noir"
           ]
          ],
          [
           "The Fox",
           [
            "Silent film",
            "Horror",
            "Experimental film",
            "Surrealism",
            "Black-and-white",
            "Short Film",
            "Expressionism"
           ]
          ],
          [
           "Little Lord Fauntleroy",
           [
            "Children's/Family",
            "Roadshow theatrical release",
            "Animation",
            "Musical",
            "Fantasy",
            "Children's Fantasy",
            "Animated Musical",
            "Drama",
            "Family Film"
           ]
          ],
          [
           "The Three Musketeers",
           [
            "Science Fiction",
            "Horror",
            "Black-and-white",
            "Monster"
           ]
          ],
          [
           "The Adventures of Robinson Crusoe",
           [
            "Thriller",
            "Horror",
            "Psychological thriller",
            "Black-and-white",
            "Cult",
            "Drama",
            "Roadshow/Carny",
            "Pre-Code"
           ]
          ],
          [
           "Back Pay",
           [
            "Crime Fiction",
            "Gangster Film",
            "Drama",
            "Crime Drama"
           ]
          ],
          [
           "Blood and Sand",
           [
            "Silent film",
            "Drama",
            "Black-and-white"
           ]
          ],
          [
           "Fair Lady",
           [
            "Thriller",
            "Alien invasion",
            "Science Fiction",
            "Horror",
            "Doomsday film",
            "Cold War",
            "Black-and-white"
           ]
          ],
          [
           "Monte Cristo",
           [
            "Thriller",
            "Mystery",
            "Crime Thriller",
            "Psychological thriller",
            "Suspense"
           ]
          ],
          [
           "Oliver Twist",
           [
            "Thriller"
           ]
          ],
          [
           "Pan",
           [
            "Romantic comedy",
            "Romance Film",
            "Screwball comedy",
            "Comedy",
            "Black-and-white"
           ]
          ],
          [
           "The Prisoner of Zenda",
           [
            "Animal Picture",
            "Adventure",
            "Children's/Family",
            "Family Drama",
            "Drama",
            "Family Film",
            "Family-Oriented Adventure"
           ]
          ],
          [
           "Shadows",
           [
            "Action/Adventure",
            "Silent film",
            "Indie",
            "Black-and-white",
            "Short Film",
            "Drama",
            "War film"
           ]
          ],
          [
           "Sherlock Holmes",
           [
            "Ensemble Film",
            "Slice of life story",
            "Americana",
            "Black-and-white",
            "Period piece",
            "Coming of age",
            "Film adaptation",
            "Drama",
            "New Hollywood"
           ]
          ],
          [
           "The Young Rajah",
           [
            "Thriller",
            "Crime Fiction",
            "Detective",
            "Psychological thriller",
            "Black-and-white",
            "Mystery",
            "Drama",
            "Suspense",
            "Crime Thriller",
            "Romance Film",
            "Film noir"
           ]
          ],
          [
           "All the Brothers Were Valiant",
           [
            "Americana",
            "Musical",
            "Family Drama",
            "Romance Film"
           ]
          ],
          [
           "The Drums of Jeopardy",
           [
            "Thriller",
            "Mystery",
            "Romance Film",
            "Film noir"
           ]
          ],
          [
           "Enemies of Women",
           [
            "Thriller",
            "Crime Fiction",
            "Psychological thriller",
            "Black-and-white",
            "Mystery",
            "Drama",
            "Suspense",
            "Crime Thriller",
            "Film noir"
           ]
          ],
          [
           "Flaming Youth",
           [
            "Action/Adventure",
            "Revisionist Western",
            "Western",
            "War film"
           ]
          ],
          [
           "The Hunchback of Notre Dame",
           [
            "Costume drama",
            "Period piece",
            "Drama",
            "Comedy",
            "Film adaptation",
            "Romantic drama",
            "Romance Film"
           ]
          ],
          [
           "The Spoilers",
           [
            "Parody",
            "Crime Fiction",
            "Fantasy Comedy",
            "Buddy film",
            "Animation",
            "Action/Adventure",
            "Mystery",
            "Fantasy",
            "Comedy",
            "Black comedy",
            "Family Film",
            "Action"
           ]
          ],
          [
           "To the Last Man",
           [
            "Crime Fiction",
            "Gangster Film",
            "Crime Drama",
            "Black-and-white",
            "Drama",
            "Pre-Code"
           ]
          ],
          [
           "Vanity Fair",
           [
            "Crime Fiction",
            "Gangster Film",
            "Black-and-white",
            "Drama",
            "Pre-Code",
            "Film noir"
           ]
          ],
          [
           "The Virginian",
           [
            "Action/Adventure",
            "Revisionist Western",
            "Western",
            "Epic Western",
            "Drama"
           ]
          ],
          [
           "Aelita",
           [
            "Crime Fiction",
            "Thriller",
            "Detective",
            "Action/Adventure",
            "Mystery",
            "Blaxploitation",
            "Drama",
            "Suspense",
            "Action"
           ]
          ],
          [
           "The Last Man on Earth",
           [
            "Romance Film",
            "Musical",
            "Fantasy",
            "Family Film",
            "Animation"
           ]
          ],
          [
           "Peter Pan",
           [
            "Action/Adventure",
            "Western",
            "Action",
            "B-Western"
           ]
          ],
          [
           "The Sea Hawk",
           [
            "Swashbuckler films",
            "Silent film",
            "Indie",
            "Costume drama",
            "Black-and-white",
            "Action/Adventure",
            "Fantasy",
            "Drama",
            "Family Film",
            "Romance Film",
            "Adventure"
           ]
          ],
          [
           "Secrets",
           [
            "History",
            "Documentary"
           ]
          ],
          [
           "Tess of the d'Urbervilles",
           [
            "Thriller",
            "Crime Fiction",
            "Detective",
            "Psychological thriller",
            "Mystery",
            "Drama",
            "Suspense",
            "Film adaptation",
            "Crime Thriller",
            "Romance Film",
            "Film noir"
           ]
          ],
          [
           "The Thief of Bagdad",
           [
            "Americana",
            "Family Drama",
            "Black-and-white",
            "Melodrama",
            "Drama",
            "Romantic drama",
            "Romance Film"
           ]
          ],
          [
           "Wanderer of the Wasteland",
           [
            "Romantic comedy",
            "Romance Film",
            "Screwball comedy",
            "Comedy",
            "Black-and-white"
           ]
          ],
          [
           "Wine",
           [
            "Christian film",
            "Biography",
            "Roadshow theatrical release",
            "Hagiography",
            "Period piece",
            "Drama",
            "Black-and-white"
           ]
          ],
          [
           "Adventure",
           [
            "Children's/Family",
            "Musical",
            "Fantasy",
            "Comedy",
            "Drama",
            "Family Film",
            "Children's Fantasy"
           ]
          ],
          [
           "Cobra",
           [
            "Cyberpunk",
            "Science Fiction",
            "Action"
           ]
          ],
          [
           "The Eagle",
           [
            "Drama",
            "Family Film",
            "Family Drama",
            "Coming of age"
           ]
          ],
          [
           "Greed",
           [
            "Romantic comedy",
            "Heavenly Comedy",
            "Christmas movie",
            "Fantasy",
            "Comedy",
            "Romance Film",
            "Romantic fantasy"
           ]
          ],
          [
           "The House Without a Key",
           [
            "Romantic comedy",
            "Mystery",
            "Drama",
            "Comedy",
            "Film adaptation",
            "Romance Film"
           ]
          ],
          [
           "Lord Jim",
           [
            "Romantic comedy",
            "Romance Film",
            "Family Film",
            "Drama",
            "Comedy"
           ]
          ],
          [
           "The Lost World",
           [
            "Thriller",
            "Drama"
           ]
          ],
          [
           "Les Misérables",
           [
            "Thriller",
            "Action",
            "Drama",
            "War film",
            "Spy"
           ]
          ],
          [
           "Perils of the Wild",
           [
            "Adventure",
            "Period piece",
            "Coming of age",
            "Film adaptation",
            "Drama",
            "Teen"
           ]
          ],
          [
           "The Phantom of the Opera",
           [
            "Romantic comedy",
            "Drama",
            "Romance Film",
            "Fantasy",
            "Comedy"
           ]
          ],
          [
           "The Prairie Pirate",
           [
            "Fantasy Adventure",
            "Action",
            "Fantasy",
            "Adventure"
           ]
          ],
          [
           "Stella Dallas",
           [
            "Romance Film",
            "Drama"
           ]
          ],
          [
           "The Thundering Herd",
           [
            "Christian film",
            "Costume drama",
            "Epic",
            "Drama",
            "War film",
            "Family Film"
           ]
          ],
          [
           "The Vanishing American",
           [
            "Action/Adventure",
            "Western",
            "Drama",
            "Epic"
           ]
          ],
          [
           "Beau Geste",
           [
            "Romantic drama",
            "Romance Film",
            "Drama",
            "War film"
           ]
          ],
          [
           "The Blackbird",
           [
            "Thriller",
            "Black-and-white",
            "Mystery",
            "Drama",
            "Crime Thriller",
            "Courtroom Drama"
           ]
          ],
          [
           "Desert Gold",
           [
            "Thriller",
            "Romance Film",
            "Melodrama",
            "Drama",
            "Teen"
           ]
          ],
          [
           "The Magician",
           [
            "Japanese Movies",
            "Adventure",
            "Children's/Family",
            "Animation",
            "Musical",
            "Family Film",
            "Family-Oriented Adventure"
           ]
          ],
          [
           "The Scarlet Letter",
           [
            "Crime Fiction",
            "Thriller",
            "Action",
            "Action/Adventure"
           ]
          ],
          [
           "The Sea Beast",
           [
            "Romantic comedy",
            "Adventure",
            "Costume drama",
            "Action/Adventure",
            "British New Wave",
            "Romance Film",
            "Comedy"
           ]
          ],
          [
           "Camille",
           [
            "Roadshow theatrical release",
            "Epic",
            "Period piece",
            "Drama",
            "War film",
            "Romantic drama",
            "Romance Film"
           ]
          ],
          [
           "The Chinese Parrot",
           [
            "Historical fiction",
            "Adventure",
            "War film",
            "Epic",
            "Drama",
            "Film adaptation",
            "Romantic drama",
            "Romance Film",
            "Action",
            "Historical Epic"
           ]
          ],
          [
           "The Garden of Allah",
           [
            "Children's/Family",
            "Musical",
            "Period piece",
            "Children's",
            "Fantasy",
            "Children's Fantasy",
            "Drama",
            "Music",
            "Family Film",
            "Family-Oriented Adventure",
            "Comedy"
           ]
          ],
          [
           "The Joy Girl",
           [
            "Disaster",
            "Thriller",
            "Action",
            "Action/Adventure",
            "Airplanes and airports"
           ]
          ],
          [
           "Nevada",
           [
            "LGBT",
            "Thriller",
            "Adventure",
            "Action/Adventure",
            "Drama",
            "Film adaptation",
            "Action",
            "New Hollywood"
           ]
          ],
          [
           "The Ring",
           [
            "Disaster",
            "Action/Adventure",
            "Ensemble Film",
            "Action",
            "Doomsday film"
           ]
          ],
          [
           "Tarzan and the Golden Lion",
           [
            "War film",
            "Period piece",
            "Drama",
            "Film adaptation",
            "Romantic drama",
            "Romance Film"
           ]
          ],
          [
           "Across to Singapore",
           [
            "Science Fiction",
            "Doomsday film",
            "Black-and-white",
            "Apocalyptic and post-apocalyptic fiction",
            "Drama",
            "Steampunk"
           ]
          ],
          [
           "The Awakening",
           [
            "Crime Fiction",
            "Buddy film",
            "Indie",
            "Comedy-drama",
            "Addiction Drama",
            "Cult",
            "Drama",
            "Comedy",
            "Film adaptation",
            "Black comedy"
           ]
          ],
          [
           "Beau Sabreur",
           [
            "Drama",
            "Existentialism",
            "Family Drama",
            "Coming of age",
            "Film adaptation"
           ]
          ],
          [
           "The Four Feathers",
           [
            "Romantic comedy",
            "Tragedy",
            "Comedy film",
            "Family Drama",
            "Comedy-drama",
            "Drama",
            "Film adaptation",
            "Romance Film",
            "Tragicomedy",
            "Family Film"
           ]
          ],
          [
           "The Man Without a Face",
           [
            "LGBT",
            "Crime Fiction",
            "Indie",
            "World cinema",
            "Prison film",
            "Gay Themed",
            "Gay",
            "Gay Interest",
            "Drama",
            "Film adaptation",
            "Prison",
            "Political drama"
           ]
          ],
          [
           "Sadie Thompson",
           [
            "Americana",
            "Family Drama",
            "Baseball",
            "Sports",
            "Fantasy",
            "Film adaptation",
            "Drama",
            "Family Film"
           ]
          ],
          [
           "The Triumph of the Scarlet Pimpernel",
           [
            "Adventure",
            "Epic Western",
            "Costume drama",
            "Indian Western",
            "Film adaptation",
            "Epic",
            "Action/Adventure",
            "Revisionist Western",
            "Western",
            "Drama",
            "Period piece",
            "War film"
           ]
          ],
          [
           "The Shopworn Angel",
           [
            "Crime Fiction",
            "Thriller",
            "Gangster Film",
            "Crime Drama",
            "Family Drama",
            "Ensemble Film",
            "Mystery",
            "Period piece",
            "Drama",
            "Film adaptation"
           ]
          ],
          [
           "Tarzan the Mighty",
           [
            "Costume drama",
            "Animation",
            "Musical",
            "Children's",
            "Fantasy",
            "Music",
            "Romance Film",
            "Family Film"
           ]
          ],
          [
           "Two Lovers",
           [
            "Romantic drama",
            "Romance Film",
            "Melodrama",
            "Drama",
            "Film adaptation"
           ]
          ],
          [
           "The Water Hole",
           [
            "Japanese Movies",
            "Costume drama",
            "Period piece",
            "Drama",
            "Film adaptation",
            "Romantic drama",
            "Romance Film"
           ]
          ],
          [
           "The Aviator",
           [
            "Crime Fiction",
            "Thriller",
            "Science Fiction",
            "Future noir",
            "Chase Movie",
            "Action/Adventure",
            "Mystery",
            "Drama",
            "Dystopia",
            "Film adaptation",
            "Action",
            "Film noir"
           ]
          ],
          [
           "Behind That Curtain",
           [
            "Drama",
            "Science Fiction",
            "Future noir",
            "Adventure"
           ]
          ],
          [
           "The Bridge of San Luis Rey",
           [
            "Adventure",
            "Comedy-drama",
            "Drama",
            "Comedy",
            "Fantasy",
            "Family Film"
           ]
          ],
          [
           "The Iron Mask",
           [
            "Costume drama",
            "Period piece",
            "Drama",
            "Film adaptation",
            "Romantic drama",
            "Romance Film"
           ]
          ],
          [
           "The Man I Love",
           [
            "Thriller",
            "Mystery",
            "Crime Fiction",
            "Drama"
           ]
          ],
          [
           "The Mysterious Island",
           [
            "Thriller",
            "Science Fiction",
            "Film adaptation",
            "Drama",
            "Suspense",
            "Political thriller"
           ]
          ],
          [
           "Stairs of Sand",
           [
            "Science Fiction",
            "Horror",
            "Black-and-white",
            "Drama",
            "Point of view shot",
            "Pre-Code"
           ]
          ],
          [
           "Tarzan the Tiger",
           [
            "Biography",
            "Film adaptation",
            "Childhood Drama",
            "Period piece",
            "Drama",
            "War film",
            "Coming of age"
           ]
          ],
          [
           "The Virginian",
           [
            "Fantasy",
            "Family Film",
            "Drama",
            "Adventure"
           ]
          ],
          [
           "The Wild Party",
           [
            "Science Fiction",
            "Action",
            "Doomsday film"
           ]
          ],
          [
           "All Quiet on the Western Front",
           [
            "Thriller",
            "Science Fiction",
            "Adventure",
            "Cult",
            "Fantasy",
            "Time travel",
            "Steampunk"
           ]
          ],
          [
           "Beau Ideal",
           [
            "Thriller",
            "Science Fiction",
            "Action/Adventure",
            "Glamorized Spy Film",
            "Action",
            "Spy"
           ]
          ],
          [
           "The Border Legion",
           [
            "Romantic comedy",
            "Drama",
            "Comedy",
            "Film adaptation",
            "Music",
            "Romance Film"
           ]
          ],
          [
           "High Society Blues",
           [
            "Thriller",
            "Psychological thriller",
            "Action/Adventure",
            "Mystery",
            "Western",
            "Drama",
            "Suspense",
            "Film noir"
           ]
          ],
          [
           "The Indians Are Coming",
           [
            "Action/Adventure",
            "Western",
            "Drama",
            "Film adaptation"
           ]
          ],
          [
           "The Last of the Duanes",
           [
            "Parody",
            "Comedy Western",
            "Musical",
            "Musical comedy",
            "Action/Adventure",
            "Western",
            "Drama",
            "Comedy",
            "Film adaptation"
           ]
          ],
          [
           "Little Caesar",
           [
            "Crime Fiction",
            "Prison film",
            "Prison",
            "Drama",
            "Film adaptation"
           ]
          ],
          [
           "Moby Dick",
           [
            "Romantic drama",
            "Science Fiction",
            "Drama",
            "Romance Film",
            "Film adaptation"
           ]
          ],
          [
           "Monte Carlo",
           [
            "Adventure",
            "Costume drama",
            "Action/Adventure",
            "Western",
            "Drama",
            "Film adaptation"
           ]
          ],
          [
           "Shadow Ranch",
           [
            "Crime Fiction",
            "Drama"
           ]
          ],
          [
           "She Couldn't Say No",
           [
            "Buddy film",
            "Road movie",
            "Comedy-drama",
            "Drama",
            "Comedy",
            "Black comedy",
            "New Hollywood"
           ]
          ],
          [
           "The Spoilers",
           [
            "Parody",
            "Comedy-drama",
            "Political satire",
            "Satire",
            "Drama",
            "Comedy",
            "Political cinema",
            "New Hollywood"
           ]
          ],
          [
           "Street of Chance",
           [
            "Family Drama",
            "Drama"
           ]
          ],
          [
           "Tom Sawyer",
           [
            "Adventure",
            "Family Drama",
            "Sports",
            "Drama",
            "Film adaptation",
            "Family Film"
           ]
          ],
          [
           "Under a Texas Moon",
           [
            "Romance Film",
            "Drama"
           ]
          ],
          [
           "Young Man of Manhattan",
           [
            "Adventure",
            "Costume drama",
            "Historical fiction",
            "Epic",
            "Drama",
            "War film",
            "Biographical film",
            "Action",
            "Romance Film"
           ]
          ],
          [
           "Alice in Wonderland",
           [
            "Romantic comedy",
            "Comedy-drama",
            "Comedy"
           ]
          ],
          [
           "Arrowsmith",
           [
            "Romantic comedy",
            "Romance Film",
            "Comedy"
           ]
          ],
          [
           "Bad Girl",
           [
            "Sports",
            "Drama"
           ]
          ],
          [
           "The Black Camel",
           [
            "Romantic drama",
            "Romance Film",
            "Drama"
           ]
          ],
          [
           "Cimarron",
           [
            "Crime Fiction",
            "Thriller",
            "Remake",
            "Psychological thriller",
            "Drama",
            "Suspense",
            "Crime Thriller"
           ]
          ],
          [
           "A Connecticut Yankee",
           [
            "Thriller",
            "Crime Fiction",
            "Psychological thriller",
            "Black-and-white",
            "Drama",
            "Crime Thriller",
            "Film noir"
           ]
          ],
          [
           "Dracula",
           [
            "LGBT",
            "Biography",
            "Indie",
            "Gay Themed",
            "Gay",
            "Period piece",
            "Gay Interest",
            "Drama",
            "Film adaptation",
            "Biographical film"
           ]
          ],
          [
           "Fighting Caravans",
           [
            "Silent film",
            "Indie",
            "Black-and-white",
            "Drama",
            "Film adaptation",
            "Romantic drama",
            "Romance Film"
           ]
          ],
          [
           "Frankenstein",
           [
            "Children's/Family",
            "Animation",
            "Musical",
            "Children's",
            "Fantasy",
            "Children's Fantasy",
            "Animated Musical",
            "Drama",
            "Music",
            "Family Film"
           ]
          ],
          [
           "Huckleberry Finn",
           [
            "Thriller",
            "Crime Fiction",
            "Action",
            "Action/Adventure"
           ]
          ],
          [
           "The Last Flight",
           [
            "Fantasy Adventure",
            "Adventure",
            "Epic",
            "Fantasy",
            "Film adaptation",
            "Drama",
            "Action",
            "Sword and sorcery films"
           ]
          ],
          [
           "The Maltese Falcon",
           [
            "Fantasy Adventure",
            "Adventure",
            "Epic",
            "Action/Adventure",
            "Fantasy",
            "Film adaptation",
            "Drama",
            "Action",
            "Sword and sorcery films"
           ]
          ],
          [
           "Out of the Blue",
           [
            "Fantasy Adventure",
            "Adventure",
            "Epic",
            "Action/Adventure",
            "Drama",
            "Film adaptation",
            "Fantasy",
            "Sword and sorcery films"
           ]
          ],
          [
           "The Public Enemy",
           [
            "Adventure",
            "Children's/Family",
            "Fantasy",
            "Musical",
            "Coming of age",
            "Comedy",
            "Film adaptation",
            "Drama",
            "Family Film",
            "Family-Oriented Adventure"
           ]
          ],
          [
           "Scarlet Dawn",
           [
            "Thriller",
            "Crime Fiction",
            "Gangster Film",
            "Crime Thriller"
           ]
          ],
          [
           "The Sleeping Cardinal",
           [
            "Romantic drama",
            "Romance Film",
            "Drama",
            "Black-and-white",
            "Film adaptation"
           ]
          ],
          [
           "The Speckled Band",
           [
            "Melodrama",
            "Period piece",
            "Drama",
            "Film adaptation",
            "Romantic drama",
            "Romance Film"
           ]
          ],
          [
           "Back Street",
           [
            "Adventure",
            "Remake",
            "Children's",
            "Drama",
            "Comedy",
            "Family Film"
           ]
          ],
          [
           "The Crash",
           [
            "Family Film",
            "Drama",
            "Adventure",
            "Animation"
           ]
          ],
          [
           "Cynara",
           [
            "Drama",
            "Black-and-white"
           ]
          ],
          [
           "The Dark Horse",
           [
            "Drama",
            "Black-and-white"
           ]
          ],
          [
           "Destry Rides Again",
           [
            "Drama",
            "Coming of age",
            "Teen",
            "Film adaptation"
           ]
          ],
          [
           "Dr. Jekyll and Mr. Hyde",
           [
            "Melodrama",
            "Epic Western",
            "Roadshow theatrical release",
            "Action/Adventure",
            "Western",
            "Drama",
            "Romantic drama",
            "Romance Film"
           ]
          ],
          [
           "Emma",
           [
            "Adventure",
            "Animation",
            "Fantasy",
            "Drama",
            "Music",
            "Family Film"
           ]
          ],
          [
           "A Farewell to Arms",
           [
            "Drama",
            "Black-and-white"
           ]
          ],
          [
           "Freaks",
           [
            "Thriller",
            "Legal drama",
            "Crime Fiction",
            "Drama",
            "Courtroom Drama"
           ]
          ],
          [
           "Gold",
           [
            "Romantic drama",
            "Melodrama",
            "Drama"
           ]
          ],
          [
           "Heritage of the Desert",
           [
            "Thriller",
            "Drama"
           ]
          ],
          [
           "The Last of the Mohicans",
           [
            "Crime Fiction",
            "Adventure",
            "Children's/Family",
            "Animation",
            "Mystery",
            "Fantasy",
            "Animated Musical",
            "Drama",
            "Family Film",
            "Film noir"
           ]
          ],
          [
           "Law and Order",
           [
            "Thriller",
            "Action Thrillers",
            "Science Fiction",
            "Horror",
            "Adventure",
            "Action/Adventure",
            "Political satire",
            "Satire",
            "War film",
            "Action"
           ]
          ],
          [
           "The Missing Rembrandt",
           [
            "LGBT",
            "Art film",
            "World cinema",
            "Drama",
            "Music",
            "Romance Film",
            "Chinese Movies"
           ]
          ],
          [
           "The Most Dangerous Game",
           [
            "Silent film",
            "Drama",
            "Biographical film",
            "Indie"
           ]
          ],
          [
           "Rain",
           [
            "Romantic drama",
            "Romance Film",
            "Marriage Drama",
            "Drama"
           ]
          ],
          [
           "Rebecca of Sunnybrook Farm",
           [
            "Kitchen sink realism",
            "Romantic comedy",
            "Comedy of manners",
            "Drama",
            "Comedy",
            "Romance Film"
           ]
          ],
          [
           "Scarface",
           [
            "Period piece",
            "Drama",
            "Political drama",
            "Film adaptation"
           ]
          ],
          [
           "Sherlock Holmes",
           [
            "Existentialism",
            "Melodrama",
            "Drama",
            "Period piece",
            "Psychological thriller"
           ]
          ],
          [
           "Skyscraper Souls",
           [
            "Romance Film",
            "Erotic Drama",
            "Drama",
            "Period piece"
           ]
          ],
          [
           "Tarzan the Ape Man",
           [
            "Romantic drama",
            "Romance Film",
            "Drama",
            "Indie",
            "Film adaptation"
           ]
          ],
          [
           "The Thirteenth Guest",
           [
            "Wuxia",
            "Adventure",
            "Costume Adventure",
            "Period piece",
            "Martial Arts Film",
            "Chinese Movies"
           ]
          ],
          [
           "Vanity Fair",
           [
            "Romantic drama",
            "Romance Film",
            "Drama"
           ]
          ],
          [
           "The Wet Parade",
           [
            "Indie",
            "Comedy of manners",
            "Comedy-drama",
            "Drama",
            "Comedy",
            "Black comedy",
            "Tragicomedy"
           ]
          ],
          [
           "Alice in Wonderland",
           [
            "Thriller",
            "Crime Fiction",
            "Suspense",
            "Psychological thriller"
           ]
          ],
          [
           "Christopher Strong",
           [
            "Romantic comedy",
            "Sex comedy",
            "Indie",
            "Comedy-drama",
            "Drama",
            "Comedy",
            "Black comedy",
            "Romance Film",
            "Erotica"
           ]
          ],
          [
           "Deluge",
           [
            "Crime Fiction",
            "Fantasy Adventure",
            "Adventure",
            "Children's/Family",
            "Animation",
            "Mystery",
            "Fantasy",
            "Children's Fantasy",
            "Drama",
            "Family Film"
           ]
          ],
          [
           "Goodbye Again",
           [
            "Thriller",
            "Crime Fiction",
            "Mystery",
            "Suspense",
            "Crime Thriller",
            "Romance Film"
           ]
          ],
          [
           "The Invisible Man",
           [
            "Thriller",
            "Crime Fiction",
            "Mystery",
            "Drama",
            "Suspense",
            "Film adaptation",
            "Spy"
           ]
          ],
          [
           "Island of Lost Souls",
           [
            "War film",
            "Period piece",
            "Action/Adventure",
            "Western",
            "Drama",
            "Film adaptation",
            "Romantic drama",
            "Romance Film",
            "War film",
            "Period piece",
            "Action/Adventure",
            "Western",
            "Drama",
            "Film adaptation",
            "Romantic drama",
            "Romance Film"
           ]
          ],
          [
           "Lady for a Day",
           [
            "Thriller",
            "Crime Thriller",
            "Mystery"
           ]
          ],
          [
           "Little Women",
           [
            "Fantasy Adventure",
            "Adventure",
            "Costume drama",
            "Action/Adventure",
            "Fantasy",
            "Mythological Fantasy",
            "Drama",
            "Sword and sorcery",
            "Sword and sorcery films"
           ]
          ],
          [
           "Mystery of the Wax Museum",
           [
            "Horror",
            "Indie",
            "Supernatural",
            "Gothic Film",
            "Psychological thriller",
            "Drama",
            "Comedy",
            "Black comedy",
            "Political drama"
           ]
          ],
          [
           "Oliver Twist",
           [
            "Thriller",
            "Mystery",
            "Horror",
            "Slasher",
            "Teen"
           ]
          ],
          [
           "The Power and the Glory",
           [
            "Thriller",
            "LGBT",
            "Psychological thriller",
            "Black-and-white",
            "Drama",
            "Suspense",
            "Film adaptation",
            "Crime Thriller",
            "Film noir"
           ]
          ],
          [
           "Secrets",
           [
            "Thriller",
            "Melodrama",
            "Psychological thriller",
            "Mystery",
            "Drama",
            "Suspense",
            "Film adaptation",
            "Romance Film"
           ]
          ],
          [
           "The Story of Temple Drake",
           [
            "Parody",
            "Ensemble Film",
            "Adventure",
            "Costume Adventure",
            "Sports",
            "Musical",
            "Adventure Comedy",
            "Comedy",
            "Family Film",
            "Action",
            "Romance Film",
            "Slapstick"
           ]
          ],
          [
           "The Stranger's Return",
           [
            "Crime Fiction",
            "Thriller",
            "Gangster Film",
            "Action/Adventure",
            "Drama",
            "Crime Thriller",
            "Action"
           ]
          ],
          [
           "Sunset Pass",
           [
            "Thriller",
            "Science Fiction",
            "Doomsday film",
            "Cold War",
            "Action/Adventure",
            "Drama",
            "Disaster"
           ]
          ],
          [
           "Tarzan the Fearless",
           [
            "Crime Fiction",
            "Heist",
            "Black-and-white",
            "Thriller",
            "Suspense",
            "Drama",
            "Film noir"
           ]
          ],
          [
           "The Three Musketeers",
           [
            "Children's/Family",
            "Animation",
            "Musical",
            "Drama",
            "Animated Musical",
            "Family Film",
            "Romance Film"
           ]
          ],
          [
           "To the Last Man",
           [
            "Tragedy",
            "Indie",
            "Costume drama",
            "Period piece",
            "Drama",
            "Romantic drama",
            "Romance Film",
            "Erotica"
           ]
          ],
          [
           "Under the Tonto Rim",
           [
            "Adventure",
            "Children's/Family",
            "Fantasy",
            "Comedy",
            "Family Film",
            "Fantasy Comedy",
            "Children's Fantasy"
           ]
          ],
          [
           "Wild Horse Mesa",
           [
            "Thriller",
            "Mystery",
            "Drama",
            "Suspense",
            "Film adaptation",
            "Crime Thriller",
            "Courtroom Drama",
            "Documentary"
           ]
          ],
          [
           "The Age of Innocence",
           [
            "Children's/Family",
            "Animation",
            "Musical",
            "Children's",
            "Animated Musical",
            "Music",
            "Family Film"
           ]
          ],
          [
           "Anne of Green Gables",
           [
            "Family Drama",
            "Drama",
            "Film adaptation"
           ]
          ],
          [
           "Cleopatra",
           [
            "Thriller",
            "Drama",
            "Suspense",
            "Black-and-white",
            "Spy"
           ]
          ],
          [
           "The Constant Nymph",
           [
            "Costume drama",
            "Animation",
            "Musical",
            "Fantasy",
            "Romance Film",
            "Family Film"
           ]
          ],
          [
           "The Count of Monte Cristo",
           [
            "Science Fiction",
            "Adventure",
            "Escape Film"
           ]
          ],
          [
           "Crime Without Passion",
           [
            "Thriller",
            "Natural horror films",
            "Horror",
            "Suspense",
            "Doomsday film"
           ]
          ],
          [
           "The Dude Ranger",
           [
            "Thriller",
            "Science Fiction",
            "Japanese Movies",
            "Adventure",
            "Action Thrillers",
            "Drama",
            "Action"
           ]
          ],
          [
           "Fashions of 1934",
           [
            "Detective fiction",
            "Adventure",
            "Detective",
            "Children's/Family",
            "Animation",
            "Mystery",
            "Musical",
            "Children's Fantasy",
            "Family Film"
           ]
          ],
          [
           "Fog Over Frisco",
           [
            "LGBT",
            "Erotic Drama",
            "Japanese Movies",
            "Indie",
            "Experimental film",
            "Surrealism",
            "Psychological thriller",
            "Addiction Drama",
            "Mystery",
            "Biography",
            "Drama",
            "Comedy",
            "Film adaptation",
            "Fantasy",
            "Avant-garde",
            "Kafkaesque"
           ]
          ],
          [
           "Gold",
           [
            "Horror",
            "Period piece",
            "Musical",
            "Drama",
            "Romantic drama",
            "Romance Film"
           ]
          ],
          [
           "Grand Canary",
           [
            "Horror",
            "Silent film",
            "Drama"
           ]
          ],
          [
           "Great Expectations",
           [
            "Ensemble Film",
            "Action",
            "War film"
           ]
          ],
          [
           "It Happened One Night",
           [
            "Fantasy Adventure",
            "Japanese Movies",
            "Adventure",
            "Children's/Family",
            "Costume drama",
            "Animation",
            "Fantasy",
            "Children's Fantasy",
            "Animated Musical",
            "Drama",
            "Family Film"
           ]
          ],
          [
           "Jane Eyre",
           [
            "Thriller",
            "Heist",
            "Action/Adventure",
            "Crime Fiction",
            "Suspense",
            "Drama",
            "Crime Thriller",
            "Action"
           ]
          ],
          [
           "The Key",
           [
            "Crime Fiction",
            "Drama",
            "World cinema",
            "Neo-noir"
           ]
          ],
          [
           "The Last Round-Up",
           [
            "Thriller",
            "Horror",
            "Costume drama",
            "Gothic Film",
            "Cult",
            "Period piece",
            "Fantasy",
            "Film adaptation",
            "Drama",
            "Romance Film",
            "Costume Horror"
           ]
          ],
          [
           "Les Misérables",
           [
            "Albino bias",
            "Action/Adventure",
            "Science Fiction",
            "Doomsday film",
            "Cult",
            "Blaxploitation",
            "Apocalyptic and post-apocalyptic fiction",
            "Drama",
            "Film adaptation",
            "Disaster",
            "Dystopia"
           ]
          ],
          [
           "The Moonstone",
           [
            "Science Fiction",
            "Action",
            "Adventure",
            "Family Film"
           ]
          ],
          [
           "Of Human Bondage",
           [
            "Thriller",
            "Alien invasion",
            "Science Fiction",
            "Horror",
            "Alien Film",
            "Political satire",
            "Satire",
            "Black comedy",
            "Action",
            "Dystopia"
           ]
          ],
          [
           "The Old Curiosity Shop",
           [
            "Action/Adventure",
            "Western",
            "Adventure"
           ]
          ],
          [
           "One More River",
           [
            "Drama",
            "Film adaptation"
           ]
          ],
          [
           "The Painted Veil",
           [
            "LGBT",
            "Domestic Comedy",
            "Drama",
            "Comedy",
            "Comedy of Errors",
            "Family Film"
           ]
          ],
          [
           "The Red Rider",
           [
            "Adventure",
            "Animation",
            "Musical",
            "Children's",
            "Music",
            "Family Film"
           ]
          ],
          [
           "The Scarlet Letter",
           [
            "Science Fiction",
            "Horror",
            "Surrealism",
            "Creature Film",
            "Psychological thriller",
            "Cult",
            "Drama",
            "Film adaptation"
           ]
          ],
          [
           "The Scarlet Pimpernel",
           [
            "Thriller",
            "Natural horror films",
            "Horror",
            "Adventure",
            "Creature Film",
            "Action/Adventure",
            "Suspense",
            "Action",
            "Slasher"
           ]
          ],
          [
           "She Loves Me Not",
           [
            "Fantasy Adventure",
            "Adventure",
            "Children's/Family",
            "Animated Musical",
            "Animation",
            "Musical",
            "Fantasy",
            "Comedy",
            "War film",
            "Drama",
            "Family Film",
            "Family-Oriented Adventure"
           ]
          ],
          [
           "Tarzan and His Mate",
           [
            "Biography",
            "Docudrama",
            "Musical",
            "Drama",
            "Comedy",
            "Biopic [feature]",
            "Family Film"
           ]
          ],
          [
           "The Thundering Herd",
           [
            "Fantasy Adventure",
            "Adventure",
            "Children's/Family",
            "Animation",
            "Musical",
            "Fantasy",
            "Children's Fantasy",
            "Family Film"
           ]
          ],
          [
           "Treasure Island",
           [
            "Melodrama",
            "Drama",
            "Medical fiction",
            "Black-and-white"
           ]
          ],
          [
           "Wagon Wheels",
           [
            "Thriller",
            "Crime Fiction",
            "Indie",
            "Action/Adventure",
            "Blaxploitation",
            "Drama",
            "Comedy",
            "Crime Thriller",
            "Action"
           ]
          ],
          [
           "The 39 Steps",
           [
            "Romance Film",
            "Fantasy",
            "Family Film",
            "Musical",
            "Animation"
           ]
          ],
          [
           "Alice Adams",
           [
            "Family Film",
            "Drama",
            "Romance Film",
            "Musical",
            "Animation",
            "Family Film",
            "Drama",
            "Romance Film",
            "Musical",
            "Animation"
           ]
          ],
          [
           "Anna Karenina",
           [
            "Costume drama",
            "Drama",
            "Black-and-white",
            "Film adaptation"
           ]
          ],
          [
           "Becky Sharp",
           [
            "Melodrama",
            "Japanese Movies",
            "Indie",
            "Drama",
            "Romantic drama",
            "Romance Film",
            "Political drama"
           ]
          ],
          [
           "Bordertown",
           [
            "Adventure",
            "Children's/Family",
            "Children's",
            "Children's Fantasy",
            "Family Film",
            "Family-Oriented Adventure"
           ]
          ],
          [
           "The Call of the Savage",
           [
            "Thriller",
            "Horror",
            "Supernatural",
            "Psychological thriller",
            "Mystery",
            "Fantasy",
            "Drama"
           ]
          ],
          [
           "The Call of the Wild",
           [
            "Musical",
            "Drama",
            "Romance Film",
            "Comedy"
           ]
          ],
          [
           "Captain Blood",
           [
            "Thriller",
            "Mystery",
            "Science Fiction",
            "Drama",
            "Film adaptation"
           ]
          ],
          [
           "China Seas",
           [
            "Drama",
            "Period piece",
            "Coming of age"
           ]
          ],
          [
           "Devdas",
           [
            "Family Drama",
            "Adventure",
            "Film adaptation",
            "Comedy-drama",
            "Period piece",
            "Fantasy",
            "Comedy",
            "War film",
            "Drama",
            "Fantasy Comedy"
           ]
          ],
          [
           "The Devil is a Woman",
           [
            "Crime Fiction",
            "Thriller",
            "Chase Movie",
            "Action Thrillers",
            "Mystery",
            "Drama",
            "Action"
           ]
          ],
          [
           "Escape Me Never",
           [
            "Thriller",
            "Crime Fiction",
            "Action Thrillers",
            "Action/Adventure",
            "Action",
            "Airplanes and airports"
           ]
          ],
          [
           "Kidnapped",
           [
            "Parody",
            "Science Fiction",
            "Horror",
            "Black-and-white",
            "Horror Comedy",
            "Comedy",
            "Slapstick"
           ]
          ],
          [
           "The Last Days of Pompeii",
           [
            "Fantasy Adventure",
            "Adventure",
            "Children's/Family",
            "Fantasy",
            "Comedy",
            "War film",
            "Family Film",
            "Children's Fantasy"
           ]
          ],
          [
           "Magnificent Obsession",
           [
            "Romantic drama",
            "Romance Film",
            "Drama",
            "World cinema"
           ]
          ],
          [
           "Les Misérables",
           [
            "Musical",
            "Roadshow theatrical release"
           ]
          ],
          [
           "The New Adventures of Tarzan",
           [
            "Thriller",
            "Adventure",
            "World cinema",
            "Existentialism",
            "Psychological thriller",
            "Drama",
            "Suspense",
            "Action",
            "Film noir"
           ]
          ],
          [
           "One More Spring",
           [
            "Thriller",
            "Crime Fiction",
            "Adventure",
            "Cult",
            "Existentialism",
            "Action/Adventure",
            "Drama",
            "Suspense",
            "Crime Thriller",
            "Action",
            "New Hollywood"
           ]
          ],
          [
           "Our Little Girl",
           [
            "Action/Adventure",
            "Combat Films",
            "Action",
            "Drama",
            "War film"
           ]
          ],
          [
           "Rustlers of Red Dog",
           [
            "Thriller",
            "Science Fiction",
            "Horror",
            "Indie",
            "Supernatural",
            "Psychological thriller",
            "Political thriller",
            "Crime Thriller"
           ]
          ],
          [
           "Scrooge",
           [
            "Monster movie",
            "Tragedy",
            "Horror",
            "Science Fiction",
            "Drama",
            "Film adaptation",
            "Romance Film"
           ]
          ],
          [
           "She",
           [
            "Crime Fiction",
            "Thriller",
            "Horror",
            "Historical fiction",
            "Period piece",
            "New Hollywood"
           ]
          ],
          [
           "A Shot in the Dark",
           [
            "Thriller",
            "Crime Fiction",
            "Tragedy",
            "Psychological thriller",
            "Mystery",
            "Drama",
            "Film adaptation",
            "Crime Thriller"
           ]
          ],
          [
           "So Red the Rose",
           [
            "Crime Fiction",
            "Thriller",
            "Gangster Film",
            "World cinema",
            "Crime Drama",
            "Period piece",
            "Drama",
            "Coming of age",
            "Action"
           ]
          ],
          [
           "A Tale of Two Cities",
           [
            "Anti-war",
            "Period piece",
            "Drama",
            "War film",
            "Romance Film",
            "Anti-war film"
           ]
          ],
          [
           "The Three Musketeers",
           [
            "Thriller",
            "Mystery",
            "Suspense",
            "Political thriller",
            "New Hollywood",
            "Spy"
           ]
          ],
          [
           "Whipsaw",
           [
            "Romantic comedy",
            "Indie",
            "Drama",
            "Comedy",
            "Romantic drama",
            "Romance Film"
           ]
          ],
          [
           "Adventure in Manhattan",
           [
            "Costume drama",
            "Epic",
            "Period piece",
            "Drama",
            "Film adaptation",
            "Romantic drama",
            "Romance Film"
           ]
          ],
          [
           "The Adventures of Frank Merriwell",
           [
            "Thriller",
            "Natural horror films",
            "Science Fiction",
            "Horror",
            "Adventure",
            "Action/Adventure",
            "Monster",
            "Action"
           ]
          ],
          [
           "Anthony Adverse",
           [
            "Teen",
            "Romance Film",
            "Family Film",
            "Comedy",
            "Musical"
           ]
          ],
          [
           "The Arizona Raiders",
           [
            "Romantic comedy",
            "Comedy of manners",
            "Comedy-drama",
            "Drama",
            "Comedy",
            "Film adaptation",
            "Romance Film"
           ]
          ],
          [
           "The Bold Caballero",
           [
            "Japanese Movies",
            "World cinema",
            "Black-and-white",
            "Sports",
            "Period piece",
            "Martial Arts Film",
            "Drama",
            "Samurai cinema"
           ]
          ],
          [
           "Broken Blossoms",
           [
            "Thriller",
            "Action Thrillers",
            "Action/Adventure",
            "Glamorized Spy Film",
            "Action",
            "Spy"
           ]
          ],
          [
           "Crack-Up",
           [
            "Adventure",
            "Action/Adventure",
            "Fantasy",
            "Sword and sorcery",
            "Action",
            "Sword and sorcery films"
           ]
          ],
          [
           "Desert Gold",
           [
            "Drama",
            "Coming of age",
            "Teen"
           ]
          ],
          [
           "Dodsworth",
           [
            "Romantic comedy",
            "Crime Fiction",
            "Indie",
            "Heist",
            "Film adaptation",
            "Action/Adventure",
            "Thriller",
            "Comedy",
            "Crime Thriller",
            "Drama",
            "Romantic drama",
            "Romance Film",
            "Action"
           ]
          ],
          [
           "Dracula's Daughter",
           [
            "Children's/Family",
            "Animation",
            "Musical",
            "Fantasy",
            "Children's Fantasy",
            "Animated Musical",
            "Family Film"
           ]
          ],
          [
           "Drift Fence",
           [
            "Thriller",
            "Psychological thriller",
            "Mystery",
            "Drama",
            "Suspense",
            "Film adaptation",
            "Crime Thriller"
           ]
          ],
          [
           "The Garden of Allah",
           [
            "Costume drama",
            "Epic",
            "Period piece",
            "Drama",
            "War film",
            "Action",
            "Political drama"
           ]
          ],
          [
           "Kind Lady",
           [
            "Thriller",
            "Adventure",
            "Action/Adventure",
            "Drama",
            "Disaster",
            "Action"
           ]
          ],
          [
           "The Last of the Mohicans",
           [
            "Thriller",
            "Mystery",
            "Horror",
            "Psychological thriller"
           ]
          ],
          [
           "Little Lord Fauntleroy",
           [
            "Action/Adventure",
            "Thriller",
            "Action",
            "Spy"
           ]
          ],
          [
           "Love Before Breakfast",
           [
            "Thriller",
            "Crime Fiction",
            "Drama"
           ]
          ],
          [
           "Mr. Deeds Goes to Town",
           [
            "Adventure",
            "Children's/Family",
            "Computer Animation",
            "Costume drama",
            "Fairy tale",
            "Animation",
            "Fantasy",
            "Comedy",
            "Family Film",
            "Fantasy Comedy",
            "Children's Fantasy"
           ]
          ],
          [
           "No Escape",
           [
            "Action/Adventure",
            "Natural horror films",
            "Action",
            "Horror",
            "Thriller"
           ]
          ],
          [
           "The Plot Thickens",
           [
            "Horror",
            "Film adaptation"
           ]
          ],
          [
           "Sabotage",
           [
            "Thriller",
            "Science Fiction",
            "Horror",
            "Adventure",
            "Doomsday film",
            "Alien Film",
            "Drama",
            "Disaster",
            "Action"
           ]
          ],
          [
           "Satan Met a Lady",
           [
            "Thriller",
            "Crime Fiction",
            "Psychological thriller",
            "Mystery",
            "Period piece",
            "Drama",
            "Film adaptation",
            "Crime Thriller",
            "Romance Film"
           ]
          ],
          [
           "Secret Agent",
           [
            "Natural horror films",
            "Horror",
            "Animation",
            "Cult",
            "Fantasy",
            "Comedy"
           ]
          ],
          [
           "Tarzan Escapes",
           [
            "Thriller",
            "Action/Adventure",
            "Adventure",
            "Action Thrillers",
            "Glamorized Spy Film",
            "Crime Fiction",
            "Action",
            "Spy"
           ]
          ],
          [
           "Things to Come",
           [
            "Melodrama",
            "Buddy film",
            "Comedy-drama",
            "Musical",
            "Drama",
            "Comedy"
           ]
          ],
          [
           "Three Godfathers",
           [
            "Drama",
            "Indie",
            "Teen"
           ]
          ],
          [
           "To Catch a Thief",
           [
            "Thriller",
            "Swashbuckler films",
            "Horror",
            "Adventure",
            "Superhero movie",
            "Costume drama",
            "Creature Film",
            "Action/Adventure",
            "Mystery",
            "Drama",
            "Monster",
            "Fantasy",
            "Action",
            "Steampunk",
            "Costume Horror"
           ]
          ],
          [
           "The Voice of Bugle Ann",
           [
            "Thriller",
            "Mystery",
            "Drama",
            "Film adaptation",
            "Romantic drama",
            "Romance Film"
           ]
          ],
          [
           "When Knights Were Bold",
           [
            "Cult",
            "Science Fiction",
            "Horror"
           ]
          ],
          [
           "Wife vs. Secretary",
           [
            "LGBT",
            "Japanese Movies",
            "Prison film",
            "War film",
            "Period piece",
            "Drama",
            "Homoeroticism",
            "Film adaptation"
           ]
          ],
          [
           "Angel",
           [
            "Science Fiction",
            "Fantasy Adventure",
            "Adventure",
            "Children's/Family",
            "Animation",
            "Drama",
            "Children's Fantasy",
            "Fantasy",
            "Family Film"
           ]
          ],
          [
           "Camille",
           [
            "Albino bias",
            "Crime Fiction",
            "Crime Comedy",
            "Action/Adventure",
            "Comedy",
            "Action"
           ]
          ],
          [
           "The Captain's Table",
           [
            "Adventure",
            "Star vehicle",
            "Black-and-white",
            "Musical",
            "Fantasy",
            "Drama",
            "Coming of age",
            "Family Film"
           ]
          ],
          [
           "Elephant Boy",
           [
            "Family Drama",
            "Americana",
            "Comedy-drama",
            "Period piece",
            "Coming of age",
            "Film adaptation",
            "Drama",
            "Family Film"
           ]
          ],
          [
           "Forlorn River",
           [
            "Thriller",
            "Action Thrillers",
            "Concert film",
            "Action/Adventure",
            "Glamorized Spy Film",
            "War film",
            "Action",
            "Spy"
           ]
          ],
          [
           "The Good Earth",
           [
            "Science Fiction",
            "Family Film",
            "Fantasy",
            "Adventure",
            "Steampunk"
           ]
          ],
          [
           "Heidi",
           [
            "Cult",
            "Horror",
            "Psychological thriller"
           ]
          ],
          [
           "King Solomon's Mines",
           [
            "Adventure",
            "World cinema",
            "Children's/Family",
            "Animal Picture",
            "Fantasy",
            "Comedy",
            "Drama",
            "Family Film",
            "Children's Fantasy"
           ]
          ],
          [
           "Lost Horizon",
           [
            "Romantic comedy",
            "Romance Film",
            "Comedy"
           ]
          ],
          [
           "The Man Who Could Work Miracles",
           [
            "Thriller",
            "Mystery",
            "Comedy",
            "Suspense",
            "Black comedy"
           ]
          ],
          [
           "The Prince and the Pauper",
           [
            "Drama"
           ]
          ],
          [
           "The Prisoner of Zenda",
           [
            "Thriller",
            "Action/Adventure",
            "Action Thrillers",
            "Action",
            "War film"
           ]
          ],
          [
           "The Road Back",
           [
            "Family Film",
            "Fantasy",
            "Adventure",
            "Steampunk"
           ]
          ],
          [
           "Rustlers' Valley",
           [
            "Thriller",
            "Action Thrillers",
            "Action/Adventure",
            "Glamorized Spy Film",
            "Action",
            "Spy"
           ]
          ],
          [
           "Sea Devils",
           [
            "Thriller",
            "Crime Fiction",
            "Action"
           ]
          ],
          [
           "Silver Blaze",
           [
            "Thriller",
            "Japanese Movies",
            "World cinema",
            "Mystery",
            "Drama",
            "Horror"
           ]
          ],
          [
           "Snow White and the Seven Dwarfs",
           [
            "Monster movie",
            "Horror",
            "Creature Film",
            "Supernatural"
           ]
          ],
          [
           "Stella Dallas",
           [
            "Melodrama",
            "Black-and-white",
            "Period piece",
            "Drama",
            "Romantic drama",
            "Romance Film",
            "Political drama"
           ]
          ],
          [
           "Wild West Days",
           [
            "Action/Adventure",
            "Drama",
            "Coming of age",
            "Adventure"
           ]
          ],
          [
           "Young and Innocent",
           [
            "Thriller",
            "Crime Fiction",
            "Detective",
            "Psychological thriller",
            "Mystery",
            "Drama",
            "Crime Thriller",
            "Slasher"
           ]
          ],
          [
           "Zorro Rides Again",
           [
            "Drama",
            "War film"
           ]
          ],
          [
           "The Adventures of Tom Sawyer",
           [
            "LGBT",
            "Black comedy",
            "Thriller",
            "Indie",
            "Comedy"
           ]
          ],
          [
           "Bringing up Baby",
           [
            "History",
            "Romance Film",
            "Drama",
            "Romantic drama"
           ]
          ],
          [
           "La Bête humaine",
           [
            "Drama",
            "Comedy film",
            "Comedy-drama"
           ]
          ],
          [
           "A Christmas Carol",
           [
            "Period piece",
            "Drama",
            "Indie",
            "Film adaptation"
           ]
          ],
          [
           "The Citadel",
           [
            "Thriller",
            "Horror",
            "Psychological thriller",
            "Action/Adventure",
            "Mystery",
            "Drama",
            "Suspense",
            "Film adaptation",
            "Crime Thriller",
            "Action"
           ]
          ],
          [
           "Going Places",
           [
            "Adventure",
            "Costume Adventure",
            "Period piece",
            "Action/Adventure",
            "Western",
            "Drama",
            "War film"
           ]
          ],
          [
           "Hawk of the Wilderness",
           [
            "Action/Adventure",
            "Drama",
            "War film",
            "Romantic drama",
            "Romance Film",
            "Action",
            "Combat Films"
           ]
          ],
          [
           "Island in the Sky",
           [
            "Fantasy",
            "Drama",
            "Children's/Family"
           ]
          ],
          [
           "Kidnapped",
           [
            "Crime Fiction",
            "Family Film",
            "Drama",
            "Adventure",
            "Film adaptation"
           ]
          ],
          [
           "The Lady Vanishes",
           [
            "Crime Fiction",
            "Period piece",
            "Drama",
            "War film",
            "Political drama",
            "Courtroom Drama"
           ]
          ],
          [
           "Mother Carey's Chickens",
           [
            "Monster movie",
            "Archaeology",
            "B-movie",
            "Horror",
            "Creature Film"
           ]
          ],
          [
           "Rebecca of Sunnybrook Farm",
           [
            "Drama"
           ]
          ],
          [
           "Roll Along, Cowboy",
           [
            "Science Fiction",
            "Adventure",
            "Children's/Family",
            "Animation",
            "Romance Film",
            "Family Film",
            "Family-Oriented Adventure"
           ]
          ],
          [
           "The Shopworn Angel",
           [
            "Parody",
            "Horror",
            "Absurdism",
            "Comedy",
            "Slapstick",
            "Horror Comedy"
           ]
          ],
          [
           "Vessel of Wrath",
           [
            "Thriller",
            "Horror"
           ]
          ],
          [
           "White Banners",
           [
            "Cult",
            "Science Fiction",
            "Action",
            "Adventure"
           ]
          ],
          [
           "The Adventures of Huckleberry Finn",
           [
            "Horror",
            "Slasher",
            "Teen"
           ]
          ],
          [
           "The Adventures of Sherlock Holmes",
           [
            "Thriller",
            "Science Fiction",
            "Action",
            "Adventure",
            "Film adaptation"
           ]
          ],
          [
           "Beau Geste",
           [
            "Fantasy Adventure",
            "Adventure",
            "Children's/Family",
            "Mystery",
            "Fantasy",
            "Children's Fantasy",
            "Family Film"
           ]
          ],
          [
           "Bel Ami",
           [
            "Fantasy Adventure",
            "Adventure",
            "Children's/Family",
            "Mystery",
            "Fantasy",
            "Children's Fantasy",
            "Family Film"
           ]
          ],
          [
           "Destry Rides Again",
           [
            "Thriller",
            "Science Fiction",
            "Fantasy Adventure",
            "Adventure",
            "Supernatural",
            "Children's/Family",
            "Mystery",
            "Fantasy",
            "Children's Fantasy",
            "Family Film"
           ]
          ],
          [
           "Drums Along the Mohawk",
           [
            "Mystery",
            "Family Film",
            "Fantasy Adventure",
            "Fantasy",
            "Adventure"
           ]
          ],
          [
           "The Four Feathers",
           [
            "Adventure",
            "Children's/Family",
            "Costume drama",
            "Comedy",
            "Family Film",
            "Family-Oriented Adventure",
            "Teen"
           ]
          ],
          [
           "Gone with the Wind",
           [
            "Japanese Movies",
            "Science Fiction",
            "Horror",
            "Sci-Fi Horror"
           ]
          ],
          [
           "Goodbye, Mr. Chips",
           [
            "Drama",
            "Family Film",
            "Fantasy",
            "Comedy"
           ]
          ],
          [
           "Gulliver's Travels",
           [
            "Thriller",
            "Horror",
            "Supernatural",
            "Psychological thriller",
            "Mystery",
            "Suspense",
            "Courtroom Drama"
           ]
          ],
          [
           "The Hound of the Baskervilles",
           [
            "Thriller",
            "Horror",
            "Detective",
            "Erotic thriller",
            "Supernatural",
            "Mystery",
            "Crime Thriller"
           ]
          ],
          [
           "The Hunchback of Notre Dame",
           [
            "Family Film",
            "Fantasy",
            "Comedy"
           ]
          ],
          [
           "Juarez",
           [
            "Crime Fiction",
            "Thriller",
            "Mystery"
           ]
          ],
          [
           "The Man From Dakota",
           [
            "Sports",
            "Coming of age",
            "Drama",
            "Romantic drama",
            "Romance Film",
            "Teen"
           ]
          ],
          [
           "The Man in the Iron Mask",
           [
            "Adventure",
            "Animation",
            "Musical",
            "Drama",
            "Fantasy",
            "Family Film"
           ]
          ],
          [
           "Nancy Drew and the Hidden Staircase",
           [
            "Family Drama",
            "Heavenly Comedy",
            "Romantic fantasy",
            "Fantasy",
            "Drama",
            "Romantic drama",
            "Family Film",
            "Romance Film"
           ]
          ],
          [
           "Nancy Drew... Reporter",
           [
            "Adventure",
            "Children's/Family",
            "Animation",
            "Coming of age",
            "Children's Fantasy",
            "Animated Musical",
            "Drama",
            "Fantasy",
            "Family Film"
           ]
          ],
          [
           "Of Mice and Men",
           [
            "Family Film",
            "Family Drama",
            "Drama",
            "Political drama",
            "War film"
           ]
          ],
          [
           "Son of Frankenstein",
           [
            "Fantasy",
            "Drama",
            "Film adaptation",
            "Romantic drama",
            "Romance Film",
            "Romantic fantasy"
           ]
          ],
          [
           "The Stars Look Down",
           [
            "Crime Fiction",
            "Drama",
            "Courtroom Drama"
           ]
          ],
          [
           "Tarzan Finds a Son!",
           [
            "Indie",
            "Satire",
            "Drama",
            "Comedy",
            "Political cinema",
            "Black comedy"
           ]
          ],
          [
           "The Three Musketeers",
           [
            "Thriller",
            "Action/Adventure",
            "Action",
            "Suspense",
            "Political thriller"
           ]
          ],
          [
           "Wife, Husband and Friend",
           [
            "Thriller",
            "Science Fiction",
            "Horror",
            "Supernatural",
            "Psychological thriller",
            "Mystery",
            "Fantasy",
            "Haunted House Film",
            "Drama"
           ]
          ],
          [
           "The Wizard of Oz",
           [
            "Crime Fiction",
            "Gangster Film",
            "Drama",
            "Thriller",
            "Crime Drama"
           ]
          ],
          [
           "Wuthering Heights",
           [
            "Horror",
            "Science Fiction",
            "Drama",
            "Indie"
           ]
          ],
          [
           "Zorro's Fighting Legion",
           [
            "Costume drama",
            "Drama"
           ]
          ],
          [
           "Bastard",
           [
            "Thriller",
            "Action Thrillers",
            "Action/Adventure",
            "Suspense",
            "War film",
            "Action",
            "Airplanes and airports"
           ]
          ],
          [
           "The Blue Bird",
           [
            "Action",
            "Drama",
            "Adventure",
            "War film"
           ]
          ],
          [
           "Boom Town",
           [
            "Crime Fiction",
            "Drama",
            "Crime Drama"
           ]
          ],
          [
           "Brother Orchid",
           [
            "Thriller",
            "Psychological thriller",
            "World cinema",
            "Suspense"
           ]
          ],
          [
           "Buck Rogers",
           [
            "Crime Fiction",
            "Thriller",
            "Horror",
            "Psychological thriller",
            "Mystery",
            "Drama",
            "Suspense",
            "Crime Thriller",
            "Slasher"
           ]
          ],
          [
           "Charlie Chan's Murder Cruise",
           [
            "Swashbuckler films",
            "Adventure",
            "Superhero movie",
            "Costume drama",
            "Costume Adventure",
            "Action/Adventure",
            "Western",
            "Romance Film",
            "Action"
           ]
          ],
          [
           "Crimes at the Dark House",
           [
            "Thriller",
            "Parody",
            "Science Fiction",
            "Satire",
            "Comedy",
            "Black comedy"
           ]
          ],
          [
           "Escape",
           [
            "Adventure",
            "Martial Arts Film",
            "Action/Adventure",
            "Western",
            "Children's",
            "Drama",
            "Comedy",
            "Film adaptation",
            "Family Film",
            "Action",
            "Romance Film",
            "Steampunk"
           ]
          ],
          [
           "Fantasia",
           [
            "Science Fiction",
            "Adventure",
            "Doomsday film",
            "Cult",
            "Apocalyptic and post-apocalyptic fiction",
            "Archives and records",
            "Action"
           ]
          ],
          [
           "Florian",
           [
            "Musical",
            "Family Film",
            "Fantasy",
            "Adventure"
           ]
          ],
          [
           "Flowing Gold",
           [
            "Demonic child",
            "Horror",
            "Supernatural",
            "Psychological thriller",
            "Cult",
            "Drama",
            "New Hollywood"
           ]
          ],
          [
           "The Grapes of Wrath",
           [
            "Adventure",
            "Children's/Family",
            "Animation",
            "Children's",
            "Animated Musical",
            "Music",
            "Family Film",
            "Family-Oriented Adventure"
           ]
          ],
          [
           "The Invisible Man Returns",
           [
            "Crime Fiction",
            "Thriller",
            "Erotic Drama",
            "Mystery",
            "Period piece",
            "Drama",
            "Film adaptation",
            "Crime Thriller"
           ]
          ],
          [
           "The Invisible Woman",
           [
            "Family Film",
            "Adventure"
           ]
          ],
          [
           "Law and Order",
           [
            "Romantic comedy",
            "Comedy of manners",
            "Drama",
            "Comedy",
            "Romance Film",
            "Family Film",
            "Teen"
           ]
          ],
          [
           "The Light of Western Stars",
           [
            "Fantasy Comedy",
            "Family Film",
            "Animal Picture",
            "Comedy"
           ]
          ],
          [
           "Little Men",
           [
            "Costume drama",
            "Family Film",
            "Fantasy",
            "Adventure",
            "Romance Film"
           ]
          ],
          [
           "The Mark of Zorro",
           [
            "Thriller",
            "Japanese Movies",
            "Adventure",
            "Action/Adventure",
            "Western",
            "Drama",
            "Action"
           ]
          ],
          [
           "Marked Men",
           [
            "Adventure",
            "Children's/Family",
            "Stop motion",
            "Animation",
            "Musical",
            "Fantasy",
            "Comedy",
            "Family Film",
            "Fantasy Comedy",
            "Children's Fantasy"
           ]
          ],
          [
           "Pinocchio",
           [
            "Fantasy Adventure",
            "Adventure",
            "Children's/Family",
            "Computer Animation",
            "Fantasy",
            "Comedy",
            "Family Film",
            "Family-Oriented Adventure"
           ]
          ],
          [
           "Pride and Prejudice",
           [
            "Romantic drama",
            "Period piece",
            "Marriage Drama",
            "Drama",
            "Romance Film"
           ]
          ],
          [
           "Private Affairs",
           [
            "Thriller",
            "Drama",
            "Social problem film",
            "Courtroom Drama"
           ]
          ],
          [
           "Rebecca",
           [
            "Parody",
            "Costume drama",
            "Fantasy",
            "Comedy",
            "Black comedy"
           ]
          ],
          [
           "The Sea Hawk",
           [
            "Swashbuckler films",
            "Adventure",
            "Costume drama",
            "Historical fiction",
            "Drama",
            "History",
            "Family Film"
           ]
          ],
          [
           "The Son of Monte Cristo",
           [
            "Science Fiction",
            "Indie",
            "World cinema",
            "Silent film",
            "Black-and-white",
            "Drama",
            "Romantic drama",
            "Romance Film"
           ]
          ],
          [
           "Star Dust",
           [
            "Comedy-drama",
            "Family Film",
            "Coming of age",
            "Comedy",
            "Teen"
           ]
          ],
          [
           "Swiss Family Robinson",
           [
            "Adventure",
            "Costume drama",
            "Animation",
            "Children's",
            "Fantasy",
            "Drama",
            "Music",
            "Family Film"
           ]
          ],
          [
           "The Thief of Bagdad",
           [
            "Crime Fiction",
            "Thriller",
            "Crime Drama",
            "Drama",
            "Suspense",
            "Film adaptation",
            "Black comedy",
            "Neo-noir"
           ]
          ],
          [
           "Vigil in the Night",
           [
            "Romantic comedy",
            "Family Film",
            "Romance Film",
            "Comedy"
           ]
          ],
          [
           "Appointment for Love",
           [
            "Costume drama",
            "Family Drama",
            "Period piece",
            "Coming of age",
            "Film adaptation",
            "Drama",
            "Romantic drama",
            "Family Film",
            "Romance Film"
           ]
          ],
          [
           "Back Street",
           [
            "Fantasy Adventure",
            "Adventure",
            "Children's/Family",
            "Costume drama",
            "Animation",
            "Fantasy",
            "Sword and sorcery",
            "Family Film",
            "Action",
            "Sword and sorcery films"
           ]
          ],
          [
           "Blood and Sand",
           [
            "Costume drama",
            "Family Film",
            "Drama",
            "Adventure"
           ]
          ],
          [
           "Dr. Jekyll and Mr. Hyde",
           [
            "Romantic comedy",
            "Costume drama",
            "Fairy tale",
            "Period piece",
            "Fantasy",
            "Comedy",
            "Drama",
            "Romantic drama",
            "Romance Film"
           ]
          ],
          [
           "Dressed to Kill",
           [
            "Thriller",
            "Crime Fiction",
            "Detective",
            "Mystery",
            "Drama",
            "Crime Thriller",
            "Neo-noir"
           ]
          ],
          [
           "Dumbo",
           [
            "Coming of age",
            "Tragedy",
            "Drama",
            "Romance Film",
            "Teen"
           ]
          ],
          [
           "H.M. Pulham, Esq.",
           [
            "Thriller",
            "Adventure",
            "Stop motion",
            "Surrealism",
            "Animation",
            "Fantasy",
            "Thriller",
            "Adventure",
            "Stop motion",
            "Surrealism",
            "Animation",
            "Fantasy"
           ]
          ],
          [
           "Hatter's Castle",
           [
            "Science Fiction",
            "Adventure",
            "Children's/Family",
            "Animation",
            "Fantasy",
            "Children's Fantasy",
            "Family Film",
            "Action"
           ]
          ],
          [
           "How Green Was My Valley",
           [
            "Drama",
            "Family Film",
            "Fantasy"
           ]
          ],
          [
           "Jungle Girl",
           [
            "Thriller",
            "Action Thrillers",
            "Gangster Film",
            "Chase Movie",
            "Action/Adventure",
            "Crime Fiction",
            "Crime Thriller",
            "Action"
           ]
          ],
          [
           "Kipps",
           [
            "Jungle Film",
            "Adventure"
           ]
          ],
          [
           "The Lady Eve",
           [
            "Melodrama",
            "Coming of age",
            "Film adaptation",
            "Drama",
            "Romantic drama",
            "Romance Film",
            "Teen"
           ]
          ],
          [
           "The Maltese Falcon",
           [
            "Parody",
            "Family Film",
            "Comedy",
            "Slapstick"
           ]
          ],
          [
           "Million Dollar Baby",
           [
            "Fantasy Adventure",
            "Adventure",
            "Children's/Family",
            "Mystery",
            "Fantasy",
            "Children's Fantasy",
            "Family Film",
            "Action",
            "Romance Film"
           ]
          ],
          [
           "The Reluctant Dragon",
           [
            "Thriller",
            "Crime Fiction",
            "Japanese Movies",
            "Art film",
            "World cinema",
            "Drama",
            "Crime Thriller"
           ]
          ],
          [
           "The Sea Wolf",
           [
            "Thriller",
            "Crime Fiction",
            "Action/Adventure",
            "Mystery",
            "Martial Arts Film",
            "Drama",
            "Film adaptation",
            "Action Thrillers",
            "Action",
            "Spy"
           ]
          ],
          [
           "Shining Victory",
           [
            "Thriller",
            "Adventure",
            "Psychological thriller",
            "Action Thrillers",
            "Drama",
            "Action"
           ]
          ],
          [
           "Suspicion",
           [
            "Comedy-drama",
            "Drama",
            "Comedy",
            "Film adaptation",
            "Coming of age",
            "Tragicomedy"
           ]
          ],
          [
           "Tarzan's Secret Treasure",
           [
            "Thriller",
            "Swashbuckler films",
            "Adventure",
            "History",
            "Film adaptation",
            "Action/Adventure",
            "Period piece",
            "Crime Fiction",
            "Costume drama",
            "Drama",
            "Romance Film",
            "Action"
           ]
          ],
          [
           "You Belong to Me",
           [
            "Thriller",
            "Mystery",
            "Drama",
            "Psychological thriller"
           ]
          ],
          [
           "The Adventures of Martin Eden",
           [
            "Science Fiction"
           ]
          ],
          [
           "Arabian Nights",
           [
            "Christmas movie",
            "Satire",
            "Fantasy",
            "Comedy",
            "Black comedy",
            "Fantasy Comedy"
           ]
          ],
          [
           "Bambi",
           [
            "Thriller",
            "Erotic thriller",
            "Psychological thriller",
            "Mystery",
            "Suspense",
            "Political thriller",
            "Crime Thriller",
            "Spy"
           ]
          ],
          [
           "The Dark Tower",
           [
            "Crime Fiction",
            "Thriller",
            "Crime Comedy",
            "Comedy Thriller",
            "Action/Adventure",
            "Comedy",
            "Crime Thriller",
            "Black comedy",
            "Action"
           ]
          ],
          [
           "Eagle Squadron",
           [
            "Jungle Film",
            "Drama",
            "Adventure"
           ]
          ],
          [
           "The Gay Sisters",
           [
            "Cult",
            "Horror",
            "Science Fiction",
            "B-movie",
            "Creature Film"
           ]
          ],
          [
           "The Ghost of Frankenstein",
           [
            "Crime Fiction",
            "Thriller",
            "Gangster Film",
            "Heist",
            "Caper story",
            "Black-and-white",
            "Drama",
            "Crime Thriller",
            "Film noir"
           ]
          ],
          [
           "Invisible Agent",
           [
            "Science Fiction",
            "Horror",
            "Stop motion",
            "Creature Film",
            "Cult",
            "Fantasy",
            "Monster"
           ]
          ],
          [
           "Jungle Book",
           [
            "Ensemble Film",
            "Coming of age",
            "Film adaptation",
            "Drama",
            "Romantic drama",
            "Romance Film",
            "Teen"
           ]
          ],
          [
           "Kings Row",
           [
            "Silent film",
            "Horror",
            "Black-and-white"
           ]
          ],
          [
           "Manpower",
           [
            "Children's",
            "Japanese Movies",
            "Animation"
           ]
          ],
          [
           "The Moon and Sixpence",
           [
            "Adventure",
            "Children's/Family",
            "Fairy tale",
            "Animation",
            "Fantasy",
            "Children's Fantasy",
            "Family Film",
            "Fantasy Comedy",
            "Comedy"
           ]
          ],
          [
           "Nightmare",
           [
            "Swashbuckler films",
            "Silent film",
            "Indie",
            "Costume drama",
            "Epic",
            "Black-and-white",
            "Action/Adventure",
            "Drama",
            "Film adaptation",
            "Action"
           ]
          ],
          [
           "Perils of Nyoka",
           [
            "Cult",
            "Period piece",
            "Horror",
            "Psychological thriller",
            "Supernatural"
           ]
          ],
          [
           "Son of Fury: The Story of Benjamin Blake",
           [
            "Science Fiction",
            "Indie",
            "Tragedy",
            "Romantic fantasy",
            "Fantasy",
            "Drama",
            "Romantic drama",
            "Time travel",
            "Romance Film"
           ]
          ],
          [
           "The Spoilers",
           [
            "Thriller",
            "Mystery",
            "Drama",
            "Psychological thriller",
            "Suspense"
           ]
          ],
          [
           "Street of Chance",
           [
            "Thriller",
            "Crime Fiction",
            "Parkour in popular culture",
            "Adventure",
            "Action/Adventure",
            "Drama",
            "Reboot",
            "Action"
           ]
          ],
          [
           "The Talk of the Town",
           [
            "Romantic drama",
            "Romance Film",
            "Drama"
           ]
          ],
          [
           "Tarzan's New York Adventure",
           [
            "Science Fiction",
            "Drama",
            "Film adaptation"
           ]
          ],
          [
           "Background to Danger",
           [
            "Drama",
            "Science Fiction",
            "Comedy-drama"
           ]
          ],
          [
           "Commandos Strike at Dawn",
           [
            "Crime Fiction",
            "Romantic drama",
            "Drama",
            "World cinema",
            "Crime Drama"
           ]
          ],
          [
           "The Constant Nymph",
           [
            "Action/Adventure",
            "Swashbuckler films",
            "Action",
            "Adventure",
            "Black-and-white"
           ]
          ],
          [
           "Tarzan's Desert Mystery",
           [
            "Crime Fiction",
            "Mystery",
            "Period piece",
            "Fantasy",
            "Film adaptation",
            "Drama",
            "Prison"
           ]
          ],
          [
           "For Whom the Bell Tolls",
           [
            "Thriller",
            "Mystery",
            "Drama"
           ]
          ],
          [
           "Frankenstein Meets the Wolf Man",
           [
            "Drama",
            "Horror",
            "Psychological horror"
           ]
          ],
          [
           "Happy Land",
           [
            "Thriller",
            "Heist",
            "Action/Adventure",
            "Mystery",
            "Crime Fiction",
            "Suspense",
            "Crime Thriller",
            "Action"
           ]
          ],
          [
           "I Walked with a Zombie",
           [
            "Horror",
            "Supernatural"
           ]
          ],
          [
           "Lassie Come Home",
           [
            "Western",
            "Fantasy"
           ]
          ],
          [
           "The Leopard Man",
           [
            "Thriller",
            "Horror",
            "Adventure",
            "Jungle Film",
            "Action/Adventure",
            "Film adaptation",
            "Action"
           ]
          ],
          [
           "My Friend Flicka",
           [
            "Horror"
           ]
          ],
          [
           "Phantom Lady",
           [
            "Crime Fiction",
            "Thriller",
            "Adventure",
            "Action/Adventure",
            "Mystery",
            "Drama",
            "Film adaptation",
            "Action"
           ]
          ],
          [
           "Phantom of the Opera",
           [
            "Thriller",
            "Horror",
            "Supernatural"
           ]
          ],
          [
           "Sahara",
           [
            "Time travel",
            "Thriller",
            "Science Fiction",
            "Drama",
            "Indie"
           ]
          ],
          [
           "Son of Dracula",
           [
            "Thriller",
            "Crime Fiction",
            "Action",
            "Remake",
            "Action/Adventure"
           ]
          ],
          [
           "The Song of Bernadette",
           [
            "Thriller",
            "Action/Adventure",
            "Horror",
            "Cult",
            "Western",
            "Drama",
            "Film adaptation",
            "Action"
           ]
          ],
          [
           "Tarzan Triumphs",
           [
            "Adventure",
            "Animation",
            "Musical",
            "Drama",
            "Fantasy",
            "Family Film"
           ]
          ],
          [
           "The Adventures of Mark Twain",
           [
            "Indie",
            "Animation",
            "Fantasy",
            "Film adaptation",
            "Drama",
            "Family Film",
            "Adventure"
           ]
          ],
          [
           "Black Arrow",
           [
            "Sci-Fi Adventure",
            "Science Fiction",
            "Action",
            "Fantasy",
            "Adventure"
           ]
          ],
          [
           "The Bridge of San Luis Rey",
           [
            "Science Fiction",
            "Adventure",
            "Comedy"
           ]
          ],
          [
           "Christmas Holiday",
           [
            "Romance Film",
            "Drama",
            "Black-and-white",
            "Film adaptation"
           ]
          ],
          [
           "Double Indemnity",
           [
            "Action/Adventure",
            "Western",
            "Action"
           ]
          ],
          [
           "Dragon Seed",
           [
            "Thriller",
            "Action/Adventure",
            "Existentialism",
            "Psychological thriller",
            "Cult",
            "Satire",
            "Drama",
            "Black comedy",
            "Action",
            "Airplanes and airports"
           ]
          ],
          [
           "Experiment Perilous",
           [
            "Drama",
            "Indie"
           ]
          ],
          [
           "Gentle Annie",
           [
            "Cult",
            "Science Fiction",
            "Indie",
            "Sports",
            "Action/Adventure",
            "Satire",
            "Action",
            "Dystopia"
           ]
          ],
          [
           "The Best Years of Our Lives",
           [
            "Family Film",
            "Family Drama",
            "Drama",
            "Adventure",
            "Film adaptation"
           ]
          ],
          [
           "Haunted Harbor",
           [
            "Thriller",
            "Indie",
            "Supernatural",
            "Family Drama",
            "Epic",
            "Mystery",
            "Period piece",
            "Drama",
            "Suspense",
            "Film adaptation",
            "Romantic drama",
            "Romance Film",
            "Political drama"
           ]
          ],
          [
           "The Hour Before the Dawn",
           [
            "Action/Adventure",
            "Western",
            "Comedy Western",
            "Film adaptation"
           ]
          ],
          [
           "House of Frankenstein",
           [
            "Science Fiction",
            "Horror",
            "Adventure",
            "Costume drama",
            "Action/Adventure",
            "Drama",
            "Film adaptation",
            "Action"
           ]
          ],
          [
           "The Invisible Man's Revenge",
           [
            "Political cinema",
            "Buddy film",
            "Comedy",
            "Slapstick"
           ]
          ],
          [
           "The Keys of the Kingdom",
           [
            "Thriller",
            "Crime Fiction",
            "Gangster Film",
            "Indie",
            "Crime Drama",
            "Drama",
            "Crime Thriller"
           ]
          ],
          [
           "The Lady and the Monster",
           [
            "Biography",
            "Costume drama",
            "Period piece",
            "Drama",
            "Biopic [feature]",
            "Family Film"
           ]
          ],
          [
           "Laura",
           [
            "Horror"
           ]
          ],
          [
           "Love Story",
           [
            "Science Fiction",
            "Action",
            "Dystopia"
           ]
          ],
          [
           "Mademoiselle Fifi",
           [
            "Sports",
            "Science Fiction",
            "Action"
           ]
          ],
          [
           "Meet Me in St. Louis",
           [
            "Crime Fiction",
            "Road movie",
            "Comedy-drama",
            "Black-and-white",
            "Period piece",
            "Drama",
            "Comedy",
            "Black comedy",
            "New Hollywood"
           ]
          ],
          [
           "Mr. Winkle Goes to War",
           [
            "Romantic comedy",
            "Romance Film",
            "Comedy",
            "Teen",
            "Beach Film"
           ]
          ],
          [
           "Nevada",
           [
            "Thriller",
            "Science Fiction",
            "Action/Adventure",
            "Drama",
            "Action",
            "Dystopia"
           ]
          ],
          [
           "The Pearl of Death",
           [
            "Thriller",
            "Crime Fiction",
            "Detective fiction",
            "Detective",
            "Mystery",
            "Drama",
            "Suspense",
            "Crime Thriller"
           ]
          ],
          [
           "To Have and Have Not",
           [
            "Romantic drama",
            "Romance Film",
            "Drama"
           ]
          ],
          [
           "Zorro's Black Whip",
           [
            "Thriller",
            "Action/Adventure",
            "Ensemble Film",
            "Action Thrillers",
            "Disaster",
            "Action",
            "Airplanes and airports"
           ]
          ],
          [
           "Adventure",
           [
            "Swashbuckler films",
            "Adventure",
            "Superhero movie",
            "Action/Adventure",
            "Western",
            "Drama",
            "Romance Film",
            "Action"
           ]
          ],
          [
           "Along Came Jones",
           [
            "Swashbuckler films",
            "Silent film",
            "Indie",
            "Superhero movie",
            "Black-and-white",
            "Action/Adventure",
            "Drama",
            "Romantic drama",
            "Romance Film"
           ]
          ],
          [
           "And Then There Were None",
           [
            "Family Drama",
            "Christmas movie",
            "Musical",
            "Drama",
            "Film adaptation",
            "Fantasy",
            "Family Film"
           ]
          ],
          [
           "Bedside Manner",
           [
            "Silent film",
            "Drama",
            "Indie",
            "Black-and-white"
           ]
          ],
          [
           "House of Dracula",
           [
            "Family Film",
            "Fantasy",
            "Adventure",
            "Musical"
           ]
          ],
          [
           "Junior Miss",
           [
            "Thriller",
            "Indie",
            "Psychological thriller",
            "Mystery",
            "Drama",
            "Film adaptation",
            "Romance Film"
           ]
          ],
          [
           "Love Letters",
           [
            "Thriller",
            "Science Fiction",
            "Psychological thriller"
           ]
          ],
          [
           "Mildred Pierce",
           [
            "Art film",
            "World cinema",
            "Satire",
            "Drama",
            "Marriage Drama",
            "Romantic drama",
            "Romance Film"
           ]
          ],
          [
           "The Picture of Dorian Gray",
           [
            "Thriller",
            "Science Fiction",
            "Adventure",
            "Costume drama",
            "Action/Adventure",
            "Film adaptation",
            "Time travel",
            "Action"
           ]
          ],
          [
           "Son of Lassie",
           [
            "Christmas movie",
            "Family Film",
            "Comedy",
            "Holiday Film",
            "Slapstick"
           ]
          ],
          [
           "Tarzan and the Amazons",
           [
            "Horror",
            "Slasher",
            "Supernatural"
           ]
          ],
          [
           "A Thousand and One Nights",
           [
            "Drama",
            "Black-and-white"
           ]
          ],
          [
           "Topaz",
           [
            "Indie",
            "Period piece",
            "Marriage Drama",
            "Drama",
            "Film adaptation",
            "Romantic drama",
            "Romance Film"
           ]
          ],
          [
           "The Woman in Green",
           [
            "Thriller",
            "Natural horror films",
            "Horror",
            "Drama",
            "Cult"
           ]
          ],
          [
           "Anna and the King of Siam",
           [
            "Musical",
            "Children's/Family",
            "Fantasy",
            "Christmas movie",
            "Children's Fantasy"
           ]
          ],
          [
           "Bedelia",
           [
            "Coming of age",
            "Adventure",
            "Drama",
            "Romantic drama",
            "Romance Film",
            "Teen"
           ]
          ],
          [
           "The Big Sleep",
           [
            "Drama",
            "Family Film",
            "Family Drama",
            "Coming of age"
           ]
          ],
          [
           "Black Angel",
           [
            "Biography",
            "Japanese Movies",
            "Period piece",
            "Drama",
            "Biographical film",
            "Airplanes and airports"
           ]
          ],
          [
           "Black Beauty",
           [
            "Drama"
           ]
          ],
          [
           "Canyon Passage",
           [
            "Romantic comedy",
            "Buddy film",
            "Road movie",
            "Comedy-drama",
            "Drama",
            "Comedy",
            "Romance Film"
           ]
          ],
          [
           "The Chase",
           [
            "Ensemble Film",
            "Comedy-drama",
            "Period piece",
            "Drama",
            "Comedy",
            "Coming of age"
           ]
          ],
          [
           "Courage of Lassie",
           [
            "Thriller",
            "Drama",
            "Crime Fiction",
            "Fantasy"
           ]
          ],
          [
           "Crack-Up",
           [
            "Romantic drama",
            "Romance Film",
            "Drama",
            "World cinema"
           ]
          ],
          [
           "Deadline at Dawn",
           [
            "Romantic comedy",
            "Romance Film",
            "Comedy"
           ]
          ],
          [
           "Dirty Gertie from Harlem U.S.A.",
           [
            "Thriller",
            "Action/Adventure",
            "Action Thrillers",
            "Action",
            "War film"
           ]
          ],
          [
           "Dressed to Kill",
           [
            "Thriller",
            "Mystery",
            "Crime Thriller",
            "Slasher",
            "Psychological thriller"
           ]
          ],
          [
           "Duel in the Sun",
           [
            "Thriller",
            "Mystery",
            "Drama",
            "Psychological thriller",
            "Crime Thriller"
           ]
          ],
          [
           "A Game of Death",
           [
            "Thriller",
            "Remake",
            "Period piece",
            "Drama",
            "Film adaptation",
            "Political drama"
           ]
          ],
          [
           "Great Expectations",
           [
            "Combat Films",
            "Action",
            "Drama",
            "War film"
           ]
          ],
          [
           "Green for Danger",
           [
            "Musical",
            "Drama",
            "Romance Film"
           ]
          ],
          [
           "The Green Years",
           [
            "Road movie",
            "Horror",
            "Psychological thriller",
            "Film adaptation"
           ]
          ],
          [
           "The Harvey Girls",
           [
            "Action/Adventure",
            "Action",
            "Drama",
            "Adventure",
            "War film"
           ]
          ],
          [
           "It's a Wonderful Life",
           [
            "Thriller",
            "Natural horror films",
            "Horror",
            "Action/Adventure",
            "Mystery",
            "Suspense",
            "Action"
           ]
          ],
          [
           "The Killers",
           [
            "Thriller",
            "Crime Fiction",
            "Cult",
            "Action/Adventure",
            "Drama",
            "Action"
           ]
          ],
          [
           "The Man I Love",
           [
            "Drama",
            "Costume drama",
            "Christmas movie",
            "Fantasy",
            "Family Film"
           ]
          ],
          [
           "My Reputation",
           [
            "Period piece",
            "Melodrama",
            "Drama",
            "War film"
           ]
          ],
          [
           "Of Human Bondage",
           [
            "Horror",
            "Supernatural",
            "Surrealism",
            "Psychological thriller",
            "Drama",
            "Film adaptation",
            "Slasher",
            "New Hollywood"
           ]
          ],
          [
           "The Postman Always Rings Twice",
           [
            "World cinema",
            "Pre-Code",
            "Black-and-white",
            "Drama",
            "Romantic drama",
            "Romance Film"
           ]
          ],
          [
           "The Razor's Edge",
           [
            "Thriller",
            "Heist",
            "Crime Fiction",
            "Comedy"
           ]
          ],
          [
           "Song of the South",
           [
            "Melodrama",
            "Drama",
            "Film noir",
            "Crime Drama"
           ]
          ],
          [
           "Tarzan and the Leopard Woman",
           [
            "Thriller",
            "Psychological thriller",
            "Mystery",
            "Drama",
            "Suspense",
            "Courtroom Drama"
           ]
          ],
          [
           "The Virginian",
           [
            "Thriller",
            "World cinema",
            "Supernatural",
            "Family Drama",
            "Period piece",
            "Drama",
            "Film adaptation",
            "Romantic drama",
            "Political drama"
           ]
          ],
          [
           "Wake Up and Dream",
           [
            "Thriller",
            "Crime Fiction",
            "Crime Drama",
            "Chase Movie",
            "Drama",
            "Suspense",
            "Film noir"
           ]
          ],
          [
           "Whistle Stop",
           [
            "Animation"
           ]
          ],
          [
           "The Yearling",
           [
            "Mystery",
            "Family Film",
            "Adventure",
            "Comedy"
           ]
          ],
          [
           "The Bishop's Wife",
           [
            "Mystery",
            "Family Film",
            "Drama",
            "Comedy",
            "Adventure"
           ]
          ],
          [
           "Black Narcissus",
           [
            "Adventure",
            "Children's/Family",
            "Animal Picture",
            "Children's",
            "Drama",
            "Comedy",
            "Family Film",
            "Family-Oriented Adventure"
           ]
          ],
          [
           "Code of the West",
           [
            "Thriller",
            "Romance Film",
            "Action",
            "Horror",
            "Supernatural"
           ]
          ],
          [
           "Cry Wolf",
           [
            "Thriller",
            "Mystery",
            "Horror",
            "Supernatural"
           ]
          ],
          [
           "Dark Passage",
           [
            "Art film",
            "World cinema",
            "Black-and-white",
            "Fantasy",
            "Drama",
            "Romantic drama",
            "Romance Film"
           ]
          ],
          [
           "Desert Fury",
           [
            "Sports",
            "Romantic drama",
            "Romance Film",
            "Drama"
           ]
          ],
          [
           "The End of the River",
           [
            "Musical",
            "Comedy",
            "Musical comedy"
           ]
          ],
          [
           "Escape Me Never",
           [
            "Thriller",
            "Crime Fiction",
            "Gangster Film",
            "Action/Adventure",
            "Blaxploitation",
            "Drama",
            "Film adaptation",
            "Crime Thriller",
            "Action"
           ]
          ],
          [
           "Forever Amber",
           [
            "Costume drama",
            "War film",
            "Epic",
            "Period piece",
            "Drama",
            "Film adaptation",
            "Action"
           ]
          ],
          [
           "The Fugitive",
           [
            "Holiday Film",
            "Christmas movie",
            "Comedy",
            "Film adaptation",
            "Family Film",
            "Slapstick"
           ]
          ],
          [
           "The Ghost and Mrs. Muir",
           [
            "Thriller",
            "Film adaptation",
            "Mystery",
            "Period piece",
            "Drama",
            "War film",
            "Romance Film",
            "Spy"
           ]
          ],
          [
           "Jassy",
           [
            "Thriller",
            "Science Fiction",
            "Horror",
            "Gothic Film",
            "Creature Film",
            "Drama",
            "Japanese Movies",
            "Romance Film",
            "Costume Horror"
           ]
          ],
          [
           "The Late George Apley",
           [
            "Period piece",
            "Action/Adventure",
            "Western",
            "Drama",
            "Romance Film",
            "Action"
           ]
          ],
          [
           "The Macomber Affair",
           [
            "Cold War",
            "Psychological thriller",
            "Action Thrillers",
            "War film",
            "Action",
            "Spy"
           ]
          ],
          [
           "Nightmare Alley",
           [
            "Thriller",
            "Mystery",
            "Romance Film",
            "Drama"
           ]
          ],
          [
           "Odd Man Out",
           [
            "Drama",
            "World cinema"
           ]
          ],
          [
           "Out of the Blue",
           [
            "Cult",
            "Sex comedy",
            "Comedy"
           ]
          ],
          [
           "The Private Affairs of Bel Ami",
           [
            "Thriller",
            "Horror",
            "Supernatural",
            "Mystery",
            "Period piece",
            "Drama",
            "Suspense"
           ]
          ],
          [
           "Ramrod",
           [
            "Drama",
            "Musical",
            "Horror",
            "Romance Film"
           ]
          ],
          [
           "The Romance of Rosy Ridge",
           [
            "Drama"
           ]
          ],
          [
           "The Secret Life of Walter Mitty",
           [
            "Adventure",
            "Children's/Family",
            "Remake",
            "Fantasy",
            "Children's Fantasy",
            "Family Film",
            "Comedy"
           ]
          ],
          [
           "Son of Zorro",
           [
            "Adventure",
            "Children's/Family",
            "Costume drama",
            "Animation",
            "Musical",
            "Children's",
            "Fantasy",
            "Children's Fantasy",
            "Animated Musical",
            "Music",
            "Family Film",
            "Mythological Fantasy"
           ]
          ],
          [
           "Tarzan and the Huntress",
           [
            "Sports",
            "Tragedy",
            "Drama",
            "Boxing"
           ]
          ],
          [
           "The Wistful Widow of Wagon Gap",
           [
            "Erotic Drama",
            "World cinema",
            "Period piece",
            "Drama",
            "Romantic drama",
            "Romance Film"
           ]
          ],
          [
           "The Accused",
           [
            "Thriller",
            "Science Fiction",
            "Horror",
            "Stop motion",
            "Psychological thriller",
            "Satire"
           ]
          ],
          [
           "Anna Karenina",
           [
            "Costume drama",
            "Period piece",
            "Drama",
            "Film adaptation",
            "Romantic drama",
            "Romance Film"
           ]
          ],
          [
           "Apartment for Peggy",
           [
            "Costume drama",
            "Family Drama",
            "Black-and-white",
            "Christmas movie",
            "Fantasy",
            "Drama",
            "Family Film"
           ]
          ],
          [
           "The Big Clock",
           [
            "Thriller",
            "History",
            "Horror",
            "Adventure",
            "Costume drama",
            "Film adaptation",
            "Period piece",
            "Drama",
            "War film"
           ]
          ],
          [
           "Blood on the Moon",
           [
            "Thriller",
            "Science Fiction",
            "Horror",
            "Adventure",
            "Mystery",
            "Alien Film",
            "Drama",
            "Film adaptation",
            "Sci-Fi Adventure"
           ]
          ],
          [
           "Coroner Creek",
           [
            "Crime Fiction",
            "Indie",
            "Drama",
            "Comedy",
            "Black comedy",
            "Teen"
           ]
          ],
          [
           "Enchantment",
           [
            "Sci-Fi Horror",
            "Science Fiction",
            "Horror",
            "Suspense",
            "Psychological thriller"
           ]
          ],
          [
           "Escape",
           [
            "Thriller",
            "Action Thrillers",
            "Japanese Movies",
            "Chase Movie",
            "Action/Adventure",
            "Crime Thriller",
            "Action"
           ]
          ],
          [
           "The Fallen Idol",
           [
            "War film",
            "Epic",
            "Action/Adventure",
            "Period piece",
            "Drama",
            "Film adaptation",
            "Action",
            "Political drama"
           ]
          ],
          [
           "Four Faces West",
           [
            "Drama",
            "Period piece",
            "Film adaptation",
            "Coming of age",
            "War film"
           ]
          ],
          [
           "The Fuller Brush Man",
           [
            "History",
            "Romance Film",
            "Action",
            "Drama",
            "Adventure"
           ]
          ],
          [
           "Green Grass of Wyoming",
           [
            "Action/Adventure",
            "Western"
           ]
          ],
          [
           "Hills of Home",
           [
            "Science Fiction",
            "Fantasy",
            "Comedy",
            "Family Film",
            "Fantasy Comedy",
            "Slapstick"
           ]
          ],
          [
           "I Love Trouble",
           [
            "Comedy-drama",
            "Drama",
            "Black-and-white"
           ]
          ],
          [
           "Kidnapped",
           [
            "Fantasy Adventure",
            "Adventure",
            "Action/Adventure",
            "Fantasy",
            "Film adaptation",
            "Drama",
            "Steampunk"
           ]
          ],
          [
           "The Lady from Shanghai",
           [
            "Erotica",
            "World cinema",
            "Black-and-white",
            "Drama",
            "Romantic drama",
            "Romance Film"
           ]
          ],
          [
           "Melody Time",
           [
            "Thriller",
            "Psychological thriller",
            "Mystery",
            "Drama",
            "Suspense",
            "Crime Thriller"
           ]
          ],
          [
           "Night Has a Thousand Eyes",
           [
            "Crime Fiction",
            "Japanese Movies",
            "Adventure",
            "World cinema",
            "Costume Adventure",
            "Action/Adventure",
            "Drama",
            "Samurai cinema",
            "Art film"
           ]
          ],
          [
           "No Orchids for Miss Blandish",
           [
            "Black-and-white",
            "War film",
            "Black-and-white",
            "War film"
           ]
          ],
          [
           "Oliver Twist",
           [
            "Drama"
           ]
          ],
          [
           "Portrait of Jennie",
           [
            "Melodrama",
            "Drama",
            "Courtroom Drama"
           ]
          ],
          [
           "The Red Shoes",
           [
            "Comedy of manners",
            "Comedy-drama",
            "Comedy",
            "Domestic Comedy"
           ]
          ],
          [
           "Station West",
           [
            "Science Fiction",
            "Drama"
           ]
          ],
          [
           "The Sun Comes Up",
           [
            "Thriller",
            "Science Fiction",
            "Chase Movie",
            "Drama",
            "Film adaptation",
            "Time travel",
            "Action",
            "Dystopia"
           ]
          ],
          [
           "Tarzan and the Mermaids",
           [
            "Costume drama",
            "Biographical film",
            "Historical fiction",
            "Black-and-white",
            "Biopic [feature]"
           ]
          ],
          [
           "They Live by Night",
           [
            "Thriller",
            "Science Fiction"
           ]
          ],
          [
           "The Three Musketeers",
           [
            "LGBT",
            "Romantic comedy",
            "Comedy-drama",
            "Period piece",
            "Drama",
            "Comedy",
            "Film adaptation",
            "Romantic drama",
            "Romance Film"
           ]
          ],
          [
           "The Treasure of the Sierra Madre",
           [
            "Adventure",
            "Children's/Family",
            "Animation",
            "Coming of age",
            "Animated Musical",
            "Family Film",
            "Family-Oriented Adventure"
           ]
          ],
          [
           "Winter Meeting",
           [
            "Thriller",
            "Political thriller",
            "Film adaptation",
            "Drama",
            "Spy"
           ]
          ],
          [
           "The Woman in White",
           [
            "Romantic comedy",
            "Family Drama",
            "Comedy-drama",
            "Drama",
            "Comedy",
            "Romance Film",
            "Teen"
           ]
          ],
          [
           "The Adventures of Ichabod and Mr. Toad",
           [
            "Natural horror films",
            "Horror",
            "Adventure",
            "Jungle Film",
            "Action/Adventure",
            "Drama",
            "Romantic drama",
            "Romance Film",
            "Action"
           ]
          ],
          [
           "Beyond the Forest",
           [
            "Thriller",
            "Crime Fiction",
            "Crime Drama",
            "Mystery",
            "Drama",
            "Film adaptation",
            "Crime Thriller"
           ]
          ],
          [
           "The Blue Lagoon",
           [
            "Thriller",
            "Adventure",
            "Period piece",
            "Action/Adventure",
            "Western",
            "Suspense",
            "Film adaptation",
            "Action",
            "Thriller",
            "Adventure",
            "Period piece",
            "Action/Adventure",
            "Western",
            "Suspense",
            "Film adaptation",
            "Action"
           ]
          ],
          [
           "Challenge to Lassie",
           [
            "Thriller",
            "Action Thrillers",
            "Action/Adventure",
            "Mystery",
            "Blaxploitation",
            "Suspense",
            "Action"
           ]
          ],
          [
           "A Connecticut Yankee in King Arthur's Court",
           [
            "Drama",
            "War film"
           ]
          ],
          [
           "Everybody Does It",
           [
            "Thriller",
            "Romantic comedy",
            "Indie",
            "LGBT",
            "Comedy-drama",
            "Satire",
            "Drama",
            "Comedy",
            "Film adaptation",
            "Black comedy",
            "Romance Film"
           ]
          ],
          [
           "The Fan",
           [
            "Thriller",
            "Horror",
            "Erotica",
            "Supernatural",
            "Psychological thriller",
            "Mystery",
            "Drama",
            "Suspense"
           ]
          ],
          [
           "The Fountainhead",
           [
            "Drama"
           ]
          ],
          [
           "Ghost of Zorro",
           [
            "Film adaptation",
            "Drama",
            "Family Drama",
            "Television movie"
           ]
          ],
          [
           "Gigi",
           [
            "Animation",
            "Drama",
            "Comedy",
            "Fantasy",
            "Family Film",
            "Fantasy Comedy"
           ]
          ],
          [
           "The Great Gatsby",
           [
            "Drama",
            "Black-and-white"
           ]
          ],
          [
           "Obsession",
           [
            "Costume drama",
            "War film",
            "Period piece",
            "Drama",
            "Film adaptation",
            "Romantic drama",
            "Romance Film"
           ]
          ],
          [
           "The History of Mr. Polly",
           [
            "Action/Adventure",
            "Western",
            "Action"
           ]
          ],
          [
           "A Letter to Three Wives",
           [
            "Sports",
            "Romance Film",
            "Drama",
            "Comedy",
            "Film adaptation"
           ]
          ],
          [
           "Little Women",
           [
            "Japanese Movies",
            "Adventure",
            "Children's/Family",
            "Road movie",
            "Animation",
            "Musical",
            "Children's",
            "Fantasy",
            "Comedy",
            "Music",
            "Family Film"
           ]
          ],
          [
           "No Way Back",
           [
            "Thriller",
            "Crime Fiction",
            "Gangster Film",
            "Mystery",
            "Drama",
            "Film noir",
            "Crime Thriller",
            "New Hollywood"
           ]
          ],
          [
           "The Reckless Moment",
           [
            "Adventure",
            "Children's/Family",
            "Musical",
            "Children's",
            "Comedy",
            "Music",
            "Family Film",
            "Family-Oriented Adventure"
           ]
          ],
          [
           "The Red Danube",
           [
            "Drama",
            "Costume drama",
            "Action",
            "Fantasy",
            "Adventure"
           ]
          ],
          [
           "The Red Pony",
           [
            "Thriller",
            "Film adaptation",
            "Psychological thriller",
            "Drama",
            "Political thriller",
            "Action",
            "Spy"
           ]
          ],
          [
           "The Secret Garden",
           [
            "Western",
            "Drama",
            "Adventure",
            "War film"
           ]
          ],
          [
           "Tarzan's Magic Fountain",
           [
            "Romantic drama",
            "Romance Film",
            "Fantasy",
            "Drama",
            "Romantic fantasy"
           ]
          ],
          [
           "That Forsyte Woman",
           [
            "Adventure",
            "Children's/Family",
            "Fairy tale",
            "Animation",
            "Drama",
            "Comedy",
            "Animated Musical",
            "Family Film"
           ]
          ],
          [
           "The Third Man",
           [
            "Drama",
            "War film"
           ]
          ],
          [
           "The Window",
           [
            "War film",
            "Drama",
            "Film adaptation",
            "Romantic drama",
            "Romance Film",
            "Action"
           ]
          ],
          [
           "All About Eve",
           [
            "Romantic drama",
            "Comedy-drama",
            "Black-and-white",
            "Satire",
            "Drama",
            "Comedy",
            "Film adaptation",
            "Black comedy",
            "Romance Film"
           ]
          ],
          [
           "The Asphalt Jungle",
           [
            "Children's/Family",
            "Animation",
            "Musical",
            "Drama",
            "Comedy",
            "Animated Musical",
            "Family Film"
           ]
          ],
          [
           "The Black Rose",
           [
            "LGBT",
            "Adventure",
            "Children's/Family",
            "Animation",
            "Children's",
            "Fantasy",
            "Comedy",
            "Family Film",
            "Children's Fantasy"
           ]
          ],
          [
           "Branded",
           [
            "Crime Fiction",
            "Crime Comedy",
            "Comedy"
           ]
          ],
          [
           "The Breaking Point",
           [
            "Thriller",
            "Crime Fiction",
            "World cinema",
            "Crime Drama",
            "Drama",
            "Crime Thriller",
            "Chinese Movies"
           ]
          ],
          [
           "Broken Arrow",
           [
            "Indie",
            "Action/Adventure",
            "Period piece",
            "Drama",
            "Romantic drama",
            "Romance Film",
            "Adventure"
           ]
          ],
          [
           "Cinderella",
           [
            "Buddy film",
            "Adventure",
            "Action/Adventure",
            "Comedy",
            "Film adaptation",
            "Action"
           ]
          ],
          [
           "Crisis",
           [
            "Science Fiction",
            "Horror",
            "Adventure",
            "Sci-Fi Horror",
            "Cult",
            "Alien Film",
            "Zombie Film"
           ]
          ],
          [
           "Father of the Bride",
           [
            "Thriller",
            "Swashbuckler films",
            "Adventure",
            "World cinema",
            "Action/Adventure",
            "War film"
           ]
          ],
          [
           "Fortunes of Captain Blood",
           [
            "Parody",
            "Thriller",
            "Drama",
            "Comedy",
            "Crime Fiction",
            "Black comedy"
           ]
          ],
          [
           "The Furies",
           [
            "Crime Fiction",
            "Black-and-white",
            "Drama",
            "Suspense",
            "Film noir"
           ]
          ],
          [
           "King Solomon's Mines",
           [
            "Fantasy Adventure",
            "Adventure",
            "Costume drama",
            "Film adaptation",
            "Coming of age",
            "Sword and sorcery",
            "Drama",
            "Fantasy",
            "Family Film",
            "Action"
           ]
          ],
          [
           "Kiss Tomorrow Goodbye",
           [
            "Thriller",
            "Detective fiction",
            "Detective",
            "Psychological thriller",
            "Comedy Thriller",
            "Mystery",
            "Comedy",
            "Crime Thriller",
            "Black comedy",
            "Suspense"
           ]
          ],
          [
           "A Life of Her Own",
           [
            "Romantic drama",
            "Romance Film",
            "Drama",
            "Period piece",
            "Film adaptation"
           ]
          ],
          [
           "Never a Dull Moment",
           [
            "Thriller",
            "Horror",
            "Supernatural",
            "Psychological thriller",
            "Mystery",
            "Suspense",
            "Crime Thriller",
            "Haunted House Film"
           ]
          ],
          [
           "Night and the City",
           [
            "Indie",
            "Comedy-drama",
            "Period piece",
            "Drama",
            "Black comedy",
            "Coming of age"
           ]
          ],
          [
           "No Way Out",
           [
            "Swashbuckler films",
            "Adventure",
            "Costume drama",
            "Costume Adventure",
            "Historical fiction",
            "Action/Adventure",
            "Period piece",
            "Drama",
            "Film adaptation",
            "Action"
           ]
          ],
          [
           "The Reformer and the Redhead",
           [
            "Drama",
            "Musical",
            "Pre-Code",
            "Black-and-white"
           ]
          ],
          [
           "Stars in My Crown",
           [
            "Musical",
            "Fantasy",
            "Animation"
           ]
          ],
          [
           "Tarzan and the Slave Girl",
           [
            "Melodrama",
            "Drama",
            "Black-and-white",
            "Film noir",
            "Film adaptation"
           ]
          ],
          [
           "Treasure Island",
           [
            "Adventure",
            "Action/Adventure",
            "Drama",
            "Disaster",
            "Action",
            "Airplanes and airports"
           ]
          ],
          [
           "Young Man with a Horn",
           [
            "Drama",
            "Film adaptation"
           ]
          ],
          [
           "The Adventurers",
           [
            "Period piece",
            "Roadshow theatrical release",
            "Drama",
            "Epic",
            "Film adaptation"
           ]
          ],
          [
           "The African Queen",
           [
            "Science Fiction",
            "Horror",
            "Sci-Fi Horror"
           ]
          ],
          [
           "Alice in Wonderland",
           [
            "Fantasy Adventure",
            "Children's/Family",
            "Animation",
            "Children's",
            "Fantasy",
            "Family Film"
           ]
          ],
          [
           "Appointment with Venus",
           [
            "Action/Adventure",
            "Western",
            "Action",
            "Comedy",
            "Adventure"
           ]
          ],
          [
           "The Barefoot Mailman",
           [
            "Creature Film",
            "Horror",
            "Psychological thriller",
            "Teen",
            "Film adaptation"
           ]
          ],
          [
           "The Day the Earth Stood Still",
           [
            "Thriller",
            "Science Fiction",
            "Horror",
            "Black-and-white",
            "Action/Adventure",
            "Action"
           ]
          ],
          [
           "Decision Before Dawn",
           [
            "Silent film",
            "Drama",
            "Indie",
            "Black-and-white"
           ]
          ],
          [
           "Father's Little Dividend",
           [
            "Thriller",
            "Science Fiction",
            "Future noir",
            "Animation",
            "Drama",
            "Film adaptation",
            "Dystopia"
           ]
          ],
          [
           "He Ran All the Way",
           [
            "Family Film",
            "Comedy"
           ]
          ],
          [
           "Tarzan's Peril",
           [
            "Children's/Family",
            "Animation",
            "Musical",
            "Children's",
            "Drama",
            "Animated Musical",
            "Music",
            "Family Film"
           ]
          ],
          [
           "Kind Lady",
           [
            "Children's/Family",
            "Horror",
            "Supernatural",
            "Anthology",
            "Animation",
            "Fantasy",
            "Children's Fantasy",
            "Drama",
            "Family Film"
           ]
          ],
          [
           "The Man with a Cloak",
           [
            "Thriller",
            "Action Thrillers",
            "Film adaptation",
            "War film",
            "Action/Adventure",
            "Political thriller",
            "Action"
           ]
          ],
          [
           "Mysterious Island",
           [
            "Thriller",
            "Japanese Movies",
            "Horror",
            "World cinema"
           ]
          ],
          [
           "The Painted Hills",
           [
            "Crime Fiction",
            "Thriller",
            "Drama",
            "Film noir",
            "Black-and-white"
           ]
          ],
          [
           "A Place in the Sun",
           [
            "LGBT",
            "Gay",
            "Western",
            "Gay Interest",
            "Drama",
            "Gay Themed",
            "Romantic drama",
            "Romance Film"
           ]
          ],
          [
           "The Prince Who Was a Thief",
           [
            "Thriller",
            "Crime Fiction",
            "Horror",
            "Indie",
            "Psychological thriller",
            "Mystery",
            "Drama",
            "Suspense",
            "Crime Thriller",
            "Action",
            "Slasher"
           ]
          ],
          [
           "The Raging Tide",
           [
            "Thriller",
            "Action Thrillers",
            "Action",
            "Martial Arts Film",
            "Chase Movie"
           ]
          ],
          [
           "The River",
           [
            "Crime Fiction",
            "Mystery",
            "Thriller",
            "Film noir"
           ]
          ],
          [
           "Scrooge",
           [
            "Crime Fiction",
            "Thriller",
            "Gangster Film",
            "Mystery",
            "Drama",
            "Crime Thriller"
           ]
          ],
          [
           "The Son of Dr. Jekyll",
           [
            "Thriller",
            "Crime Fiction",
            "World cinema",
            "Drama",
            "Crime Thriller",
            "Romantic drama",
            "Romance Film"
           ]
          ],
          [
           "Strangers on a Train",
           [
            "Period piece",
            "Drama",
            "Indie",
            "Film adaptation"
           ]
          ],
          [
           "Vengeance Valley",
           [
            "Thriller",
            "Supernatural",
            "Americana",
            "Childhood Drama",
            "Period piece",
            "Drama",
            "Film adaptation"
           ]
          ],
          [
           "When Worlds Collide",
           [
            "Comedy Western",
            "Children's/Family",
            "Children's",
            "Drama",
            "Comedy",
            "Family Film",
            "Slapstick"
           ]
          ],
          [
           "At Sword's Point",
           [
            "Crime Fiction",
            "Science Fiction",
            "Cult",
            "Satire",
            "Drama",
            "Dystopia",
            "Black comedy",
            "Juvenile Delinquency Film",
            "New Hollywood"
           ]
          ],
          [
           "Robinson Crusoe",
           [
            "Thriller",
            "Crime Fiction",
            "Erotic thriller",
            "Crime Drama",
            "Psychological thriller",
            "Mystery",
            "Drama",
            "Film adaptation",
            "Crime Thriller",
            "Neo-noir"
           ]
          ],
          [
           "Captain Pirate",
           [
            "Thriller",
            "Crime Fiction",
            "Heist",
            "Caper story",
            "Crime Drama",
            "Black-and-white",
            "Drama",
            "Film noir"
           ]
          ],
          [
           "Carrie",
           [
            "Thriller",
            "Crime Fiction",
            "Drama",
            "Crime Thriller",
            "Romantic drama",
            "Film noir"
           ]
          ],
          [
           "Heidi",
           [
            "Monster movie",
            "Horror"
           ]
          ],
          [
           "Invitation",
           [
            "Thriller",
            "Crime Fiction",
            "Action",
            "Action/Adventure"
           ]
          ],
          [
           "Ivanhoe",
           [
            "Science Fiction",
            "Drama",
            "Adventure",
            "Film adaptation"
           ]
          ],
          [
           "Lydia Bailey",
           [
            "Adventure",
            "Children's/Family",
            "Animal Picture",
            "Children's",
            "Comedy",
            "Family Film",
            "Family-Oriented Adventure"
           ]
          ],
          [
           "The Pickwick Papers",
           [
            "Drama",
            "World cinema",
            "Black-and-white"
           ]
          ],
          [
           "The Prisoner of Zenda",
           [
            "Horror",
            "Indie",
            "Werewolf fiction",
            "Creature Film",
            "Cult",
            "Drama",
            "Film adaptation"
           ]
          ],
          [
           "The Card",
           [
            "LGBT",
            "Crime Comedy",
            "Drama",
            "Comedy",
            "Film adaptation",
            "Black comedy"
           ]
          ],
          [
           "The Ring",
           [
            "Natural horror films",
            "Horror"
           ]
          ],
          [
           "The Snows of Kilimanjaro",
           [
            "Thriller",
            "Crime Fiction",
            "Gangster Film",
            "Action/Adventure",
            "Crime Thriller",
            "Action"
           ]
          ],
          [
           "The Star",
           [
            "Romantic drama",
            "Romance Film",
            "Family Drama",
            "Drama"
           ]
          ],
          [
           "Talk About a Stranger",
           [
            "Science Fiction",
            "Action",
            "Adventure"
           ]
          ],
          [
           "Tarzan's Savage Fury",
           [
            "Western",
            "Black-and-white"
           ]
          ],
          [
           "The Turning Point",
           [
            "Crime Fiction",
            "Thriller",
            "Detective fiction",
            "Detective",
            "Ensemble Film",
            "Mystery",
            "Drama",
            "Suspense",
            "Crime Thriller",
            "Whodunit"
           ]
          ],
          [
           "The World in His Arms",
           [
            "Crime Fiction",
            "Gangster Film",
            "Action/Adventure",
            "Comedy",
            "Black comedy",
            "Action"
           ]
          ],
          [
           "99 River Street",
           [
            "Drama",
            "Political drama"
           ]
          ],
          [
           "All the Brothers Were Valiant",
           [
            "Romantic drama",
            "Musical",
            "Drama",
            "Romance Film"
           ]
          ],
          [
           "The Beast from 20,000 Fathoms",
           [
            "Crime Fiction",
            "Thriller",
            "Crime Drama",
            "Mystery",
            "Drama",
            "Crime Thriller"
           ]
          ],
          [
           "The Big Heat",
           [
            "Science Fiction",
            "Horror"
           ]
          ],
          [
           "Bright Road",
           [
            "Thriller",
            "Science Fiction",
            "Horror"
           ]
          ],
          [
           "The Cruel Sea",
           [
            "Thriller",
            "Science Fiction",
            "Adventure",
            "Children's/Family",
            "Mystery",
            "Fantasy",
            "Children's Fantasy",
            "Family Film"
           ]
          ],
          [
           "Donovan's Brain",
           [
            "Thriller",
            "Crime Thriller",
            "Marriage Drama",
            "Drama",
            "Psychological thriller"
           ]
          ],
          [
           "From Here to Eternity",
           [
            "Thriller",
            "Horror",
            "World cinema",
            "Action/Adventure",
            "Fantasy",
            "Action"
           ]
          ],
          [
           "Gentlemen Prefer Blondes",
           [
            "Romantic comedy",
            "Romance Film",
            "Musical",
            "Comedy"
           ]
          ],
          [
           "The Girls of Pleasure Island",
           [
            "Science Fiction",
            "Adventure",
            "Costume drama",
            "Adventure Comedy",
            "Comedy",
            "Fantasy",
            "Time travel",
            "Fantasy Comedy"
           ]
          ],
          [
           "Gun Fury",
           [
            "Christian film",
            "History",
            "Romance Film",
            "Drama",
            "Crime Fiction"
           ]
          ],
          [
           "Hondo",
           [
            "Musical",
            "Comedy"
           ]
          ],
          [
           "House of Wax",
           [
            "Thriller",
            "Crime Fiction",
            "Drama",
            "Film noir",
            "Mystery"
           ]
          ],
          [
           "Island in the Sky",
           [
            "Adventure",
            "Costume drama",
            "Animation",
            "Drama",
            "Animated cartoon",
            "Romance Film",
            "Family Film"
           ]
          ],
          [
           "Knights of the Round Table",
           [
            "Crime Fiction",
            "Drama",
            "Indie"
           ]
          ],
          [
           "Law and Order",
           [
            "Drama",
            "Family Film",
            "Animal Picture",
            "Coming of age",
            "Children's/Family"
           ]
          ],
          [
           "A Lion Is in the Streets",
           [
            "Crime Fiction",
            "Thriller",
            "Psychological thriller",
            "Black-and-white",
            "Mystery",
            "Drama",
            "Film noir"
           ]
          ],
          [
           "Miss Sadie Thompson",
           [
            "Mystery",
            "Romance Film",
            "Drama"
           ]
          ],
          [
           "Parineeta",
           [
            "Adventure",
            "Action/Adventure",
            "Coming of age",
            "Drama",
            "Romantic drama",
            "Romance Film",
            "Teen"
           ]
          ],
          [
           "Peter Pan",
           [
            "Drama",
            "Japanese Movies",
            "Comedy",
            "World cinema"
           ]
          ],
          [
           "Return to Paradise",
           [
            "Parody",
            "Drama",
            "Comedy",
            "Film adaptation"
           ]
          ],
          [
           "The Robe",
           [
            "Thriller",
            "Crime Fiction",
            "Drama",
            "Black-and-white",
            "Film noir"
           ]
          ],
          [
           "Sea Devils",
           [
            "Romantic comedy",
            "Comedy of manners",
            "Drama",
            "Comedy",
            "Film adaptation",
            "Romance Film"
           ]
          ],
          [
           "Second Chance",
           [
            "Buddy film",
            "Adventure",
            "Comedy-drama",
            "Action/Adventure",
            "Drama",
            "Comedy",
            "Romance Film",
            "Action"
           ]
          ],
          [
           "The Sword and the Rose",
           [
            "Natural horror films",
            "Horror",
            "Ensemble Film",
            "Action/Adventure",
            "Disaster",
            "Action"
           ]
          ],
          [
           "Tarzan and the She-Devil",
           [
            "B-movie",
            "Gothic Film",
            "Creature Film",
            "Monster",
            "Horror",
            "Costume Horror"
           ]
          ],
          [
           "Beat the Devil",
           [
            "Thriller",
            "Horror",
            "Supernatural",
            "Remake",
            "Cult",
            "Mystery",
            "Drama",
            "Film adaptation"
           ]
          ],
          [
           "Treasure of the Golden Condor",
           [
            "Horror",
            "Fantasy",
            "World cinema"
           ]
          ],
          [
           "Twice Upon a Time",
           [
            "Romantic comedy",
            "Romance Film",
            "Coming of age",
            "Comedy"
           ]
          ],
          [
           "The War of the Worlds",
           [
            "Thriller",
            "Crime Fiction",
            "Adventure",
            "Mystery",
            "Drama",
            "Action"
           ]
          ],
          [
           "20,000 Leagues Under the Sea",
           [
            "Thriller",
            "Dance",
            "Political drama",
            "Drama",
            "Escape Film",
            "Political thriller",
            "Musical Drama"
           ]
          ],
          [
           "The Adventures of Hajji Baba",
           [
            "Swashbuckler films",
            "Adventure",
            "Superhero movie",
            "Costume drama",
            "Costume Adventure",
            "Action/Adventure",
            "Action"
           ]
          ],
          [
           "The Beachcomber",
           [
            "War film"
           ]
          ],
          [
           "Le Blé en herbe",
           [
            "Crime Fiction",
            "Heist",
            "Comedy"
           ]
          ],
          [
           "The Bridges at Toko-Ri",
           [
            "Thriller",
            "Crime Fiction",
            "Mystery",
            "Drama",
            "Suspense",
            "Crime Thriller",
            "Action"
           ]
          ],
          [
           "The Caine Mutiny",
           [
            "Melodrama",
            "Drama",
            "Adventure"
           ]
          ],
          [
           "Destry",
           [
            "Thriller",
            "Science Fiction",
            "Animal Picture",
            "Film adaptation",
            "Action/Adventure",
            "Drama",
            "Political thriller",
            "Action"
           ]
          ],
          [
           "Doctor in the House",
           [
            "Thriller",
            "Horror",
            "Slasher",
            "Teen"
           ]
          ],
          [
           "Down Three Dark Streets",
           [
            "Thriller",
            "Crime Fiction",
            "Action/Adventure",
            "Mystery",
            "Martial Arts Film",
            "Drama",
            "Film adaptation",
            "Action Thrillers",
            "Action",
            "Spy"
           ]
          ],
          [
           "The Egyptian",
           [
            "Action/Adventure",
            "Western",
            "Buddy film",
            "Comedy",
            "Comedy Western"
           ]
          ],
          [
           "Elephant Walk",
           [
            "Romantic drama",
            "Romance Film",
            "Drama",
            "Chinese Movies",
            "World cinema"
           ]
          ],
          [
           "Executive Suite",
           [
            "Drama"
           ]
          ],
          [
           "The Heart of the Matter",
           [
            "Thriller",
            "Crime Fiction",
            "Film à clef",
            "Crime Drama",
            "Black-and-white",
            "Sports",
            "Drama",
            "Film noir"
           ]
          ],
          [
           "The High and the Mighty",
           [
            "Christian film",
            "Fantasy Adventure",
            "Adventure",
            "Children's/Family",
            "Fantasy",
            "Children's Fantasy",
            "Family Film"
           ]
          ],
          [
           "Human Desire",
           [
            "Thriller",
            "Crime Fiction",
            "Remake",
            "Action/Adventure",
            "Drama",
            "Comedy",
            "Crime Thriller",
            "Black comedy",
            "Action"
           ]
          ],
          [
           "Long John Silver",
           [
            "Thriller",
            "Psychological thriller",
            "Horror",
            "Adventure",
            "Slasher"
           ]
          ],
          [
           "Magnificent Obsession",
           [
            "Christian film",
            "Fantasy Adventure",
            "Adventure",
            "Children's/Family",
            "Action/Adventure",
            "Fantasy",
            "Family Film"
           ]
          ],
          [
           "The Naked Jungle",
           [
            "Animal Picture",
            "Adventure",
            "Children's/Family",
            "Family Drama",
            "Drama",
            "Family Film"
           ]
          ],
          [
           "Obsession",
           [
            "Crime Fiction",
            "Thriller",
            "Melodrama",
            "Social problem film",
            "Drama",
            "Crime Thriller"
           ]
          ],
          [
           "Rear Window",
           [
            "Romantic comedy",
            "Black-and-white",
            "Drama",
            "Comedy",
            "War film",
            "Black comedy",
            "Romance Film"
           ]
          ],
          [
           "Return to Treasure Island",
           [
            "Thriller",
            "Crime Fiction",
            "Mystery",
            "Drama",
            "Crime Thriller",
            "Film noir"
           ]
          ],
          [
           "Rogue Cop",
           [
            "Erotica"
           ]
          ],
          [
           "Seven Brides for Seven Brothers",
           [
            "History",
            "Biographical film",
            "Drama",
            "War film"
           ]
          ],
          [
           "Three Coins in the Fountain",
           [
            "Thriller",
            "Horror",
            "Black-and-white",
            "Cult",
            "Drama",
            "Film adaptation"
           ]
          ],
          [
           "Track of the Cat",
           [
            "Costume drama",
            "Silent film",
            "Drama",
            "Black-and-white",
            "Film adaptation"
           ]
          ],
          [
           "Ain't Misbehavin'",
           [
            "Thriller",
            "Mystery",
            "Crime Thriller"
           ]
          ],
          [
           "Animal Farm",
           [
            "Romantic comedy",
            "Sex comedy",
            "Art film",
            "World cinema",
            "Surrealism",
            "Satire",
            "Drama",
            "Comedy",
            "Romantic drama",
            "Black comedy",
            "Romance Film"
           ]
          ],
          [
           "Bad Day at Black Rock",
           [
            "Thriller",
            "Crime Fiction",
            "Surrealism",
            "Mystery",
            "Drama",
            "Suspense",
            "Film adaptation",
            "Crime Thriller",
            "Film noir"
           ]
          ],
          [
           "Battle Cry",
           [
            "Romantic comedy",
            "Romance Film",
            "Musical",
            "Comedy"
           ]
          ],
          [
           "Blackboard Jungle",
           [
            "Adventure",
            "Road movie",
            "Family Drama",
            "Comedy-drama",
            "Drama",
            "Comedy",
            "Film adaptation"
           ]
          ],
          [
           "The Desperate Hours",
           [
            "Crime Fiction",
            "Thriller",
            "Sports",
            "Drama",
            "Film adaptation",
            "Film noir"
           ]
          ],
          [
           "Devdas",
           [
            "Thriller",
            "Crime Fiction",
            "Detective fiction",
            "Detective",
            "Mystery",
            "Drama",
            "Political thriller",
            "Crime Thriller",
            "Political drama"
           ]
          ],
          [
           "Doctor at Sea",
           [
            "Period piece",
            "Drama",
            "Film adaptation"
           ]
          ],
          [
           "East of Eden",
           [
            "Thriller",
            "Drama",
            "Horror"
           ]
          ],
          [
           "The End of the Affair",
           [
            "Drama"
           ]
          ],
          [
           "Footsteps in the Fog",
           [
            "Thriller",
            "Psychological thriller",
            "Mystery",
            "Drama",
            "War film",
            "Crime Thriller",
            "Action"
           ]
          ],
          [
           "Gentlemen Marry Brunettes",
           [
            "Drama",
            "Romance Film",
            "Pre-Code",
            "Black-and-white"
           ]
          ],
          [
           "Geordie",
           [
            "Swashbuckler films",
            "Adventure",
            "Costume drama",
            "Action/Adventure",
            "Comedy",
            "Romance Film",
            "Action",
            "Family Film"
           ]
          ],
          [
           "The Glass Slipper",
           [
            "Thriller",
            "Science Fiction",
            "Action"
           ]
          ],
          [
           "How to Be Very, Very Popular",
           [
            "Drama",
            "Romance Film",
            "Coming of age",
            "Adventure"
           ]
          ],
          [
           "Lady and the Tramp",
           [
            "Thriller",
            "Romantic drama",
            "Adventure",
            "Black-and-white",
            "Drama",
            "War film",
            "Music",
            "Romance Film",
            "Film noir"
           ]
          ],
          [
           "Man Without a Star",
           [
            "Fantasy",
            "Adventure"
           ]
          ],
          [
           "The Night of the Hunter",
           [
            "Fantasy",
            "Japanese Movies",
            "Drama",
            "World cinema"
           ]
          ],
          [
           "No Smoking",
           [
            "Thriller",
            "Drama",
            "Suspense",
            "Film noir"
           ]
          ],
          [
           "Our Girl Friday",
           [
            "Romantic comedy",
            "Romantic drama",
            "Romance Film",
            "Drama",
            "Comedy"
           ]
          ],
          [
           "Sabar Uparey",
           [
            "Black comedy",
            "Romance Film",
            "Drama",
            "Film adaptation"
           ]
          ],
          [
           "Soldier of Fortune",
           [
            "Drama",
            "Horror",
            "Creature Film",
            "Film adaptation"
           ]
          ],
          [
           "The Spoilers",
           [
            "Crime Fiction",
            "Drama",
            "Black-and-white",
            "Film noir",
            "Crime Drama"
           ]
          ],
          [
           "Stella",
           [
            "Crime Fiction",
            "Thriller",
            "Black-and-white",
            "Mystery",
            "Drama",
            "War film",
            "Crime Thriller",
            "Whodunit"
           ]
          ],
          [
           "Storm Over the Nile",
           [
            "Science Fiction",
            "Adventure",
            "Children's/Family",
            "Computer Animation",
            "Animation",
            "Fantasy",
            "Comedy",
            "Time travel",
            "Sci-Fi Adventure",
            "Family Film",
            "Children's Fantasy"
           ]
          ],
          [
           "The Tall Men",
           [
            "Romantic comedy",
            "Buddy film",
            "Screwball comedy",
            "Comedy of manners",
            "Comedy",
            "Romance Film",
            "Feminist Film"
           ]
          ],
          [
           "Tarzan's Hidden Jungle",
           [
            "Media Satire",
            "Drama"
           ]
          ],
          [
           "To Catch a Thief",
           [
            "Black comedy",
            "Comedy of Errors",
            "Comedy"
           ]
          ],
          [
           "The Trouble with Harry",
           [
            "Horror",
            "Costume Horror"
           ]
          ],
          [
           "1984",
           [
            "Science Fiction",
            "Horror",
            "Gothic Film",
            "Creature Film",
            "Monster",
            "Costume Horror"
           ]
          ],
          [
           "Abdulla the Great",
           [
            "Cult",
            "Horror",
            "Creature Film"
           ]
          ],
          [
           "Accused of Murder",
           [
            "Parody",
            "Romance Film",
            "Horror",
            "Comedy"
           ]
          ],
          [
           "Away All Boats",
           [
            "Horror",
            "Black-and-white"
           ]
          ],
          [
           "The Bad Seed",
           [
            "Indie",
            "World cinema",
            "Costume drama",
            "Period piece",
            "Drama",
            "Film adaptation",
            "Romantic drama",
            "Romance Film"
           ]
          ],
          [
           "Bhowani Junction",
           [
            "Crime Fiction",
            "Thriller",
            "Melodrama",
            "Black-and-white",
            "Drama",
            "Film noir"
           ]
          ],
          [
           "The Birds and the Bees",
           [
            "Indie",
            "World cinema",
            "Period piece",
            "Drama",
            "Film adaptation",
            "Coming of age"
           ]
          ],
          [
           "Yield to the Night",
           [
            "Thriller",
            "Horror",
            "Supernatural",
            "Cult",
            "Mystery",
            "Film adaptation"
           ]
          ],
          [
           "The Burning Hills",
           [
            "Cult",
            "Horror",
            "Psychological thriller",
            "Supernatural"
           ]
          ],
          [
           "Friendly Persuasion",
           [
            "LGBT",
            "Thriller",
            "Erotica",
            "Psychological thriller",
            "Erotic thriller",
            "Drama",
            "Film adaptation",
            "Indie"
           ]
          ],
          [
           "Gervaise",
           [
            "Mystery",
            "Psychological thriller",
            "Film noir"
           ]
          ],
          [
           "Giant",
           [
            "Horror",
            "Haunted House Film",
            "Supernatural"
           ]
          ],
          [
           "Glory",
           [
            "Thriller",
            "Mystery",
            "Horror",
            "Pre-Code"
           ]
          ],
          [
           "The Great Man",
           [
            "Horror",
            "Costume Horror"
           ]
          ],
          [
           "The Harder They Fall",
           [
            "Horror",
            "Costume Horror"
           ]
          ],
          [
           "Invasion of the Body Snatchers",
           [
            "Horror",
            "Creature Film",
            "Costume Horror"
           ]
          ],
          [
           "The Killing",
           [
            "Biographical film",
            "Black-and-white"
           ]
          ],
          [
           "The King and I",
           [
            "Thriller",
            "Crime Fiction",
            "Horror",
            "Psychological thriller",
            "Mystery",
            "Suspense",
            "Crime Thriller",
            "Slasher"
           ]
          ],
          [
           "The Last Hunt",
           [
            "Thriller",
            "Crime Fiction",
            "Horror",
            "Psychological thriller",
            "Mystery",
            "Slasher"
           ]
          ],
          [
           "Lisbon",
           [
            "Black-and-white",
            "Film noir"
           ]
          ],
          [
           "The Man in the Gray Flannel Suit",
           [
            "Thriller",
            "Crime Fiction",
            "Psychological thriller",
            "Black-and-white",
            "Mystery",
            "Drama",
            "Film noir"
           ]
          ],
          [
           "Moby Dick",
           [
            "Horror"
           ]
          ],
          [
           "Nightmare",
           [
            "Thriller",
            "Horror",
            "Costume drama",
            "Psychological thriller",
            "Period piece",
            "Drama",
            "Film adaptation",
            "Costume Horror"
           ]
          ],
          [
           "The Rainmaker",
           [
            "Zombie Film",
            "Horror",
            "Black-and-white",
            "Supernatural"
           ]
          ],
          [
           "The Revolt of Mamie Stover",
           [
            "Action"
           ]
          ],
          [
           "Run for the Sun",
           [
            "Romantic drama",
            "Romance Film",
            "Drama",
            "Film adaptation"
           ]
          ],
          [
           "The Searchers",
           [
            "Sex comedy",
            "World cinema",
            "Period piece",
            "Satire",
            "Drama",
            "Comedy",
            "Film adaptation"
           ]
          ],
          [
           "7th Cavalry",
           [
            "Drama",
            "Adventure"
           ]
          ],
          [
           "The Shadow on the Window",
           [
            "Romance Film",
            "Silent film",
            "Drama",
            "Indie",
            "Black-and-white"
           ]
          ],
          [
           "The Spanish Gardener",
           [
            "Silent film",
            "Indie",
            "Black-and-white",
            "Action/Adventure",
            "Drama",
            "Comedy",
            "Romantic drama",
            "Romance Film",
            "Action",
            "Adventure"
           ]
          ],
          [
           "A Town Like Alice",
           [
            "Drama",
            "World cinema",
            "Black-and-white"
           ]
          ],
          [
           "You Can't Run Away from It",
           [
            "Thriller",
            "Horror",
            "Indie",
            "Supernatural",
            "Haunted House Film",
            "Film adaptation"
           ]
          ],
          [
           "Band of Angels",
           [
            "Action/Adventure",
            "Action",
            "Adventure"
           ]
          ],
          [
           "Boy on a Dolphin",
           [
            "Thriller",
            "Political thriller"
           ]
          ],
          [
           "The Bridge on the River Kwai",
           [
            "Animation"
           ]
          ],
          [
           "Brothers in Law",
           [
            "Thriller",
            "Ensemble Film",
            "Action/Adventure",
            "Drama",
            "Disaster",
            "Action",
            "Airplanes and airports"
           ]
          ],
          [
           "The Curse of Frankenstein",
           [
            "Action/Adventure",
            "Western",
            "Drama",
            "Black-and-white"
           ]
          ],
          [
           "Doctor at Large",
           [
            "Sports",
            "Documentary",
            "Indie",
            "War film"
           ]
          ],
          [
           "The Enemy Below",
           [
            "Family Film",
            "Animal Picture",
            "Drama"
           ]
          ],
          [
           "A Face in the Crowd",
           [
            "Costume drama",
            "Family Drama",
            "Coming of age",
            "Film adaptation",
            "Drama",
            "Family Film"
           ]
          ],
          [
           "A Farewell to Arms",
           [
            "Costume drama",
            "Family Drama",
            "Black-and-white",
            "Drama",
            "Film adaptation",
            "Family Film",
            "Romance Film"
           ]
          ],
          [
           "Fiend Without a Face",
           [
            "LGBT",
            "Drama",
            "Indie",
            "World cinema"
           ]
          ],
          [
           "The Fuzzy Pink Nightgown",
           [
            "Costume drama",
            "Musical",
            "Romance Film"
           ]
          ],
          [
           "The Incredible Shrinking Man",
           [
            "Romantic comedy",
            "Comedy-drama",
            "Coming of age",
            "Comedy",
            "Film adaptation",
            "Drama",
            "Romantic drama",
            "Romance Film"
           ]
          ],
          [
           "Johnny Tremain",
           [
            "Action Thrillers",
            "Science Fiction",
            "Action",
            "Chase Movie",
            "Spy"
           ]
          ],
          [
           "Loving You",
           [
            "Indie",
            "Jungle Film",
            "Black-and-white",
            "Action/Adventure",
            "Action",
            "Adventure",
            "Indie",
            "Jungle Film",
            "Black-and-white",
            "Action/Adventure",
            "Action",
            "Adventure"
           ]
          ],
          [
           "Man on Fire",
           [
            "Adventure",
            "World cinema",
            "Drama",
            "Comedy",
            "Fantasy",
            "Action"
           ]
          ],
          [
           "Les Misérables",
           [
            "Horror",
            "Creature Film",
            "Black-and-white",
            "Monster"
           ]
          ],
          [
           "No Down Payment",
           [
            "Science Fiction",
            "Horror"
           ]
          ],
          [
           "Old Yeller",
           [
            "Thriller",
            "Science Fiction",
            "Horror",
            "Supernatural",
            "Psychological thriller",
            "Fantasy",
            "Film adaptation",
            "Drama",
            "Coming of age",
            "Family Film"
           ]
          ],
          [
           "Perri",
           [
            "Romantic drama",
            "Drama",
            "Film noir"
           ]
          ],
          [
           "Peyton Place",
           [
            "Musical",
            "Comedy",
            "Pornographic movie"
           ]
          ],
          [
           "The Revenge of Frankenstein",
           [
            "World cinema",
            "Musical",
            "Drama",
            "Romantic drama",
            "Romance Film",
            "Bollywood"
           ]
          ],
          [
           "Sayonara",
           [
            "Thriller",
            "Family Film",
            "Family Drama",
            "Drama"
           ]
          ],
          [
           "The Seventh Sin",
           [
            "Thriller",
            "Mystery",
            "Drama"
           ]
          ],
          [
           "The Sun Also Rises",
           [
            "Crime Fiction",
            "Art film",
            "World cinema",
            "Period piece",
            "Drama",
            "War film",
            "Romantic drama",
            "Romance Film",
            "Political drama",
            "Bollywood"
           ]
          ],
          [
           "The Tall T",
           [
            "Romantic drama",
            "Romance Film",
            "Drama",
            "Dance",
            "New Hollywood"
           ]
          ],
          [
           "Tarzan and the Lost Safari",
           [
            "Adventure",
            "Children's/Family",
            "Drama",
            "Comedy",
            "Family Film",
            "Family-Oriented Adventure"
           ]
          ],
          [
           "Until They Sail",
           [
            "Family Film",
            "Satire",
            "Drama",
            "Comedy",
            "Domestic Comedy"
           ]
          ],
          [
           "Zarak",
           [
            "Family Film",
            "Fantasy",
            "Comedy"
           ]
          ],
          [
           "Apache Territory",
           [
            "Romance Film",
            "Family Film",
            "Drama",
            "Comedy",
            "Adventure"
           ]
          ],
          [
           "Auntie Mame",
           [
            "Thriller",
            "Psychological thriller",
            "Black-and-white",
            "Mystery",
            "Drama",
            "Film noir"
           ]
          ],
          [
           "The Badlanders",
           [
            "Thriller",
            "Drama",
            "Film noir"
           ]
          ],
          [
           "Battle of the V-1",
           [
            "Thriller",
            "Crime Fiction",
            "Science Fiction",
            "Horror",
            "Sci-Fi Horror",
            "Film adaptation",
            "Slasher"
           ]
          ],
          [
           "Bonjour tristesse",
           [
            "Romantic comedy",
            "Romance Film",
            "Comedy"
           ]
          ],
          [
           "The Brain Eaters",
           [
            "Action/Adventure",
            "Thriller",
            "Action",
            "Indie"
           ]
          ],
          [
           "The Bravados",
           [
            "Costume drama",
            "Period piece",
            "Drama",
            "Film adaptation",
            "Romantic drama",
            "Romance Film"
           ]
          ],
          [
           "The Brothers Karamazov",
           [
            "Action",
            "Pre-Code",
            "Adventure",
            "Black-and-white"
           ]
          ],
          [
           "Christine",
           [
            "Science Fiction",
            "Horror"
           ]
          ],
          [
           "Cowboy",
           [
            "Cult",
            "Action/Adventure",
            "Martial Arts Film",
            "Horror",
            "Chinese Movies"
           ]
          ],
          [
           "Dracula",
           [
            "Costume drama",
            "Drama",
            "Adventure"
           ]
          ],
          [
           "The Fly",
           [
            "Costume drama",
            "Adventure"
           ]
          ],
          [
           "Frankenstein 1970",
           [
            "Costume drama",
            "Drama",
            "Romantic drama",
            "Fantasy",
            "Romance Film",
            "Romantic fantasy"
           ]
          ],
          [
           "From the Earth to the Moon",
           [
            "World cinema",
            "Comedy-drama",
            "Drama",
            "Comedy",
            "Film adaptation",
            "Black comedy"
           ]
          ],
          [
           "Gigi",
           [
            "Crime Fiction",
            "Drama",
            "Film adaptation",
            "Romantic drama",
            "Romance Film",
            "Film noir"
           ]
          ],
          [
           "God's Little Acre",
           [
            "Stop motion",
            "Action/Adventure",
            "Western",
            "Fantasy",
            "Comedy",
            "Film adaptation",
            "Drama"
           ]
          ],
          [
           "The Gun Runners",
           [
            "Western",
            "Film noir"
           ]
          ],
          [
           "Harry Black",
           [
            "Film noir"
           ]
          ],
          [
           "Kalapani",
           [
            "Thriller",
            "Horror",
            "Teen"
           ]
          ],
          [
           "The Key",
           [
            "Thriller",
            "Docudrama",
            "Sports",
            "Period piece",
            "Drama",
            "Political thriller",
            "Spy",
            "Political drama",
            "Airplanes and airports"
           ]
          ],
          [
           "Kings Go Forth",
           [
            "Costume drama",
            "Period piece",
            "Drama",
            "Film adaptation",
            "Romantic drama",
            "Romance Film"
           ]
          ],
          [
           "The Light in the Forest",
           [
            "Thriller",
            "Mystery",
            "Crime Thriller",
            "Film adaptation"
           ]
          ],
          [
           "The Long, Hot Summer",
           [
            "Thriller",
            "Horror",
            "Psychological thriller",
            "Black-and-white"
           ]
          ],
          [
           "Man of the West",
           [
            "Short Film",
            "Science Fiction",
            "Fantasy",
            "World cinema",
            "Animation"
           ]
          ],
          [
           "The Naked and the Dead",
           [
            "Children's",
            "Coming of age",
            "Comedy",
            "Fantasy",
            "Romance Film",
            "Fantasy Comedy",
            "Family Film",
            "Teen"
           ]
          ],
          [
           "The Old Man and the Sea",
           [
            "Thriller",
            "Crime Fiction",
            "Black-and-white",
            "Drama",
            "Suspense",
            "Film noir"
           ]
          ],
          [
           "The Proud Rebel",
           [
            "Drama",
            "Black-and-white",
            "Film noir",
            "Crime Drama"
           ]
          ],
          [
           "The Quiet American",
           [
            "Science Fiction",
            "Dystopia"
           ]
          ],
          [
           "The Return of Dracula",
           [
            "Cult",
            "Action/Adventure",
            "Blaxploitation",
            "Horror"
           ]
          ],
          [
           "The Roots of Heaven",
           [
            "Thriller",
            "Horror",
            "Psychological thriller",
            "Action/Adventure",
            "Drama",
            "Suspense",
            "Film adaptation",
            "Crime Thriller",
            "Action"
           ]
          ],
          [
           "South Pacific",
           [
            "Family Drama",
            "Period piece",
            "Drama",
            "War film",
            "Coming of age",
            "Romance Film"
           ]
          ],
          [
           "A Tale of Two Cities",
           [
            "Swashbuckler films",
            "Silent film",
            "Adventure",
            "History",
            "Black-and-white",
            "Action/Adventure",
            "Drama",
            "Costume drama",
            "Romantic drama",
            "Romance Film",
            "Action"
           ]
          ],
          [
           "Tarzan's Fight for Life",
           [
            "Thriller",
            "Science Fiction",
            "Adventure",
            "Mystery",
            "Comedy",
            "Family Film",
            "Spy",
            "Slapstick"
           ]
          ],
          [
           "The Tunnel of Love",
           [
            "Adventure",
            "Children's/Family",
            "Animal Picture",
            "Fantasy",
            "Comedy",
            "Family Film",
            "Children's Fantasy"
           ]
          ],
          [
           "Twilight for the Gods",
           [
            "Satire",
            "Science Fiction",
            "Family Film",
            "Comedy"
           ]
          ],
          [
           "Vertigo",
           [
            "Thriller",
            "Mystery",
            "Political thriller",
            "Suspense",
            "Crime Thriller"
           ]
          ],
          [
           "The Vikings",
           [
            "Action/Adventure",
            "Revisionist Western",
            "Western",
            "Drama"
           ]
          ],
          [
           "Anatomy of a Murder",
           [
            "Crime Fiction",
            "Mystery",
            "Drama",
            "Film noir",
            "Black-and-white"
           ]
          ],
          [
           "The Angry Hills",
           [
            "Action/Adventure",
            "Western",
            "Drama",
            "Black-and-white",
            "Film adaptation"
           ]
          ],
          [
           "Ben-Hur",
           [
            "Western",
            "Epic"
           ]
          ],
          [
           "The Big Fisherman",
           [
            "Thriller",
            "Psychological thriller",
            "Film noir"
           ]
          ],
          [
           "The Blue Angel",
           [
            "Thriller",
            "Natural horror films",
            "Animal Picture",
            "Horror"
           ]
          ],
          [
           "The Captain's Table",
           [
            "Americana",
            "Period piece",
            "Drama",
            "Romantic drama",
            "Coming of age",
            "Romance Film",
            "Teen"
           ]
          ],
          [
           "Cash McCall",
           [
            "Thriller",
            "Action/Adventure",
            "Suspense",
            "Disaster",
            "Action",
            "Airplanes and airports"
           ]
          ],
          [
           "Compulsion",
           [
            "Period piece",
            "Drama",
            "Childhood Drama",
            "World cinema",
            "War film"
           ]
          ],
          [
           "Count Your Blessings",
           [
            "Drama",
            "Political drama",
            "World cinema",
            "War film"
           ]
          ],
          [
           "Darby O'Gill and the Little People",
           [
            "Thriller",
            "Science Fiction",
            "Action/Adventure",
            "Drama",
            "Film adaptation",
            "Action"
           ]
          ],
          [
           "Gidget",
           [
            "Science Fiction",
            "Adventure",
            "Cult",
            "Coming of age",
            "Comedy",
            "Juvenile Delinquency Film",
            "Teen"
           ]
          ],
          [
           "Green Mansions",
           [
            "Thriller",
            "Indie",
            "Film adaptation",
            "Action/Adventure",
            "Drama",
            "War film",
            "Action",
            "Adventure"
           ]
          ],
          [
           "The Hound of the Baskervilles",
           [
            "Thriller",
            "Sports",
            "Psychological thriller",
            "Crime Thriller"
           ]
          ],
          [
           "Journey to the Center of the Earth",
           [
            "Crime Fiction",
            "Comedy film"
           ]
          ],
          [
           "Les liaisons dangereuses",
           [
            "Parody",
            "Action/Adventure",
            "Satire",
            "Comedy",
            "Action",
            "Spy"
           ]
          ],
          [
           "Lonelyhearts",
           [
            "Thriller",
            "Science Fiction",
            "Horror",
            "Psychological thriller",
            "Cult",
            "Black comedy"
           ]
          ],
          [
           "The Man Who Understood Women",
           [
            "Crime Fiction",
            "Gangster Film",
            "Crime Drama",
            "Family Drama",
            "Period piece",
            "Drama",
            "Film adaptation",
            "New Hollywood"
           ]
          ],
          [
           "Odds Against Tomorrow",
           [
            "Thriller",
            "Mystery",
            "Comedy",
            "Cult",
            "Comedy Thriller"
           ]
          ],
          [
           "Return of the Fly",
           [
            "Romance Film",
            "Drama",
            "Period piece",
            "World cinema",
            "Film adaptation",
            "Romance Film",
            "Drama",
            "Period piece",
            "World cinema",
            "Film adaptation",
            "Romance Film",
            "Drama",
            "Period piece",
            "World cinema",
            "Film adaptation"
           ]
          ],
          [
           "The Shaggy Dog",
           [
            "Science Fiction",
            "Horror",
            "Black-and-white"
           ]
          ],
          [
           "The Sound and the Fury",
           [
            "Children's/Family",
            "Children's Fantasy",
            "Holiday Film",
            "Animation"
           ]
          ],
          [
           "Tarzan's Greatest Adventure",
           [
            "Drama",
            "Art film",
            "World cinema",
            "Comedy"
           ]
          ],
          [
           "Tarzan, the Ape Man",
           [
            "Period piece",
            "Drama",
            "Family Film",
            "Film adaptation"
           ]
          ],
          [
           "Terror Is A Man",
           [
            "Thriller",
            "Science Fiction",
            "Horror",
            "Adventure",
            "Silent film",
            "Fantasy"
           ]
          ],
          [
           "They Came To Cordura",
           [
            "Romantic drama",
            "Romance Film",
            "Drama",
            "Indie",
            "World cinema"
           ]
          ],
          [
           "Third Man on the Mountain",
           [
            "Drama",
            "Romantic drama",
            "Romance Film",
            "Pre-Code",
            "Black-and-white"
           ]
          ],
          [
           "The 39 Steps",
           [
            "Thriller",
            "Crime Fiction",
            "Adventure",
            "Costume drama",
            "Mystery",
            "Period piece",
            "Fantasy",
            "Film adaptation",
            "Drama",
            "Romantic drama",
            "Romance Film",
            "Indie"
           ]
          ],
          [
           "Watusi",
           [
            "Christian film",
            "Biography",
            "Costume drama",
            "Film adaptation",
            "Epic",
            "Period piece",
            "Drama",
            "Biopic [feature]",
            "Historical Epic",
            "Biographical film"
           ]
          ],
          [
           "The Wonderful Country",
           [
            "Computer Animation",
            "Action",
            "Fantasy",
            "Adventure",
            "Animation"
           ]
          ],
          [
           "The World, the Flesh and the Devil",
           [
            "Action/Adventure",
            "Costume drama",
            "Drama",
            "Adventure",
            "British Empire Film"
           ]
          ],
          [
           "The Wreck of the Mary Deare",
           [
            "Romantic comedy",
            "Action/Adventure",
            "Romance Film",
            "Action",
            "Comedy"
           ]
          ],
          [
           "Yellowstone Kelly",
           [
            "Costume drama",
            "Period piece",
            "Western",
            "Drama",
            "Film adaptation",
            "Romantic drama",
            "Romance Film"
           ]
          ],
          [
           "The Young Land",
           [
            "World cinema",
            "Musical",
            "Drama",
            "Romantic drama",
            "Romance Film",
            "Bollywood"
           ]
          ],
          [
           "The Young Philadelphians",
           [
            "Silent film",
            "Horror",
            "Indie",
            "Black-and-white"
           ]
          ],
          [
           "The Adventures of Huckleberry Finn",
           [
            "Thriller",
            "Science Fiction",
            "Future noir",
            "Action/Adventure",
            "Martial Arts Film",
            "Action"
           ]
          ],
          [
           "The Angel Wore Red",
           [
            "Indie",
            "Action/Adventure",
            "Period piece",
            "Drama",
            "Film adaptation",
            "Historical Epic",
            "Adventure"
           ]
          ],
          [
           "BUtterfield 8",
           [
            "Action/Adventure",
            "Western",
            "Action"
           ]
          ],
          [
           "Bidaya wa nihaya",
           [
            "Thriller",
            "Suspense",
            "Spy"
           ]
          ],
          [
           "The Brides of Dracula",
           [
            "Thriller",
            "Detective fiction",
            "Detective",
            "Black-and-white",
            "Mystery",
            "Suspense",
            "Crime Thriller"
           ]
          ],
          [
           "Chhalia",
           [
            "Drama",
            "Comedy-drama",
            "Comedy"
           ]
          ],
          [
           "Cimarron",
           [
            "Thriller",
            "Mystery",
            "Erotic thriller",
            "Drama",
            "Suspense",
            "Film adaptation",
            "Courtroom Drama"
           ]
          ],
          [
           "The Day They Robbed the Bank of England",
           [
            "Thriller",
            "Crime Fiction",
            "Black-and-white",
            "Mystery",
            "Drama",
            "Film noir"
           ]
          ],
          [
           "Devi",
           [
            "Thriller",
            "Crime Thriller",
            "Film adaptation",
            "Drama",
            "Mystery"
           ]
          ],
          [
           "Doctor in Love",
           [
            "Romantic drama",
            "Romance Film",
            "Drama",
            "Medical fiction"
           ]
          ],
          [
           "Elmer Gantry",
           [
            "Romantic comedy",
            "Costume drama",
            "Drama",
            "Comedy",
            "Film adaptation",
            "Romance Film"
           ]
          ],
          [
           "Exodus",
           [
            "Drama",
            "Science Fiction",
            "Horror",
            "Time travel",
            "Monster"
           ]
          ],
          [
           "From the Terrace",
           [
            "Crime Fiction",
            "History",
            "Western",
            "Biography",
            "Drama"
           ]
          ],
          [
           "Guns of the Timberland",
           [
            "Crime Fiction",
            "Thriller",
            "Japanese Movies",
            "Road movie",
            "Action/Adventure",
            "Action"
           ]
          ],
          [
           "Heller In Pink Tights",
           [
            "Cult",
            "Horror",
            "Slasher",
            "Teen"
           ]
          ],
          [
           "Kidnapped",
           [
            "World cinema",
            "Costume drama",
            "Period piece",
            "Drama",
            "Film adaptation",
            "Romantic drama",
            "Romance Film"
           ]
          ],
          [
           "The Lost World",
           [
            "Costume drama",
            "Drama"
           ]
          ],
          [
           "Our Man in Havana",
           [
            "Costume drama",
            "Romance Film",
            "Drama",
            "Black-and-white",
            "Film adaptation"
           ]
          ],
          [
           "Pollyanna",
           [
            "Romantic drama",
            "Romance Film",
            "Marriage Drama",
            "Drama",
            "Indie"
           ]
          ],
          [
           "Psycho",
           [
            "Japanese Movies",
            "World cinema",
            "Black-and-white",
            "Drama",
            "War film",
            "Music"
           ]
          ],
          [
           "Sons and Lovers",
           [
            "Costume drama",
            "Period piece",
            "Drama",
            "War film"
           ]
          ],
          [
           "Spartacus",
           [
            "Drama",
            "Black-and-white"
           ]
          ],
          [
           "Swiss Family Robinson",
           [
            "Thriller",
            "Horror",
            "Supernatural",
            "Family Drama",
            "Psychological thriller",
            "Drama",
            "Film adaptation"
           ]
          ],
          [
           "Tarzan the Magnificent",
           [
            "Science Fiction",
            "Superhero movie",
            "Action/Adventure",
            "Fantasy",
            "Comedy",
            "Drama",
            "Action"
           ]
          ],
          [
           "The Time Machine",
           [
            "Science Fiction",
            "Horror",
            "Sci-Fi Horror",
            "Black-and-white"
           ]
          ],
          [
           "The Two Faces of Dr. Jekyll",
           [
            "Melodrama",
            "Drama",
            "Film noir",
            "Crime Drama"
           ]
          ],
          [
           "The Unforgiven",
           [
            "Bengali Cinema",
            "Drama",
            "Art film"
           ]
          ],
          [
           "Village of the Damned",
           [
            "World cinema",
            "Musical",
            "Drama",
            "Romantic drama",
            "Romance Film",
            "Bollywood"
           ]
          ],
          [
           "Where the Boys Are",
           [
            "Romance Film",
            "Family Film"
           ]
          ],
          [
           "Wild River",
           [
            "Drama",
            "Film adaptation"
           ]
          ],
          [
           "Back Street",
           [
            "Thriller",
            "Science Fiction",
            "Comedy",
            "Black-and-white"
           ]
          ],
          [
           "Bloodlust!",
           [
            "Disaster",
            "Action/Adventure",
            "Action",
            "Thriller",
            "Adventure"
           ]
          ],
          [
           "Breakfast at Tiffany's",
           [
            "Thriller",
            "Science Fiction",
            "Black-and-white",
            "Action Thrillers",
            "Propaganda film",
            "War film",
            "Action",
            "Spy"
           ]
          ],
          [
           "The Singer Not the Song",
           [
            "Ensemble Film",
            "Family Drama",
            "Americana",
            "Comedy-drama",
            "Period piece",
            "Drama",
            "Comedy",
            "Film adaptation"
           ]
          ],
          [
           "The Curse of the Werewolf",
           [
            "Action/Adventure",
            "Action",
            "Drama",
            "Adventure"
           ]
          ],
          [
           "Flight of the Lost Balloon",
           [
            "Adventure",
            "Family Film",
            "Children's",
            "Comedy",
            "Animation"
           ]
          ],
          [
           "Gold of the Seven Saints",
           [
            "Family Film",
            "Children's",
            "Fantasy",
            "Comedy",
            "Animation"
           ]
          ],
          [
           "Goodbye Again",
           [
            "Family Film",
            "Fantasy",
            "Comedy"
           ]
          ],
          [
           "The Guns of Navarone",
           [
            "Thriller",
            "Crime Thriller",
            "Horror",
            "World cinema",
            "Supernatural"
           ]
          ],
          [
           "The Hustler",
           [
            "Action",
            "Adventure"
           ]
          ],
          [
           "The Innocents",
           [
            "Crime Fiction",
            "Thriller",
            "Mystery",
            "Period piece",
            "Drama",
            "Suspense",
            "Film adaptation",
            "Crime Thriller",
            "Film noir",
            "Neo-noir"
           ]
          ],
          [
           "Lola",
           [
            "Horror",
            "Comedy",
            "Indie"
           ]
          ],
          [
           "The Greengage Summer",
           [
            "Crime Fiction",
            "Detective fiction",
            "Detective",
            "Black-and-white",
            "Mystery",
            "Pre-Code",
            "Comedy"
           ]
          ],
          [
           "Master of the World",
           [
            "Crime Fiction",
            "Remake",
            "Drama",
            "Neo-noir"
           ]
          ],
          [
           "Misty",
           [
            "Thriller",
            "Mystery",
            "Horror",
            "Psychological thriller"
           ]
          ],
          [
           "Mr. Sardonicus",
           [
            "Science Fiction",
            "Horror"
           ]
          ],
          [
           "Mysterious Island",
           [
            "Science Fiction",
            "Action"
           ]
          ],
          [
           "One Hundred and One Dalmatians",
           [
            "Romantic comedy",
            "Comedy of manners",
            "Comedy-drama",
            "Period piece",
            "Drama",
            "Film adaptation",
            "Romantic drama",
            "Romance Film"
           ]
          ],
          [
           "The Parent Trap",
           [
            "Thriller",
            "Crime Fiction",
            "Indie",
            "Existentialism",
            "Psychological thriller",
            "Mystery",
            "Drama",
            "Suspense",
            "Crime Thriller"
           ]
          ],
          [
           "Paris Blues",
           [
            "Silent film",
            "Drama",
            "Indie",
            "Black-and-white",
            "Political drama"
           ]
          ],
          [
           "Pocketful of Miracles",
           [
            "Thriller",
            "Crime Fiction",
            "Detective fiction",
            "Detective",
            "Mystery",
            "Crime Thriller",
            "Film noir"
           ]
          ],
          [
           "Return to Peyton Place",
           [
            "Art film"
           ]
          ],
          [
           "The Second Time Around",
           [
            "Thriller",
            "Horror",
            "Psychological thriller"
           ]
          ],
          [
           "Snow White and the Three Stooges",
           [
            "Coming of age",
            "Americana",
            "Period piece",
            "Drama",
            "Film adaptation",
            "Romantic drama",
            "Romance Film"
           ]
          ],
          [
           "Teen Kanya",
           [
            "Film adaptation",
            "Costume drama",
            "Roadshow theatrical release",
            "Epic",
            "Period piece",
            "Drama",
            "War film",
            "Romantic drama",
            "Romance Film"
           ]
          ],
          [
           "All Fall Down",
           [
            "Crime Fiction",
            "Action/Adventure",
            "Period piece",
            "Drama",
            "Comedy",
            "War film",
            "Political cinema",
            "Black comedy",
            "Action",
            "Political drama"
           ]
          ],
          [
           "Bees Saal Baad",
           [
            "Drama",
            "Chinese Movies",
            "World cinema"
           ]
          ],
          [
           "Big Red",
           [
            "Horror",
            "World cinema",
            "Supernatural"
           ]
          ],
          [
           "Cape Fear",
           [
            "Science Fiction",
            "Adventure",
            "Doomsday film",
            "Epic",
            "Action/Adventure",
            "Drama",
            "Film adaptation",
            "Time travel",
            "Action",
            "Dystopia"
           ]
          ],
          [
           "Dr. No",
           [
            "Silent film",
            "Fantasy",
            "Indie",
            "Black-and-white",
            "Silent film",
            "Fantasy",
            "Indie",
            "Black-and-white"
           ]
          ],
          [
           "Experiment in Terror",
           [
            "Fantasy Adventure",
            "Adventure",
            "Children's/Family",
            "Fantasy",
            "Children's Fantasy",
            "Drama",
            "Family Film"
           ]
          ],
          [
           "Five Weeks in a Balloon",
           [
            "Horror",
            "Creature Film"
           ]
          ],
          [
           "Follow that Dream",
           [
            "Drama",
            "Indie",
            "World cinema",
            "Film adaptation"
           ]
          ],
          [
           "Hemingway's Adventures of a Young Man",
           [
            "Natural horror films",
            "Science Fiction",
            "Horror",
            "Creature Film",
            "Cult",
            "Monster",
            "B-movie"
           ]
          ],
          [
           "In Search of the Castaways",
           [
            "Thriller",
            "Science Fiction",
            "Horror",
            "Supernatural",
            "Drama",
            "Film adaptation"
           ]
          ],
          [
           "The Legend of Lobo",
           [
            "Indie",
            "Family Drama",
            "Coming of age",
            "Film adaptation",
            "Drama",
            "Romantic drama",
            "Romance Film",
            "Feminist Film"
           ]
          ],
          [
           "Lolita",
           [
            "Thriller",
            "Disaster",
            "Action",
            "Adventure",
            "Action/Adventure"
           ]
          ],
          [
           "The Loneliness of the Long Distance Runner",
           [
            "Horror",
            "Indie"
           ]
          ],
          [
           "Lonely are the Brave",
           [
            "Anti-war",
            "Science Fiction",
            "Film adaptation",
            "Comedy-drama",
            "Satire",
            "Drama",
            "Comedy",
            "War film",
            "Time travel",
            "Anti-war film"
           ]
          ],
          [
           "The Manchurian Candidate",
           [
            "Family Film",
            "Drama",
            "Adventure"
           ]
          ],
          [
           "Moon Pilot",
           [
            "Family Film",
            "Children's",
            "Adventure"
           ]
          ],
          [
           "Mr. Hobbs Takes a Vacation",
           [
            "Animal Picture",
            "Drama",
            "Adventure"
           ]
          ],
          [
           "The Phantom of the Opera",
           [
            "Crime Fiction",
            "Action/Adventure",
            "Action",
            "Adventure",
            "Suspense"
           ]
          ],
          [
           "Tarzan Goes to India",
           [
            "Stop motion",
            "Fantasy",
            "Comedy"
           ]
          ],
          [
           "To Kill a Mockingbird",
           [
            "Thriller",
            "Action Thrillers",
            "Psychological thriller",
            "Action/Adventure",
            "Action",
            "Spy"
           ]
          ],
          [
           "The Brain",
           [
            "Costume drama",
            "Drama",
            "Epic",
            "World cinema",
            "Film adaptation"
           ]
          ],
          [
           "Billy Liar",
           [
            "War film",
            "Period piece",
            "Drama",
            "Film adaptation",
            "Romantic drama",
            "Romance Film",
            "Political drama"
           ]
          ],
          [
           "The Birds",
           [
            "Costume drama",
            "Animation"
           ]
          ],
          [
           "Children of the Damned",
           [
            "Thriller",
            "Crime Thriller",
            "Drama",
            "Psychological thriller"
           ]
          ],
          [
           "Cleopatra",
           [
            "Jungle Film",
            "Adventure",
            "Black-and-white"
           ]
          ],
          [
           "Diary of a Madman",
           [
            "Action/Adventure",
            "Martial Arts Film",
            "Chinese Movies",
            "World cinema"
           ]
          ],
          [
           "Dr. Strangelove or: How I Learned to Stop Worrying and Love the Bomb",
           [
            "Fantasy Adventure",
            "Adventure",
            "Children's/Family",
            "Fantasy",
            "Children's Fantasy",
            "Drama",
            "Family Film"
           ]
          ],
          [
           "From Russia with Love",
           [
            "Family Film",
            "Fantasy",
            "Adventure"
           ]
          ],
          [
           "The Haunted Palace",
           [
            "Gothic Film",
            "Horror",
            "Creature Film",
            "Indie"
           ]
          ],
          [
           "The Haunting",
           [
            "Thriller",
            "Horror",
            "Indie",
            "Supernatural",
            "Creature Film",
            "Mystery",
            "Crime Thriller",
            "Action"
           ]
          ],
          [
           "Hud",
           [
            "B-movie",
            "Horror",
            "Creature Film"
           ]
          ],
          [
           "The Incredible Journey",
           [
            "Crime Fiction",
            "Thriller",
            "Action/Adventure",
            "Blaxploitation",
            "Drama",
            "Film adaptation",
            "Action",
            "Political drama",
            "Spy"
           ]
          ],
          [
           "Lord of the Flies",
           [
            "Costume drama",
            "Period piece",
            "Drama",
            "Film adaptation",
            "Romantic drama",
            "Romance Film"
           ]
          ],
          [
           "Miracle of the White Stallions",
           [
            "Action",
            "Drama",
            "Adventure",
            "Action",
            "Drama",
            "Adventure"
           ]
          ],
          [
           "Murder at the Gallop",
           [
            "Monster movie",
            "Horror",
            "Psychological thriller"
           ]
          ],
          [
           "The Running Man",
           [
            "Romantic drama",
            "Romance Film",
            "Historical fiction",
            "Drama",
            "Period piece"
           ]
          ],
          [
           "Savage Sam",
           [
            "Family Film",
            "Drama",
            "Adventure",
            "Children's/Family"
           ]
          ],
          [
           "Summer Magic",
           [
            "Thriller",
            "Crime Fiction",
            "Drama",
            "Film noir"
           ]
          ],
          [
           "The Sword in the Stone",
           [
            "Thriller",
            "Musical",
            "Drama",
            "Romantic drama",
            "Romance Film",
            "Bollywood"
           ]
          ],
          [
           "Tarzan's Three Challenges",
           [
            "Family Film",
            "Fantasy Comedy",
            "Fantasy",
            "Comedy"
           ]
          ],
          [
           "The Three Stooges Go Around the World in a Daze",
           [
            "Western"
           ]
          ],
          [
           "Tom Jones",
           [
            "Christian film",
            "Thriller",
            "Supernatural",
            "Fantasy",
            "Film adaptation",
            "Drama",
            "Family Film"
           ]
          ],
          [
           "7 Faces of Dr. Lao",
           [
            "Family Film",
            "Fantasy Comedy",
            "Drama",
            "Comedy",
            "Slapstick"
           ]
          ],
          [
           "The Americanization of Emily",
           [
            "Western",
            "Film noir",
            "Black-and-white"
           ]
          ],
          [
           "Les amitiés particulières",
           [
            "Action/Adventure",
            "Action",
            "Indie",
            "Comedy",
            "Slapstick"
           ]
          ],
          [
           "Angélique, Marquise des Anges",
           [
            "Action/Adventure",
            "Western",
            "Action",
            "Drama"
           ]
          ],
          [
           "Bande à part",
           [
            "Adventure",
            "Children's/Family",
            "Stop motion",
            "Animation",
            "Comedy",
            "Family Film"
           ]
          ],
          [
           "Behold a Pale Horse",
           [
            "Fantasy",
            "Family Film",
            "Horror"
           ]
          ],
          [
           "The Carpetbaggers",
           [
            "Thriller",
            "Psychological thriller",
            "Spy"
           ]
          ],
          [
           "A Distant Trumpet",
           [
            "Family Film",
            "Fantasy Adventure",
            "Fantasy",
            "Adventure"
           ]
          ],
          [
           "Emil and the Detectives",
           [
            null
           ]
          ],
          [
           "First Men in the Moon",
           [
            "Thriller",
            "Crime Fiction",
            "Drama",
            "Suspense",
            "Political thriller",
            "Crime Thriller",
            "Political drama"
           ]
          ],
          [
           "Goldfinger",
           [
            "Crime Fiction",
            "Drama",
            "Black-and-white",
            "Film noir",
            "Psychological thriller"
           ]
          ],
          [
           "The Incredible Mr. Limpet",
           [
            "Crime Fiction",
            "Family Film",
            "Adventure"
           ]
          ],
          [
           "The Killers",
           [
            "Crime Fiction",
            "Drama",
            "Black-and-white",
            "Crime Drama"
           ]
          ],
          [
           "Marnie",
           [
            "Thriller",
            "Cult",
            "Horror",
            "Psychological thriller"
           ]
          ],
          [
           "Mary Poppins",
           [
            "Thriller",
            "Crime Fiction",
            "Psychological thriller",
            "Mystery",
            "Drama",
            "Suspense",
            "Crime Thriller"
           ]
          ],
          [
           "The Moon-Spinners",
           [
            "Road movie",
            "Drama",
            "Political drama",
            "World cinema",
            "War film"
           ]
          ],
          [
           "Murder Most Foul",
           [
            "Drama",
            "Coming of age"
           ]
          ],
          [
           "The Night of the Iguana",
           [
            "Family Film",
            "Drama",
            "Adventure",
            "Black-and-white"
           ]
          ],
          [
           "Nightmare",
           [
            "Erotica",
            "Drama",
            "Film adaptation",
            "Romantic drama",
            "Romance Film",
            "Indie"
           ]
          ],
          [
           "Of Human Bondage",
           [
            "LGBT",
            "Period piece",
            "Marriage Drama",
            "Drama",
            "Film adaptation",
            "Feminist Film"
           ]
          ],
          [
           "The Pleasure Seekers",
           [
            "Drama",
            "Period piece",
            "Coming of age",
            "Teen",
            "Film adaptation"
           ]
          ],
          [
           "Robinson Crusoe on Mars",
           [
            "Action/Adventure",
            "Costume drama",
            "Action",
            "Adventure"
           ]
          ],
          [
           "A Shot in the Dark",
           [
            "Horror"
           ]
          ],
          [
           "Taggart",
           [
            "Crime Fiction",
            "Melodrama",
            "Indie",
            "Addiction Drama",
            "Drama",
            "Film adaptation"
           ]
          ],
          [
           "A Tiger Walks",
           [
            "Anti-war",
            "Satire",
            "Drama",
            "War film",
            "Anti-war film",
            "Spy"
           ]
          ],
          [
           "The Last Man on Earth",
           [
            "Absurdism",
            "Comedy-drama",
            "Satire",
            "Drama",
            "Comedy",
            "Black comedy",
            "Tragicomedy"
           ]
          ],
          [
           "The World of Henry Orient",
           [
            "Comedy"
           ]
          ],
          [
           "The Agony and the Ecstasy",
           [
            "Period piece",
            "Family Drama",
            "Drama"
           ]
          ],
          [
           "The Battle of the Villa Fiorita",
           [
            "World cinema",
            "Comedy-drama",
            "Period piece",
            "Coming of age",
            "Drama",
            "Romantic drama",
            "Romance Film",
            "Chinese Movies"
           ]
          ],
          [
           "Brainstorm",
           [
            "Romantic comedy",
            "Comedy-drama",
            "Drama",
            "Comedy",
            "Romantic drama",
            "Romance Film"
           ]
          ],
          [
           "Cat Ballou",
           [
            "Adventure",
            "Children's/Family",
            "Fairy tale",
            "Animation",
            "Fantasy",
            "Children's Fantasy"
           ]
          ],
          [
           "The Cincinnati Kid",
           [
            "Adventure",
            "World cinema",
            "Action/Adventure",
            "Period piece",
            "Fantasy",
            "Mythological Fantasy",
            "Film adaptation",
            "Drama",
            "Action"
           ]
          ],
          [
           "Curse of the Fly",
           [
            "Adventure",
            "Action/Adventure",
            "Drama",
            "Film adaptation",
            "Disaster",
            "Action",
            "Airplanes and airports"
           ]
          ],
          [
           "Doctor Zhivago",
           [
            "Drama",
            "Musical",
            "Fantasy"
           ]
          ],
          [
           "The Flight of the Phoenix",
           [
            "Thriller",
            "Crime Fiction",
            "Drama",
            "Suspense",
            "Crime Thriller",
            "Romance Film",
            "Political drama"
           ]
          ],
          [
           "The Glory Guys",
           [
            "Thriller",
            "Adventure",
            "Stop motion",
            "Animation",
            "Children's",
            "Fantasy",
            "Children's Fantasy",
            "Family Film"
           ]
          ],
          [
           "The Great Race",
           [
            "Thriller",
            "World cinema",
            "Psychological thriller",
            "Erotic thriller",
            "Drama",
            "Crime Thriller"
           ]
          ],
          [
           "The Ipcress File",
           [
            "Thriller",
            "Disaster",
            "Action",
            "Martial Arts Film",
            "Action/Adventure"
           ]
          ],
          [
           "Lady L",
           [
            "Romantic comedy",
            "Parody",
            "Romance Film",
            "Satire",
            "Comedy"
           ]
          ],
          [
           "Lord Jim",
           [
            "Gothic Film",
            "Horror",
            "Creature Film",
            "Black-and-white",
            "Costume Horror"
           ]
          ],
          [
           "The Loved One",
           [
            "Horror",
            "Black-and-white"
           ]
          ],
          [
           "Mister Buddwing",
           [
            "Horror",
            "Black-and-white"
           ]
          ],
          [
           "A Patch of Blue",
           [
            "Horror",
            "Creature Film",
            "Black-and-white",
            "Monster"
           ]
          ],
          [
           "The Satan Bug",
           [
            "Horror",
            "Creature Film"
           ]
          ],
          [
           "She",
           [
            "Crime Fiction",
            "Parody",
            "Crime Comedy",
            "Screwball comedy",
            "Comedy",
            "Slapstick",
            "Crime Fiction",
            "Parody",
            "Crime Comedy",
            "Screwball comedy",
            "Comedy",
            "Slapstick"
           ]
          ],
          [
           "The Spy Who Came in from the Cold",
           [
            "Screwball comedy",
            "Romance Film",
            "Family Film",
            "Comedy"
           ]
          ],
          [
           "That Darn Cat!",
           [
            "LGBT",
            "Costume drama",
            "Film adaptation",
            "Period piece",
            "Drama",
            "Gay Themed",
            "Feminist Film"
           ]
          ],
          [
           "Those Calloways",
           [
            "Drama",
            "Erotica",
            "Drama",
            "Erotica"
           ]
          ],
          [
           "Thunderball",
           [
            "Drama",
            "Family Film",
            "Family Drama",
            "Fantasy"
           ]
          ],
          [
           "Village of the Giants",
           [
            "Silent film",
            "Indie",
            "Black-and-white"
           ]
          ],
          [
           "Vinyl",
           [
            "Silent film",
            "Indie",
            "Comedy-drama",
            "Black-and-white",
            "Drama",
            "Comedy"
           ]
          ],
          [
           "The Alphabet Murders",
           [
            "Family Film",
            "Drama",
            "Comedy",
            "Black-and-white"
           ]
          ],
          [
           "An American Dream",
           [
            "Adventure",
            "Superhero movie",
            "Superhero",
            "Action Thrillers",
            "Comedy",
            "Action",
            "Spy"
           ]
          ],
          [
           "Arabesque",
           [
            "Parody",
            "Foreign legion",
            "Comedy"
           ]
          ],
          [
           "Beau Geste",
           [
            "LGBT",
            "Romantic drama",
            "Romance Film",
            "Drama",
            "Indie"
           ]
          ],
          [
           "The Chase",
           [
            "Drama",
            "World cinema"
           ]
          ],
          [
           "The Daydreamer",
           [
            "Adventure",
            "Costume drama",
            "Action/Adventure",
            "Fantasy",
            "Drama",
            "Family Film",
            "Action"
           ]
          ],
          [
           "The Witches",
           [
            "Thriller",
            "Crime Fiction",
            "Adventure",
            "Chase Movie",
            "Action Thrillers",
            "Action/Adventure",
            "Drama",
            "Action"
           ]
          ],
          [
           "Dil Diya Dard Liya",
           [
            "Drama"
           ]
          ],
          [
           "Doctor in Clover",
           [
            "Science Fiction",
            "Horror",
            "Creature Film",
            "Black-and-white",
            "Monster",
            "Costume Horror"
           ]
          ],
          [
           "Duel at Diablo",
           [
            "Anti-war",
            "Indie",
            "War film",
            "Drama",
            "Film adaptation",
            "Action",
            "Anti-war film"
           ]
          ],
          [
           "Fahrenheit 451",
           [
            "Adventure",
            "Animation",
            "Children's",
            "Fantasy",
            "Music",
            "Family Film"
           ]
          ],
          [
           "The Fighting Prince of Donegal",
           [
            "Thriller",
            "Science Fiction",
            "World cinema",
            "Supernatural",
            "Fantasy",
            "Action"
           ]
          ],
          [
           "Follow Me, Boys!",
           [
            "Adventure",
            "Costume drama",
            "Action/Adventure",
            "Fantasy",
            "Film adaptation",
            "Drama",
            "Romantic drama",
            "Romance Film",
            "Family Film",
            "Steampunk"
           ]
          ],
          [
           "Funeral in Berlin",
           [
            "Thriller",
            "Crime Fiction",
            "Film adaptation",
            "Action/Adventure",
            "War film",
            "Drama",
            "Political thriller",
            "Action Thrillers",
            "Action"
           ]
          ],
          [
           "Georgy Girl",
           [
            "Cult",
            "Science Fiction",
            "Horror"
           ]
          ],
          [
           "The Group",
           [
            "Horror"
           ]
          ],
          [
           "Harper",
           [
            "Romantic drama",
            "Romance Film",
            "Drama",
            "Film adaptation"
           ]
          ],
          [
           "Hawaii",
           [
            "Thriller",
            "World cinema",
            "Film adaptation",
            "Fantasy",
            "Fantasy Drama",
            "Drama",
            "Crime Thriller"
           ]
          ],
          [
           "The Navy vs. the Night Monsters",
           [
            "Thriller",
            "Mystery",
            "Drama",
            "Crime Thriller",
            "Film adaptation"
           ]
          ],
          [
           "Nevada Smith",
           [
            "Horror",
            "Costume Horror"
           ]
          ],
          [
           "Out of Sight",
           [
            "Thriller",
            "Crime Fiction",
            "Action/Adventure",
            "Drama",
            "Suspense",
            "Action",
            "Thriller",
            "Crime Fiction",
            "Action/Adventure",
            "Drama",
            "Suspense",
            "Action"
           ]
          ],
          [
           "The Professionals",
           [
            "Romantic comedy",
            "Screwball comedy",
            "Comedy of manners",
            "Black-and-white",
            "Comedy",
            "Romance Film",
            "Comedy of Errors"
           ]
          ],
          [
           "The Sand Pebbles",
           [
            "Crime Fiction",
            "Action/Adventure",
            "Action",
            "Comedy"
           ]
          ],
          [
           "Tarzan and the Valley of Gold",
           [
            "Family Film",
            "Children's"
           ]
          ],
          [
           "Ten Little Indians",
           [
            "Thriller",
            "Action Thrillers",
            "Action/Adventure",
            "Drama",
            "Political thriller",
            "Action"
           ]
          ],
          [
           "The Ugly Dachshund",
           [
            "Crime Fiction",
            "Period piece",
            "Drama",
            "Docudrama"
           ]
          ],
          [
           "The Wrong Box",
           [
            "Romantic drama",
            "Romance Film",
            "Drama",
            "Film adaptation"
           ]
          ],
          [
           "The Adventures of Bullwhip Griffin",
           [
            "Film noir",
            "Black-and-white"
           ]
          ],
          [
           "Anna Karenina",
           [
            "Action/Adventure",
            "Western",
            "Drama",
            "Adventure",
            "Film adaptation"
           ]
          ],
          [
           "Billion Dollar Brain",
           [
            "Thriller",
            "Crime Fiction",
            "Political thriller",
            "Mystery",
            "Drama",
            "Film adaptation",
            "Crime Thriller",
            "Romance Film",
            "Political drama"
           ]
          ],
          [
           "Blood of Dracula's Castle",
           [
            "Crime Fiction",
            "British Empire Film",
            "Period piece",
            "Drama",
            "Film adaptation",
            "Political drama",
            "Courtroom Drama"
           ]
          ],
          [
           "The Busy Body",
           [
            "Thriller",
            "Crime Fiction",
            "Drama"
           ]
          ],
          [
           "Casino Royale",
           [
            "Mystery",
            "Drama",
            "Indie",
            "Musical Drama"
           ]
          ],
          [
           "The Comedians",
           [
            "Romantic drama",
            "Romance Film",
            "Drama",
            "Period piece"
           ]
          ],
          [
           "Cool Hand Luke",
           [
            "Thriller",
            "Alien Film",
            "Science Fiction",
            "Action",
            "Drama"
           ]
          ],
          [
           "Corazón salvaje",
           [
            "Period piece",
            "Action",
            "Adventure",
            "Film adaptation"
           ]
          ],
          [
           "The Dirty Dozen",
           [
            "Thriller",
            "Crime Fiction",
            "Mystery",
            "Satire",
            "Drama",
            "Film noir",
            "Crime Thriller",
            "New Hollywood"
           ]
          ],
          [
           "Doctor Dolittle",
           [
            "Disaster",
            "Action/Adventure",
            "Action",
            "Drama",
            "Adventure"
           ]
          ],
          [
           "Far from the Madding Crowd",
           [
            "Anti-war",
            "Ensemble Film",
            "Film adaptation",
            "Surrealism",
            "Period piece",
            "Satire",
            "Drama",
            "Comedy",
            "War film",
            "Black comedy"
           ]
          ],
          [
           "The Flim-Flam Man",
           [
            "Family Film",
            "Children's",
            "Animation"
           ]
          ],
          [
           "Frankenstein Created Woman",
           [
            "B-movie",
            "Indie",
            "Cult",
            "Drama",
            "Comedy",
            "Horror",
            "Costume Horror"
           ]
          ],
          [
           "The Gnome-Mobile",
           [
            "Thriller",
            "Mystery",
            "Drama",
            "World cinema"
           ]
          ],
          [
           "The Happiest Millionaire",
           [
            "Erotic Drama",
            "Japanese Movies",
            "Art film",
            "World cinema",
            "Comedy-drama",
            "Satire",
            "Drama",
            "Comedy",
            "Black comedy",
            "Romance Film",
            "Erotica"
           ]
          ],
          [
           "Hombre",
           [
            "Adventure",
            "Marriage Drama",
            "Drama",
            "Film adaptation",
            "Romantic drama",
            "Romance Film",
            "Action"
           ]
          ],
          [
           "In the Heat of the Night",
           [
            "Western"
           ]
          ],
          [
           "The Jungle Book",
           [
            "Coming of age",
            "Adventure",
            "Children's/Family",
            "Costume drama",
            "Historical fiction",
            "Animation",
            "Fantasy",
            "Children's Fantasy",
            "Drama",
            "Sword and sorcery",
            "Family Film",
            "Mythological Fantasy",
            "Sword and sorcery films"
           ]
          ],
          [
           "Monkeys, Go Home!",
           [
            "Monster movie",
            "Cult",
            "Science Fiction",
            "Horror"
           ]
          ],
          [
           "The Night of the Generals",
           [
            "Thriller",
            "Crime Fiction",
            "Japanese Movies",
            "World cinema",
            "Gangster Film",
            "Drama",
            "Crime Thriller"
           ]
          ],
          [
           "Point Blank",
           [
            "Japanese Movies",
            "World cinema",
            "Black-and-white",
            "Action/Adventure",
            "Martial Arts Film",
            "Drama"
           ]
          ],
          [
           "Reflections in a Golden Eye",
           [
            "Drama",
            "Romance Film",
            "Coming of age",
            "Film adaptation"
           ]
          ],
          [
           "Rough Night in Jericho",
           [
            "Japanese Movies",
            "Erotic Drama",
            "Drama",
            "Erotica",
            "World cinema"
           ]
          ],
          [
           "Tarzan and the Great River",
           [
            "Erotic Drama",
            "Japanese Movies",
            "Art film",
            "World cinema",
            "Black-and-white",
            "Drama",
            "War film",
            "Romantic drama",
            "Romance Film",
            "Erotica"
           ]
          ],
          [
           "The Terrornauts",
           [
            "Romantic drama",
            "Romance Film",
            "Drama",
            "Period piece",
            "Film adaptation"
           ]
          ],
          [
           "They Came From Beyond Space",
           [
            "Drama",
            "Family Film",
            "Children's",
            "Fantasy",
            "Adventure"
           ]
          ],
          [
           "Jules Verne's Rocket to the Moon",
           [
            "Jungle Film",
            "Pre-Code",
            "Adventure",
            "Black-and-white"
           ]
          ],
          [
           "To Sir, with Love",
           [
            "Jungle Film",
            "Adventure",
            "Black-and-white"
           ]
          ],
          [
           "Tony Rome",
           [
            "LGBT",
            "Indie",
            "Gay Themed",
            "Gay",
            "Period piece",
            "Gay Interest",
            "Drama",
            "Film adaptation",
            "Romantic drama",
            "Romance Film"
           ]
          ],
          [
           "Ulysses",
           [
            "Romantic comedy",
            "Comedy of manners",
            "Comedy-drama",
            "Drama",
            "Comedy",
            "Coming of age",
            "Romance Film"
           ]
          ],
          [
           "Valley of the Dolls",
           [
            "Romance Film",
            "Drama",
            "Comedy film"
           ]
          ],
          [
           "The Way West",
           [
            "Indie",
            "World cinema",
            "Period piece",
            "Coming of age",
            "Film adaptation",
            "Drama",
            "Romance Film",
            "Biographical film"
           ]
          ],
          [
           "You Only Live Twice",
           [
            "Thriller",
            "Fantasy Adventure",
            "Japanese Movies",
            "Adventure",
            "Children's/Family",
            "Fantasy",
            "Children's Fantasy",
            "Family Film"
           ]
          ],
          [
           "The Young Warriors",
           [
            "Computer Animation",
            "Family Film",
            "Fantasy",
            "Christmas movie",
            "Animation"
           ]
          ],
          [
           "2001: A Space Odyssey",
           [
            "Romance Film",
            "Drama",
            "Medical fiction",
            "Black-and-white"
           ]
          ],
          [
           "Blackbeard's Ghost",
           [
            "Crime Fiction",
            "Thriller",
            "Detective fiction",
            "Detective",
            "Black-and-white",
            "Mystery",
            "Comedy",
            "Film adaptation",
            "Whodunit"
           ]
          ],
          [
           "Bullitt",
           [
            "Family Film",
            "Family Drama",
            "Drama",
            "Comedy",
            "Childhood Drama"
           ]
          ],
          [
           "Candy",
           [
            "Drama",
            "War film"
           ]
          ],
          [
           "Charly",
           [
            "Thriller",
            "Black-and-white",
            "Mystery",
            "Suspense",
            "Crime Thriller",
            "Spy"
           ]
          ],
          [
           "Chitty Chitty Bang Bang",
           [
            "Thriller",
            "Action",
            "Drama",
            "Indie"
           ]
          ],
          [
           "A Dandy in Aspic",
           [
            "Drama",
            "World cinema"
           ]
          ],
          [
           "The Detective",
           [
            "Musical",
            "Drama",
            "Family Film",
            "Adventure"
           ]
          ],
          [
           "The Devil Rides Out",
           [
            "Thriller",
            "Detective fiction",
            "Detective",
            "Mystery",
            "Film adaptation",
            "Crime Thriller",
            "Whodunit"
           ]
          ],
          [
           "Dracula Has Risen from the Grave",
           [
            "Thriller",
            "Romantic drama",
            "Romance Film",
            "Drama",
            "Film adaptation"
           ]
          ],
          [
           "The Fixer",
           [
            "Indie",
            "Period piece",
            "Drama",
            "Film adaptation",
            "Romantic drama",
            "Romance Film"
           ]
          ],
          [
           "The Fox",
           [
            "Action/Adventure",
            "Western",
            "Action"
           ]
          ],
          [
           "Guns in the Heather",
           [
            "Science Fiction",
            "Adventure",
            "Doomsday film",
            "Drama",
            "Film adaptation",
            "Time travel",
            "Action"
           ]
          ],
          [
           "The Horse in the Gray Flannel Suit",
           [
            "Thriller",
            "Mystery",
            "Psychological thriller",
            "Erotic thriller",
            "Suspense",
            "Crime Thriller"
           ]
          ],
          [
           "Ice Station Zebra",
           [
            "Action/Adventure",
            "Western",
            "Drama",
            "Film noir"
           ]
          ],
          [
           "Lady In Cement",
           [
            "Horror"
           ]
          ],
          [
           "The Lost Continent",
           [
            "Crime Fiction",
            "Drama",
            "Political drama",
            "Film adaptation"
           ]
          ],
          [
           "Never a Dull Moment",
           [
            "Thriller",
            "Crime Fiction",
            "Action/Adventure",
            "Drama",
            "Crime Thriller",
            "Action"
           ]
          ],
          [
           "Oliver!",
           [
            "Family Drama",
            "Animation",
            "Musical",
            "Children's",
            "Drama",
            "Music",
            "Family Film"
           ]
          ],
          [
           "Planet of the Apes",
           [
            "Drama"
           ]
          ],
          [
           "The Power",
           [
            "Crime Fiction",
            "Drama",
            "Political drama",
            "Film noir"
           ]
          ],
          [
           "Rosemary's Baby",
           [
            "Thriller",
            "Action Thrillers",
            "Science Fiction",
            "Future noir",
            "Adventure",
            "Doomsday film",
            "Action/Adventure",
            "Mystery",
            "Drama",
            "Film adaptation",
            "Action",
            "Dystopia"
           ]
          ],
          [
           "Shalako",
           [
            "Silent film",
            "Fantasy",
            "Black-and-white"
           ]
          ],
          [
           "The Split",
           [
            "Mockumentary",
            "World cinema",
            "Comedy-drama",
            "Satire",
            "Fantasy",
            "Comedy",
            "Drama",
            "Biographical film"
           ]
          ],
          [
           "The Swimmer",
           [
            "Crime Fiction",
            "Thriller",
            "Drama",
            "Film noir",
            "Crime Thriller"
           ]
          ],
          [
           "Tarzan and the Jungle Boy",
           [
            "Costume drama",
            "Black-and-white",
            "Period piece",
            "Drama",
            "Film adaptation",
            "Romantic drama",
            "Romance Film"
           ]
          ],
          [
           "The Vengeance of She",
           [
            "Horror"
           ]
          ],
          [
           "The Assassination Bureau",
           [
            "Action/Adventure",
            "Revisionist Western",
            "Western",
            "Action",
            "Drama"
           ]
          ],
          [
           "The Big Bounce",
           [
            "Thriller",
            "Crime Fiction",
            "World cinema",
            "Psychological thriller",
            "Black-and-white",
            "Drama",
            "Film noir"
           ]
          ],
          [
           "Camille 2000",
           [
            "Crime Fiction",
            "Indie",
            "Comedy-drama",
            "Drama",
            "Film adaptation",
            "Tragicomedy"
           ]
          ],
          [
           "Colossus: The Forbin Project",
           [
            "Science Fiction",
            "Silent film",
            "Indie",
            "Black-and-white",
            "Comedy"
           ]
          ],
          [
           "Goodbye, Columbus",
           [
            "Thriller",
            "Science Fiction",
            "Horror",
            "Black-and-white"
           ]
          ],
          [
           "Goodbye, Mr. Chips",
           [
            "Romance Film",
            "Comedy",
            "Domestic Comedy"
           ]
          ],
          [
           "The Great Bank Robbery",
           [
            "Thriller",
            "Mystery",
            "Science Fiction"
           ]
          ],
          [
           "The Gypsy Moths",
           [
            "Romantic comedy",
            "Slice of life story",
            "Comedy of manners",
            "Comedy-drama",
            "Drama",
            "Comedy",
            "Film adaptation",
            "Romantic drama",
            "Romance Film"
           ]
          ],
          [
           "The Illustrated Man",
           [
            "Drama",
            "Period piece",
            "Fantasy",
            "Biopic [feature]"
           ]
          ],
          [
           "Justine",
           [
            "Fantasy Adventure",
            "Japanese Movies",
            "Adventure",
            "World cinema",
            "Animation",
            "Anime",
            "Children's",
            "Fantasy",
            "Family Film",
            "Action",
            "Romance Film",
            "Steampunk"
           ]
          ],
          [
           "Mackenna's Gold",
           [
            "Romance Film",
            "Action",
            "Adventure"
           ]
          ],
          [
           "A Man Called Gannon",
           [
            "Thriller",
            "Crime Fiction",
            "World cinema",
            "Action/Adventure",
            "Martial Arts Film",
            "Action",
            "Chinese Movies"
           ]
          ],
          [
           "My Side of the Mountain",
           [
            "Musical",
            "Family Film",
            "Fantasy",
            "Comedy",
            "Family-Oriented Adventure"
           ]
          ],
          [
           "On Her Majesty's Secret Service",
           [
            "Thriller",
            "Crime Fiction",
            "Gangster Film",
            "Drama",
            "Suspense",
            "Film adaptation",
            "Crime Thriller"
           ]
          ],
          [
           "The Phantom Tollbooth",
           [
            "Science Fiction",
            "Japanese Movies",
            "Adventure",
            "World cinema"
           ]
          ],
          [
           "Rascal",
           [
            "Adventure",
            "Children's/Family",
            "Coming of age",
            "Comedy",
            "Film adaptation",
            "Family Film",
            "Family-Oriented Adventure",
            "Teen"
           ]
          ],
          [
           "The Reivers",
           [
            "Science Fiction",
            "Fantasy",
            "Adventure",
            "Film adaptation"
           ]
          ],
          [
           "Scream and Scream Again",
           [
            "Cult",
            "Science Fiction",
            "Fantasy Adventure",
            "Fantasy",
            "Adventure"
           ]
          ],
          [
           "Smith!",
           [
            "Science Fiction",
            "Horror",
            "Indie",
            "Doomsday film",
            "Black-and-white",
            "Apocalyptic and post-apocalyptic fiction"
           ]
          ],
          [
           "The Stalking Moon",
           [
            "Thriller",
            "Melodrama",
            "Erotica",
            "World cinema",
            "Erotic Drama",
            "Drama",
            "Romantic drama",
            "Romance Film"
           ]
          ],
          [
           "Taste the Blood of Dracula",
           [
            "Cult",
            "Drama",
            "Film adaptation",
            "Horror",
            "Supernatural"
           ]
          ],
          [
           "They Shoot Horses, Don't They?",
           [
            "Drama",
            "Comedy"
           ]
          ],
          [
           "Topaz",
           [
            "Children's/Family",
            "Family Film",
            "Animation",
            "Holiday Film",
            "Animated cartoon"
           ]
          ],
          [
           "True Grit",
           [
            "Thriller",
            "Mystery",
            "Horror",
            "Psychological thriller"
           ]
          ],
          [
           "Une femme douce",
           [
            "Crime Fiction",
            "Drama",
            "Film noir"
           ]
          ],
          [
           "The Wonderful Land of Oz",
           [
            "Thriller",
            "Remake",
            "Action/Adventure",
            "Mystery",
            "Drama",
            "Suspense",
            "Film adaptation",
            "Action",
            "Spy"
           ]
          ],
          [
           "Young Billy Young",
           [
            "Drama"
           ]
          ],
          [
           "The Adventurers",
           [
            "Drama"
           ]
          ],
          [
           "Airport",
           [
            "Action/Adventure",
            "Crime Fiction",
            "Western",
            "Action"
           ]
          ],
          [
           "Beneath the Planet of the Apes",
           [
            "Costume drama",
            "Period piece",
            "Musical",
            "Drama",
            "Family Film",
            "Romance Film"
           ]
          ],
          [
           "Captain Nemo and the Underwater City",
           [
            "Horror"
           ]
          ],
          [
           "Catch-22",
           [
            "Crime Fiction",
            "Gangster Film",
            "Crime Drama",
            "Drama",
            "Comedy",
            "Coming of age",
            "Action"
           ]
          ],
          [
           "Doctor in Trouble",
           [
            "Mystery",
            "Detective fiction",
            "Whodunit",
            "Detective"
           ]
          ],
          [
           "Frankenstein Must Be Destroyed",
           [
            "Disaster",
            "Science Fiction",
            "Apocalyptic and post-apocalyptic fiction",
            "Black-and-white",
            "Natural disaster"
           ]
          ],
          [
           "The Hawaiians",
           [
            "Melodrama",
            "Drama",
            "Erotica",
            "Sexploitation"
           ]
          ],
          [
           "The Horror of Frankenstein",
           [
            "Erotica",
            "Drama",
            "Comedy",
            "Film adaptation",
            "Romantic drama",
            "Romance Film"
           ]
          ],
          [
           "Jane Eyre",
           [
            "Thriller",
            "Romance Film",
            "Horror"
           ]
          ],
          [
           "Love Story",
           [
            "World cinema",
            "Musical",
            "Drama",
            "Romantic drama",
            "Romance Film",
            "Bollywood",
            "World cinema",
            "Musical",
            "Drama",
            "Romantic drama",
            "Romance Film",
            "Bollywood"
           ]
          ],
          [
           "A Man Called Horse",
           [
            "Spy"
           ]
          ],
          [
           "The Molly Maguires",
           [
            "Thriller",
            "Crime Fiction",
            "Psychological thriller",
            "Mystery",
            "Suspense",
            "Film adaptation",
            "Crime Thriller"
           ]
          ],
          [
           "Promise at Dawn",
           [
            "Adventure",
            "Animation",
            "Children's",
            "Fantasy",
            "Comedy",
            "Family Film",
            "Slapstick"
           ]
          ],
          [
           "The Railway Children",
           [
            "Thriller",
            "Mystery",
            "Drama",
            "Psychological thriller",
            "Suspense"
           ]
          ],
          [
           "Scrooge",
           [
            "Wuxia",
            "World cinema",
            "Action/Adventure",
            "Comedy",
            "Romance Film",
            "Action",
            "Chinese Movies"
           ]
          ],
          [
           "Tarzan's Deadly Silence",
           [
            "Satire",
            "Horror",
            "Horror Comedy",
            "Costume Horror"
           ]
          ],
          [
           "The Virgin and the Gypsy",
           [
            "Family Film",
            "Drama",
            "Adventure",
            "World cinema",
            "Childhood Drama"
           ]
          ],
          [
           "WUSA",
           [
            "Action/Adventure",
            "Western",
            "Action",
            "Film adaptation"
           ]
          ],
          [
           "Women in Love",
           [
            "Thriller",
            "Mystery",
            "Psychological thriller"
           ]
          ],
          [
           "Wuthering Heights",
           [
            "Period piece",
            "Biography",
            "Drama",
            "Adventure"
           ]
          ],
          [
           "The Anderson Tapes",
           [
            "Fantasy Adventure",
            "Adventure",
            "Adventure Comedy",
            "Comedy",
            "Fantasy",
            "Family Film",
            "Action"
           ]
          ],
          [
           "The Andromeda Strain",
           [
            "Swashbuckler films",
            "Adventure",
            "Superhero movie",
            "Epic",
            "Black-and-white",
            "Action/Adventure",
            "Action"
           ]
          ],
          [
           "Bedknobs and Broomsticks",
           [
            "Crime Fiction",
            "Parody",
            "Comedy-drama",
            "Drama",
            "Comedy",
            "Black comedy"
           ]
          ],
          [
           "The Beguiled",
           [
            "Drama",
            "Indie",
            "Film adaptation"
           ]
          ],
          [
           "Black Beauty",
           [
            "Family Film",
            "Animation"
           ]
          ],
          [
           "Catlow",
           [
            "Thriller",
            "Science Fiction",
            "Horror",
            "Supernatural",
            "Mystery",
            "Fantasy",
            "Suspense",
            "Family Film",
            "Haunted House Film"
           ]
          ],
          [
           "A Clockwork Orange",
           [
            "Thriller",
            "Indie",
            "Film adaptation",
            "Mystery",
            "Drama",
            "Political thriller",
            "Political drama"
           ]
          ],
          [
           "The Devils",
           [
            "Romantic comedy",
            "Slice of life story",
            "Comedy-drama",
            "Coming of age",
            "Comedy",
            "Drama",
            "Romance Film"
           ]
          ],
          [
           "Diamonds Are Forever",
           [
            "Crime Fiction",
            "Indie",
            "Crime Drama",
            "Action/Adventure",
            "Blaxploitation",
            "Drama",
            "Action"
           ]
          ],
          [
           "Dracula vs. Frankenstein",
           [
            "Thriller",
            "Crime Fiction",
            "Adventure",
            "Detective",
            "Mystery",
            "Drama",
            "Comedy",
            "Crime Thriller",
            "Family Film",
            "Teen"
           ]
          ],
          [
           "Escape from the Planet of the Apes",
           [
            "Thriller",
            "Crime Fiction",
            "Gangster Film",
            "Indie",
            "Action/Adventure",
            "Blaxploitation",
            "Drama",
            "Action Thrillers",
            "Action",
            "Adventure"
           ]
          ],
          [
           "Get Carter",
           [
            "Romantic drama",
            "Drama",
            "Comedy",
            "Political drama"
           ]
          ],
          [
           "The Grissom Gang",
           [
            "Thriller",
            "Mystery",
            "Crime Fiction",
            "Drama",
            "Crime Thriller"
           ]
          ],
          [
           "Kidnapped",
           [
            "LGBT",
            "Science Fiction",
            "Black-and-white"
           ]
          ],
          [
           "Lady Frankenstein",
           [
            "World cinema",
            "Musical",
            "Drama",
            "Romantic drama",
            "Romance Film",
            "Bollywood"
           ]
          ],
          [
           "The Last Picture Show",
           [
            "Bengali Cinema",
            "Black-and-white"
           ]
          ],
          [
           "The Mephisto Waltz",
           [
            "Science Fiction",
            "Indie",
            "Drama",
            "Film adaptation",
            "Feminist Film",
            "Dystopia"
           ]
          ],
          [
           "The Night Digger",
           [
            "Costume Horror",
            "Horror",
            "Creature Film",
            "Monster"
           ]
          ],
          [
           "The Omega Man",
           [
            "Tragedy",
            "Family Drama",
            "Science Fiction",
            "Domestic Comedy",
            "Fantasy",
            "Comedy",
            "Film adaptation",
            "Drama",
            "Family Film",
            "Romance Film"
           ]
          ],
          [
           "The Organization",
           [
            "Silent film",
            "Indie",
            "World cinema",
            "Black-and-white",
            "Drama",
            "Political drama",
            "Documentary",
            "Silent film",
            "Indie",
            "World cinema",
            "Black-and-white",
            "Drama",
            "Political drama",
            "Documentary"
           ]
          ],
          [
           "The Tales of Beatrix Potter",
           [
            "Cult",
            "Science Fiction",
            "Drama",
            "Film adaptation"
           ]
          ],
          [
           "Quest for Love",
           [
            "Swashbuckler films",
            "Adventure",
            "Costume drama",
            "Action/Adventure",
            "Period piece",
            "Drama",
            "Comedy",
            "Film adaptation",
            "Action"
           ]
          ],
          [
           "Scars of Dracula",
           [
            "Horror",
            "Costume drama",
            "Mystery",
            "Period piece",
            "Fantasy",
            "Monster",
            "Drama",
            "Romantic drama",
            "Romance Film"
           ]
          ],
          [
           "Shaft",
           [
            "Erotic Drama",
            "Period piece",
            "Marriage Drama",
            "Drama",
            "Film adaptation",
            "Romantic drama",
            "Romance Film"
           ]
          ],
          [
           "Straw Dogs",
           [
            "Americana",
            "Social problem film",
            "Family Drama",
            "Black-and-white",
            "Drama",
            "Film adaptation"
           ]
          ],
          [
           "Valdez Is Coming",
           [
            "Action/Adventure",
            "Action",
            "Drama",
            "Melodrama"
           ]
          ],
          [
           "Walkabout",
           [
            "Jungle Film",
            "Action",
            "Drama",
            "Adventure"
           ]
          ],
          [
           "When Eight Bells Toll",
           [
            "Thriller",
            "Crime Fiction",
            "Crime Drama",
            "Coming of age",
            "Film adaptation",
            "Drama",
            "Crime Thriller"
           ]
          ],
          [
           "Willard",
           [
            "Romantic comedy",
            "Comedy-drama",
            "Workplace Comedy",
            "Drama",
            "Comedy",
            "Film adaptation",
            "Romance Film"
           ]
          ],
          [
           "Willy Wonka & the Chocolate Factory",
           [
            "Melodrama",
            "Indie",
            "Period piece",
            "Drama",
            "Film adaptation",
            "Romantic drama",
            "Romance Film"
           ]
          ],
          [
           "Across 110th Street",
           [
            "Action/Adventure",
            "Western"
           ]
          ],
          [
           "Alice's Adventures in Wonderland",
           [
            "Swashbuckler films",
            "Action",
            "Adventure",
            "Black-and-white"
           ]
          ],
          [
           "Asylum",
           [
            "Romantic drama",
            "Romance Film",
            "Drama",
            "World cinema"
           ]
          ],
          [
           "Ben",
           [
            "History",
            "Romance Film",
            "Drama",
            "Historical drama",
            "War film"
           ]
          ],
          [
           "The Biscuit Eater",
           [
            "Silent film",
            "Indie",
            "Black-and-white"
           ]
          ],
          [
           "Blacula",
           [
            "Silent film",
            "Indie",
            "Black-and-white"
           ]
          ],
          [
           "Blood from the Mummy's Tomb",
           [
            "Family Film",
            "Drama",
            "Comedy",
            "Film adaptation"
           ]
          ],
          [
           "The Carey Treatment",
           [
            "Adventure",
            "Children's/Family",
            "Musical",
            "Children's",
            "Family Film",
            "Family-Oriented Adventure"
           ]
          ],
          [
           "Conquest of the Planet of the Apes",
           [
            "Thriller",
            "Family Film",
            "Action",
            "Adventure",
            "Spy"
           ]
          ],
          [
           "The Cowboys",
           [
            "Silent film",
            "Indie",
            "Black-and-white",
            "Drama",
            "Romantic drama",
            "Romance Film"
           ]
          ],
          [
           "Deliverance",
           [
            "Jungle Film",
            "Action",
            "Adventure"
           ]
          ],
          [
           "Dracula A.D.1972",
           [
            "Jungle Film",
            "Action",
            "Adventure"
           ]
          ],
          [
           "Fear in the Night",
           [
            "Crime Fiction",
            "Crime Drama",
            "Road movie",
            "Americana",
            "Drama",
            "Romantic drama",
            "Romance Film",
            "New Hollywood"
           ]
          ],
          [
           "Frenzy",
           [
            "Comedy"
           ]
          ],
          [
           "The Getaway",
           [
            "Comedy"
           ]
          ],
          [
           "The Godfather",
           [
            "Thriller",
            "Mystery",
            "Horror",
            "Slasher",
            "Psychological thriller"
           ]
          ],
          [
           "Hit Man",
           [
            "Thriller",
            "Swashbuckler films",
            "Adventure",
            "Costume drama",
            "Black-and-white",
            "Drama"
           ]
          ],
          [
           "The Hot Rock",
           [
            "War film",
            "Black-and-white",
            "Drama",
            "Film adaptation",
            "Pre-Code",
            "Action"
           ]
          ],
          [
           "I, Monster",
           [
            "LGBT",
            "Crime Fiction",
            "Detective fiction",
            "Detective",
            "Black-and-white",
            "Mystery",
            "Pre-Code",
            "Romance Film",
            "Film noir",
            "Thriller"
           ]
          ],
          [
           "Man of La Mancha",
           [
            "Thriller",
            "LGBT",
            "Detective fiction",
            "Detective",
            "Black-and-white",
            "Mystery",
            "Crime Fiction",
            "Film adaptation",
            "Drama",
            "Crime Thriller",
            "Film noir"
           ]
          ],
          [
           "Night of the Lepus",
           [
            "Parody",
            "Comedy-drama",
            "Workplace Comedy",
            "Drama",
            "Comedy",
            "Film adaptation",
            "Romance Film"
           ]
          ],
          [
           "The Nightcomers",
           [
            "Drama",
            "Silent film",
            "Fantasy",
            "Indie",
            "Black-and-white"
           ]
          ],
          [
           "Pete 'n' Tillie",
           [
            "Family Film",
            "Fantasy",
            "Adventure",
            "Comedy"
           ]
          ],
          [
           "Pocket Money",
           [
            "Drama",
            "Children's",
            "Fantasy"
           ]
          ],
          [
           "Portnoy's Complaint",
           [
            "Animation"
           ]
          ],
          [
           "The Poseidon Adventure",
           [
            "Crime Fiction",
            "Family Drama",
            "Childhood Drama",
            "Black-and-white",
            "Mystery",
            "Drama",
            "Film adaptation",
            "Courtroom Drama"
           ]
          ],
          [
           "The Call of the Wild",
           [
            "Thriller",
            "Supernatural",
            "Horror",
            "Film adaptation"
           ]
          ],
          [
           "Treasure Island",
           [
            "Thriller",
            "Action Thrillers",
            "Film adaptation",
            "Doomsday film",
            "War film",
            "Action/Adventure",
            "Drama",
            "Suspense",
            "Political thriller",
            "Action",
            "Spy"
           ]
          ],
          [
           "Slaughterhouse-Five",
           [
            "Crime Fiction",
            "Drama",
            "Art film",
            "World cinema"
           ]
          ],
          [
           "Snowball Express",
           [
            "Japanese Movies",
            "Drama"
           ]
          ],
          [
           "Sounder",
           [
            "Romance Film",
            "Film adaptation",
            "Drama",
            "War film"
           ]
          ],
          [
           "The Woman Hunt",
           [
            "Japanese Movies",
            "Action",
            "Anime",
            "Fantasy",
            "Animation"
           ]
          ],
          [
           "Battle for the Planet of the Apes",
           [
            "World cinema",
            "Musical",
            "Drama",
            "Tamil cinema",
            "Tollywood",
            "Romantic drama",
            "Romance Film"
           ]
          ],
          [
           "Black Caesar",
           [
            "Family Film",
            "Family Drama",
            "Drama",
            "Adventure",
            "Comedy"
           ]
          ],
          [
           "Charley Varrick",
           [
            "Action/Adventure",
            "Action",
            "Drama",
            "Adventure",
            "Film adaptation"
           ]
          ],
          [
           "Charley and the Angel",
           [
            "Action",
            "Adventure",
            "Black-and-white"
           ]
          ],
          [
           "Cinderella Liberty",
           [
            "Thriller",
            "Mystery",
            "Horror"
           ]
          ],
          [
           "Cops and Robbers",
           [
            "Adventure",
            "Children's/Family",
            "Animation",
            "Fantasy",
            "Children's Fantasy",
            "Family Film"
           ]
          ],
          [
           "The Day of the Dolphin",
           [
            "Crime Fiction",
            "Indie",
            "Coming of age",
            "Romantic drama",
            "Drama",
            "Romance Film"
           ]
          ],
          [
           "The Day of the Jackal",
           [
            "Science Fiction",
            "Silent film",
            "Indie",
            "Black-and-white"
           ]
          ],
          [
           "Don't Look Now",
           [
            "War film"
           ]
          ],
          [
           "Charlotte's Web",
           [
            "War film"
           ]
          ],
          [
           "The Exorcist",
           [
            "Romance Film",
            "Roadshow theatrical release",
            "Drama",
            "War film",
            "Film adaptation"
           ]
          ],
          [
           "From the Mixed-Up Files of Mrs. Basil E. Frankweiler",
           [
            "Romantic drama",
            "Romance Film",
            "Drama"
           ]
          ],
          [
           "Hell Up in Harlem",
           [
            "Black-and-white"
           ]
          ],
          [
           "The Last Detail",
           [
            "Crime Fiction",
            "Thriller",
            "Detective",
            "Mystery",
            "Suspense",
            "Crime Thriller"
           ]
          ],
          [
           "The Legend of Hell House",
           [
            "Adventure",
            "Heavenly Comedy",
            "Children's",
            "Fantasy",
            "Comedy",
            "Drama",
            "Family Film",
            "Slapstick"
           ]
          ],
          [
           "The Legend of the 7 Golden Vampires",
           [
            "Period piece",
            "War film",
            "Drama",
            "Film adaptation"
           ]
          ],
          [
           "Live and Let Die",
           [
            "Mystery",
            "Family Film",
            "Family Drama",
            "Drama",
            "Adventure"
           ]
          ],
          [
           "The Long Goodbye",
           [
            "Romantic comedy",
            "Romance Film",
            "Comedy",
            "Indie"
           ]
          ],
          [
           "Lost Horizon",
           [
            "Drama",
            "Family Drama",
            "Coming of age",
            "Film adaptation"
           ]
          ],
          [
           "Night Watch",
           [
            "Silent film",
            "Action",
            "Indie",
            "Black-and-white",
            "Adventure"
           ]
          ],
          [
           "Paper Moon",
           [
            "Thriller",
            "Adventure",
            "Psychological thriller",
            "Action/Adventure",
            "Drama",
            "Film adaptation",
            "Stoner film",
            "Action",
            "Romance Film",
            "Thriller",
            "Adventure",
            "Psychological thriller",
            "Action/Adventure",
            "Drama",
            "Film adaptation",
            "Stoner film",
            "Action",
            "Romance Film"
           ]
          ],
          [
           "Save the Tiger",
           [
            "Musical",
            "Family Film",
            "Fantasy",
            "Adventure",
            "Comedy"
           ]
          ],
          [
           "Scream Blacula Scream",
           [
            "Romantic drama",
            "Romance Film",
            "Drama"
           ]
          ],
          [
           "Shaft in Africa",
           [
            "B-movie",
            "Gothic Film",
            "Creature Film",
            "Monster",
            "Horror",
            "Costume Horror"
           ]
          ],
          [
           "Soylent Green",
           [
            "Crime Fiction",
            "Drama",
            "Film noir",
            "Courtroom Drama"
           ]
          ],
          [
           "The Spook Who Sat By The Door",
           [
            "Adventure",
            "Costume drama",
            "Black-and-white",
            "Action/Adventure",
            "Drama",
            "Family Film",
            "Action"
           ]
          ],
          [
           "Tom Sawyer",
           [
            "Family Film",
            "Children's/Family",
            "Adventure",
            "Family-Oriented Adventure",
            "Animation"
           ]
          ],
          [
           "Airport 1975",
           [
            "LGBT",
            "Gay Themed",
            "Drama",
            "Film adaptation"
           ]
          ],
          [
           "The Apprenticeship of Duddy Kravitz",
           [
            "Crime Fiction",
            "Childhood Drama",
            "Musical",
            "Drama",
            "Family Film",
            "Musical Drama"
           ]
          ],
          [
           "The Beast Must Die",
           [
            "Western",
            "Drama",
            "Family Film",
            "Black-and-white",
            "Epic"
           ]
          ],
          [
           "The Black Windmill",
           [
            "Thriller",
            "Japanese Movies"
           ]
          ],
          [
           "Cockfighter",
           [
            "Science Fiction",
            "Drama"
           ]
          ],
          [
           "Crash",
           [
            "Thriller",
            "Crime Thriller",
            "Horror",
            "Psychological thriller",
            "Period piece",
            "Satire",
            "Drama",
            "Comedy",
            "Film adaptation",
            "Crime Fiction",
            "Black comedy",
            "Slasher"
           ]
          ],
          [
           "Death Wish",
           [
            "Thriller",
            "Fantasy",
            "Action",
            "Horror"
           ]
          ],
          [
           "Frankenstein and the Monster from Hell",
           [
            "Horror"
           ]
          ],
          [
           "The Girl from Petrovka",
           [
            "Thriller",
            "Science Fiction",
            "Action",
            "Adventure"
           ]
          ],
          [
           "The Godfather Part II",
           [
            "Family Film",
            "Drama",
            "Adventure",
            "Children's/Family"
           ]
          ],
          [
           "Gold",
           [
            "Cult",
            "Horror",
            "Supernatural"
           ]
          ],
          [
           "The Great Gatsby",
           [
            "Family Film",
            "Drama",
            "Adventure"
           ]
          ],
          [
           "Huckleberry Finn",
           [
            "Thriller",
            "Action Thrillers",
            "Mystery",
            "Glamorized Spy Film",
            "Film adaptation",
            "Action",
            "Spy"
           ]
          ],
          [
           "The Klansman",
           [
            "Drama",
            "Horror"
           ]
          ],
          [
           "Lovin' Molly",
           [
            "War film",
            "Mystery",
            "Period piece",
            "Drama",
            "Film adaptation",
            "Romantic drama",
            "Romance Film"
           ]
          ],
          [
           "The Man with the Golden Gun",
           [
            "Thriller",
            "Science Fiction",
            "Adventure",
            "Supernatural",
            "Psychological thriller",
            "Mystery",
            "Drama",
            "Film adaptation",
            "Romance Film"
           ]
          ],
          [
           "Murder on the Orient Express",
           [
            "Adventure",
            "Period piece",
            "Action/Adventure",
            "Western",
            "Coming of age",
            "Film adaptation",
            "Drama",
            "Romantic drama",
            "Romance Film"
           ]
          ],
          [
           "Vampira",
           [
            "Thriller",
            "Crime Fiction",
            "Mystery",
            "Drama",
            "Suspense",
            "Crime Thriller"
           ]
          ],
          [
           "Stardust",
           [
            "Action/Adventure",
            "Western"
           ]
          ],
          [
           "The Taking of Pelham One Two Three",
           [
            "World cinema",
            "Black-and-white",
            "Period piece",
            "Marriage Drama",
            "Drama",
            "Addiction Drama",
            "Film adaptation",
            "Romantic drama",
            "Romance Film"
           ]
          ],
          [
           "The Terminal Man",
           [
            "Drama",
            "Romantic drama",
            "Comedy-drama",
            "Comedy"
           ]
          ],
          [
           "Thieves Like Us",
           [
            "Sex comedy",
            "Coming of age",
            "Comedy-drama",
            "Cult",
            "Fantasy",
            "Comedy",
            "Film adaptation",
            "Drama",
            "Black comedy"
           ]
          ],
          [
           "The Three Musketeers",
           [
            "Romantic comedy",
            "Comedy-drama",
            "Animation",
            "Drama",
            "Comedy",
            "Film adaptation",
            "Romantic drama",
            "Romance Film",
            "Family Film"
           ]
          ],
          [
           "The Towering Inferno",
           [
            "History",
            "Roadshow theatrical release",
            "Epic",
            "Period piece",
            "War film",
            "Drama",
            "Costume drama",
            "Romantic drama",
            "Biographical film",
            "Romance Film"
           ]
          ],
          [
           "Where the Red Fern Grows",
           [
            "Horror",
            "Fantasy",
            "Adventure"
           ]
          ],
          [
           "Young Frankenstein",
           [
            "Swashbuckler films",
            "Adventure",
            "World cinema",
            "Costume drama",
            "Action/Adventure",
            "Period piece",
            "Drama",
            "Comedy",
            "Film adaptation",
            "Action"
           ]
          ],
          [
           "Zorro",
           [
            "Swashbuckler films",
            "Adventure",
            "Costume drama",
            "Action/Adventure",
            "Comedy",
            "Action"
           ]
          ],
          [
           "The Apple Dumpling Gang",
           [
            "Drama",
            "Adventure"
           ]
          ],
          [
           "Barry Lyndon",
           [
            "Crime Fiction",
            "Gangster Film",
            "Period piece",
            "Coming of age",
            "Film adaptation",
            "Drama",
            "Crime Thriller"
           ]
          ],
          [
           "The Black Bird",
           [
            "Melodrama",
            "Crime Drama",
            "Family Drama",
            "Mystery",
            "Drama",
            "Romance Film",
            "Film noir"
           ]
          ],
          [
           "Breakheart Pass",
           [
            "Family Film",
            "Fantasy",
            "Comedy",
            "Animation"
           ]
          ],
          [
           "The Day of the Locust",
           [
            "Japanese Movies",
            "Drama"
           ]
          ],
          [
           "Death Race 2000",
           [
            "Romance Film",
            "Silent film",
            "Drama",
            "Indie",
            "Black-and-white"
           ]
          ],
          [
           "The Drowning Pool",
           [
            "Thriller",
            "Horror",
            "Supernatural",
            "Mystery",
            "Fantasy",
            "Film adaptation",
            "Zombie Film",
            "Drama"
           ]
          ],
          [
           "Escape to Witch Mountain",
           [
            "Thriller",
            "Crime Fiction",
            "Detective",
            "Mystery",
            "Period piece",
            "Drama",
            "Film adaptation",
            "Crime Thriller"
           ]
          ],
          [
           "The Four Musketeers",
           [
            "Cult",
            "Monster movie",
            "Horror"
           ]
          ],
          [
           "The Great Macarthy",
           [
            "Silent film",
            "Drama",
            "Indie",
            "Black-and-white"
           ]
          ],
          [
           "Jaws",
           [
            "Science Fiction",
            "Indie",
            "Fantasy",
            "Time travel",
            "Family Film",
            "Adventure"
           ]
          ],
          [
           "The Killer Elite",
           [
            "Science Fiction",
            "Adventure",
            "Stop motion",
            "Film adaptation",
            "Action/Adventure",
            "Fantasy",
            "Monster",
            "Drama",
            "Family Film",
            "Action",
            "Steampunk"
           ]
          ],
          [
           "Legend of the Werewolf",
           [
            "Family Film",
            "Animal Picture",
            "Drama",
            "Comedy"
           ]
          ],
          [
           "The Man Who Would Be King",
           [
            "Ensemble Film",
            "Adventure",
            "Comedy-drama",
            "Coming of age",
            "Comedy",
            "Drama",
            "Romance Film"
           ]
          ],
          [
           "The Old Curiosity Shop",
           [
            "Action/Adventure",
            "Thriller",
            "Glamorized Spy Film",
            "Action",
            "Spy"
           ]
          ],
          [
           "One Flew Over the Cuckoo's Nest",
           [
            "Crime Fiction",
            "Heist",
            "Crime Comedy",
            "Caper story",
            "Action/Adventure",
            "Comedy",
            "Action"
           ]
          ],
          [
           "The Reincarnation of Peter Proud",
           [
            "Action/Adventure",
            "Crime Fiction",
            "Western",
            "Action",
            "Heist"
           ]
          ],
          [
           "Rollerball",
           [
            "Crime Fiction",
            "Mystery",
            "Caper story"
           ]
          ],
          [
           "Rooster Cogburn",
           [
            "Crime Fiction",
            "Heist",
            "Drama",
            "Crime Thriller",
            "Thriller"
           ]
          ],
          [
           "The Stepford Wives",
           [
            "Crime Fiction",
            "Adventure",
            "Mystery",
            "Drama",
            "Comedy",
            "Family Film"
           ]
          ],
          [
           "Three Days of the Condor",
           [
            "Crime Fiction"
           ]
          ],
          [
           "The Wild Party",
           [
            "Crime Fiction",
            "Thriller",
            "Drama"
           ]
          ],
          [
           "Winstanley",
           [
            "Crime Fiction",
            "Heist",
            "Action/Adventure",
            "Drama",
            "Comedy",
            "Film adaptation",
            "Action"
           ]
          ],
          [
           "At the Earth's Core",
           [
            "Crime Fiction",
            "Thriller",
            "Comedy"
           ]
          ],
          [
           "The Bawdy Adventures of Tom Jones",
           [
            "Crime Fiction",
            "Heist",
            "Drama",
            "Comedy",
            "Gangster Film"
           ]
          ],
          [
           "The Blue Bird",
           [
            "Crime Fiction",
            "Thriller",
            "Crime Comedy",
            "Heist",
            "Caper story",
            "Crime Thriller"
           ]
          ],
          [
           "Breaking Point",
           [
            "Costume drama",
            "Family Drama",
            "Coming of age",
            "Film adaptation",
            "Drama",
            "Fantasy",
            "Romance Film",
            "Family Film",
            "Teen"
           ]
          ],
          [
           "Carrie",
           [
            "World cinema",
            "Musical",
            "Drama",
            "Romantic drama",
            "Romance Film",
            "Bollywood"
           ]
          ],
          [
           "The Eagle Has Landed",
           [
            "Fantasy Adventure",
            "Children's/Family",
            "Coming of age",
            "Children's Fantasy",
            "Fantasy",
            "Family Film"
           ]
          ],
          [
           "Family Plot",
           [
            "Tragedy",
            "Surrealism",
            "Period piece",
            "Satire",
            "Drama",
            "Film adaptation",
            "New Hollywood"
           ]
          ],
          [
           "The Food of the Gods",
           [
            "Thriller",
            "Alien Film",
            "Science Fiction",
            "Horror",
            "Drama"
           ]
          ],
          [
           "Cross of Iron",
           [
            "Thriller",
            "Mystery",
            "Ensemble Film",
            "Whodunit",
            "Psychological thriller"
           ]
          ],
          [
           "The Killer Inside Me",
           [
            "Romance Film",
            "Melodrama",
            "Drama",
            "Black-and-white"
           ]
          ],
          [
           "Logan's Run",
           [
            "Thriller",
            "Crime Fiction",
            "Detective fiction",
            "Detective",
            "Mystery",
            "Crime Thriller",
            "Film noir"
           ]
          ],
          [
           "Man Friday",
           [
            "Thriller",
            "Crime Fiction",
            "Indie",
            "Drama",
            "Crime Thriller",
            "Romantic drama",
            "Romance Film",
            "Action"
           ]
          ],
          [
           "The Man Who Fell to Earth",
           [
            "Action/Adventure",
            "Animal Picture",
            "Drama",
            "Adventure"
           ]
          ],
          [
           "Marathon Man",
           [
            "Thriller",
            "Action/Adventure",
            "Political thriller",
            "Action Thrillers",
            "Mystery",
            "Suspense",
            "Film adaptation",
            "Action",
            "Courtroom Drama"
           ]
          ],
          [
           "Obsession",
           [
            "Cult",
            "Science Fiction",
            "Horror",
            "Creature Film",
            "Film adaptation"
           ]
          ],
          [
           "One of Our Dinosaurs is Missing",
           [
            "Thriller",
            "Adventure",
            "War film",
            "Action/Adventure",
            "Period piece",
            "Drama",
            "Film adaptation",
            "Action"
           ]
          ],
          [
           "The Outlaw Josey Wales",
           [
            "Mystery",
            "Romance Film",
            "Drama",
            "Indie",
            "Film adaptation"
           ]
          ],
          [
           "Oz",
           [
            "Thriller",
            "LGBT",
            "Film adaptation",
            "Gay",
            "Gay Interest",
            "Drama",
            "Marriage Drama",
            "Gay Themed"
           ]
          ],
          [
           "The Return of a Man Called Horse",
           [
            "Thriller",
            "Crime Fiction",
            "Psychological thriller",
            "Mystery",
            "Drama",
            "Film adaptation",
            "Crime Thriller"
           ]
          ],
          [
           "Ride a Wild Pony",
           [
            "Action/Adventure",
            "Drama",
            "Action",
            "Historical fiction",
            "Adventure",
            "Action/Adventure",
            "Drama",
            "Action",
            "Historical fiction",
            "Adventure"
           ]
          ],
          [
           "The Sailor Who Fell from Grace with the Sea",
           [
            "Family Film",
            "Adventure",
            "Family Film",
            "Adventure"
           ]
          ],
          [
           "The Seven-Per-Cent Solution",
           [
            "Black comedy",
            "Satire",
            "Drama",
            "Comedy"
           ]
          ],
          [
           "The Shaggy D.A.",
           [
            "Adventure",
            "Children's/Family",
            "Animal Picture",
            "Children's",
            "Drama",
            "Comedy",
            "Family Film",
            "Family-Oriented Adventure"
           ]
          ],
          [
           "The Shootist",
           [
            "Thriller",
            "Sci-Fi Horror",
            "Horror",
            "Science Fiction"
           ]
          ],
          [
           "Shout at the Devil",
           [
            "Drama",
            "Television movie"
           ]
          ],
          [
           "Spy Story",
           [
            "Black-and-white"
           ]
          ],
          [
           "To the Devil a Daughter",
           [
            "Family Drama",
            "Adventure",
            "Children's/Family",
            "Animal Picture",
            "Coming of age",
            "Film adaptation",
            "Drama",
            "Family Film"
           ]
          ],
          [
           "Treasure of Matecumbe",
           [
            "Musical",
            "Family Drama",
            "Drama",
            "Family Film",
            "Black-and-white"
           ]
          ],
          [
           "Two-Minute Warning",
           [
            "Mystery",
            "Romance Film",
            "Drama"
           ]
          ],
          [
           "Airport '77",
           [
            "Children's"
           ]
          ],
          [
           "Audrey Rose",
           [
            "Drama"
           ]
          ],
          [
           "Black Sunday",
           [
            "Science Fiction",
            "Horror",
            "World cinema",
            "Action/Adventure",
            "Drama",
            "Comedy",
            "Monster"
           ]
          ],
          [
           "Candleshoe",
           [
            "Crime Fiction",
            "Screwball comedy",
            "Indie",
            "Comedy"
           ]
          ],
          [
           "Damnation Alley",
           [
            "World cinema",
            "Musical",
            "Drama",
            "Romantic drama",
            "Romance Film",
            "Bollywood"
           ]
          ],
          [
           "The Deep",
           [
            "Disaster",
            "Science Fiction",
            "Doomsday film"
           ]
          ],
          [
           "Demon Seed",
           [
            "Family Film",
            "Drama"
           ]
          ],
          [
           "The Duellists",
           [
            "Drama",
            "Film à clef",
            "Film adaptation"
           ]
          ],
          [
           "Empire of the Ants",
           [
            "Monster movie",
            "Science Fiction",
            "Horror",
            "Cult",
            "Drama",
            "Horror Comedy",
            "Film adaptation"
           ]
          ],
          [
           "Exorcist II: The Heretic",
           [
            "Adventure",
            "Costume Adventure",
            "Historical fiction",
            "Epic",
            "Action/Adventure",
            "Period piece",
            "Drama",
            "Action"
           ]
          ],
          [
           "Freaky Friday",
           [
            "Thriller",
            "Crime Fiction",
            "War film",
            "Period piece",
            "Drama",
            "Suspense",
            "Film adaptation",
            "Romantic drama",
            "Romance Film",
            "Spy"
           ]
          ],
          [
           "The Hound of the Baskervilles",
           [
            "Comedy Western",
            "Children's/Family",
            "Drama",
            "Comedy",
            "Family Film",
            "Slapstick"
           ]
          ],
          [
           "The Island of Dr. Moreau",
           [
            "Musical",
            "Drama",
            "Indie"
           ]
          ],
          [
           "Islands in the Stream",
           [
            "Family Film",
            "Family Drama",
            "Drama",
            "Adventure",
            "Family-Oriented Adventure"
           ]
          ],
          [
           "Jabberwocky",
           [
            "Science Fiction",
            "Horror",
            "Costume Horror"
           ]
          ],
          [
           "The Last Remake of Beau Geste",
           [
            "Thriller",
            "Crime Fiction",
            "Black-and-white",
            "Mystery",
            "Period piece",
            "Drama",
            "Romantic drama",
            "Romance Film"
           ]
          ],
          [
           "The Many Adventures of Winnie the Pooh",
           [
            "Romantic drama",
            "Drama"
           ]
          ],
          [
           "The Other Side of Midnight",
           [
            "Animation"
           ]
          ],
          [
           "The People That Time Forgot",
           [
            "Comedy",
            "Black-and-white",
            "Slapstick"
           ]
          ],
          [
           "Pete's Dragon",
           [
            "Crime Fiction",
            "Mockumentary",
            "Indie",
            "World cinema",
            "Drama",
            "Comedy",
            "Black comedy"
           ]
          ],
          [
           "The Rescuers",
           [
            "Silent film",
            "Adventure",
            "Children's/Family",
            "Black-and-white",
            "Fantasy",
            "Children's Fantasy",
            "Drama",
            "Family Film",
            "Comedy",
            "Family-Oriented Adventure",
            "Indie"
           ]
          ],
          [
           "Sorcerer",
           [
            "Horror",
            "Slasher",
            "World cinema"
           ]
          ],
          [
           "The Spy Who Loved Me",
           [
            "Thriller",
            "Mystery",
            "Romance Film",
            "Drama",
            "Teen"
           ]
          ],
          [
           "Storm Boy",
           [
            "World cinema",
            "History",
            "Costume Adventure",
            "Epic",
            "Action/Adventure",
            "Drama",
            "War film",
            "Historical Epic",
            "Action",
            "Chinese Movies"
           ]
          ],
          [
           "Telefon",
           [
            "Drama",
            "Gothic Film",
            "Horror",
            "Film adaptation"
           ]
          ],
          [
           "The Turning Point",
           [
            "Thriller",
            "Crime Fiction",
            "Black-and-white",
            "Mystery",
            "Drama",
            "Film adaptation",
            "Crime Thriller",
            "Romance Film",
            "Film noir"
           ]
          ],
          [
           "Twilight's Last Gleaming",
           [
            "Thriller",
            "Crime Fiction",
            "Erotic thriller",
            "Mystery",
            "Period piece",
            "Drama",
            "Suspense",
            "Film adaptation",
            "Crime Thriller",
            "Film noir",
            "Neo-noir"
           ]
          ],
          [
           "The Betsy",
           [
            "Silent film",
            "Indie",
            "Foreign legion",
            "Black-and-white",
            "Drama",
            "War film",
            "Action",
            "Adventure"
           ]
          ],
          [
           "The Big Sleep",
           [
            "Adventure",
            "Foreign legion",
            "War film",
            "Black-and-white",
            "Action/Adventure",
            "Drama",
            "Film adaptation",
            "Action"
           ]
          ],
          [
           "Blue Fin",
           [
            "Foreign legion",
            "Drama",
            "Adventure",
            "War film"
           ]
          ],
          [
           "The Boys from Brazil",
           [
            "Thriller",
            "Horror",
            "Psychological thriller",
            "Black-and-white",
            "Cult",
            "Slasher"
           ]
          ],
          [
           "Buck Rogers in the 25th Century",
           [
            "Crime Fiction",
            "Thriller",
            "Psychological thriller",
            "World cinema",
            "Crime Thriller"
           ]
          ],
          [
           "Casey's Shadow",
           [
            "Silent film",
            "Drama",
            "Indie",
            "Black-and-white"
           ]
          ],
          [
           "Death on the Nile",
           [
            "Disaster",
            "Action/Adventure",
            "Drama",
            "Black-and-white"
           ]
          ],
          [
           "Force 10 from Navarone",
           [
            "Musical",
            "Musical comedy",
            "Drama",
            "Comedy",
            "Film adaptation"
           ]
          ],
          [
           "The Fury",
           [
            "Romantic comedy",
            "Romance Film",
            "Drama"
           ]
          ],
          [
           "International Velvet",
           [
            "Swashbuckler films",
            "Adventure",
            "Action/Adventure",
            "Period piece",
            "Drama",
            "Film adaptation",
            "Romantic drama",
            "Romance Film",
            "Action"
           ]
          ],
          [
           "Invasion of the Body Snatchers",
           [
            "Action/Adventure",
            "Revisionist Western",
            "Western",
            "Drama",
            "Adventure"
           ]
          ],
          [
           "Jaws 2",
           [
            "Jungle Film",
            "Action",
            "Drama",
            "Adventure"
           ]
          ],
          [
           "The Magic of Lassie",
           [
            "Horror",
            "Science Fiction",
            "Pre-Code",
            "Black-and-white"
           ]
          ],
          [
           "Matilda",
           [
            "Thriller",
            "Science Fiction",
            "Horror",
            "Film adaptation"
           ]
          ],
          [
           "The Medusa Touch",
           [
            "Swashbuckler films",
            "Adventure",
            "Black-and-white",
            "Action/Adventure",
            "Drama",
            "Family Film"
           ]
          ],
          [
           "Oliver's Story",
           [
            "Natural horror films",
            "Science Fiction",
            "Horror",
            "Creature Film",
            "World cinema"
           ]
          ],
          [
           "Return from Witch Mountain",
           [
            "Monster movie",
            "Silent film",
            "B-movie",
            "Creature Film",
            "Black-and-white",
            "Horror"
           ]
          ],
          [
           "The Stud",
           [
            "Family Film",
            "Adventure"
           ]
          ],
          [
           "The Swarm",
           [
            "Sports",
            "Romantic drama",
            "Romance Film",
            "Drama",
            "Comedy"
           ]
          ],
          [
           "The Water Babies",
           [
            "Thriller",
            "Crime Fiction",
            "Crime Thriller",
            "Psychological thriller",
            "Suspense"
           ]
          ],
          [
           "Watership Down",
           [
            "Crime Fiction",
            "Mystery",
            "Detective fiction",
            "Detective",
            "Crime Thriller"
           ]
          ],
          [
           "Who'll Stop the Rain",
           [
            "Adventure",
            "Children's/Family",
            "Comedy-drama",
            "Mystery",
            "Drama",
            "Comedy",
            "Escape Film",
            "Family Film",
            "Romance Film",
            "Teen"
           ]
          ],
          [
           "The Wiz",
           [
            "Adventure",
            "Children's/Family",
            "Costume drama",
            "Costume Adventure",
            "Jungle Film",
            "Action/Adventure",
            "Period piece",
            "Action"
           ]
          ],
          [
           "The Concorde...Airport '79",
           [
            "Science Fiction",
            "Adventure",
            "Action/Adventure",
            "Fantasy",
            "Drama",
            "Family Film",
            "Action",
            "Steampunk"
           ]
          ],
          [
           "The Amityville Horror",
           [
            "Thriller",
            "Horror",
            "Fantasy",
            "Comedy",
            "Film adaptation",
            "Drama",
            "Black comedy"
           ]
          ],
          [
           "Apocalypse Now",
           [
            "Ensemble Film",
            "Family Drama",
            "Drama",
            "Film adaptation"
           ]
          ],
          [
           "The Apple Dumpling Gang Rides Again",
           [
            "Romantic drama",
            "Period piece",
            "Drama",
            "Romance Film",
            "Film adaptation"
           ]
          ],
          [
           "Being There",
           [
            "Fantasy Comedy",
            "Fantasy",
            "Comedy",
            "Black-and-white"
           ]
          ],
          [
           "Beyond the Poseidon Adventure",
           [
            "Thriller",
            "Horror",
            "Supernatural",
            "Surrealism",
            "Psychological thriller",
            "Erotic thriller",
            "Drama"
           ]
          ],
          [
           "The Bitch",
           [
            "Silent film",
            "Drama",
            "Western",
            "Black-and-white",
            "Indie"
           ]
          ],
          [
           "The Black Hole",
           [
            "Silent film",
            "Indie",
            "Black-and-white"
           ]
          ],
          [
           "The Black Stallion",
           [
            "Silent film",
            "Drama",
            "Indie",
            "Black-and-white"
           ]
          ],
          [
           "Dracula",
           [
            "Silent film",
            "Drama",
            "Black-and-white"
           ]
          ],
          [
           "Du är inte klok, Madicken",
           [
            "Western",
            "Black-and-white"
           ]
          ],
          [
           "The Fifth Musketeer",
           [
            "Pre-Code",
            "Family Drama",
            "Drama",
            "Black-and-white",
            "Addiction Drama"
           ]
          ],
          [
           "The Great Santini",
           [
            "Drama",
            "Black-and-white"
           ]
          ],
          [
           "The Lady Vanishes",
           [
            "Thriller",
            "World cinema",
            "Fantasy Drama",
            "Mystery",
            "Period piece",
            "Fantasy",
            "Film adaptation",
            "Drama",
            "Romantic drama",
            "Romance Film"
           ]
          ],
          [
           "Love At First Bite",
           [
            "Drama",
            "Anti-war",
            "Film adaptation",
            "Anti-war film",
            "War film"
           ]
          ],
          [
           "Moonraker",
           [
            "Drama",
            "Musical",
            "Fantasy",
            "Family Film",
            "Adventure"
           ]
          ],
          [
           "Muqaddar Ka Sikandar",
           [
            "Romantic drama",
            "Romance Film",
            "Americana",
            "Drama"
           ]
          ],
          [
           "Nightwing",
           [
            "Silent film",
            "Drama",
            "Indie",
            "Black-and-white"
           ]
          ],
          [
           "The Prisoner of Zenda",
           [
            "Crime Fiction",
            "Action",
            "Drama",
            "Suspense",
            "Indie"
           ]
          ],
          [
           "The Riddle of the Sands",
           [
            "Thriller",
            "Japanese Movies",
            "Anime",
            "Fantasy",
            "Animation"
           ]
          ],
          [
           "Tess",
           [
            "Science Fiction",
            "Action",
            "Fantasy",
            "Adventure"
           ]
          ],
          [
           "Time After Time",
           [
            "Adventure",
            "Musical",
            "Drama",
            "Family Film",
            "Animation"
           ]
          ],
          [
           "The Warriors",
           [
            "Cult",
            "Zombie Film",
            "Horror"
           ]
          ],
          [
           "Wise Blood",
           [
            "Crime Fiction",
            "Thriller",
            "Adventure",
            "Comedy Thriller",
            "Cult",
            "Mystery",
            "Comedy",
            "Action",
            "Whodunit"
           ]
          ],
          [
           "Altered States",
           [
            "Crime Fiction",
            "Thriller",
            "Horror",
            "Detective",
            "Supernatural",
            "Mystery",
            "Suspense",
            "Crime Thriller"
           ]
          ],
          [
           "The Awakening",
           [
            "Romantic drama",
            "Romance Film",
            "Drama",
            "Comedy",
            "Indie"
           ]
          ],
          [
           "The Blue Lagoon",
           [
            "Thriller",
            "Black-and-white",
            "Mystery",
            "Drama",
            "Film adaptation",
            "Crime Thriller"
           ]
          ],
          [
           "The Boogeyman",
           [
            "Disaster",
            "Film adaptation",
            "Drama",
            "Adventure",
            "Airplanes and airports"
           ]
          ],
          [
           "Dressed to Kill",
           [
            "Thriller",
            "Crime Fiction",
            "Indie",
            "Political thriller",
            "Drama",
            "Suspense",
            "Film adaptation",
            "Romantic drama",
            "Romance Film",
            "Political drama"
           ]
          ],
          [
           "The Formula",
           [
            "Silent film",
            "Drama",
            "Indie"
           ]
          ],
          [
           "Head On",
           [
            "Western",
            "Action"
           ]
          ],
          [
           "The Island",
           [
            "Silent film",
            "Drama",
            "Indie"
           ]
          ],
          [
           "Madicken på Junibacken",
           [
            "Adventure",
            "Black-and-white",
            "Action/Adventure",
            "Western",
            "Drama",
            "Film adaptation",
            "Romance Film",
            "Action"
           ]
          ],
          [
           "The Mirror Crack'd",
           [
            "Western",
            "Action"
           ]
          ],
          [
           "The Ninth Configuration",
           [
            "Biography",
            "Indie",
            "Comedy-drama",
            "Marriage Drama",
            "Drama",
            "Comedy",
            "Biopic [feature]",
            "Biographical film"
           ]
          ],
          [
           "Ordinary People",
           [
            "Horror"
           ]
          ],
          [
           "Out of the Blue",
           [
            "Wuxia",
            "World cinema",
            "Action/Adventure",
            "Martial Arts Film",
            "Drama",
            "Action",
            "Chinese Movies"
           ]
          ],
          [
           "Raise The Titanic",
           [
            "Adventure",
            "War film",
            "Action/Adventure",
            "Drama",
            "Film adaptation",
            "Romance Film",
            "Action"
           ]
          ],
          [
           "The Shining",
           [
            "Thriller",
            "Crime Fiction",
            "Family Drama",
            "Drama",
            "Film adaptation",
            "Courtroom Drama"
           ]
          ],
          [
           "Somewhere in Time",
           [
            "Parody",
            "Horror",
            "Comedy",
            "Adult"
           ]
          ],
          [
           "Tuck Everlasting",
           [
            "Horror",
            "Supernatural",
            "Psychological thriller",
            "Cult",
            "Drama",
            "Film adaptation"
           ]
          ],
          [
           "Union City",
           [
            "Period piece",
            "Historical fiction",
            "Drama",
            "Political drama",
            "Epic"
           ]
          ],
          [
           "The Watcher in the Woods",
           [
            "Thriller",
            "Science Fiction",
            "Remake",
            "New Hollywood",
            "Doomsday film"
           ]
          ],
          [
           "Das Boot",
           [
            "Thriller",
            "Science Fiction",
            "Horror",
            "Alien Film",
            "Drama",
            "Film adaptation"
           ]
          ],
          [
           "Condorman",
           [
            "Film noir"
           ]
          ],
          [
           "Cutter's Way",
           [
            "Drama",
            "Science Fiction",
            "Fantasy",
            "Adventure",
            "Film adaptation"
           ]
          ],
          [
           "Eaux profondes",
           [
            "Historical fiction",
            "Action",
            "Drama",
            "Adventure",
            "Family-Oriented Adventure"
           ]
          ],
          [
           "Endless Love",
           [
            "Science Fiction",
            "Adventure",
            "Action/Adventure",
            "Fantasy",
            "Film adaptation",
            "Action"
           ]
          ],
          [
           "The Entity",
           [
            "Science Fiction",
            "Doomsday film",
            "Road movie",
            "Apocalyptic and post-apocalyptic fiction",
            "Disaster",
            "Action",
            "Dystopia"
           ]
          ],
          [
           "Excalibur",
           [
            "Crime Fiction",
            "Thriller",
            "Detective fiction",
            "Detective",
            "World cinema",
            "Costume drama",
            "Gothic Film",
            "Mystery",
            "Period piece",
            "Drama",
            "Film adaptation",
            "Crime Thriller",
            "Whodunit"
           ]
          ],
          [
           "Eye of the Needle",
           [
            "Silent film",
            "Horror",
            "Indie",
            "Experimental film",
            "Dance",
            "Musical",
            "Comedy"
           ]
          ],
          [
           "The Fan",
           [
            "Family Film",
            "Children's",
            "Drama",
            "Adventure",
            "Family Drama"
           ]
          ],
          [
           "For Your Eyes Only",
           [
            "Science Fiction"
           ]
          ],
          [
           "The Fox and the Hound",
           [
            "Science Fiction",
            "Adventure",
            "Silent film",
            "Black-and-white",
            "Action/Adventure",
            "Drama",
            "Action"
           ]
          ],
          [
           "Frankenstein Island",
           [
            "Science Fiction",
            "Adventure",
            "Steampunk"
           ]
          ],
          [
           "The French Lieutenant's Woman",
           [
            "Crime Fiction",
            "Thriller",
            "Indie",
            "Erotic thriller",
            "Mystery",
            "Drama",
            "Suspense",
            "Crime Thriller"
           ]
          ],
          [
           "Grendel Grendel Grendel",
           [
            "Romance Film",
            "Drama"
           ]
          ],
          [
           "The Hand",
           [
            "Buddy film",
            "Adventure",
            "Absurdism",
            "Road movie",
            "Experimental film",
            "Cult",
            "Drama",
            "Comedy",
            "Black comedy",
            "Avant-garde"
           ]
          ],
          [
           "The Howling",
           [
            "Romantic comedy",
            "Crime Fiction",
            "Screwball comedy",
            "Musical",
            "Drama",
            "Comedy",
            "Romantic drama",
            "Romance Film"
           ]
          ],
          [
           "The Incredible Shrinking Woman",
           [
            "Action/Adventure",
            "Western"
           ]
          ],
          [
           "Lola",
           [
            "Science Fiction",
            "Horror",
            "Psychological thriller",
            "Black-and-white",
            "Drama",
            "Film adaptation"
           ]
          ],
          [
           "Nightmare",
           [
            "Science Fiction",
            "Horror",
            "Sci-Fi Horror"
           ]
          ],
          [
           "Possession",
           [
            "Thriller",
            "Science Fiction",
            "Adventure",
            "Doomsday film",
            "Action/Adventure",
            "Fantasy",
            "Disaster"
           ]
          ],
          [
           "The Postman Always Rings Twice",
           [
            "Drama",
            "Family Drama",
            "Coming of age"
           ]
          ],
          [
           "Ragtime",
           [
            "Comedy"
           ]
          ],
          [
           "The Salamander",
           [
            "Science Fiction",
            "Action"
           ]
          ],
          [
           "Taps",
           [
            "Romantic comedy",
            "Science Fiction",
            "Romance Film",
            "Comedy-drama",
            "Comedy"
           ]
          ],
          [
           "Wolfen",
           [
            "Adventure",
            "Historical fiction",
            "Drama",
            "War film",
            "Family Film",
            "Historical Epic"
           ]
          ],
          [
           "Amityville II: The Possession",
           [
            "Action/Adventure",
            "Western",
            "Action",
            "Drama"
           ]
          ],
          [
           "Angel",
           [
            "Romantic drama",
            "Romance Film",
            "Drama",
            "Period piece"
           ]
          ],
          [
           "Antonieta",
           [
            "Fantasy",
            "Romance Film",
            "Drama"
           ]
          ],
          [
           "The Beast Within",
           [
            "Romantic drama",
            "Romance Film",
            "Drama",
            "World cinema",
            "Tollywood"
           ]
          ],
          [
           "The Beastmaster",
           [
            "Thriller",
            "Crime Fiction",
            "Detective fiction",
            "Gangster Film",
            "Detective",
            "Mystery",
            "Drama",
            "Film adaptation",
            "Crime Thriller"
           ]
          ],
          [
           "Blade Runner",
           [
            "Horse racing",
            "Children's/Family",
            "Family Drama",
            "Coming of age",
            "Animal Picture",
            "Drama",
            "Family Film"
           ]
          ],
          [
           "Creepshow",
           [
            "Action/Adventure",
            "Mystery",
            "Action",
            "Comedy"
           ]
          ],
          [
           "Diner",
           [
            "Silent film",
            "Black-and-white"
           ]
          ],
          [
           "Evil Under the Sun",
           [
            "Biography",
            "Costume drama",
            "Biopic [feature]",
            "Period piece",
            "Drama",
            "Film adaptation",
            "Romantic drama",
            "Romance Film"
           ]
          ],
          [
           "Firefox",
           [
            "Thriller",
            "Crime Fiction",
            "Detective",
            "Mystery",
            "Drama",
            "Crime Thriller",
            "Action"
           ]
          ],
          [
           "First Blood",
           [
            "Biography",
            "Drama",
            "Musical Drama",
            "Black-and-white",
            "Film à clef"
           ]
          ],
          [
           "Heidi's Song",
           [
            "Period piece",
            "Drama",
            "Film adaptation",
            "Romantic drama",
            "Romance Film",
            "Political drama"
           ]
          ],
          [
           "Jekyll and Hyde... Together Again",
           [
            "Thriller",
            "Political thriller",
            "Drama",
            "Political drama",
            "Film adaptation"
           ]
          ],
          [
           "The Last Unicorn",
           [
            "Thriller",
            "Crime Fiction",
            "Film adaptation",
            "War film",
            "Period piece",
            "Drama",
            "Political thriller",
            "Romantic drama",
            "Romance Film",
            "Political drama"
           ]
          ],
          [
           "Lonely Hearts",
           [
            "Romantic drama",
            "Romance Film",
            "Drama",
            "Period piece",
            "Film adaptation"
           ]
          ],
          [
           "Les Misérables",
           [
            "Period piece",
            "Drama"
           ]
          ],
          [
           "Mysterious Island",
           [
            "Computer Animation",
            "Family Film",
            "Animation",
            "Adventure",
            "Comedy"
           ]
          ],
          [
           "The Return of the Soldier",
           [
            "Thriller",
            "Mystery",
            "Drama",
            "Psychological thriller",
            "Crime Thriller"
           ]
          ],
          [
           "Reuben, Reuben",
           [
            "Cult",
            "Action/Adventure",
            "Blaxploitation",
            "Horror"
           ]
          ],
          [
           "The Secret of NIMH",
           [
            "Western",
            "Silent film",
            "Indie"
           ]
          ],
          [
           "Six Weeks",
           [
            "Mystery",
            "Drama",
            "Black-and-white"
           ]
          ],
          [
           "A Stranger Is Watching",
           [
            "Thriller",
            "Crime Fiction",
            "Horror",
            "Mystery",
            "Drama",
            "Suspense"
           ]
          ],
          [
           "Tex",
           [
            "Melodrama",
            "War film",
            "Black-and-white",
            "Drama",
            "Film adaptation",
            "Romance Film",
            "Action"
           ]
          ],
          [
           "The Thing",
           [
            "Action/Adventure",
            "Revisionist Western",
            "Western",
            "Action"
           ]
          ],
          [
           "The World According to Garp",
           [
            "Bollywood",
            "Romance Film",
            "Musical",
            "World cinema"
           ]
          ],
          [
           "L'Argent",
           [
            "Thriller",
            "Sex comedy",
            "Indie",
            "Detective",
            "Detective fiction",
            "Comedy Thriller",
            "Satire",
            "Comedy",
            "Black comedy"
           ]
          ],
          [
           "The Honorary Consul",
           [
            "Musical",
            "Children's/Family",
            "Fantasy",
            "Family Film",
            "Children's Fantasy"
           ]
          ],
          [
           "The Black Stallion Returns",
           [
            "Thriller",
            "Action/Adventure",
            "Action",
            "Horror",
            "Creature Film"
           ]
          ],
          [
           "Brainstorm",
           [
            "Swashbuckler films",
            "Adventure",
            "Superhero movie",
            "Black-and-white",
            "Action/Adventure",
            "Western",
            "Action"
           ]
          ],
          [
           "Careful, He Might Hear You",
           [
            "Thriller",
            "Science Fiction",
            "Horror",
            "Alien Film",
            "Drama",
            "Film adaptation"
           ]
          ],
          [
           "Christine",
           [
            "Family Film",
            "Family Drama",
            "Drama",
            "Adventure",
            "Animal Picture"
           ]
          ],
          [
           "Cordélia",
           [
            "Action",
            "Adventure"
           ]
          ],
          [
           "Daniel",
           [
            "Action/Adventure",
            "Drama",
            "Science Fiction",
            "Fantasy",
            "Television movie"
           ]
          ],
          [
           "The Dead Zone",
           [
            "Thriller",
            "Action Thrillers",
            "Action/Adventure",
            "Glamorized Spy Film",
            "Action",
            "Spy"
           ]
          ],
          [
           "Eddie and the Cruisers",
           [
            "Thriller",
            "Mystery",
            "Detective fiction",
            "Detective",
            "Crime Thriller"
           ]
          ],
          [
           "Gorky Park",
           [
            "LGBT",
            "Drama",
            "Indie",
            "Gay"
           ]
          ],
          [
           "Jaws 3-D",
           [
            "Crime Fiction",
            "Romance Film",
            "Drama",
            "Teen"
           ]
          ],
          [
           "The Lords of Discipline",
           [
            "Thriller",
            "Crime Fiction",
            "Horror",
            "Indie",
            "Mystery",
            "Drama",
            "Comedy",
            "Slasher"
           ]
          ],
          [
           "Merry Christmas, Mr. Lawrence",
           [
            "Costume drama",
            "Family Film",
            "Drama",
            "Adventure"
           ]
          ],
          [
           "Never Cry Wolf",
           [
            "Crime Fiction",
            "Drama",
            "Docudrama",
            "Courtroom Drama"
           ]
          ],
          [
           "Never Say Never Again",
           [
            "Thriller",
            "Action Thrillers",
            "Glamorized Spy Film",
            "Action",
            "Adventure"
           ]
          ],
          [
           "Octopussy",
           [
            "Thriller",
            "Crime Fiction",
            "Japanese Movies",
            "Crime Drama",
            "Drama",
            "Suspense",
            "Crime Thriller"
           ]
          ],
          [
           "The Osterman Weekend",
           [
            "Drama"
           ]
          ],
          [
           "The Outsiders",
           [
            "Action/Adventure",
            "Thriller",
            "Glamorized Spy Film",
            "Action",
            "Spy"
           ]
          ],
          [
           "Psycho II",
           [
            "Black-and-white"
           ]
          ],
          [
           "Scarface",
           [
            "Science Fiction",
            "Drama",
            "Adventure"
           ]
          ],
          [
           "Something Wicked This Way Comes",
           [
            "Romantic drama",
            "Period piece",
            "Drama",
            "Romance Film",
            "Film adaptation"
           ]
          ],
          [
           "Terms of Endearment",
           [
            "Biography",
            "Costume drama",
            "Epic",
            "Black-and-white",
            "Pre-Code",
            "Drama",
            "Romantic drama",
            "Romance Film"
           ]
          ],
          [
           "Twice Upon a Time",
           [
            "Biographical film"
           ]
          ],
          [
           "Twilight Zone: The Movie",
           [
            "Fantasy Adventure",
            "Adventure",
            "World cinema",
            "Road movie",
            "Action/Adventure",
            "Fantasy",
            "Mythological Fantasy",
            "Chinese Movies"
           ]
          ],
          [
           "Birdy",
           [
            "Period piece",
            "Historical fiction",
            "Drama"
           ]
          ],
          [
           "The Bostonians",
           [
            "Comedy-drama",
            "Romance Film",
            "Tragicomedy",
            "Drama",
            "Coming of age"
           ]
          ],
          [
           "Cal",
           [
            "Action/Adventure",
            "Thriller",
            "Glamorized Spy Film",
            "Action",
            "Crime Fiction"
           ]
          ],
          [
           "Children of the Corn",
           [
            "Anime",
            "Japanese Movies",
            "Animation"
           ]
          ],
          [
           "Dreamscape",
           [
            "Action/Adventure",
            "Science Fiction",
            "Adventure",
            "Comedy"
           ]
          ],
          [
           "Dune",
           [
            "Music",
            "Family Film",
            "Animation",
            "Children's",
            "Animated cartoon"
           ]
          ],
          [
           "Firestarter",
           [
            "Crime Fiction",
            "Thriller",
            "War film",
            "Action/Adventure",
            "Drama",
            "Film adaptation",
            "Crime Thriller",
            "Action"
           ]
          ],
          [
           "Flashpoint",
           [
            "Thriller",
            "Detective fiction",
            "Black-and-white",
            "Mystery",
            "Drama",
            "Film adaptation",
            "Crime Thriller"
           ]
          ],
          [
           "The Frog Prince",
           [
            "Thriller",
            "Action Thrillers",
            "Action/Adventure",
            "Glamorized Spy Film",
            "Action",
            "Spy"
           ]
          ],
          [
           "The Naked Face",
           [
            "Thriller",
            "Action/Adventure",
            "Glamorized Spy Film",
            "Action",
            "Spy"
           ]
          ],
          [
           "The Natural",
           [
            "Action/Adventure",
            "Thriller",
            "Glamorized Spy Film",
            "Action",
            "Adventure"
           ]
          ],
          [
           "A Passage to India",
           [
            "Thriller",
            "Crime Fiction",
            "Adventure",
            "Glamorized Spy Film",
            "Action/Adventure",
            "Blaxploitation",
            "Action Thrillers",
            "Action"
           ]
          ],
          [
           "The Pope of Greenwich Village",
           [
            "Thriller",
            "Science Fiction",
            "Adventure",
            "Action/Adventure",
            "Glamorized Spy Film",
            "Action"
           ]
          ],
          [
           "The Razor's Edge",
           [
            "Thriller",
            "Action/Adventure",
            "Glamorized Spy Film",
            "Action",
            "Spy"
           ]
          ],
          [
           "The River",
           [
            "Japanese Movies",
            "World cinema",
            "Children's/Family",
            "Animation",
            "Anime",
            "Fantasy",
            "Children's Fantasy",
            "Coming of age",
            "Romance Film"
           ]
          ],
          [
           "Sahara",
           [
            "Western",
            "Adventure"
           ]
          ],
          [
           "The NeverEnding Story",
           [
            "Bollywood",
            "Silent film",
            "Indie",
            "Black-and-white"
           ]
          ],
          [
           "The Adventures of Mark Twain",
           [
            "Bollywood",
            "Black-and-white"
           ]
          ],
          [
           "After Hours",
           [
            "Thriller",
            "Science Fiction",
            "Drama",
            "Dystopia",
            "Film adaptation"
           ]
          ],
          [
           "The Aviator",
           [
            "Parody",
            "Animation",
            "Drama",
            "Comedy",
            "Film adaptation",
            "Political cinema",
            "Political drama",
            "Dystopia"
           ]
          ],
          [
           "The Black Cauldron",
           [
            "Thriller",
            "Mystery",
            "Drama",
            "Black-and-white"
           ]
          ],
          [
           "The Bride",
           [
            "Romantic drama",
            "Romance Film",
            "Drama",
            "World cinema"
           ]
          ],
          [
           "Cat's Eye",
           [
            "Romantic drama",
            "Romance Film",
            "Drama",
            "Indie"
           ]
          ],
          [
           "Cocoon",
           [
            "Romantic drama",
            "Romance Film",
            "Drama"
           ]
          ],
          [
           "The Color Purple",
           [
            "Children's/Family",
            "Family Film",
            "Children's",
            "Family-Oriented Adventure",
            "Animation"
           ]
          ],
          [
           "Creator",
           [
            "Spy",
            "Action",
            "Black-and-white",
            "War film"
           ]
          ],
          [
           "Creature",
           [
            "Adventure",
            "Animation",
            "Musical",
            "Children's",
            "Comedy",
            "Family Film"
           ]
          ],
          [
           "Crimewave",
           [
            "Crime Fiction",
            "Thriller",
            "World cinema",
            "Action/Adventure",
            "Martial Arts Film",
            "Action",
            "Chinese Movies"
           ]
          ],
          [
           "Desert Hearts",
           [
            "Crime Fiction",
            "Drama",
            "Period piece",
            "Social problem film",
            "Film adaptation"
           ]
          ],
          [
           "Dreamchild",
           [
            "Thriller",
            "Albino bias",
            "Science Fiction",
            "Horror",
            "Doomsday film",
            "Plague",
            "Action/Adventure",
            "Zombie Film",
            "Apocalyptic and post-apocalyptic fiction",
            "Drama",
            "Film adaptation",
            "Disaster",
            "Dystopia"
           ]
          ],
          [
           "Enemy Mine",
           [
            "Thriller",
            "Detective fiction",
            "Detective",
            "Mystery",
            "Drama",
            "Crime Thriller"
           ]
          ],
          [
           "Fever Pitch",
           [
            "Indie",
            "Black-and-white"
           ]
          ],
          [
           "Fletch",
           [
            "Romance Film",
            "Drama",
            "Adventure"
           ]
          ],
          [
           "Here Come the Littles",
           [
            "Wuxia",
            "Fantasy Adventure",
            "Adventure",
            "Action/Adventure",
            "Period piece",
            "Martial Arts Film",
            "Fantasy",
            "Romance Film",
            "Action",
            "Chinese Movies"
           ]
          ],
          [
           "The Holcroft Covenant",
           [
            "Adventure",
            "Costume drama",
            "Costume Adventure",
            "Epic",
            "Action/Adventure",
            "Drama",
            "Film adaptation",
            "Action"
           ]
          ],
          [
           "Howling II: Stirba - Werewolf Bitch",
           [
            "Family Film",
            "Family Drama",
            "Drama"
           ]
          ],
          [
           "The Innocent",
           [
            "Silent film",
            "Drama",
            "Indie",
            "Black-and-white"
           ]
          ],
          [
           "King Solomon's Mines",
           [
            "Romance Film",
            "Drama",
            "Comedy",
            "Black-and-white",
            "Film adaptation"
           ]
          ],
          [
           "Kiss of the Spider Woman",
           [
            "Horror",
            "Supernatural",
            "Gothic Film",
            "Drama",
            "Haunted House Film",
            "Film adaptation",
            "Costume Horror"
           ]
          ],
          [
           "Lifeforce",
           [
            "Thriller",
            "Drama",
            "World cinema",
            "Bollywood"
           ]
          ],
          [
           "Murphy's Romance",
           [
            "World cinema",
            "Historical fiction",
            "Epic",
            "Action/Adventure",
            "Period piece",
            "Drama",
            "Film adaptation",
            "Historical Epic"
           ]
          ],
          [
           "Rambo: First Blood Part II",
           [
            "Parody",
            "Science Fiction",
            "Indie",
            "Comedy"
           ]
          ],
          [
           "Return to Oz",
           [
            "Thriller",
            "Mystery",
            "Horror",
            "Slasher",
            "Psychological thriller"
           ]
          ],
          [
           "Silver Bullet",
           [
            "Romantic drama",
            "Romance Film",
            "Drama",
            "Musical Drama"
           ]
          ],
          [
           "Smooth Talk",
           [
            "Adventure",
            "Children's/Family",
            "Costume drama",
            "Children's",
            "Coming of age",
            "Family Film",
            "Family-Oriented Adventure"
           ]
          ],
          [
           "A View to a Kill",
           [
            "Family Film",
            "Children's/Family",
            "Fantasy",
            "Children's Fantasy",
            "Animation"
           ]
          ],
          [
           "Vision Quest",
           [
            "Music",
            "Musical",
            "Children's",
            "Family Film",
            "Animation"
           ]
          ],
          [
           "When the Wind Blows",
           [
            "LGBT",
            "Buddy film",
            "Indie",
            "Road movie",
            "Drama",
            "Gay Themed"
           ]
          ],
          [
           "White Nights",
           [
            "Science Fiction",
            "Fantasy Adventure",
            "Adventure",
            "Children's/Family",
            "Fantasy",
            "Children's Fantasy",
            "Film adaptation",
            "Drama",
            "Family Film"
           ]
          ],
          [
           "Big Trouble",
           [
            "Thriller",
            "Drama",
            "Courtroom Drama"
           ]
          ],
          [
           "The Clan of the Cave Bear",
           [
            "Americana",
            "Comedy",
            "Domestic Comedy"
           ]
          ],
          [
           "Cobra",
           [
            "Family Film",
            "Domestic Comedy",
            "Comedy",
            "Slapstick"
           ]
          ],
          [
           "The Color of Money",
           [
            "Action/Adventure",
            "Western"
           ]
          ],
          [
           "Deadly Friend",
           [
            "Thriller",
            "Crime Fiction",
            "Melodrama",
            "Crime Drama",
            "Indie",
            "LGBT",
            "Family Drama",
            "Mystery",
            "Drama",
            "Suspense",
            "Crime Thriller"
           ]
          ],
          [
           "Dot and the Whale",
           [
            "Drama",
            "World cinema"
           ]
          ],
          [
           "The Fly",
           [
            "Family Film",
            "Action",
            "Drama"
           ]
          ],
          [
           "From Beyond",
           [
            "Costume drama",
            "History",
            "Period piece",
            "Drama",
            "Film adaptation",
            "Romantic drama",
            "Biographical film",
            "Romance Film"
           ]
          ],
          [
           "The Great Mouse Detective",
           [
            "Romance Film",
            "Drama"
           ]
          ],
          [
           "Half Moon Street",
           [
            "Space opera",
            "Alien Film",
            "Science Fiction",
            "Action",
            "Film adaptation"
           ]
          ],
          [
           "Hud",
           [
            "Drama"
           ]
          ],
          [
           "Manhunter",
           [
            "Action",
            "Drama",
            "Adventure",
            "War film"
           ]
          ],
          [
           "Maximum Overdrive",
           [
            "Action/Adventure",
            "Western",
            "Action",
            "Drama",
            "War film"
           ]
          ],
          [
           "Miracles",
           [
            "Romance Film",
            "Action",
            "Drama",
            "Adventure"
           ]
          ],
          [
           "The Name of the Rose",
           [
            "Thriller",
            "Black comedy",
            "Psychological thriller",
            "Suspense",
            "Film adaptation"
           ]
          ],
          [
           "Psycho III",
           [
            "Musical",
            "Drama"
           ]
          ],
          [
           "A Room with a View",
           [
            "History",
            "Black-and-white",
            "Drama",
            "Film adaptation",
            "Romantic drama",
            "Romance Film"
           ]
          ],
          [
           "Stand by Me",
           [
            "Romantic drama",
            "Romance Film",
            "Drama",
            "Tragedy",
            "Film adaptation"
           ]
          ],
          [
           "Tai-Pan",
           [
            "Stop motion",
            "Black-and-white",
            "Animation"
           ]
          ],
          [
           "Angel Heart",
           [
            "Science Fiction",
            "Fantasy Adventure",
            "Adventure",
            "Fantasy",
            "Comedy",
            "Time travel",
            "Family Film"
           ]
          ],
          [
           "The Bedroom Window",
           [
            "Romantic comedy",
            "Costume drama",
            "Romantic fantasy",
            "Fantasy",
            "Comedy",
            "Family Film",
            "Fantasy Comedy",
            "Romance Film",
            "Teen"
           ]
          ],
          [
           "Bellman and True",
           [
            "Detective fiction"
           ]
          ],
          [
           "The Brave Little Toaster",
           [
            "Crime Fiction",
            "Drama",
            "Political drama",
            "Film adaptation"
           ]
          ],
          [
           "Burglar",
           [
            "Erotica",
            "World cinema",
            "Period piece",
            "Drama",
            "Film adaptation",
            "Romantic drama",
            "Romance Film"
           ]
          ],
          [
           "The Care Bears Adventure in Wonderland",
           [
            "Natural horror films",
            "Science Fiction",
            "Horror",
            "Film adaptation",
            "Creature Film",
            "Cult",
            "Drama",
            "Monster",
            "B-movie"
           ]
          ],
          [
           "Cop",
           [
            "Drama",
            "Comedy",
            "World cinema"
           ]
          ],
          [
           "Creepshow 2",
           [
            "Action",
            "Adventure"
           ]
          ],
          [
           "The Dead",
           [
            "Romance Film",
            "Drama",
            "World cinema",
            "Black-and-white"
           ]
          ],
          [
           "Deadly Prey",
           [
            "Adventure"
           ]
          ],
          [
           "Desyat Negrityat",
           [
            "LGBT",
            "Female buddy film",
            "Period piece",
            "Drama",
            "Comedy",
            "Film adaptation"
           ]
          ],
          [
           "Dot Goes to Hollywood",
           [
            "Crime Fiction",
            "Horror",
            "Creature Film",
            "Drama",
            "Romantic drama",
            "Romance Film",
            "Teen"
           ]
          ],
          [
           "Empire of the Sun",
           [
            "Horror",
            "Creature Film"
           ]
          ],
          [
           "Flowers in the Attic",
           [
            "Costume drama",
            "Horror",
            "Creature Film"
           ]
          ],
          [
           "The Fourth Protocol",
           [
            "Silent film",
            "Adventure",
            "Children's/Family",
            "Black-and-white",
            "Fantasy",
            "Children's Fantasy",
            "Indie"
           ]
          ],
          [
           "Gardens of Stone",
           [
            "Psycho-biddy",
            "Horror",
            "Supernatural"
           ]
          ],
          [
           "Hellraiser",
           [
            "Drama",
            "Romance Film",
            "Remake",
            "Black-and-white",
            "Film adaptation"
           ]
          ],
          [
           "Howling III",
           [
            "LGBT",
            "Indie",
            "Gay Themed",
            "Gay",
            "Period piece",
            "Gay Interest",
            "Drama",
            "Film adaptation",
            "Romantic drama",
            "Romance Film",
            "Feminist Film"
           ]
          ],
          [
           "Intervista",
           [
            "Thriller",
            "Romantic drama",
            "Drama",
            "Political drama"
           ]
          ],
          [
           "Ironweed",
           [
            "Romantic drama",
            "Drama"
           ]
          ],
          [
           "Jaws: The Revenge",
           [
            "Costume drama",
            "Black-and-white",
            "Drama",
            "Film adaptation",
            "Romantic drama",
            "Romance Film"
           ]
          ],
          [
           "Less Than Zero",
           [
            "Action/Adventure",
            "Western",
            "Comedy",
            "Comedy Western"
           ]
          ],
          [
           "The Living Daylights",
           [
            "Thriller",
            "Horror",
            "Psychological thriller",
            "Supernatural",
            "Thriller",
            "Horror",
            "Psychological thriller",
            "Supernatural"
           ]
          ],
          [
           "Man on Fire",
           [
            "Adventure",
            "Musical comedy",
            "Action/Adventure",
            "Musical",
            "Drama",
            "Film adaptation",
            "Musical Drama"
           ]
          ],
          [
           "Maurice",
           [
            "Romantic drama",
            "Romance Film",
            "Drama",
            "Film adaptation"
           ]
          ],
          [
           "No Way Out",
           [
            "Romance Film",
            "Drama",
            "Black-and-white",
            "Film adaptation"
           ]
          ],
          [
           "Pinocchio and the Emperor of the Night",
           [
            "Black-and-white"
           ]
          ],
          [
           "The New Adventures of Pippi Longstocking",
           [
            "Romance Film",
            "Science Fiction",
            "Adventure"
           ]
          ],
          [
           "The Princess Bride",
           [
            "Family Film",
            "Children's",
            "Family-Oriented Adventure",
            "Animation",
            "Children's/Family"
           ]
          ],
          [
           "A Return to Salem's Lot",
           [
            "Chinese Movies"
           ]
          ],
          [
           "The Running Man",
           [
            "Thriller",
            "Psychological thriller"
           ]
          ],
          [
           "Slave Girls from Beyond Infinity",
           [
            "War film",
            "Period piece",
            "Drama",
            "Film adaptation",
            "Romantic drama",
            "Romance Film",
            "Chinese Movies"
           ]
          ],
          [
           "Snow White",
           [
            "Romantic drama",
            "Romance Film",
            "Drama"
           ]
          ],
          [
           "The Witches of Eastwick",
           [
            "Horror",
            "Drama"
           ]
          ],
          [
           "The Accidental Tourist",
           [
            "Costume drama",
            "Musical",
            "Drama",
            "Family Film",
            "Adventure"
           ]
          ],
          [
           "The Accused",
           [
            "Action/Adventure",
            "Romance Film",
            "Action",
            "Adventure"
           ]
          ],
          [
           "Appointment With Death",
           [
            "Adventure",
            "War film",
            "Action/Adventure",
            "Period piece",
            "Drama",
            "Film adaptation",
            "Action"
           ]
          ],
          [
           "Beaches",
           [
            "Fantasy",
            "Family Film",
            "Drama",
            "Comedy"
           ]
          ],
          [
           "The Beast",
           [
            "Christian film",
            "Sword and Sandal",
            "Costume drama",
            "Roadshow theatrical release",
            "Epic",
            "Period piece",
            "Drama"
           ]
          ],
          [
           "The Brain",
           [
            "Drama",
            "World cinema"
           ]
          ],
          [
           "Bright Lights, Big City",
           [
            "Natural horror films",
            "Horror",
            "Cult",
            "Comedy",
            "Zombie Film",
            "Black comedy",
            "Natural horror films",
            "Horror",
            "Cult",
            "Comedy",
            "Zombie Film",
            "Black comedy"
           ]
          ],
          [
           "Chocolat",
           [
            "Science Fiction",
            "Action",
            "Drama",
            "Adventure"
           ]
          ],
          [
           "The Chocolate War",
           [
            "Costume drama",
            "Family Film",
            "Drama",
            "Adventure"
           ]
          ],
          [
           "Cocoon: The Return",
           [
            "Thriller",
            "Mystery",
            "Horror",
            "Drama"
           ]
          ],
          [
           "Dangerous Liaisons",
           [
            "Thriller",
            "Science Fiction",
            "Action",
            "Dystopia",
            "Film adaptation"
           ]
          ],
          [
           "The Deceivers",
           [
            "Period piece",
            "Drama",
            "Film adaptation"
           ]
          ],
          [
           "Die Hard",
           [
            "Drama"
           ]
          ],
          [
           "Everybody's All-American",
           [
            "Drama",
            "Adventure",
            "Dystopia",
            "Film adaptation"
           ]
          ],
          [
           "Funny Farm",
           [
            "Thriller",
            "Horror",
            "Adventure",
            "Chase Movie",
            "Psychological thriller",
            "Black-and-white",
            "Mystery",
            "Pre-Code",
            "Suspense"
           ]
          ],
          [
           "Oliver & Company",
           [
            "Romance Film",
            "Drama"
           ]
          ],
          [
           "Rambo III",
           [
            "Drama",
            "Black-and-white"
           ]
          ],
          [
           "Scrooged",
           [
            "Drama"
           ]
          ],
          [
           "They Live",
           [
            "Drama"
           ]
          ],
          [
           "The Unbearable Lightness of Being",
           [
            "Musical",
            "Fantasy",
            "Comedy"
           ]
          ],
          [
           "The Unnamable",
           [
            "Drama",
            "Film noir",
            "Black-and-white"
           ]
          ],
          [
           "Who Framed Roger Rabbit",
           [
            "Erotic Drama",
            "Erotica",
            "Marriage Drama",
            "Drama",
            "Film adaptation",
            "Romantic drama",
            "Romance Film",
            "Political drama"
           ]
          ],
          [
           "The BFG",
           [
            "Adventure",
            "Drama",
            "Film adaptation",
            "Coming of age",
            "Romance Film",
            "Family Film"
           ]
          ],
          [
           "Babar: The Movie",
           [
            "Political cinema",
            "Rockumentary",
            "War film",
            "History",
            "Documentary"
           ]
          ],
          [
           "Black Rain",
           [
            "Children's/Family",
            "Stop motion",
            "Fairy tale",
            "Animation",
            "Musical",
            "Fantasy",
            "Children's Fantasy",
            "Drama",
            "Family Film"
           ]
          ],
          [
           "Cat Chaser",
           [
            "Japanese Movies",
            "Romance Film",
            "Drama"
           ]
          ],
          [
           "Dad",
           [
            "Action/Adventure",
            "Swashbuckler films",
            "Action",
            "Comedy",
            "Slapstick"
           ]
          ],
          [
           "Dead Calm",
           [
            "Adventure",
            "Family Drama",
            "Children's",
            "Fantasy",
            "Film adaptation",
            "Drama",
            "Family Film"
           ]
          ],
          [
           "Devil in the Flesh",
           [
            "Adventure",
            "Thriller",
            "Drama",
            "Psychological thriller",
            "Film adaptation"
           ]
          ],
          [
           "Family Business",
           [
            "Drama",
            "World cinema"
           ]
          ],
          [
           "Farewell to the King",
           [
            "Thriller",
            "Science Fiction",
            "Horror",
            "Doomsday film",
            "Film adaptation",
            "Drama",
            "Political thriller",
            "Action"
           ]
          ],
          [
           "Field of Dreams",
           [
            "Silent film",
            "Horror",
            "Indie",
            "Science Fiction",
            "Black-and-white",
            "Short Film"
           ]
          ],
          [
           "Fletch Lives",
           [
            "Drama",
            "Black-and-white"
           ]
          ],
          [
           "The Fly II",
           [
            "Crime Fiction",
            "Action/Adventure",
            "Action",
            "Drama",
            "Thriller"
           ]
          ],
          [
           "Food of the Gods II",
           [
            "Romance Film",
            "Drama",
            "Black-and-white",
            "War film"
           ]
          ],
          [
           "Glory",
           [
            "Kitchen sink realism",
            "Screwball comedy",
            "Coming of age",
            "Comedy",
            "Fantasy",
            "British New Wave"
           ]
          ],
          [
           "Howling V: The Rebirth",
           [
            "Documentary"
           ]
          ],
          [
           "In Country",
           [
            "Romantic drama",
            "Film adaptation",
            "Mystery",
            "Period piece",
            "Fantasy",
            "Fantasy Drama",
            "Drama",
            "Romance Film"
           ]
          ],
          [
           "Johnny Handsome",
           [
            "Pre-Code",
            "Romance Film",
            "Drama",
            "Black-and-white",
            "Film adaptation"
           ]
          ],
          [
           "The Little Mermaid",
           [
            "Thriller",
            "Horror",
            "Indie",
            "Gothic Film",
            "Fairy tale",
            "Fantasy"
           ]
          ],
          [
           "Millennium",
           [
            "Romance Film",
            "Drama",
            "Comedy",
            "Black-and-white"
           ]
          ],
          [
           "Wilt",
           [
            "Romance Film",
            "Drama",
            "Comedy",
            "Black-and-white"
           ]
          ],
          [
           "National Lampoon's Christmas Vacation",
           [
            "Romantic drama",
            "Romance Film",
            "Drama",
            "Black-and-white",
            "Film adaptation"
           ]
          ],
          [
           "Pet Sematary",
           [
            "Silent film",
            "Drama",
            "Indie",
            "Black-and-white",
            "Silent film",
            "Drama",
            "Indie",
            "Black-and-white"
           ]
          ],
          [
           "The Phantom of the Opera",
           [
            "Silent film",
            "Drama",
            "Indie",
            "Black-and-white"
           ]
          ],
          [
           "The Rainbow",
           [
            "World cinema",
            "Adult",
            "Drama",
            "Romantic drama",
            "Romance Film",
            "Sexploitation"
           ]
          ],
          [
           "The Return of the Musketeers",
           [
            "Thriller",
            "World cinema",
            "Action Thrillers",
            "Drama",
            "War film",
            "The Netherlands in World War II"
           ]
          ],
          [
           "Ten Little Indians",
           [
            "Children's/Family"
           ]
          ],
          [
           "Valmont",
           [
            "Swashbuckler films",
            "Adventure",
            "Superhero movie",
            "Black-and-white",
            "Action/Adventure",
            "Action"
           ]
          ],
          [
           "The War of the Roses",
           [
            "Comedy Western",
            "Black-and-white",
            "Western",
            "Comedy",
            "Family Film",
            "Slapstick"
           ]
          ],
          [
           "After Dark, My Sweet",
           [
            "Science Fiction",
            "Family Film",
            "Animation"
           ]
          ],
          [
           "Alice",
           [
            "Adventure",
            "Children's/Family",
            "Animation",
            "Fantasy",
            "Children's Fantasy",
            "Drama",
            "Family Film"
           ]
          ],
          [
           "The Bonfire of the Vanities",
           [
            "Parody",
            "Horror Comedy",
            "Comedy"
           ]
          ],
          [
           "Book of Love",
           [
            "Costume drama",
            "Black-and-white",
            "Drama",
            "Film adaptation",
            "Romantic drama",
            "Romance Film"
           ]
          ],
          [
           "The Comfort of Strangers",
           [
            "Adventure",
            "Jungle Film",
            "Black-and-white",
            "Action/Adventure",
            "Drama",
            "Family Film",
            "Action"
           ]
          ],
          [
           "A Cry in the Wild",
           [
            "Crime Fiction",
            "Thriller",
            "Art film",
            "World cinema",
            "Crime Drama",
            "Black-and-white",
            "Drama",
            "Crime Thriller"
           ]
          ],
          [
           "Dances with Wolves",
           [
            "Thriller",
            "Crime Thriller",
            "Drama",
            "Black-and-white",
            "Crime Drama"
           ]
          ],
          [
           "Desperate Hours",
           [
            "Romantic comedy",
            "Comedy-drama",
            "Coming of age",
            "Comedy",
            "Drama",
            "Tragicomedy"
           ]
          ],
          [
           "Die Hard 2",
           [
            "Parody",
            "Detective fiction",
            "Detective",
            "Mystery",
            "Satire",
            "Comedy"
           ]
          ],
          [
           "The Exorcist III",
           [
            "Western",
            "Action",
            "Adventure",
            "Black-and-white"
           ]
          ],
          [
           "Flight of the Intruder",
           [
            "Action",
            "Adventure",
            "Black-and-white",
            "Movie serial"
           ]
          ],
          [
           "Fools of Fortune",
           [
            "Horror",
            "Slasher",
            "Film adaptation"
           ]
          ],
          [
           "Frankenstein Unbound",
           [
            "Action",
            "Adventure",
            "Black-and-white"
           ]
          ],
          [
           "The Godfather Part III",
           [
            "Swashbuckler films",
            "Black-and-white",
            "Superhero movie"
           ]
          ],
          [
           "Graveyard Shift",
           [
            "Swashbuckler films",
            "Western",
            "Action",
            "Black-and-white",
            "Superhero movie"
           ]
          ],
          [
           "The Grifters",
           [
            "War film",
            "Drama",
            "Combat Films"
           ]
          ],
          [
           "The Guardian",
           [
            "Adventure",
            "Black-and-white",
            "Action/Adventure",
            "Drama",
            "Romance Film",
            "Action"
           ]
          ],
          [
           "The Handmaid's Tale",
           [
            "Thriller",
            "Crime Fiction",
            "Black-and-white",
            "Mystery",
            "Drama",
            "Film noir"
           ]
          ],
          [
           "The Hunt for Red October",
           [
            "Science Fiction",
            "Satire",
            "Comedy"
           ]
          ],
          [
           "Lord of the Flies",
           [
            "Drama",
            "Black-and-white",
            "War film"
           ]
          ],
          [
           "Misery",
           [
            "Chinese Movies"
           ]
          ],
          [
           "Mountains of the Moon",
           [
            "History",
            "War film",
            "Period piece",
            "Drama",
            "Costume drama",
            "Action"
           ]
          ],
          [
           "The NeverEnding Story II: The Next Chapter",
           [
            "Sports",
            "History",
            "Documentary"
           ]
          ],
          [
           "Nightbreed",
           [
            "Thriller",
            "Science Fiction",
            "Horror",
            "Suspense",
            "Film adaptation",
            "Thriller",
            "Science Fiction",
            "Horror",
            "Suspense",
            "Film adaptation"
           ]
          ],
          [
           "The Nutcracker Prince",
           [
            "LGBT",
            "Indie",
            "Gay",
            "Gay Interest",
            "Drama",
            "Comedy",
            "Gay Themed"
           ]
          ],
          [
           "Presumed Innocent",
           [
            "Thriller",
            "Mystery",
            "Drama",
            "World cinema"
           ]
          ],
          [
           "Q&A",
           [
            "Period piece",
            "Drama",
            "Art film",
            "World cinema"
           ]
          ],
          [
           "Quick Change",
           [
            "Family Film",
            "Fantasy",
            "Comedy"
           ]
          ],
          [
           "The Rescuers Down Under",
           [
            "Jungle Film",
            "Action",
            "Adventure",
            "Black-and-white"
           ]
          ],
          [
           "The Russia House",
           [
            "Drama",
            "Black-and-white"
           ]
          ],
          [
           "Stella",
           [
            "Drama"
           ]
          ],
          [
           "Tales from the Darkside: The Movie",
           [
            "Science Fiction",
            "Adventure",
            "Children's/Family",
            "Fantasy",
            "Children's Fantasy",
            "Family Film"
           ]
          ],
          [
           "Total Recall",
           [
            "Thriller",
            "Crime Fiction",
            "Crime Comedy",
            "Comedy"
           ]
          ],
          [
           "Why Me?",
           [
            "Western"
           ]
          ],
          [
           "The Witches",
           [
            "Drama"
           ]
          ],
          [
           "Angel Square",
           [
            "Action/Adventure",
            "Romantic drama",
            "Romance Film",
            "Action",
            "Drama"
           ]
          ],
          [
           "At Play in the Fields of the Lord",
           [
            "Horror",
            "Slasher"
           ]
          ],
          [
           "Beastmaster 2: Through the Portal of Time",
           [
            "War film",
            "Black-and-white",
            "Documentary"
           ]
          ],
          [
           "Beauty and the Beast",
           [
            "Drama",
            "Art film",
            "World cinema"
           ]
          ],
          [
           "Billy Bathgate",
           [
            "Family Film",
            "Fantasy",
            "Chinese Movies",
            "Animation"
           ]
          ],
          [
           "Cape Fear",
           [
            "Thriller",
            "Cold War",
            "Action/Adventure",
            "Drama",
            "Action",
            "Spy"
           ]
          ],
          [
           "Dying Young",
           [
            "Horror"
           ]
          ],
          [
           "Father of the Bride",
           [
            "Romantic comedy",
            "Romance Film",
            "Comedy"
           ]
          ],
          [
           "Fried Green Tomatoes",
           [
            "Comedy-drama",
            "Marriage Drama",
            "Drama",
            "Comedy",
            "Black-and-white"
           ]
          ],
          [
           "Hammers Over the Anvil",
           [
            "Horror",
            "Black-and-white"
           ]
          ],
          [
           "Hook",
           [
            "Romance Film",
            "Drama",
            "Adventure"
           ]
          ],
          [
           "A Midnight Clear",
           [
            "Family Film",
            "Fantasy Adventure",
            "Fantasy",
            "Adventure",
            "Musical"
           ]
          ],
          [
           "Naked Lunch",
           [
            "Adventure",
            "Costume drama",
            "Epic",
            "Action/Adventure",
            "Fantasy",
            "Drama",
            "Romantic drama",
            "Romance Film",
            "Action"
           ]
          ],
          [
           "The Pianist",
           [
            "Parody",
            "Comedy"
           ]
          ],
          [
           "The Prince of Tides",
           [
            "Thriller",
            "Drama",
            "Film noir"
           ]
          ],
          [
           "Return to the Blue Lagoon",
           [
            "Computer Animation",
            "Family Film",
            "Comedy",
            "Adventure",
            "Animation"
           ]
          ],
          [
           "The Silence of the Lambs",
           [
            "Film adaptation",
            "Drama",
            "Black-and-white",
            "War film"
           ]
          ],
          [
           "Sleeping with the Enemy",
           [
            "Action/Adventure",
            "Drama",
            "Adventure",
            "World cinema",
            "Film adaptation"
           ]
          ],
          [
           "Texasville",
           [
            "Fantasy",
            "Family Film",
            "Drama",
            "Animation"
           ]
          ],
          [
           "White Fang",
           [
            "Action/Adventure",
            "Western",
            "Action"
           ]
          ],
          [
           "Whore",
           [
            "Thriller",
            "Crime Fiction",
            "Horror",
            "Supernatural",
            "Costume drama",
            "Period piece",
            "Fantasy",
            "Film adaptation",
            "Drama"
           ]
          ],
          [
           "Bram Stoker's Dracula",
           [
            "Romantic drama",
            "Romance Film",
            "Drama",
            "Film adaptation"
           ]
          ],
          [
           "Damage",
           [
            "Thriller",
            "Indie",
            "World cinema",
            "Period piece",
            "Drama",
            "Film adaptation",
            "Romantic drama",
            "Romance Film",
            "Spy"
           ]
          ],
          [
           "Freejack",
           [
            "War film",
            "Drama",
            "Doomsday film"
           ]
          ],
          [
           "Gas Food Lodging",
           [
            "Thriller",
            "Crime Fiction",
            "Action",
            "Drama",
            "Crime Thriller"
           ]
          ],
          [
           "Guncrazy",
           [
            "Musical"
           ]
          ],
          [
           "Howards End",
           [
            "Mystery",
            "Silent film",
            "Black-and-white"
           ]
          ],
          [
           "The Last of the Mohicans",
           [
            "Science Fiction",
            "Adventure",
            "Period piece",
            "Fantasy",
            "Film adaptation",
            "Drama",
            "Action",
            "Steampunk"
           ]
          ],
          [
           "The Lawnmower Man",
           [
            "Thriller",
            "Adventure",
            "Black-and-white",
            "Musical",
            "Drama",
            "Romance Film",
            "Action"
           ]
          ],
          [
           "The Lost World",
           [
            "Drama"
           ]
          ],
          [
           "Memoirs of an Invisible Man",
           [
            "Family Drama",
            "Comedy-drama",
            "Children's",
            "Drama",
            "Comedy",
            "Family Film"
           ]
          ],
          [
           "The Muppet Christmas Carol",
           [
            "Science Fiction",
            "Horror",
            "Doomsday film",
            "Psychological thriller",
            "Action/Adventure",
            "Comedy",
            "Film adaptation",
            "Disaster",
            "Action"
           ]
          ],
          [
           "Night and the City",
           [
            "Crime Fiction",
            "Ensemble Film",
            "Japanese Movies",
            "World cinema",
            "Psychological thriller",
            "Drama",
            "Crime Thriller",
            "Action",
            "Thriller"
           ]
          ],
          [
           "Of Mice and Men",
           [
            "Adventure",
            "Black-and-white"
           ]
          ],
          [
           "Patriot Games",
           [
            "Silent film",
            "Western",
            "Indie",
            "Black-and-white"
           ]
          ],
          [
           "The Power of One",
           [
            "Western",
            "Romance Film"
           ]
          ],
          [
           "Return to the Lost World",
           [
            "Silent film",
            "Indie",
            "Black-and-white"
           ]
          ],
          [
           "Secrets",
           [
            "Family Film",
            "Family Drama",
            "Drama",
            "Adventure",
            "Animal Picture"
           ]
          ],
          [
           "Shining Through",
           [
            "Crime Fiction",
            "Drama",
            "Black-and-white"
           ]
          ],
          [
           "Singles",
           [
            "Drama"
           ]
          ],
          [
           "The Innocent",
           [
            "Short Film",
            "Fantasy",
            "Black-and-white",
            "Animation"
           ]
          ],
          [
           "The Adventures of Huck Finn",
           [
            "Romantic drama",
            "Romance Film",
            "Drama",
            "Film adaptation"
           ]
          ],
          [
           "The Age of Innocence",
           [
            "Horror",
            "Film adaptation",
            "Fantasy",
            "Music"
           ]
          ],
          [
           "Body Snatchers",
           [
            "Crime Fiction",
            "Black-and-white"
           ]
          ],
          [
           "Carlito's Way",
           [
            "Crime Fiction",
            "Drama"
           ]
          ],
          [
           "Dirty Weekend",
           [
            "Romantic drama",
            "Romance Film",
            "Drama",
            "Black-and-white",
            "Film adaptation"
           ]
          ],
          [
           "A Far Off Place",
           [
            "Romantic drama",
            "Romance Film",
            "Drama"
           ]
          ],
          [
           "The Firm",
           [
            "Thriller",
            "World cinema",
            "Action/Adventure",
            "Drama",
            "Political thriller",
            "Action",
            "Spy"
           ]
          ],
          [
           "The Fugitive",
           [
            "Indie",
            "Drama",
            "Political drama",
            "World cinema",
            "Art film"
           ]
          ],
          [
           "Full Contact",
           [
            "Action",
            "Black-and-white",
            "Spy"
           ]
          ],
          [
           "Gettysburg",
           [
            "Western"
           ]
          ],
          [
           "Hard Target",
           [
            "Silent film",
            "Western",
            "Black-and-white",
            "Indie"
           ]
          ],
          [
           "Homeward Bound: The Incredible Journey",
           [
            "Detective fiction",
            "Fantasy Adventure",
            "Detective",
            "Animation",
            "Mystery",
            "Fantasy"
           ]
          ],
          [
           "The House of the Spirits",
           [
            "Melodrama",
            "Adventure",
            "Costume drama",
            "Period piece",
            "Drama",
            "Film adaptation",
            "Romance Film"
           ]
          ],
          [
           "The Joy Luck Club",
           [
            "Satire",
            "Drama",
            "Political drama"
           ]
          ],
          [
           "Jurassic Park",
           [
            "Romance Film",
            "Drama",
            "Adventure"
           ]
          ],
          [
           "The Man Without a Face",
           [
            "Crime Fiction",
            "Thriller",
            "Japanese Movies",
            "World cinema",
            "Drama",
            "Gangster Film"
           ]
          ],
          [
           "Mrs. Doubtfire",
           [
            "Thriller",
            "Crime Fiction",
            "Japanese Movies",
            "World cinema",
            "Action/Adventure",
            "Crime Thriller",
            "Action"
           ]
          ],
          [
           "The Mystery of Edwin Drood",
           [
            "Comedy",
            "Animation"
           ]
          ],
          [
           "The Pelican Brief",
           [
            "Romantic drama",
            "Romance Film",
            "Drama"
           ]
          ],
          [
           "The Remains of the Day",
           [
            "Romance Film",
            "Musical",
            "Black-and-white"
           ]
          ],
          [
           "Rising Sun",
           [
            "Drama",
            "Family Film",
            "Comedy-drama"
           ]
          ],
          [
           "Schindler's List",
           [
            "Drama",
            "Comedy",
            "Black-and-white"
           ]
          ],
          [
           "The Secret Garden",
           [
            "Family Film",
            "Family Drama",
            "Drama",
            "Adventure"
           ]
          ],
          [
           "Sliver",
           [
            "B-movie",
            "Indie",
            "Creature Film",
            "Monster",
            "Horror",
            "Costume Horror"
           ]
          ],
          [
           "The Three Musketeers",
           [
            "Swashbuckler films",
            "Adventure",
            "Black-and-white",
            "Animation"
           ]
          ],
          [
           "The Trial",
           [
            "Drama",
            "Adventure"
           ]
          ],
          [
           "We're Back! A Dinosaur's Story",
           [
            "Sports",
            "Drama",
            "Black-and-white"
           ]
          ],
          [
           "Wide Sargasso Sea",
           [
            "Sports",
            "Romantic comedy",
            "Romance Film",
            "Comedy"
           ]
          ],
          [
           "Black Beauty",
           [
            "Action/Adventure",
            "Western",
            "Black-and-white",
            "Film adaptation"
           ]
          ],
          [
           "The Chase",
           [
            "Adventure",
            "Black-and-white",
            "Action/Adventure",
            "Western",
            "B-Western",
            "Romantic drama",
            "Romance Film",
            "Action"
           ]
          ],
          [
           "Clear and Present Danger",
           [
            "Musical",
            "Children's",
            "Drama",
            "Animation"
           ]
          ],
          [
           "The Client",
           [
            "Drama",
            "Black-and-white",
            "Film noir"
           ]
          ],
          [
           "Disclosure",
           [
            "Adventure",
            "Comedy-drama",
            "Drama",
            "Comedy",
            "Family Film",
            "Spy"
           ]
          ],
          [
           "Exit to Eden",
           [
            "Short Film",
            "Silent film",
            "Black-and-white"
           ]
          ],
          [
           "Felidae",
           [
            "Thriller",
            "Crime Fiction",
            "Mystery",
            "Drama",
            "Political thriller",
            "Spy"
           ]
          ],
          [
           "Forrest Gump",
           [
            "Thriller",
            "Film adaptation",
            "Spy"
           ]
          ],
          [
           "Mary Shelley's Frankenstein",
           [
            "Jungle Film",
            "Action",
            "Adventure",
            "Black-and-white"
           ]
          ],
          [
           "The Getaway",
           [
            "Comedy"
           ]
          ],
          [
           "I Love Trouble",
           [
            "Drama",
            "Comedy"
           ]
          ],
          [
           "The Jungle Book",
           [
            "Thriller",
            "Psychological thriller",
            "Black-and-white",
            "Mystery",
            "Comedy",
            "Spy"
           ]
          ],
          [
           "Lassie",
           [
            "Action/Adventure",
            "Mystery",
            "Spy"
           ]
          ],
          [
           "Little Women",
           [
            "Christian film",
            "Biographical film",
            "Drama",
            "Art film",
            "World cinema"
           ]
          ],
          [
           "No Escape",
           [
            "Drama"
           ]
          ],
          [
           "Payback",
           [
            "Japanese Movies",
            "Adventure",
            "Animation",
            "Musical",
            "Anime",
            "Comedy",
            "Children's",
            "Sword and sorcery",
            "Family Film",
            "Action"
           ]
          ],
          [
           "The Puppet Masters",
           [
            "Parody",
            "Black comedy",
            "Comedy film",
            "Comedy of manners"
           ]
          ],
          [
           "The Shawshank Redemption",
           [
            "Action/Adventure",
            "Romance Film",
            "Action",
            "Adventure"
           ]
          ],
          [
           "Surviving The Game",
           [
            "Family Film",
            "Family Drama",
            "Drama",
            "Adventure",
            "Children's/Family"
           ]
          ],
          [
           "Tall Tale",
           [
            "Action/Adventure",
            "Western",
            "Action"
           ]
          ],
          [
           "Thumbelina",
           [
            "Fantasy Comedy",
            "Comedy",
            "Musical comedy"
           ]
          ],
          [
           "War of the Buttons",
           [
            "Romance Film",
            "Drama",
            "Film adaptation"
           ]
          ],
          [
           "White Fang 2: Myth of the White Wolf",
           [
            "Crime Fiction",
            "Thriller",
            "Action",
            "Action/Adventure",
            "Political thriller"
           ]
          ],
          [
           "Tom and Huck",
           [
            "Thriller",
            "Indie"
           ]
          ],
          [
           "All Men are Mortal",
           [
            "Thriller",
            "Disaster",
            "Action",
            "Action/Adventure",
            "Mystery"
           ]
          ],
          [
           "An Awfully Big Adventure",
           [
            "Family Film",
            "Family Drama",
            "Drama",
            "Adventure"
           ]
          ],
          [
           "Babe",
           [
            "Swashbuckler films",
            "Black-and-white",
            "Costume drama"
           ]
          ],
          [
           "The Baby-Sitters Club",
           [
            "Action/Adventure",
            "Costume drama",
            "Adventure",
            "World cinema",
            "Swashbuckler films"
           ]
          ],
          [
           "The Bridges of Madison County",
           [
            "Epic",
            "Political drama",
            "Period piece",
            "Drama",
            "Romantic drama",
            "Historical Epic",
            "Romance Film"
           ]
          ],
          [
           "Clockers",
           [
            "Drama",
            "Comedy",
            "War film"
           ]
          ],
          [
           "Congo",
           [
            "Drama",
            "Comedy",
            "Film adaptation"
           ]
          ],
          [
           "Dr. Jekyll and Ms. Hyde",
           [
            "Adventure",
            "Black-and-white",
            "Action/Adventure",
            "Western",
            "War film",
            "Action"
           ]
          ],
          [
           "Dracula: Dead and Loving It",
           [
            "Thriller",
            "Horror",
            "Supernatural",
            "Anthology",
            "Psychological thriller",
            "Mystery",
            "Suspense",
            "Thriller",
            "Horror",
            "Supernatural",
            "Anthology",
            "Psychological thriller",
            "Mystery",
            "Suspense"
           ]
          ],
          [
           "Fair Game",
           [
            "Musical",
            "Fantasy",
            "Family Film"
           ]
          ],
          [
           "Father of the Bride Part II",
           [
            "Western",
            "Animal Picture",
            "Drama",
            "Romance Film"
           ]
          ],
          [
           "Frankie Starlight",
           [
            "Science Fiction",
            "Horror",
            "Sci-Fi Horror"
           ]
          ],
          [
           "Get Shorty",
           [
            "Romance Film",
            "Bollywood"
           ]
          ],
          [
           "The Grotesque",
           [
            "Drama"
           ]
          ],
          [
           "The Indian in the Cupboard",
           [
            "Fantasy",
            "Drama",
            "Comedy",
            "Animation"
           ]
          ],
          [
           "Johnny Mnemonic",
           [
            "Musical",
            "Fantasy",
            "Family Film",
            "Adventure"
           ]
          ],
          [
           "Jumanji",
           [
            "LGBT",
            "Indie",
            "World cinema",
            "Comedy-drama",
            "Period piece",
            "Drama",
            "Comedy",
            "Tragicomedy",
            "Political drama"
           ]
          ],
          [
           "A Kid in King Arthur's Court",
           [
            "Swashbuckler films",
            "Adventure",
            "Costume drama",
            "Black-and-white",
            "Action/Adventure",
            "Drama",
            "Comedy",
            "Film adaptation",
            "Action"
           ]
          ],
          [
           "A Little Princess",
           [
            "Silent film",
            "Indie",
            "Black-and-white",
            "Drama",
            "Film adaptation",
            "Adventure"
           ]
          ],
          [
           "The Maddening",
           [
            "Japanese Movies",
            "Drama",
            "Black-and-white",
            "World cinema",
            "War film"
           ]
          ],
          [
           "The Mangler",
           [
            "Thriller",
            "Crime Fiction",
            "Action/Adventure",
            "Drama",
            "Film adaptation",
            "Crime Thriller",
            "Action"
           ]
          ],
          [
           "Les Misérables",
           [
            "Horror",
            "Drama",
            "Psychological thriller",
            "Mystery"
           ]
          ],
          [
           "Pan",
           [
            "Drama",
            "Black-and-white"
           ]
          ],
          [
           "The Quick and the Dead",
           [
            "Musical",
            "Pre-Code",
            "Western",
            "Comedy"
           ]
          ],
          [
           "Rumpelstiltskin",
           [
            "Silent film",
            "Indie",
            "Black-and-white",
            "Action/Adventure",
            "Drama",
            "Action",
            "Adventure"
           ]
          ],
          [
           "The Scarlet Letter",
           [
            "Silent film",
            "Indie",
            "Black-and-white",
            "Western",
            "Action",
            "Adventure"
           ]
          ],
          [
           "Sense and Sensibility",
           [
            "Romance Film",
            "Drama"
           ]
          ],
          [
           "Victory",
           [
            "LGBT",
            "Black-and-white",
            "Drama",
            "Film adaptation",
            "Romantic drama",
            "Romance Film"
           ]
          ],
          [
           "Village of the Damned",
           [
            "Black-and-white"
           ]
          ],
          [
           "101 Dalmatians",
           [
            "Black-and-white"
           ]
          ],
          [
           "The Adventures of Pinocchio",
           [
            "Crime Fiction",
            "Thriller",
            "Drama",
            "Psychological thriller",
            "World cinema"
           ]
          ],
          [
           "Asylum",
           [
            "Adventure",
            "Children's/Family",
            "Animal Picture",
            "Drama",
            "Film adaptation",
            "Coming of age",
            "Family Film",
            "Family-Oriented Adventure"
           ]
          ],
          [
           "Bad Moon",
           [
            "Drama",
            "Black-and-white"
           ]
          ],
          [
           "Bastard Out of Carolina",
           [
            "Western",
            "Action",
            "Adventure",
            "Black-and-white"
           ]
          ],
          [
           "Black Sheep",
           [
            "Western"
           ]
          ],
          [
           "Boys",
           [
            "Action/Adventure",
            "Western",
            "Action",
            "Adventure",
            "Black-and-white"
           ]
          ],
          [
           "Broken Arrow",
           [
            "Action",
            "Adventure",
            "Black-and-white"
           ]
          ],
          [
           "The Chamber",
           [
            "Sports",
            "Action",
            "Adventure",
            "Black-and-white"
           ]
          ],
          [
           "Crash",
           [
            "Comedy"
           ]
          ],
          [
           "Diabolique",
           [
            "Thriller",
            "Parody",
            "Mystery",
            "Drama",
            "Comedy",
            "Film adaptation",
            "Crime Thriller"
           ]
          ],
          [
           "Emma",
           [
            "Western",
            "Action",
            "Adventure",
            "Black-and-white"
           ]
          ],
          [
           "The English Patient",
           [
            "Crime Fiction",
            "Thriller",
            "Psychological thriller",
            "Mystery",
            "Suspense",
            "Film adaptation",
            "Crime Thriller"
           ]
          ],
          [
           "The Evening Star",
           [
            "Thriller",
            "Crime Fiction",
            "Adventure",
            "Chase Movie",
            "Action/Adventure",
            "Drama",
            "Escape Film",
            "Film adaptation",
            "Action"
           ]
          ],
          [
           "The Fan",
           [
            "Science Fiction",
            "Action",
            "Adventure",
            "Black-and-white"
           ]
          ],
          [
           "Fire on the Mountain",
           [
            "Adventure",
            "Action/Adventure",
            "Drama",
            "Film adaptation",
            "Romance Film",
            "Action"
           ]
          ],
          [
           "The First Wives Club",
           [
            "Action",
            "Drama",
            "Comedy",
            "Adventure"
           ]
          ],
          [
           "Harriet the Spy",
           [
            "Romantic comedy",
            "Ensemble Film",
            "Indie",
            "Slice of life story",
            "Comedy-drama",
            "Drama",
            "Comedy",
            "Film adaptation",
            "Romance Film"
           ]
          ],
          [
           "Homeward Bound II: Lost in San Francisco",
           [
            "LGBT",
            "Japanese Movies",
            "Comedy of manners",
            "Comedy-drama",
            "Coming of age",
            "Comedy",
            "Film adaptation",
            "Drama"
           ]
          ],
          [
           "The Hunchback of Notre Dame",
           [
            "Tragedy",
            "Period piece",
            "Marriage Drama",
            "Drama",
            "Film adaptation",
            "Romantic drama",
            "Romance Film"
           ]
          ],
          [
           "The Island of Dr. Moreau",
           [
            "Science Fiction",
            "Drama",
            "Adventure"
           ]
          ],
          [
           "James and the Giant Peach",
           [
            "Thriller",
            "Horror",
            "Psychological thriller",
            "Supernatural"
           ]
          ],
          [
           "Jane Eyre",
           [
            "Drama",
            "Black-and-white"
           ]
          ],
          [
           "Jude",
           [
            "Adventure",
            "Children's/Family",
            "Holiday Film",
            "Animation",
            "Musical",
            "Fantasy",
            "Children's Fantasy",
            "Coming of age",
            "Family Film"
           ]
          ],
          [
           "Mary Reilly",
           [
            "Romance Film",
            "Comedy",
            "Black-and-white"
           ]
          ],
          [
           "Matilda",
           [
            "Romantic comedy",
            "Romance Film",
            "Comedy",
            "Teen"
           ]
          ],
          [
           "Mother Night",
           [
            "Drama"
           ]
          ],
          [
           "Muppet Treasure Island",
           [
            "Romantic comedy",
            "Period piece",
            "Coming of age",
            "Comedy",
            "Romantic drama",
            "Drama",
            "Romance Film"
           ]
          ],
          [
           "The Preacher's Wife",
           [
            "Thriller",
            "Crime Fiction",
            "Psychological thriller",
            "Mystery",
            "Drama",
            "Film adaptation",
            "Crime Thriller",
            "Action",
            "New Hollywood"
           ]
          ],
          [
           "Striptease",
           [
            "Family Film",
            "Family Drama",
            "Drama",
            "Black-and-white"
           ]
          ],
          [
           "The Stupids",
           [
            "Action/Adventure",
            "Western",
            "Drama",
            "Adventure"
           ]
          ],
          [
           "A Time to Kill",
           [
            "Silent film",
            "Drama",
            "Indie",
            "World cinema",
            "Silent film",
            "Drama",
            "Indie",
            "World cinema"
           ]
          ],
          [
           "Trainspotting",
           [
            "Black-and-white",
            "Drama",
            "Political drama",
            "World cinema",
            "Film adaptation"
           ]
          ],
          [
           "The Wind in the Willows",
           [
            "Wuxia",
            "World cinema",
            "Action/Adventure",
            "Martial Arts Film",
            "Action",
            "Chinese Movies"
           ]
          ],
          [
           "Absolute Power",
           [
            "Romance Film",
            "Drama"
           ]
          ],
          [
           "Anna Karenina",
           [
            "Bollywood"
           ]
          ],
          [
           "Apt Pupil",
           [
            "Animal Picture",
            "Adventure",
            "Children's/Family",
            "Family Drama",
            "Drama",
            "Family Film",
            "Family-Oriented Adventure"
           ]
          ],
          [
           "Obsession",
           [
            "Action/Adventure",
            "Western",
            "Drama"
           ]
          ],
          [
           "The Blood Oranges",
           [
            "Thriller",
            "Horror"
           ]
          ],
          [
           "The Borrowers",
           [
            "Thriller",
            "LGBT",
            "Horror"
           ]
          ],
          [
           "The Castle",
           [
            "Drama",
            "Political drama",
            "Film adaptation"
           ]
          ],
          [
           "Chinese Box",
           [
            "Romantic drama",
            "Romance Film",
            "Drama",
            "Bollywood",
            "World cinema"
           ]
          ],
          [
           "Contact",
           [
            "Drama",
            "Family Film",
            "Fantasy",
            "Romance Film"
           ]
          ],
          [
           "The Dancer Upstairs",
           [
            "Drama",
            "War film"
           ]
          ],
          [
           "The Devil's Advocate",
           [
            "Science Fiction",
            "Mystery",
            "Fantasy",
            "Film adaptation",
            "Drama",
            "Romantic drama",
            "Romance Film"
           ]
          ],
          [
           "Fallen",
           [
            "Comedy-drama",
            "Drama"
           ]
          ],
          [
           "Fever Pitch",
           [
            "LGBT",
            "Melodrama",
            "Drama"
           ]
          ],
          [
           "Flubber",
           [
            "Romantic comedy",
            "Sex comedy",
            "Adventure",
            "Coming of age",
            "Comedy",
            "Teen"
           ]
          ],
          [
           "Great Expectations",
           [
            "Romance Film",
            "Drama",
            "Black-and-white"
           ]
          ],
          [
           "Snow White: A Tale Of Terror",
           [
            "LGBT",
            "Period piece",
            "Drama",
            "Film adaptation",
            "Romantic drama",
            "Romance Film"
           ]
          ],
          [
           "Bleeders",
           [
            "Sports",
            "Romantic drama",
            "Romance Film",
            "Drama"
           ]
          ],
          [
           "I Know What You Did Last Summer",
           [
            "Costume drama"
           ]
          ],
          [
           "Inventing the Abbotts",
           [
            "Parody",
            "Adventure",
            "Action/Adventure",
            "Satire",
            "Comedy",
            "Action"
           ]
          ],
          [
           "The Jackal",
           [
            "Drama",
            "Fantasy",
            "Black-and-white",
            "Courtroom Drama"
           ]
          ],
          [
           "Jackie Brown",
           [
            "LGBT",
            "Drama"
           ]
          ],
          [
           "Kiss the Girls",
           [
            "Science Fiction",
            "Comedy"
           ]
          ],
          [
           "L.A. Confidential",
           [
            "LGBT",
            "Musical",
            "Drama",
            "World cinema",
            "LGBT",
            "Musical",
            "Drama",
            "World cinema"
           ]
          ],
          [
           "Lolita",
           [
            "Silent film",
            "Melodrama",
            "Drama",
            "Adventure"
           ]
          ],
          [
           "The Lost World: Jurassic Park",
           [
            "Thriller",
            "Mystery",
            "Horror",
            "Drama",
            "Film adaptation"
           ]
          ],
          [
           "Twilight",
           [
            "Thriller",
            "Erotic thriller",
            "Romance Film",
            "Psychological thriller"
           ]
          ],
          [
           "The Mighty",
           [
            "Drama",
            "Black-and-white",
            "Film adaptation"
           ]
          ],
          [
           "Les Misérables",
           [
            "Musical",
            "Roadshow theatrical release",
            "Romance Film",
            "War film"
           ]
          ],
          [
           "Nevada",
           [
            "Action/Adventure",
            "Western",
            "Drama",
            "Adventure",
            "Black-and-white"
           ]
          ],
          [
           "The Night Flier",
           [
            "Jungle Film",
            "Action",
            "Drama",
            "Adventure"
           ]
          ],
          [
           "Nightwatch",
           [
            "Sci-Fi Horror",
            "Science Fiction",
            "Horror",
            "Creature Film"
           ]
          ],
          [
           "The Pest",
           [
            "Stop motion",
            "Family Film",
            "Fantasy",
            "Animation"
           ]
          ],
          [
           "Pippi Longstocking",
           [
            "Thriller",
            "Action/Adventure",
            "Action",
            "Psychological thriller"
           ]
          ],
          [
           "The Postman",
           [
            "Thriller",
            "Crime Fiction",
            "Detective fiction",
            "Detective",
            "Black-and-white",
            "Mystery",
            "Drama",
            "Film adaptation",
            "Crime Thriller"
           ]
          ],
          [
           "The Rainmaker",
           [
            "Americana",
            "Baseball",
            "Sports",
            "Period piece",
            "Drama",
            "Film adaptation"
           ]
          ],
          [
           "The Second Jungle Book: Mowgli & Baloo",
           [
            "Romance Film",
            "Drama",
            "Adventure",
            "Film adaptation"
           ]
          ],
          [
           "Sphere",
           [
            "Bollywood",
            "Musical",
            "World cinema",
            "Black-and-white"
           ]
          ],
          [
           "Starship Troopers",
           [
            "Animation",
            "Animation"
           ]
          ],
          [
           "Sunday",
           [
            "Romantic comedy",
            "Romance Film",
            "Comedy",
            "Black-and-white"
           ]
          ],
          [
           "That Darn Cat",
           [
            "Action",
            "Drama",
            "Adventure"
           ]
          ],
          [
           "A Simple Plan",
           [
            "Thriller",
            "Action/Adventure",
            "Mystery",
            "Suspense",
            "War film",
            "Spy"
           ]
          ],
          [
           "Touch",
           [
            "Crime Fiction",
            "Gangster Film",
            "Black-and-white",
            "Drama",
            "Comedy",
            "Crime Comedy"
           ]
          ],
          [
           "Vinyl",
           [
            "Romantic drama",
            "Romance Film",
            "Drama",
            "World cinema"
           ]
          ],
          [
           "The Wings of the Dove",
           [
            "Crime Fiction",
            "Action"
           ]
          ],
          [
           "Babe: Pig in the City",
           [
            "Adventure",
            "Stop motion",
            "Animation",
            "Fantasy",
            "Family Film",
            "Steampunk"
           ]
          ],
          [
           "Beloved",
           [
            "Costume drama",
            "Romance Film",
            "Drama"
           ]
          ],
          [
           "Beowulf",
           [
            "Period piece",
            "Drama",
            "Film adaptation"
           ]
          ],
          [
           "Breakfast of Champions",
           [
            "Horror",
            "Supernatural"
           ]
          ],
          [
           "Ever After",
           [
            "Tragedy",
            "Drama",
            "Film adaptation",
            "Romantic drama",
            "Romance Film",
            "New Hollywood"
           ]
          ],
          [
           "The Deep End of the Ocean",
           [
            "Horror",
            "World cinema"
           ]
          ],
          [
           "The 13th Warrior",
           [
            "Thriller",
            "Political thriller",
            "Black-and-white",
            "Political satire",
            "Satire",
            "Drama",
            "Comedy",
            "Film adaptation",
            "Crime Thriller",
            "Spy"
           ]
          ],
          [
           "Eyes Wide Shut",
           [
            "Cult",
            "Music",
            "Romance Film",
            "Drama",
            "Film adaptation"
           ]
          ],
          [
           "Fear and Loathing in Las Vegas",
           [
            "Crime Fiction",
            "Drama",
            "Crime Drama"
           ]
          ],
          [
           "Gods and Monsters",
           [
            "Family Film",
            "Children's",
            "Adventure",
            "Comedy"
           ]
          ],
          [
           "The Green Mile",
           [
            "Swashbuckler films",
            "Adventure",
            "Costume drama",
            "Action/Adventure",
            "Drama",
            "Film adaptation",
            "Romance Film",
            "Action"
           ]
          ],
          [
           "The Lord of the Rings: The Fellowship of the Ring",
           [
            "Thriller",
            "Giallo",
            "Horror",
            "Psychological thriller",
            "Slasher"
           ]
          ],
          [
           "The Man in the Iron Mask",
           [
            "Thriller",
            "Action/Adventure",
            "Drama",
            "War film",
            "Romantic drama",
            "Romance Film",
            "Action",
            "Spy"
           ]
          ],
          [
           "The Mask of Zorro",
           [
            "Drama"
           ]
          ],
          [
           "Mercury Rising",
           [
            "Romantic drama",
            "Romance Film",
            "Drama",
            "Period piece"
           ]
          ],
          [
           "Out of Sight",
           [
            "Crime Fiction",
            "Comedy",
            "Black-and-white"
           ]
          ],
          [
           "The Parent Trap",
           [
            "Family Film",
            "Animal Picture",
            "Adventure"
           ]
          ],
          [
           "Payback",
           [
            "Science Fiction",
            "Fantasy Adventure",
            "Adventure",
            "Children's/Family",
            "Family Drama",
            "Fantasy",
            "Children's Fantasy",
            "Film adaptation",
            "Drama",
            "Family Film",
            "Dystopia"
           ]
          ],
          [
           "Practical Magic",
           [
            "Family Film",
            "Family Drama",
            "Drama",
            "Indie",
            "Period piece"
           ]
          ],
          [
           "Quest for Camelot",
           [
            "Thriller",
            "Science Fiction",
            "Horror",
            "Supernatural",
            "Psychological thriller",
            "Mystery",
            "Drama",
            "Crime Thriller"
           ]
          ],
          [
           "The Shipping News",
           [
            "Drama"
           ]
          ],
          [
           "A Soldier's Daughter Never Cries",
           [
            "Thriller",
            "Horror"
           ]
          ],
          [
           "Tarzan",
           [
            "Thriller",
            "Action/Adventure",
            "Action Thrillers",
            "Drama",
            "Disaster",
            "Action"
           ]
          ],
          [
           "Tarzan and the Lost City",
           [
            "Short Film",
            "Silent film",
            "Detective fiction",
            "Indie",
            "Black-and-white"
           ]
          ],
          [
           "Vampires",
           [
            "Romantic comedy",
            "Romantic drama",
            "Romance Film",
            "Drama",
            "World cinema"
           ]
          ],
          [
           "What Dreams May Come",
           [
            "Thriller",
            "Crime Thriller",
            "Action",
            "Action/Adventure"
           ]
          ],
          [
           "Fantasia 2000",
           [
            "Science Fiction",
            "Horror",
            "Adventure",
            "Romantic fantasy",
            "Action/Adventure",
            "Fantasy",
            "Romance Film",
            "Action",
            "Family Film"
           ]
          ],
          [
           "The Acid House",
           [
            "Adventure",
            "Costume drama",
            "Family Drama",
            "Animation",
            "Fantasy",
            "Drama",
            "Family Film"
           ]
          ],
          [
           "Madeline",
           [
            "Family Drama",
            "Adventure",
            "Animal Picture",
            "Drama",
            "War film",
            "Family Film"
           ]
          ],
          [
           "The Cider House Rules",
           [
            "Drama"
           ]
          ],
          [
           "Return to Paradise",
           [
            "Japanese Movies",
            "Adventure",
            "Animation",
            "Anime",
            "Drama",
            "Family Film"
           ]
          ],
          [
           "Frække Frida og de frygtløse spioner",
           [
            "Family Film",
            "Fantasy",
            "Indie",
            "Comedy"
           ]
          ],
          [
           "Shrek",
           [
            "Thriller",
            "Horror",
            "World cinema",
            "Supernatural",
            "Gothic Film",
            "Psychological thriller",
            "Period piece",
            "Drama",
            "Haunted House Film"
           ]
          ],
          [
           "Alice of Wonderland in Paris",
           [
            "Drama"
           ]
          ],
          [
           "Election",
           [
            "Drama",
            "Black-and-white"
           ]
          ],
          [
           "For Love of the Game",
           [
            "Drama",
            "Black-and-white"
           ]
          ],
          [
           "The Iron Giant",
           [
            "Romantic drama",
            "Romance Film",
            "Drama",
            "Film adaptation"
           ]
          ],
          [
           "I Still Know What You Did Last Summer",
           [
            "Crime Fiction",
            "Drama",
            "Black-and-white"
           ]
          ],
          [
           "Sangdil",
           [
            "Silent film",
            "Drama",
            "Indie",
            "Black-and-white"
           ]
          ],
          [
           "Cat's Eye",
           [
            "Drama"
           ]
          ],
          [
           "Planet of the Apes",
           [
            "Thriller",
            "Drama",
            "Suspense"
           ]
          ],
          [
           "Treasure Planet",
           [
            "Thriller",
            "Crime Fiction",
            "Indie",
            "Heist",
            "Action/Adventure",
            "Drama",
            "Crime Thriller",
            "Action"
           ]
          ],
          [
           "The Talented Mr. Ripley",
           [
            "Thriller",
            "Drama",
            "Spy"
           ]
          ],
          [
           "Ride with the Devil",
           [
            "Adventure",
            "Black-and-white",
            "War film"
           ]
          ],
          [
           "Fight Club",
           [
            "Thriller",
            "Mystery",
            "Drama",
            "Suspense",
            "Political thriller",
            "Romantic drama",
            "Romance Film"
           ]
          ],
          [
           "Head On",
           [
            "Monster movie",
            "Science Fiction",
            "Adventure",
            "Action/Adventure",
            "Fantasy",
            "Film adaptation",
            "Drama"
           ]
          ],
          [
           "Cruel Intentions",
           [
            "Romantic comedy",
            "Action/Adventure",
            "Comedy",
            "Romance Film",
            "Action",
            "Chinese Movies"
           ]
          ],
          [
           "Message in a Bottle",
           [
            "Disaster",
            "Drama",
            "Black-and-white"
           ]
          ],
          [
           "Sahara",
           [
            "Drama",
            "Teen",
            "Film adaptation"
           ]
          ],
          [
           "The Ninth Gate",
           [
            "Action/Adventure",
            "Revisionist Western",
            "Western"
           ]
          ],
          [
           "American Psycho",
           [
            "Western",
            "Action"
           ]
          ],
          [
           "Shadrach",
           [
            "Action/Adventure",
            "Western",
            "Action",
            "Comedy"
           ]
          ],
          [
           "The Rage: Carrie 2",
           [
            "Thriller",
            "Crime Fiction",
            "Science Fiction",
            "Sports",
            "Action/Adventure",
            "Auto racing",
            "Action",
            "Dystopia"
           ]
          ],
          [
           "The Princess and the Pea",
           [
            "Action/Adventure",
            "Action",
            "Drama",
            "War film"
           ]
          ],
          [
           "High Fidelity",
           [
            "Adventure",
            "Children's/Family",
            "Animation",
            "Fantasy",
            "Comedy",
            "Family Film",
            "Children's Fantasy"
           ]
          ],
          [
           "All the Pretty Horses",
           [
            "Mystery",
            "Family Film",
            "Drama",
            "Adventure"
           ]
          ],
          [
           "Earth",
           [
            "Drama"
           ]
          ],
          [
           "Men of Steel",
           [
            "Action/Adventure",
            "Western",
            "Action"
           ]
          ],
          [
           "Psycho",
           [
            "Musical",
            "Screwball comedy",
            "Comedy",
            "Musical comedy"
           ]
          ],
          [
           "Belle",
           [
            "Action/Adventure",
            "Western",
            "Action",
            "Black-and-white"
           ]
          ],
          [
           "Random Hearts",
           [
            "Costume drama",
            "Family Drama",
            "Period piece",
            "Drama",
            "Coming of age",
            "Family Film"
           ]
          ],
          [
           "Enigma",
           [
            "Romantic comedy",
            "Comedy-drama",
            "Black-and-white",
            "Coming of age",
            "Comedy",
            "Drama",
            "Romance Film"
           ]
          ],
          [
           "Dharmputra",
           [
            "Family Film",
            "Family Drama",
            "Drama",
            "Film adaptation"
           ]
          ],
          [
           "Bluebird",
           [
            "B-movie",
            "Horror",
            "Slasher"
           ]
          ],
          [
           "Cold Mountain",
           [
            "Crime Fiction",
            "Thriller",
            "Mystery",
            "Drama",
            "Suspense",
            "Film adaptation",
            "Crime Thriller",
            "Courtroom Drama"
           ]
          ],
          [
           "D-Tox",
           [
            "Mystery",
            "Drama"
           ]
          ],
          [
           "Guilt Is My Shadow",
           [
            "Thriller",
            "World cinema",
            "Musical",
            "Comedy",
            "Romance Film",
            "Bollywood",
            "Thriller",
            "World cinema",
            "Musical",
            "Comedy",
            "Romance Film",
            "Bollywood"
           ]
          ],
          [
           "Impostor",
           [
            "Family Film",
            "Comedy",
            "Slapstick"
           ]
          ],
          [
           "The King and I",
           [
            "Adventure",
            "World cinema",
            "Epic",
            "Action/Adventure",
            "Drama",
            "Film adaptation"
           ]
          ],
          [
           "What's the Worst That Could Happen?",
           [
            "Drama",
            "Comedy",
            "World cinema"
           ]
          ],
          [
           "Shaft",
           [
            "Monster movie",
            "Science Fiction",
            "Fantasy Adventure",
            "Adventure",
            "Action/Adventure",
            "Fantasy"
           ]
          ],
          [
           "Sleepy Hollow",
           [
            "Mystery",
            "Horror",
            "Slasher"
           ]
          ],
          [
           "Jurassic Park III",
           [
            "Drama",
            "Family Film",
            "Fantasy",
            "Adventure"
           ]
          ],
          [
           "Quasimodo d'El Paris",
           [
            "Romantic drama",
            "Romance Film",
            "Melodrama",
            "Drama",
            "Film adaptation"
           ]
          ],
          [
           "The Beach",
           [
            "Drama"
           ]
          ],
          [
           "Bless the Child",
           [
            "Silent film",
            "Indie",
            "Black-and-white",
            "Short Film",
            "Western",
            "Drama"
           ]
          ],
          [
           "Bringing Out the Dead",
           [
            "Romantic comedy",
            "Romance Film",
            "Coming of age",
            "Comedy",
            "Teen"
           ]
          ],
          [
           "Stir of Echoes",
           [
            "Silent film",
            "Western",
            "Black-and-white",
            "Indie"
           ]
          ],
          [
           "The Sum of All Fears",
           [
            "Silent film",
            "Western",
            "Black-and-white",
            "Indie"
           ]
          ],
          [
           "Along Came a Spider",
           [
            "Silent film",
            "Western",
            "Black-and-white",
            "Indie"
           ]
          ],
          [
           "Stuart Little",
           [
            "Silent film",
            "Western",
            "Black-and-white",
            "Indie"
           ]
          ],
          [
           "Babar: King of the Elephants",
           [
            "Drama",
            "Family Film",
            "Family Drama",
            "Coming of age"
           ]
          ],
          [
           "Anna and the King",
           [
            "Thriller",
            "Mystery"
           ]
          ],
          [
           "The Lord of the Rings: The Return of the King",
           [
            "Silent film",
            "Western",
            "Black-and-white",
            "Indie"
           ]
          ],
          [
           "The Lord of the Rings: The Two Towers",
           [
            "Romance Film",
            "Drama",
            "Black-and-white"
           ]
          ],
          [
           "Brown's Requiem",
           [
            "Romance Film",
            "Comedy",
            "Black-and-white"
           ]
          ],
          [
           "The Haunting",
           [
            "Film adaptation",
            "Black-and-white",
            "Pre-Code",
            "War film",
            "Drama",
            "Romantic drama",
            "Romance Film"
           ]
          ],
          [
           "The End of the Affair",
           [
            "B-movie",
            "Science Fiction",
            "Horror",
            "Creature Film"
           ]
          ],
          [
           "The Prince and the Surfer",
           [
            "Crime Fiction",
            "Period piece",
            "Drama",
            "War film",
            "Romantic drama",
            "Romance Film"
           ]
          ],
          [
           "The Breaking Point",
           [
            "Thriller",
            "Mystery",
            "Japanese Movies",
            "World cinema",
            "Black-and-white"
           ]
          ],
          [
           "The Ugly Duckling",
           [
            "Comedy"
           ]
          ],
          [
           "Point Blank",
           [
            "Indie",
            "Documentary"
           ]
          ],
          [
           "Spaceman",
           [
            "Crime Fiction",
            "Horror",
            "Slasher"
           ]
          ],
          [
           "Puss in Boots",
           [
            "Cult",
            "Horror",
            "Supernatural"
           ]
          ],
          [
           "Vampires",
           [
            "Science Fiction"
           ]
          ],
          [
           "Minority Report",
           [
            "Silent film",
            "Jungle Film",
            "Adventure",
            "Black-and-white"
           ]
          ],
          [
           "Treasure Island",
           [
            "Drama",
            "Black-and-white"
           ]
          ],
          [
           "The Caveman's Valentine",
           [
            "Drama",
            "World cinema",
            "Black-and-white"
           ]
          ],
          [
           "Bicentennial Man",
           [
            "Drama",
            "Black-and-white"
           ]
          ],
          [
           "Wonder Boys",
           [
            "Romance Film",
            "Black-and-white"
           ]
          ],
          [
           "Battlefield Earth",
           [
            "Romantic drama",
            "Romance Film",
            "Drama"
           ]
          ],
          [
           "Pinocchio in Outer Space",
           [
            "Drama"
           ]
          ],
          [
           "El Asalto",
           [
            "Thriller",
            "Crime Fiction",
            "Horror",
            "Psychological thriller",
            "Mystery",
            "Period piece",
            "Drama",
            "Film adaptation",
            "Crime Thriller"
           ]
          ],
          [
           "O Brother, Where Art Thou?",
           [
            "Buddy film",
            "Comedy-drama",
            "Coming of age",
            "Comedy",
            "Film adaptation",
            "Drama",
            "Romance Film",
            "Teen"
           ]
          ],
          [
           "The First Men in the Moon",
           [
            "Jungle Film",
            "Adventure",
            "Black-and-white"
           ]
          ],
          [
           "Crisis",
           [
            "Animal Picture",
            "Drama",
            "Children's/Family"
           ]
          ],
          [
           "Robinson Crusoe",
           [
            "Drama",
            "Black-and-white"
           ]
          ],
          [
           "The Body",
           [
            "Adventure",
            "Black-and-white"
           ]
          ],
          [
           "Detective",
           [
            "Science Fiction",
            "Adventure",
            "Black-and-white"
           ]
          ],
          [
           "The Golden Bowl",
           [
            "Tragedy",
            "Period piece",
            "Drama",
            "Film adaptation",
            "Romantic drama",
            "Romance Film",
            "Courtroom Drama"
           ]
          ],
          [
           "La Bestia humana",
           [
            "Drama",
            "Black-and-white"
           ]
          ],
          [
           "The Body",
           [
            "Romantic drama",
            "Romance Film",
            "Marriage Drama",
            "Drama"
           ]
          ],
          [
           "Puss in Boots",
           [
            "Thriller",
            "Action",
            "Drama"
           ]
          ],
          [
           "Exorcist: The Beginning",
           [
            "Romantic comedy",
            "Musical",
            "Coming of age",
            "Comedy",
            "Drama",
            "Music",
            "Romance Film",
            "Teen"
           ]
          ],
          [
           "Thomas and the Magic Railroad",
           [
            "Thriller",
            "Science Fiction",
            "Drama",
            "Romance Film"
           ]
          ],
          [
           "The Trumpet of the Swan",
           [
            "Adventure",
            "Fantasy",
            "Film adaptation",
            "Drama",
            "Romantic drama",
            "Romance Film",
            "Teen"
           ]
          ],
          [
           "Children of Men",
           [
            "Crime Fiction",
            "Melodrama",
            "Black-and-white",
            "Mystery",
            "Drama",
            "Crime Thriller"
           ]
          ],
          [
           "Get Carter",
           [
            "Hip hop movies",
            "Romance Film",
            "Film adaptation",
            "Drama",
            "Romantic drama"
           ]
          ],
          [
           "Memento",
           [
            "Music",
            "Musical",
            "Drama"
           ]
          ],
          [
           "The Blue Lagoon",
           [
            "Romantic drama",
            "Romance Film",
            "Drama",
            "World cinema"
           ]
          ],
          [
           "102 Dalmatians",
           [
            "Romantic drama",
            "Romance Film",
            "Melodrama",
            "Drama",
            "Black-and-white"
           ]
          ],
          [
           "Presence of Mind",
           [
            "Drama"
           ]
          ],
          [
           "Dulhan Ek Raat Ki",
           [
            "Drama"
           ]
          ],
          [
           "A.I. Artificial Intelligence",
           [
            "Drama"
           ]
          ],
          [
           "Hannibal",
           [
            "Drama"
           ]
          ],
          [
           "Raja Aur Runk",
           [
            "Thriller",
            "Horror",
            "Creature Film",
            "Action/Adventure",
            "Fantasy",
            "Children's Fantasy"
           ]
          ],
          [
           "Belphégor - Le fantôme du Louvre",
           [
            "Drama",
            "Horror"
           ]
          ],
          [
           "Padayottam",
           [
            "Computer Animation",
            "Family Film",
            "Fantasy",
            "Adventure",
            "Computer Animation",
            "Family Film",
            "Fantasy",
            "Adventure"
           ]
          ],
          [
           "The Shade",
           [
            "Romantic comedy",
            "Comedy-drama",
            "Black-and-white",
            "Musical comedy",
            "Musical",
            "Pre-Code",
            "Comedy",
            "Romance Film",
            "Musical Drama"
           ]
          ],
          [
           "The Woman Chaser",
           [
            "Thriller",
            "Supernatural",
            "Horror",
            "Suspense",
            "Psychological thriller"
           ]
          ],
          [
           "The Claim",
           [
            "Comedy"
           ]
          ],
          [
           "Original Sin",
           [
            "Science Fiction",
            "Horror",
            "Comedy",
            "Adventure"
           ]
          ],
          [
           "Ripley Under Ground",
           [
            "Crime Fiction",
            "Mystery",
            "Wuxia",
            "Chinese Movies",
            "Crime Thriller"
           ]
          ],
          [
           "Dracula 2000",
           [
            "Swashbuckler films",
            "Adventure",
            "Costume drama",
            "Family Drama",
            "Black-and-white",
            "Drama",
            "Family Film"
           ]
          ],
          [
           "The Tigger Movie",
           [
            "Romantic drama",
            "Romance Film",
            "Drama",
            "Black-and-white"
           ]
          ],
          [
           "The Laughing Cavalier",
           [
            "Drama"
           ]
          ],
          [
           "The Score",
           [
            "Crime Fiction",
            "Drama",
            "Crime Drama"
           ]
          ],
          [
           "Dark Heritage",
           [
            "Romance Film",
            "Drama"
           ]
          ],
          [
           "The Picture of Dorian Gray",
           [
            "Fantasy Adventure",
            "Adventure",
            "Fantasy",
            "Children's Fantasy",
            "Film adaptation",
            "Romance Film",
            "Family Film"
           ]
          ],
          [
           "The Others",
           [
            "Mystery",
            "Drama",
            "Black-and-white",
            "Film noir"
           ]
          ],
          [
           "Dharmasere",
           [
            "Jungle Film",
            "Adventure",
            "Black-and-white"
           ]
          ],
          [
           "Parineeta",
           [
            "Jungle Film",
            "Adventure",
            "Black-and-white"
           ]
          ],
          [
           "Do Kaliyaan",
           [
            "Jungle Film",
            "Action",
            "Drama",
            "Adventure",
            "Black-and-white"
           ]
          ],
          [
           "Kuzhandaiyum Deivamum",
           [
            "Jungle Film",
            "Adventure"
           ]
          ],
          [
           "Love Story",
           [
            "Jungle Film",
            "Adventure"
           ]
          ],
          [
           "August 1",
           [
            "Jungle Film",
            "Adventure",
            "Black-and-white"
           ]
          ],
          [
           "Queen of the Damned",
           [
            "Drama",
            "Black-and-white"
           ]
          ],
          [
           "The Dangerous Lives of Altar Boys",
           [
            "Thriller",
            "Drama",
            "Science Fiction",
            "Remake",
            "Doomsday film"
           ]
          ],
          [
           "Devdas",
           [
            "Marriage Drama",
            "Comedy",
            "Black-and-white",
            "War film"
           ]
          ],
          [
           "Dr. Dolittle 2",
           [
            "Adventure",
            "Comedy"
           ]
          ],
          [
           "The Four Feathers",
           [
            "Sports",
            "Period piece",
            "Drama",
            "Comedy",
            "Film adaptation",
            "Biographical film"
           ]
          ],
          [
           "Vanity Fair",
           [
            "Drama",
            "Horror",
            "World cinema",
            "Fantasy Drama"
           ]
          ],
          [
           "Chocolat",
           [
            "Adventure",
            "Children's/Family",
            "Children's",
            "Fantasy",
            "Family Film",
            "Family-Oriented Adventure"
           ]
          ],
          [
           "Exit Wounds",
           [
            "History",
            "Silent film",
            "Drama",
            "Indie",
            "Black-and-white"
           ]
          ],
          [
           "Kandukondain Kandukondain",
           [
            "Romantic drama",
            "Romance Film",
            "Drama",
            "Film adaptation"
           ]
          ],
          [
           "Bridget Jones's Diary",
           [
            "Parody",
            "World cinema",
            "Period piece",
            "Drama",
            "Film adaptation",
            "Romantic drama",
            "Romance Film"
           ]
          ],
          [
           "Stuart Little 2",
           [
            "Time travel",
            "Musical",
            "Fantasy",
            "Adventure",
            "Comedy"
           ]
          ],
          [
           "Charlotte Gray",
           [
            "Adventure",
            "War film"
           ]
          ],
          [
           "The Count of Monte Cristo",
           [
            "Silent film",
            "Indie"
           ]
          ],
          [
           "Prema Tarangalu",
           [
            "Action/Adventure",
            "Action",
            "Drama",
            "Adventure",
            "Film adaptation"
           ]
          ],
          [
           "Veta",
           [
            "Thriller",
            "Drama",
            "Black-and-white",
            "Film noir"
           ]
          ],
          [
           "Big Trouble",
           [
            "Romance Film",
            "War film",
            "Drama",
            "Film adaptation"
           ]
          ],
          [
           "The Musketeer",
           [
            "Adventure",
            "Costume drama",
            "Period piece",
            "Drama",
            "Film adaptation",
            "Romantic drama",
            "Romance Film"
           ]
          ],
          [
           "Rollerball",
           [
            "Comedy"
           ]
          ],
          [
           "Gumnaam",
           [
            "Drama",
            "Chinese Movies",
            "Black-and-white"
           ]
          ],
          [
           "In the Bedroom",
           [
            "Romantic drama",
            "Romance Film",
            "Erotic Drama",
            "Drama",
            "World cinema"
           ]
          ],
          [
           "En Annan",
           [
            "Swashbuckler films",
            "Silent film",
            "Black-and-white"
           ]
          ],
          [
           "The Deep End",
           [
            "Silent film",
            "Western",
            "Indie",
            "Black-and-white"
           ]
          ],
          [
           "Hart's War",
           [
            "Thriller",
            "Crime Fiction",
            "Drama",
            "Black-and-white",
            "Film noir"
           ]
          ],
          [
           "Buffalo Soldiers",
           [
            "Romantic comedy",
            "Sex comedy",
            "Comedy"
           ]
          ],
          [
           "Hearts in Atlantis",
           [
            "Crime Fiction",
            "Gangster Film",
            "Crime Drama",
            "Black-and-white",
            "Mystery",
            "Pre-Code",
            "Drama"
           ]
          ],
          [
           "The Pianist",
           [
            "Drama",
            "Black-and-white"
           ]
          ],
          [
           "Pinocchio",
           [
            "Silent film",
            "Drama",
            "Indie",
            "Black-and-white"
           ]
          ],
          [
           "Possession",
           [
            "Family Film",
            "Documentary"
           ]
          ],
          [
           "Devdas",
           [
            "Drama",
            "Family Film",
            "Family Drama",
            "Coming of age",
            "Adventure"
           ]
          ],
          [
           "About Schmidt",
           [
            "Jungle Film",
            "Adventure",
            "Black-and-white"
           ]
          ],
          [
           "The Quiet American",
           [
            "Animation"
           ]
          ],
          [
           "The Bourne Identity",
           [
            "Silent film",
            "Drama",
            "Indie",
            "Black-and-white"
           ]
          ],
          [
           "Daivathinte Vikrithikal",
           [
            "Western",
            "Drama",
            "Cavalry Film"
           ]
          ],
          [
           "Christmas Carol: The Movie",
           [
            "Swashbuckler films",
            "Adventure",
            "World cinema",
            "Costume Adventure",
            "Action/Adventure",
            "Drama",
            "Film adaptation",
            "Family Film",
            "Action",
            "Family-Oriented Adventure"
           ]
          ],
          [
           "Ezhai Padum Padu",
           [
            "Adventure",
            "Children's/Family",
            "Animal Picture",
            "Action/Adventure",
            "Western",
            "Drama",
            "Family Film",
            "Family-Oriented Adventure"
           ]
          ],
          [
           "Don't Say a Word",
           [
            "Romance Film",
            "Drama",
            "Romance Film",
            "Drama"
           ]
          ],
          [
           "Dagon",
           [
            "Silent film",
            "Indie",
            "Black-and-white",
            "Adventure"
           ]
          ],
          [
           "Black Knight",
           [
            "Thriller",
            "Drama",
            "Adventure"
           ]
          ],
          [
           "Rain",
           [
            "Jungle Film",
            "Silent film",
            "Action",
            "Adventure",
            "Black-and-white"
           ]
          ],
          [
           "Abandon",
           [
            "Crime Fiction",
            "Thriller",
            "Drama",
            "Crime Thriller",
            "Mystery"
           ]
          ],
          [
           "The Time Machine",
           [
            "Western",
            "Drama"
           ]
          ],
          [
           "Corazón salvaje",
           [
            "Science Fiction"
           ]
          ],
          [
           "Kuch Khatti Kuch Meethi",
           [
            "Melodrama",
            "World cinema",
            "Filipino Movies",
            "Drama",
            "Comedy",
            "Romance Film"
           ]
          ],
          [
           "Vampires: Los Muertos",
           [
            "Thriller",
            "Drama"
           ]
          ],
          [
           "Madeline: Lost in Paris",
           [
            "Thriller",
            "Romantic drama",
            "Romance Film",
            "Drama"
           ]
          ],
          [
           "The Hours",
           [
            "Mystery",
            "Silent film",
            "Black-and-white"
           ]
          ],
          [
           "Secretary",
           [
            "Action/Adventure",
            "Western"
           ]
          ],
          [
           "Devi",
           [
            "Silent film",
            "Adventure",
            "Black-and-white"
           ]
          ],
          [
           "About a Boy",
           [
            "Silent film",
            "Adventure",
            "Black-and-white",
            "Indie"
           ]
          ],
          [
           "Spider",
           [
            "Drama"
           ]
          ],
          [
           "The Ugly Duckling",
           [
            "Romantic comedy",
            "Musical",
            "Romance Film",
            "Black-and-white",
            "Comedy"
           ]
          ],
          [
           "Elling",
           [
            "Drama",
            "Black-and-white"
           ]
          ],
          [
           "Gods and Generals",
           [
            "Drama",
            "Film adaptation"
           ]
          ],
          [
           "Divine Secrets of the Ya-Ya Sisterhood",
           [
            "Romance Film",
            "Romance Film"
           ]
          ],
          [
           "Return to Never Land",
           [
            "Drama",
            "Comedy"
           ]
          ],
          [
           "A Walk to Remember",
           [
            "Thriller",
            "Detective fiction",
            "Detective",
            "Comedy Thriller",
            "Mystery",
            "Drama",
            "Film adaptation",
            "Crime Thriller"
           ]
          ],
          [
           "A Ring of Endless Light",
           [
            "Wuxia",
            "Chinese Movies"
           ]
          ],
          [
           "The Emperor's New Clothes",
           [
            "Crime Fiction",
            "Pre-Code",
            "Drama",
            "Black-and-white"
           ]
          ],
          [
           "Tuck Everlasting",
           [
            "Children's/Family",
            "Children's",
            "Children's Fantasy",
            "Animated cartoon"
           ]
          ],
          [
           "The Jungle Book 2",
           [
            "Satire",
            "Remake",
            "Comedy",
            "Black-and-white"
           ]
          ],
          [
           "The Emperor's Club",
           [
            "Mystery",
            "Japanese Movies",
            "Drama",
            "Art film",
            "World cinema",
            "Mystery",
            "Japanese Movies",
            "Drama",
            "Art film",
            "World cinema"
           ]
          ],
          [
           "Left Behind II: Tribulation Force",
           [
            "Drama",
            "Black-and-white"
           ]
          ],
          [
           "Children on Their Birthdays",
           [
            "Silent film",
            "Drama",
            "Black-and-white"
           ]
          ],
          [
           "Australian Rules",
           [
            "Crime Fiction",
            "Heist",
            "Caper story",
            "Remake",
            "Action/Adventure",
            "Thriller",
            "Suspense",
            "Crime Thriller",
            "Action"
           ]
          ],
          [
           "Dreamcatcher",
           [
            "Thriller",
            "Science Fiction",
            "Horror",
            "Supernatural",
            "Psychological thriller",
            "Action/Adventure",
            "Film adaptation",
            "Action"
           ]
          ],
          [
           "A Time to Kill",
           [
            "Thriller",
            "Crime Fiction",
            "Gangster Film",
            "Crime Drama",
            "Psychological thriller",
            "Period piece",
            "Drama",
            "Black comedy",
            "Crime Thriller",
            "Action"
           ]
          ],
          [
           "Young Adam",
           [
            "Comedy",
            "Black-and-white"
           ]
          ],
          [
           "Red Dragon",
           [
            "Western",
            "Action",
            "Romance Film"
           ]
          ],
          [
           "Butterflies",
           [
            "Melodrama",
            "Drama",
            "Crime Drama"
           ]
          ],
          [
           "G",
           [
            "Swashbuckler films",
            "Silent film",
            "Black-and-white"
           ]
          ],
          [
           "The Rules of Attraction",
           [
            "Costume drama",
            "Drama",
            "Film adaptation"
           ]
          ],
          [
           "Dracula: Pages from a Virgin's Diary",
           [
            "Western",
            "Black-and-white"
           ]
          ],
          [
           "The Phantom of the Opera",
           [
            "Drama",
            "World cinema"
           ]
          ],
          [
           "Harry Potter and the Chamber of Secrets",
           [
            "Japanese Movies",
            "Black-and-white"
           ]
          ],
          [
           "The Ring",
           [
            "Silent film",
            "Indie",
            "Black-and-white",
            "Drama",
            "Comedy",
            "Family Film"
           ]
          ],
          [
           "Shrek 2",
           [
            "Satire",
            "Comedy"
           ]
          ],
          [
           "Derailed",
           [
            "Drama",
            "Black-and-white"
           ]
          ],
          [
           "Heidi",
           [
            "Drama",
            "World cinema",
            "Black-and-white",
            "War film"
           ]
          ],
          [
           "I Capture the Castle",
           [
            "Family Film",
            "Animation",
            "Comedy",
            "Adventure"
           ]
          ],
          [
           "Timeline",
           [
            "Action/Adventure",
            "Indian Western",
            "Western"
           ]
          ],
          [
           "Harry Potter and the Prisoner of Azkaban",
           [
            "Comedy",
            "Black-and-white",
            "Adventure"
           ]
          ],
          [
           "American Splendor",
           [
            "Drama"
           ]
          ],
          [
           "Le Divorce",
           [
            "Revisionist Western",
            "Western"
           ]
          ],
          [
           "À ton image",
           [
            "Drama"
           ]
          ],
          [
           "Solaris",
           [
            "Drama",
            "Period piece",
            "Coming of age",
            "Film adaptation"
           ]
          ],
          [
           "25th Hour",
           [
            "Comedy"
           ]
          ],
          [
           "Adolphe",
           [
            "Adventure",
            "Black-and-white",
            "Action/Adventure",
            "Drama",
            "Romance Film",
            "Action"
           ]
          ],
          [
           "The Human Stain",
           [
            "Road-Horror"
           ]
          ],
          [
           "Finding Neverland",
           [
            "Horror",
            "World cinema",
            "Creature Film",
            "Fantasy",
            "Drama",
            "Romance Film"
           ]
          ],
          [
           "Blood Work",
           [
            "Mystery",
            "Black-and-white"
           ]
          ],
          [
           "Identity",
           [
            "Melodrama",
            "Adventure",
            "Family Drama",
            "Drama",
            "War film",
            "Family Film"
           ]
          ],
          [
           "Nicholas Nickleby",
           [
            "Thriller",
            "Science Fiction",
            "Adventure",
            "Children's/Family",
            "Alien Film",
            "Fantasy",
            "Family Film",
            "Action",
            "Sci-Fi Adventure",
            "Family-Oriented Adventure"
           ]
          ],
          [
           "The Dreamers",
           [
            "Romantic comedy",
            "Workplace Comedy",
            "Romance Film",
            "Comedy",
            "Film adaptation"
           ]
          ],
          [
           "Willard",
           [
            "Adventure",
            "Black-and-white"
           ]
          ],
          [
           "Holes",
           [
            "Drama"
           ]
          ],
          [
           "The Cat in the Hat",
           [
            "Western",
            "Romance Film"
           ]
          ],
          [
           "Runaway Jury",
           [
            "Crime Fiction",
            "Mystery",
            "Drama"
           ]
          ],
          [
           "Imagining Argentina",
           [
            "Kitchen sink realism",
            "Drama",
            "British New Wave",
            "Film adaptation"
           ]
          ],
          [
           "The Big Bounce",
           [
            "Period piece",
            "Drama",
            "Comedy",
            "Film adaptation",
            "Romantic drama",
            "Romance Film"
           ]
          ],
          [
           "Open Range",
           [
            "Silent film",
            "Drama",
            "Black-and-white"
           ]
          ],
          [
           "Peter Pan",
           [
            "Thriller",
            "Romance Film",
            "Drama"
           ]
          ],
          [
           "Because of Winn-Dixie",
           [
            "Drama",
            "Comedy-drama",
            "Black-and-white"
           ]
          ],
          [
           "Bridget Jones: The Edge of Reason",
           [
            "Thriller",
            "Crime Fiction",
            "Action",
            "Action/Adventure"
           ]
          ],
          [
           "Sahara",
           [
            "Silent film",
            "Adventure",
            "Jungle Film",
            "Black-and-white",
            "Action/Adventure",
            "Drama",
            "Action"
           ]
          ],
          [
           "Big Fish",
           [
            "Silent film",
            "Adventure",
            "Black-and-white"
           ]
          ],
          [
           "How to Deal",
           [
            "Jungle Film",
            "Adventure"
           ]
          ],
          [
           "Blueprint",
           [
            "Jungle Film",
            "Adventure"
           ]
          ],
          [
           "Freaky Friday",
           [
            "Western"
           ]
          ],
          [
           "Piglet's Big Movie",
           [
            "Jungle Film",
            "Adventure"
           ]
          ],
          [
           "Winnie the Pooh: A Very Merry Pooh Year",
           [
            "Japanese Movies"
           ]
          ],
          [
           "Far from the Madding Crowd",
           [
            "Action/Adventure",
            "Western",
            "Action",
            "Indian Western"
           ]
          ],
          [
           "Zona Zamfirova",
           [
            "Fantasy",
            "Adventure"
           ]
          ],
          [
           "Mystic River",
           [
            "Action/Adventure",
            "Thriller",
            "Chinese Movies",
            "World cinema"
           ]
          ],
          [
           "The Stepford Wives",
           [
            "Jungle Film",
            "Action",
            "Adventure"
           ]
          ],
          [
           "Around the World in 80 Days",
           [
            "Black-and-white"
           ]
          ],
          [
           "Coraline",
           [
            "Romance Film",
            "Drama",
            "Comedy"
           ]
          ],
          [
           "Ella Enchanted",
           [
            "Jungle Film",
            "Adventure"
           ]
          ],
          [
           "Man on Fire",
           [
            "Thriller",
            "Action",
            "Drama",
            "War film"
           ]
          ],
          [
           "American Girl",
           [
            "Jungle Film",
            "Adventure"
           ]
          ],
          [
           "Asylum",
           [
            "Romance Film",
            "Action",
            "Adventure"
           ]
          ],
          [
           "Harry Potter and the Goblet of Fire",
           [
            "Family Film",
            "Children's",
            "Adventure Comedy",
            "Comedy",
            "Children's/Family"
           ]
          ],
          [
           "Descendant",
           [
            "Parody",
            "Indie",
            "Holiday Film",
            "Satire",
            "Comedy",
            "Political cinema"
           ]
          ],
          [
           "Fever Pitch",
           [
            "Drama",
            "Silent film",
            "Horror",
            "Romance Film",
            "Black-and-white"
           ]
          ],
          [
           "The Notebook",
           [
            "Jungle Film",
            "Adventure"
           ]
          ],
          [
           "The Mayor of Casterbridge",
           [
            "Coming of age",
            "Period piece",
            "Drama",
            "Film adaptation",
            "Romantic drama",
            "Romance Film"
           ]
          ],
          [
           "Girl with a Pearl Earring",
           [
            "Family Film",
            "Family Drama",
            "Drama"
           ]
          ],
          [
           "David Copperfield",
           [
            "Crime Fiction",
            "Detective fiction",
            "Adventure",
            "Detective",
            "Action/Adventure",
            "Western",
            "Drama",
            "Action",
            "Hybrid Western"
           ]
          ],
          [
           "The Luck of Roaring Camp",
           [
            "Romantic comedy",
            "Romance Film",
            "Comedy",
            "Black-and-white"
           ]
          ],
          [
           "The Missing",
           [
            "Adventure",
            "Black-and-white"
           ]
          ],
          [
           "Paycheck",
           [
            "Drama"
           ]
          ],
          [
           "The Polar Express",
           [
            "Family Drama",
            "Heavenly Comedy",
            "Fantasy",
            "Comedy",
            "Drama",
            "Family Film",
            "Fantasy Comedy"
           ]
          ],
          [
           "Shopgirl",
           [
            "Silent film",
            "Drama",
            "Black-and-white"
           ]
          ],
          [
           "Van Helsing",
           [
            "Fantasy Comedy",
            "Fantasy",
            "Comedy"
           ]
          ],
          [
           "The Aviator",
           [
            "Silent film",
            "Black-and-white"
           ]
          ],
          [
           "Beauty and the Beast",
           [
            "Adventure",
            "Computer Animation",
            "Animation",
            "Fantasy",
            "Comedy",
            "Family Film",
            "Action"
           ]
          ],
          [
           "Twist",
           [
            "Science Fiction",
            "Adventure",
            "Mystery",
            "Fantasy",
            "Drama",
            "Family Film"
           ]
          ],
          [
           "Being Julia",
           [
            "Adventure",
            "Black-and-white"
           ]
          ],
          [
           "Cleopatra",
           [
            "Western"
           ]
          ],
          [
           "Innocence",
           [
            "Action/Adventure",
            "Action",
            "Drama",
            "Adventure",
            "Black-and-white"
           ]
          ],
          [
           "The Snow Queen's Revenge",
           [
            "Silent film",
            "Adventure",
            "Black-and-white",
            "War film"
           ]
          ],
          [
           "The Snow Queen",
           [
            "Drama"
           ]
          ],
          [
           "When Knights Were Bold",
           [
            "Thriller",
            "Film adaptation",
            "Drama",
            "Political thriller",
            "Political drama",
            "Spy"
           ]
          ],
          [
           "Asylum",
           [
            "Science Fiction",
            "Black-and-white"
           ]
          ],
          [
           "The Door in the Floor",
           [
            "Adventure"
           ]
          ],
          [
           "Freedomland",
           [
            "Romantic comedy",
            "Romance Film",
            "Comedy"
           ]
          ],
          [
           "Neverland",
           [
            "Science Fiction",
            "Children's",
            "Fantasy"
           ]
          ],
          [
           "Riding the Bullet",
           [
            "Christian film",
            "Drama",
            "Black-and-white"
           ]
          ],
          [
           "We Don't Live Here Anymore",
           [
            "Cult",
            "Thriller",
            "Science Fiction",
            "Adventure",
            "New Hollywood"
           ]
          ],
          [
           "Confessions of a Teenage Drama Queen",
           [
            "Family Film",
            "Adventure",
            "Family Film",
            "Adventure"
           ]
          ],
          [
           "Devdas",
           [
            "Romantic drama",
            "Romance Film",
            "Drama",
            "World cinema"
           ]
          ],
          [
           "The Chronicles of Narnia: The Lion, the Witch and the Wardrobe",
           [
            "LGBT",
            "Drama"
           ]
          ],
          [
           "Secret Window",
           [
            "Parody",
            "Adventure",
            "Children's/Family",
            "Computer Animation",
            "Costume drama",
            "Fairy tale",
            "Animation",
            "Fantasy",
            "Comedy",
            "Family Film",
            "Fantasy Comedy",
            "Children's Fantasy"
           ]
          ],
          [
           "Adventures of Tarzan",
           [
            "Horror"
           ]
          ],
          [
           "Babylon A.D.",
           [
            "Japanese Movies",
            "Drama",
            "Black-and-white"
           ]
          ],
          [
           "Prisoner of Zenda",
           [
            "Drama"
           ]
          ],
          [
           "Charlie and the Chocolate Factory",
           [
            "Fantasy Adventure",
            "Adventure",
            "Action/Adventure",
            "Fantasy",
            "Comedy",
            "Adventure Comedy",
            "Family Film",
            "Action"
           ]
          ],
          [
           "Dracula 3000",
           [
            "Romantic comedy",
            "Romance Film",
            "Comedy"
           ]
          ],
          [
           "The Manchurian Candidate",
           [
            "Drama",
            "Black-and-white"
           ]
          ],
          [
           "The Princess Diaries 2: Royal Engagement",
           [
            "Drama",
            "War film"
           ]
          ],
          [
           "Shubho Mahurat",
           [
            "Romance Film",
            "Drama",
            "World cinema"
           ]
          ],
          [
           "The Hitchhiker's Guide to the Galaxy",
           [
            "Drama"
           ]
          ],
          [
           "The Bourne Supremacy",
           [
            "Thriller",
            "Action Thrillers",
            "Action",
            "War film"
           ]
          ],
          [
           "Journey to the Center of the Earth",
           [
            "Romance Film",
            "Musical"
           ]
          ],
          [
           "Boys",
           [
            "Thriller",
            "Romantic drama",
            "Romance Film",
            "Melodrama",
            "Drama"
           ]
          ],
          [
           "Harry Potter and the Order of the Phoenix",
           [
            "Ensemble Film",
            "Comedy-drama",
            "Workplace Comedy",
            "Black-and-white",
            "Drama",
            "Romance Film"
           ]
          ],
          [
           "The Tesseract",
           [
            "Crime Fiction",
            "Drama",
            "Gangster Film"
           ]
          ],
          [
           "Sideways",
           [
            "Crime Fiction",
            "Sex comedy",
            "Erotica",
            "Satire",
            "Drama",
            "Comedy",
            "Film adaptation",
            "Crime Thriller"
           ]
          ],
          [
           "Crash",
           [
            "Anti-war",
            "Adventure",
            "Existentialism",
            "Jungle Film",
            "Drama",
            "War film",
            "Anti-war film",
            "New Hollywood"
           ]
          ],
          [
           "Enduring Love",
           [
            "Silent film",
            "Fantasy",
            "Black-and-white"
           ]
          ],
          [
           "Layer Cake",
           [
            "Adventure",
            "War film"
           ]
          ],
          [
           "Book of Love",
           [
            "Drama"
           ]
          ],
          [
           "Flight of the Phoenix",
           [
            "Comedy"
           ]
          ],
          [
           "Ladies in Lavender",
           [
            "Drama"
           ]
          ],
          [
           "Be Cool",
           [
            "Drama",
            "Black-and-white",
            "War film"
           ]
          ],
          [
           "Speak",
           [
            "Spaghetti Western"
           ]
          ],
          [
           "The Lovely Bones",
           [
            "Drama"
           ]
          ],
          [
           "Oliver Twist",
           [
            "Mystery",
            "Drama"
           ]
          ],
          [
           "Casino Royale",
           [
            "Family Drama",
            "Drama",
            "Black-and-white"
           ]
          ],
          [
           "Ahista Ahista",
           [
            "Drama"
           ]
          ],
          [
           "Curious George",
           [
            "Thriller",
            "Detective fiction",
            "Silent film",
            "Mystery",
            "Drama",
            "Crime Thriller"
           ]
          ],
          [
           "The Da Vinci Code",
           [
            "Thriller",
            "Crime Fiction",
            "Horror",
            "Drama",
            "Film adaptation"
           ]
          ],
          [
           "Dark Water",
           [
            "Silent film",
            "Drama",
            "Romance Film",
            "Black-and-white"
           ]
          ],
          [
           "Zoom",
           [
            "Crime Fiction",
            "Drama"
           ]
          ],
          [
           "Deepwater",
           [
            "Comedy"
           ]
          ],
          [
           "Cry Wolf",
           [
            "Thriller",
            "Adventure",
            "Action/Adventure",
            "Drama",
            "Film adaptation",
            "Action",
            "Courtroom Drama"
           ]
          ],
          [
           "The Amityville Horror",
           [
            "Crime Fiction",
            "Mystery",
            "Science Fiction",
            "Horror",
            "Thriller"
           ]
          ],
          [
           "Ask the Dust",
           [
            "Parody",
            "Comedy"
           ]
          ],
          [
           "The Golden Compass",
           [
            "History",
            "Silent film",
            "Drama"
           ]
          ],
          [
           "Where the Wild Things Are",
           [
            "Adventure",
            "Action/Adventure",
            "Drama",
            "Film adaptation",
            "Family Film",
            "Action"
           ]
          ],
          [
           "The Legend of Zorro",
           [
            "Thriller",
            "Crime Fiction",
            "Supernatural",
            "Costume drama",
            "Period piece",
            "Fantasy",
            "Film adaptation",
            "Drama"
           ]
          ],
          [
           "Bee Season",
           [
            "Road movie",
            "Drama",
            "Indie"
           ]
          ],
          [
           "The Constant Gardener",
           [
            "Crime Fiction",
            "Crime Comedy",
            "Comedy",
            "Black-and-white",
            "Slapstick"
           ]
          ],
          [
           "The Black Dahlia",
           [
            "Stop motion",
            "Drama",
            "Animation"
           ]
          ],
          [
           "Christmas with the Kranks",
           [
            "Romantic drama",
            "Romance Film",
            "Drama",
            "Black-and-white",
            "War film"
           ]
          ],
          [
           "Brokeback Mountain",
           [
            "Horror"
           ]
          ],
          [
           "Shanti Nilayam",
           [
            "Family Film",
            "Black-and-white"
           ]
          ],
          [
           "Earth",
           [
            "Comedy",
            "World cinema",
            "Chinese Movies",
            "Comedy",
            "World cinema",
            "Chinese Movies"
           ]
          ],
          [
           "The Shaggy Dog",
           [
            "Crime Fiction",
            "Thriller",
            "Detective fiction",
            "Action/Adventure",
            "Period piece",
            "Drama",
            "Comedy",
            "Crime Thriller",
            "Action"
           ]
          ],
          [
           "Alatriste",
           [
            "Thriller",
            "Crime Thriller"
           ]
          ],
          [
           "The Ugly Duckling and Me!",
           [
            "Period piece",
            "Drama",
            "Romance Film"
           ]
          ],
          [
           "Meet the Robinsons",
           [
            "Thriller",
            "Crime Thriller",
            "Crime Fiction",
            "Drama",
            "World cinema"
           ]
          ],
          [
           "The Secret of Moonacre",
           [
            "Swashbuckler films",
            "Western",
            "Action",
            "Comedy",
            "Adventure",
            "Swashbuckler films",
            "Western",
            "Action",
            "Comedy",
            "Adventure"
           ]
          ],
          [
           "Nanny McPhee",
           [
            "Romance Film",
            "Drama",
            "Black-and-white"
           ]
          ],
          [
           "Blood and Chocolate",
           [
            "Family Film"
           ]
          ],
          [
           "House of Wax",
           [
            "Action/Adventure",
            "Swashbuckler films",
            "Action",
            "Adventure",
            "Spaghetti Western"
           ]
          ],
          [
           "Derailed",
           [
            "Drama"
           ]
          ],
          [
           "Bridge to Terabithia",
           [
            "Detective",
            "Mystery",
            "Detective fiction",
            "Comedy",
            "Black-and-white"
           ]
          ],
          [
           "Clifford's Really Big Movie",
           [
            "Thriller",
            "Science Fiction",
            "Action",
            "Horror"
           ]
          ],
          [
           "A History of Violence",
           [
            "Drama",
            "Family Film",
            "Fantasy",
            "Black-and-white",
            "Film adaptation"
           ]
          ],
          [
           "The Island",
           [
            "Crime Fiction",
            "Drama"
           ]
          ],
          [
           "Woman Thou Art Loosed",
           [
            "Drama"
           ]
          ],
          [
           "A Good Year",
           [
            "Drama"
           ]
          ],
          [
           "John Carter",
           [
            "Natural horror films",
            "Science Fiction",
            "Horror",
            "Monster"
           ]
          ],
          [
           "Beowulf & Grendel",
           [
            "Drama",
            "Black-and-white"
           ]
          ],
          [
           "Hating Alison Ashley",
           [
            "Science Fiction",
            "Art film",
            "World cinema",
            "Mystery",
            "Drama",
            "Romance Film",
            "Adventure"
           ]
          ],
          [
           "Americanese",
           [
            "Thriller",
            "Time travel",
            "Action",
            "Science Fiction",
            "Adventure"
           ]
          ],
          [
           "The Sisterhood of the Traveling Pants",
           [
            "Romance Film",
            "Comedy"
           ]
          ],
          [
           "Everything Is Illuminated",
           [
            "Fantasy",
            "Adventure",
            "Animation"
           ]
          ],
          [
           "Million Dollar Baby",
           [
            "Romantic drama",
            "Period piece",
            "Drama",
            "Romance Film",
            "Film adaptation"
           ]
          ],
          [
           "A Scanner Darkly",
           [
            "Comedy-drama",
            "Drama",
            "Comedy"
           ]
          ],
          [
           "All the King's Men",
           [
            "Thriller",
            "Drama"
           ]
          ],
          [
           "The Guardian",
           [
            "Silent film",
            "Family Film",
            "Animation"
           ]
          ],
          [
           "Pooh's Heffalump Movie",
           [
            "Crime Fiction",
            "Drama"
           ]
          ],
          [
           "War of the Worlds",
           [
            "Silent film",
            "Drama"
           ]
          ],
          [
           "Munich",
           [
            "Crime Fiction",
            "Romantic drama",
            "Romance Film",
            "Drama"
           ]
          ],
          [
           "69",
           [
            "Mystery",
            "Romance Film",
            "Drama"
           ]
          ],
          [
           "Poseidon",
           [
            "Short Film",
            "Indie",
            "Documentary"
           ]
          ],
          [
           "Nim's Island",
           [
            "Thriller"
           ]
          ],
          [
           "The Work and The Glory",
           [
            "Crime Fiction",
            "Mystery"
           ]
          ],
          [
           "Breakfast on Pluto",
           [
            "Romance Film",
            "Drama",
            "War film"
           ]
          ],
          [
           "The Dark",
           [
            "Romance Film",
            "Melodrama",
            "Drama",
            "Black-and-white"
           ]
          ],
          [
           "Return of the Living Dead: Necropolis",
           [
            "Drama"
           ]
          ],
          [
           "Brideshead Revisited",
           [
            "Romantic drama",
            "Romance Film",
            "Film adaptation",
            "Drama",
            "War film"
           ]
          ],
          [
           "Shrek the Third",
           [
            "Romance Film",
            "Drama",
            "Film à clef"
           ]
          ],
          [
           "Charlotte's Web",
           [
            "Romance Film",
            "Drama"
           ]
          ],
          [
           "Pride & Prejudice",
           [
            "Action/Adventure",
            "Science Fiction",
            "Fantasy",
            "Indie",
            "Adventure"
           ]
          ],
          [
           "Amu",
           [
            "Drama",
            "Black-and-white",
            "World cinema"
           ]
          ],
          [
           "Ai-Fak",
           [
            "Romantic comedy",
            "Comedy",
            "Black-and-white"
           ]
          ],
          [
           "The Secret Life of Bees",
           [
            "Crime Fiction",
            "Thriller",
            "Drama",
            "Film adaptation"
           ]
          ],
          [
           "The Spiderwick Chronicles",
           [
            "Action/Adventure",
            "Swashbuckler films",
            "Action",
            "Drama",
            "Adventure"
           ]
          ],
          [
           "Harry Potter and the Half-Blood Prince",
           [
            "Crime Fiction",
            "Mystery",
            "Thriller",
            "Film noir"
           ]
          ],
          [
           "Memory",
           [
            "Action/Adventure",
            "Western"
           ]
          ],
          [
           "Donkey Xote",
           [
            "Thriller",
            "Swashbuckler films",
            "Indie",
            "Comedy-drama",
            "Action/Adventure",
            "Drama",
            "Comedy",
            "Action",
            "Adventure"
           ]
          ],
          [
           "The Tale of Despereaux",
           [
            "Mystery",
            "Black-and-white"
           ]
          ],
          [
           "Hitman",
           [
            "Documentary"
           ]
          ],
          [
           "The Curious Case of Benjamin Button",
           [
            "Crime Fiction",
            "Action",
            "Drama"
           ]
          ],
          [
           "Candy",
           [
            "Japanese Movies",
            "Black-and-white"
           ]
          ],
          [
           "The Fine Art of Love: Mine Ha-Ha",
           [
            "Romance Film",
            "Drama",
            "Adventure",
            "War film"
           ]
          ],
          [
           "The Invasion",
           [
            "Silent film",
            "Drama",
            "Comedy",
            "Black-and-white",
            "Film adaptation"
           ]
          ],
          [
           "Suburban Girl",
           [
            "Biographical film",
            "Drama",
            "World cinema",
            "Black-and-white"
           ]
          ],
          [
           "The Ant Bully",
           [
            "Adventure",
            "Computer Animation",
            "Animation",
            "Children's",
            "Fantasy",
            "Comedy",
            "Disaster",
            "Family Film"
           ]
          ],
          [
           "Aquamarine",
           [
            "Drama",
            "Comedy"
           ]
          ],
          [
           "G@me",
           [
            "Family Film"
           ]
          ],
          [
           "Lassie",
           [
            "Horror",
            "Science Fiction",
            "Jungle Film",
            "B-movie",
            "Monster"
           ]
          ],
          [
           "Fantastic Mr. Fox",
           [
            "Romance Film",
            "Drama",
            "Chinese Movies",
            "World cinema"
           ]
          ],
          [
           "Real Steel",
           [
            "Drama"
           ]
          ],
          [
           "Flicka",
           [
            "Romance Film",
            "Drama"
           ]
          ],
          [
           "Next",
           [
            "Family Film",
            "Fantasy",
            "Romance Film"
           ]
          ],
          [
           "Parineeta",
           [
            "Drama",
            "Black-and-white"
           ]
          ],
          [
           "Jahan Tum Le Chalo",
           [
            "Romance Film",
            "Drama",
            "Black-and-white",
            "World cinema"
           ]
          ],
          [
           "Fanaa",
           [
            "Drama",
            "Black comedy",
            "Sex comedy",
            "Comedy-drama",
            "Japanese Movies"
           ]
          ],
          [
           "These Foolish Things",
           [
            "Romantic drama",
            "Romance Film",
            "Drama",
            "Period piece",
            "Political drama"
           ]
          ],
          [
           "The Bourne Ultimatum",
           [
            "Drama",
            "Black-and-white"
           ]
          ],
          [
           "Beowulf",
           [
            "Comedy of manners",
            "Comedy-drama",
            "Black-and-white",
            "Satire",
            "Comedy",
            "Romantic drama"
           ]
          ],
          [
           "The Illusionist",
           [
            "Thriller",
            "Crime Fiction",
            "Psychological thriller",
            "Mystery",
            "Drama",
            "Political thriller",
            "Crime Thriller",
            "Political drama"
           ]
          ],
          [
           "The Assassination of Jesse James by the Coward Robert Ford",
           [
            "Romantic comedy",
            "Workplace Comedy",
            "Drama",
            "Comedy",
            "Film adaptation",
            "Romance Film"
           ]
          ],
          [
           "The Painted Veil",
           [
            "Musical",
            "Comedy film",
            "Slapstick"
           ]
          ],
          [
           "Puss in Boots",
           [
            "Comedy",
            "Black-and-white"
           ]
          ],
          [
           "Eragon",
           [
            "Tragedy",
            "Indie",
            "Existentialism",
            "Comedy-drama",
            "Drama",
            "Comedy",
            "Film adaptation",
            "Tragicomedy"
           ]
          ],
          [
           "Dominion: Prequel to the Exorcist",
           [
            "Drama",
            "Black-and-white"
           ]
          ],
          [
           "Love",
           [
            "Drama"
           ]
          ],
          [
           "1408",
           [
            "Adventure",
            "Fantasy",
            "Children's Fantasy",
            "Film adaptation",
            "Family Film",
            "Action",
            "Teen",
            "Mythological Fantasy"
           ]
          ],
          [
           "Cirque du Freak: The Vampire's Assistant",
           [
            "Drama",
            "Period piece",
            "Coming of age",
            "Film adaptation"
           ]
          ],
          [
           "Horton Hears a Who!",
           [
            "War film"
           ]
          ],
          [
           "Borderland",
           [
            "Black-and-white"
           ]
          ],
          [
           "Death Race",
           [
            "Mystery",
            "Drama",
            "World cinema"
           ]
          ],
          [
           "The Good German",
           [
            "Drama"
           ]
          ],
          [
           "The Time Traveler's Wife",
           [
            "Adventure",
            "Family-Oriented Adventure"
           ]
          ],
          [
           "Moby Dick",
           [
            "Crime Fiction",
            "Thriller",
            "Comedy film",
            "Drama"
           ]
          ],
          [
           "Hoot",
           [
            "Thriller",
            "Biography",
            "Drama",
            "Film adaptation",
            "Action",
            "Political drama"
           ]
          ],
          [
           "Life of Pi",
           [
            "Science Fiction",
            "Adventure",
            "Animation",
            "Fantasy",
            "War film",
            "Romance Film"
           ]
          ],
          [
           "The House of Usher",
           [
            "Coming of age",
            "Drama",
            "Film adaptation",
            "Romantic drama",
            "Romance Film",
            "Teen"
           ]
          ],
          [
           "Bombaiyer Bombete",
           [
            "Romantic drama",
            "Melodrama",
            "Drama"
           ]
          ],
          [
           "The Devil Wears Prada",
           [
            "Romantic drama",
            "Romance Film",
            "Drama",
            "World cinema"
           ]
          ],
          [
           "Alice",
           [
            "Christian film",
            "Family Film",
            "Fantasy",
            "Adventure"
           ]
          ],
          [
           "In a Dark Place",
           [
            "Crime Fiction",
            "Thriller",
            "Action",
            "Drama"
           ]
          ],
          [
           "Deep Water",
           [
            "Horror"
           ]
          ],
          [
           "Boy called Twist",
           [
            "Adventure",
            "History",
            "Epic",
            "Action/Adventure",
            "Period piece",
            "Drama",
            "Disaster",
            "Action"
           ]
          ],
          [
           "Skinwalkers",
           [
            "Film noir",
            "Black-and-white"
           ]
          ],
          [
           "The Magician",
           [
            "Romantic drama",
            "Romance Film",
            "Drama",
            "Film adaptation"
           ]
          ],
          [
           "Fair Game",
           [
            "Thriller",
            "Crime Fiction",
            "Detective fiction",
            "Japanese Movies",
            "World cinema",
            "Detective",
            "Mystery",
            "Drama",
            "Crime Thriller",
            "Whodunit"
           ]
          ],
          [
           "How to Eat Fried Worms",
           [
            "Drama"
           ]
          ],
          [
           "Rambo",
           [
            "Family Film",
            "Family Drama",
            "Drama",
            "Film adaptation"
           ]
          ],
          [
           "December Boys",
           [
            "Swashbuckler films",
            "Silent film",
            "Drama",
            "Adventure",
            "Swashbuckler films",
            "Silent film",
            "Drama",
            "Adventure"
           ]
          ],
          [
           "Hitman",
           [
            "Natural horror films",
            "Horror"
           ]
          ],
          [
           "The Perfect Stranger",
           [
            "Drama"
           ]
          ],
          [
           "The Other Boleyn Girl",
           [
            "Family Film",
            "Adventure"
           ]
          ],
          [
           "Old Joy",
           [
            "Action/Adventure",
            "Swashbuckler films",
            "Action",
            "Adventure"
           ]
          ],
          [
           "There Will Be Blood",
           [
            "Family Film",
            "Children's",
            "Drama",
            "Adventure",
            "Comedy"
           ]
          ],
          [
           "The Tournament",
           [
            "Family Film",
            "Children's",
            "Adventure",
            "Comedy"
           ]
          ],
          [
           "The Strange Case of Dr. Jekyll and Mr. Hyde",
           [
            "Family Film",
            "Drama",
            "Adventure",
            "Comedy"
           ]
          ],
          [
           "Elsk meg i morgen",
           [
            "Family Film",
            "Children's",
            "Drama",
            "Adventure",
            "Comedy"
           ]
          ],
          [
           "Night at the Museum",
           [
            "Family Film",
            "Adventure"
           ]
          ],
          [
           "No Country for Old Men",
           [
            "Romance Film"
           ]
          ],
          [
           "Cthulhu",
           [
            "Drama",
            "World cinema",
            "Documentary"
           ]
          ],
          [
           "The Call of Cthulhu",
           [
            "Western",
            "Action",
            "Romance Film"
           ]
          ],
          [
           "Adam Resurrected",
           [
            "Adventure",
            "Children's/Family",
            "Children's",
            "Fantasy",
            "Comedy",
            "Family Film"
           ]
          ],
          [
           "Nancy Drew",
           [
            "Drama",
            "World cinema"
           ]
          ],
          [
           "Kammaren",
           [
            "Silent film",
            "Black-and-white"
           ]
          ],
          [
           "I Am Legend",
           [
            "Drama"
           ]
          ],
          [
           "Youth Without Youth",
           [
            "B-movie",
            "Horror",
            "Supernatural"
           ]
          ],
          [
           "Stardust",
           [
            "Science Fiction",
            "Fantasy",
            "Fantasy Drama",
            "Drama",
            "Romantic drama",
            "Romance Film",
            "Romantic fantasy",
            "Teen"
           ]
          ],
          [
           "The Nanny Diaries",
           [
            "Japanese Movies"
           ]
          ],
          [
           "Ramona and Beezus",
           [
            "Thriller",
            "Disaster",
            "Action",
            "Drama",
            "Adventure"
           ]
          ],
          [
           "Inkheart",
           [
            "Action/Adventure",
            "Western"
           ]
          ],
          [
           "The Forest",
           [
            "Action",
            "Drama",
            "Adventure"
           ]
          ],
          [
           "The Chronicles of Narnia: Prince Caspian",
           [
            "Drama",
            "Adventure",
            "Indie"
           ]
          ],
          [
           "Saawariya",
           [
            "Crime Fiction",
            "Thriller",
            "Detective fiction",
            "World cinema",
            "Detective",
            "Mystery",
            "Crime Thriller"
           ]
          ],
          [
           "The Last Mimzy",
           [
            "Western"
           ]
          ],
          [
           "Trishna",
           [
            "Comedy film"
           ]
          ],
          [
           "Black Sheep",
           [
            "Drama",
            "Comedy",
            "Film adaptation"
           ]
          ],
          [
           "Atonement",
           [
            "Crime Fiction",
            "Action",
            "Drama",
            "Adventure",
            "Spy"
           ]
          ],
          [
           "Angel",
           [
            "Thriller",
            "Crime Thriller",
            "Drama",
            "Comedy"
           ]
          ],
          [
           "Hotel for Dogs",
           [
            "Western",
            "Romance Film"
           ]
          ],
          [
           "Asylum",
           [
            "Horror",
            "Creature Film",
            "Teen",
            "Haunted House Film"
           ]
          ],
          [
           "Death Sentence",
           [
            "Fantasy Adventure",
            "Adventure",
            "Children's/Family",
            "Fantasy",
            "Children's Fantasy",
            "Family Film",
            "Family-Oriented Adventure"
           ]
          ],
          [
           "It's Kind of a Funny Story",
           [
            "Family Film",
            "Animation"
           ]
          ],
          [
           "Pirates of Treasure Island",
           [
            "Comedy",
            "Animation"
           ]
          ],
          [
           "Percy Jackson & the Olympians: The Lightning Thief",
           [
            "Family Film",
            "Fantasy Comedy",
            "Fantasy",
            "Comedy"
           ]
          ],
          [
           "Sydney White",
           [
            "Thriller",
            "Comedy Thriller",
            "Black-and-white",
            "Mystery",
            "Crime Thriller",
            "Whodunit"
           ]
          ],
          [
           "Flipped",
           [
            "Crime Fiction",
            "Thriller",
            "Drama",
            "Art film",
            "World cinema"
           ]
          ],
          [
           "Home",
           [
            "Silent film",
            "Drama",
            "Black-and-white"
           ]
          ],
          [
           "Screamers",
           [
            "Silent film",
            "Drama",
            "Black-and-white"
           ]
          ],
          [
           "Cthulhu",
           [
            "Comedy film",
            "Drama",
            "Adventure"
           ]
          ],
          [
           "Exodus",
           [
            "Western"
           ]
          ],
          [
           "Ahista Ahista",
           [
            "Family Film",
            "Fantasy Adventure",
            "Fantasy",
            "Comedy",
            "Adventure"
           ]
          ],
          [
           "Fallen",
           [
            "Thriller",
            "Horror",
            "Creature Film",
            "Mystery",
            "Fantasy",
            "Drama",
            "Romance Film"
           ]
          ],
          [
           "Cloudy With A Chance of Meatballs",
           [
            "Silent film",
            "Black-and-white"
           ]
          ],
          [
           "Epic",
           [
            "Crime Fiction",
            "Drama"
           ]
          ],
          [
           "Header",
           [
            "Western"
           ]
          ],
          [
           "The Forbidden Kingdom",
           [
            "Thriller",
            "Drama"
           ]
          ],
          [
           "The Mist",
           [
            "Japanese Movies",
            "Drama"
           ]
          ],
          [
           "Devadasu",
           [
            "Mystery",
            "Black-and-white"
           ]
          ],
          [
           "How to Train Your Dragon",
           [
            "Black-and-white",
            "Period piece",
            "Drama",
            "Film adaptation",
            "Romantic drama",
            "Romance Film"
           ]
          ],
          [
           "Shrek Forever After",
           [
            "Thriller",
            "Romance Film",
            "Drama",
            "Science Fiction",
            "Romantic fantasy"
           ]
          ],
          [
           "From Prada to Nada",
           [
            "Drama",
            "Mythological Fantasy",
            "Black-and-white",
            "Film adaptation"
           ]
          ],
          [
           "The Road",
           [
            "Thriller",
            "Crime Fiction",
            "Indie",
            "Action/Adventure",
            "Drama",
            "Suspense",
            "Crime Thriller",
            "Action"
           ]
          ],
          [
           "The Hobbit: An Unexpected Journey",
           [
            "Crime Fiction",
            "Mystery",
            "Drama",
            "Comedy",
            "Black-and-white"
           ]
          ],
          [
           "The Thing",
           [
            "Drama",
            "Comedy",
            "Black-and-white"
           ]
          ],
          [
           "Breakfast with Scot",
           [
            "Thriller",
            "Science Fiction",
            "Adventure",
            "Roadshow theatrical release",
            "Surrealism",
            "Mystery",
            "Airplanes and airports"
           ]
          ],
          [
           "Diaochan",
           [
            "Action",
            "Drama"
           ]
          ],
          [
           "Naked Fear",
           [
            "Crime Fiction",
            "Mystery",
            "Black-and-white"
           ]
          ],
          [
           "The Killer Inside Me",
           [
            "Comedy film",
            "Adventure"
           ]
          ],
          [
           "Nights in Rodanthe",
           [
            "Drama",
            "Black-and-white"
           ]
          ],
          [
           "Revolutionary Road",
           [
            "Crime Fiction",
            "Mystery",
            "Romance Film",
            "Action",
            "Western"
           ]
          ],
          [
           "Angus, Thongs and Perfect Snogging",
           [
            "Drama",
            "Comedy",
            "Film adaptation"
           ]
          ],
          [
           "Breaking Point",
           [
            "Musical",
            "Family Film",
            "Comedy",
            "Musical",
            "Family Film",
            "Comedy"
           ]
          ],
          [
           "Rain",
           [
            "Documentary"
           ]
          ],
          [
           "Hugo",
           [
            "War film"
           ]
          ],
          [
           "City of Ember",
           [
            "Drama",
            "Comedy"
           ]
          ],
          [
           "The Day the Earth Stood Still",
           [
            "Thriller",
            "Crime Fiction",
            "Detective fiction",
            "Detective",
            "World cinema",
            "Mystery",
            "Drama",
            "Crime Thriller"
           ]
          ],
          [
           "Detective",
           [
            "Crime Fiction",
            "Drama"
           ]
          ],
          [
           "Elegy",
           [
            "Children's/Family",
            "Fantasy",
            "Children's Fantasy",
            "Animation"
           ]
          ],
          [
           "The Reader",
           [
            "Drama"
           ]
          ],
          [
           "Fair Game",
           [
            "Romantic comedy",
            "World cinema",
            "Musical",
            "Drama",
            "Romantic drama",
            "Romance Film",
            "Bollywood"
           ]
          ],
          [
           "The Chronicles of Narnia: The Voyage of the Dawn Treader",
           [
            "Drama",
            "Black-and-white"
           ]
          ],
          [
           "Nick and Norah's Infinite Playlist",
           [
            "Family Film",
            "Family Drama",
            "Drama",
            "Comedy",
            "Adventure"
           ]
          ],
          [
           "Sherlock Holmes",
           [
            "Crime Fiction"
           ]
          ],
          [
           "Dear John",
           [
            "Swashbuckler films",
            "Adventure",
            "Costume Adventure",
            "Fantasy",
            "Adventure Comedy",
            "Action"
           ]
          ],
          [
           "Straw Dogs",
           [
            "Drama"
           ]
          ],
          [
           "Alice",
           [
            "Biographical film",
            "Drama"
           ]
          ],
          [
           "Alice in Wonderland",
           [
            "Suspense",
            "Suspense"
           ]
          ],
          [
           "Home",
           [
            "Parody",
            "Caper story",
            "Western",
            "Comedy",
            "Slapstick"
           ]
          ],
          [
           "The Sisterhood of the Traveling Pants 2",
           [
            "Silent film",
            "Adventure"
           ]
          ],
          [
           "The Hunger Games",
           [
            "Sword and sorcery",
            "Science Fiction",
            "Action",
            "Fantasy",
            "Adventure"
           ]
          ],
          [
           "Sunday",
           [
            "Crime Fiction",
            "Romantic drama",
            "Romance Film",
            "Drama",
            "Film adaptation"
           ]
          ],
          [
           "The Nutcracker in 3D",
           [
            "Drama"
           ]
          ],
          [
           "A Christmas Carol",
           [
            "Bollywood"
           ]
          ],
          [
           "Water for Elephants",
           [
            "Silent film"
           ]
          ],
          [
           "Monte Carlo",
           [
            "Silent film"
           ]
          ],
          [
           "The Possessed",
           [
            "Thriller",
            "Mystery",
            "Action"
           ]
          ],
          [
           "Frozen",
           [
            "Bollywood"
           ]
          ],
          [
           "Race to Witch Mountain",
           [
            "Romance Film",
            "Comedy"
           ]
          ],
          [
           "Night at the Museum: Battle of the Smithsonian",
           [
            "Silent film"
           ]
          ],
          [
           "Confessions of a Shopaholic",
           [
            "Romantic drama",
            "Romance Film",
            "Film adaptation",
            "Drama",
            "Mystery"
           ]
          ],
          [
           "Twilight",
           [
            "Comedy"
           ]
          ],
          [
           "Two Lovers",
           [
            "Family Film",
            "Fantasy",
            "Animation"
           ]
          ],
          [
           "The Taking of Pelham 1 2 3",
           [
            "Action/Adventure",
            "Science Fiction",
            "Action",
            "Fantasy",
            "Adventure"
           ]
          ],
          [
           "Shutter Island",
           [
            "Family Film",
            "Adventure"
           ]
          ],
          [
           "Sex Drive",
           [
            "Western",
            "Action",
            "Adventure"
           ]
          ],
          [
           "The Ghost Writer",
           [
            "Family Film",
            "Comedy"
           ]
          ],
          [
           "Beastly",
           [
            "Romance Film",
            "Comedy"
           ]
          ],
          [
           "Wendy and Lucy",
           [
            "Science Fiction",
            "Horror"
           ]
          ],
          [
           "Stella",
           [
            "Family Film",
            "Adventure",
            "Animation"
           ]
          ],
          [
           "Wuthering Heights",
           [
            "Silent film"
           ]
          ],
          [
           "The Lincoln Lawyer",
           [
            "Drama"
           ]
          ],
          [
           "Love",
           [
            "Drama",
            "Comedy"
           ]
          ],
          [
           "An American Carol",
           [
            "Western"
           ]
          ],
          [
           "Call of the Wild",
           [
            "Alien invasion",
            "Thriller",
            "Science Fiction",
            "Doomsday film"
           ]
          ],
          [
           "The Bourne Legacy",
           [
            "Mystery",
            "Marriage Drama",
            "Drama",
            "Courtroom Drama"
           ]
          ],
          [
           "Diary of a Wimpy Kid",
           [
            "Thriller",
            "Spy",
            "Action",
            "Drama",
            "War film"
           ]
          ],
          [
           "Loving You",
           [
            "Mystery",
            "Detective fiction",
            "Detective"
           ]
          ],
          [
           "Whore",
           [
            "Silent film",
            "Comedy"
           ]
          ],
          [
           "Limitless",
           [
            "Romantic comedy",
            "Period piece",
            "Coming of age",
            "Comedy",
            "Drama",
            "Romantic drama",
            "Romance Film"
           ]
          ],
          [
           "Legend of the Guardians: The Owls of Ga'Hoole",
           [
            "Alien Film",
            "Science Fiction"
           ]
          ],
          [
           "The Damned United",
           [
            "Drama"
           ]
          ],
          [
           "Let Me In",
           [
            "Drama",
            "Adventure"
           ]
          ],
          [
           "Jane Eyre",
           [
            "Drama"
           ]
          ],
          [
           "Brighton Rock",
           [
            "Action/Adventure",
            "Comedy",
            "Adventure"
           ]
          ],
          [
           "Dorian Gray",
           [
            "Silent film"
           ]
          ],
          [
           "The Trial",
           [
            "Romance Film",
            "Drama",
            "Adventure",
            "World cinema"
           ]
          ],
          [
           "Zift",
           [
            "Fantasy"
           ]
          ],
          [
           "The Last Song",
           [
            "Documentary"
           ]
          ],
          [
           "Pirates of the Caribbean: On Stranger Tides",
           [
            "Western",
            "Drama",
            "Family Film"
           ]
          ],
          [
           "Mars Needs Moms",
           [
            "Japanese Movies"
           ]
          ],
          [
           "The Firm",
           [
            "Spy"
           ]
          ],
          [
           "Rise of the Planet of the Apes",
           [
            "Action/Adventure",
            "Western",
            "Action",
            "Drama"
           ]
          ],
          [
           "Gulliver's Travels",
           [
            "Television movie",
            "Drama",
            "Film adaptation"
           ]
          ],
          [
           "Frozen",
           [
            "Family Film",
            "Children's/Family",
            "Musical",
            "Family-Oriented Adventure",
            "Animation"
           ]
          ],
          [
           "The Lucky One",
           [
            "Science Fiction",
            "Adventure",
            "Computer Animation",
            "Animation",
            "Comedy",
            "Family Film",
            "Action"
           ]
          ],
          [
           "The Great Gatsby",
           [
            "Comedy"
           ]
          ],
          [
           "The Perfect Gift",
           [
            "Short Film",
            "Romance Film",
            "Drama"
           ]
          ],
          [
           "The Only Way",
           [
            "Animal Picture",
            "Period piece",
            "Drama",
            "Film adaptation",
            "Romantic drama",
            "Romance Film"
           ]
          ],
          [
           "Branded",
           [
            "Indie",
            "Period piece",
            "Drama",
            "Suspense",
            "Film adaptation",
            "Romantic drama",
            "Romance Film"
           ]
          ],
          [
           "Butterflies",
           [
            "Romance Film",
            "Historical fiction",
            "Drama"
           ]
          ],
          [
           "The Adjustment Bureau",
           [
            "Drama"
           ]
          ],
          [
           "Total Recall",
           [
            "Family Film",
            "Family Drama",
            "Drama",
            "Adventure"
           ]
          ],
          [
           "Mr. Popper's Penguins",
           [
            "Family Film",
            "Drama",
            "Comedy"
           ]
          ],
          [
           "Journey 2: The Mysterious Island",
           [
            "Romance Film",
            "Comedy film"
           ]
          ],
          [
           "Trishna",
           [
            "Crime Fiction",
            "Tragedy",
            "Melodrama",
            "Indie",
            "Period piece",
            "Drama",
            "Film adaptation",
            "Romantic drama",
            "Romance Film"
           ]
          ],
          [
           "True Grit",
           [
            "Drama"
           ]
          ],
          [
           "The Best Exotic Marigold Hotel",
           [
            "Drama"
           ]
          ],
          [
           "Nanny McPhee and the Big Bang",
           [
            "Drama"
           ]
          ],
          [
           "Fireball",
           [
            "Horse racing",
            "Family Drama",
            "Animal Picture",
            "Sports",
            "Drama",
            "Film adaptation",
            "Family Film"
           ]
          ],
          [
           "Ordinary People",
           [
            "Horror",
            "Fantasy",
            "Chinese Movies"
           ]
          ],
          [
           "The American",
           [
            "Family Film",
            "Adventure"
           ]
          ],
          [
           "Bel Ami",
           [
            "Drama",
            "Film adaptation"
           ]
          ],
          [
           "Salmon Fishing in the Yemen",
           [
            "Musical",
            "Comedy"
           ]
          ],
          [
           "Killer Elite",
           [
            "Romance Film",
            "Drama"
           ]
          ],
          [
           "Winnie the Pooh",
           [
            "Drama"
           ]
          ],
          [
           "The Call of the Wild",
           [
            "Drama"
           ]
          ],
          [
           "The Help",
           [
            "Horror",
            "Slasher",
            "Psychological thriller"
           ]
          ],
          [
           "I Am Number Four",
           [
            "Crime Fiction",
            "Adventure",
            "Action/Adventure",
            "Period piece",
            "Drama",
            "Film adaptation",
            "Political drama"
           ]
          ],
          [
           "The Lorax",
           [
            "Thriller"
           ]
          ],
          [
           "Aisha",
           [
            "Crime Fiction",
            "Mystery",
            "Thriller",
            "Drama"
           ]
          ],
          [
           "The Three Musketeers",
           [
            "Drama"
           ]
          ],
          [
           "The Host",
           [
            "Drama"
           ]
          ],
          [
           "Love",
           [
            "Action",
            "Adventure"
           ]
          ],
          [
           "Judy Moody and the Not Bummer Summer",
           [
            "Music",
            "Drama"
           ]
          ],
          [
           "Ecstasy",
           [
            "Comedy"
           ]
          ],
          [
           "The Girl with the Dragon Tattoo",
           [
            "Crime Fiction",
            "Adventure",
            "Period piece",
            "Action/Adventure",
            "Western",
            "Drama",
            "Film adaptation",
            "Crime Thriller"
           ]
          ],
          [
           "War Horse",
           [
            "Children's/Family",
            "Fairy tale",
            "Musical",
            "Fantasy",
            "Comedy",
            "Family Film",
            "Slapstick"
           ]
          ],
          [
           "Victory",
           [
            "Musical comedy"
           ]
          ],
          [
           "The Woman in Black",
           [
            "Western"
           ]
          ],
          [
           "One for the Money",
           [
            "Drama"
           ]
          ],
          [
           "The Red Shoes",
           [
            "Crime Fiction",
            "Drama"
           ]
          ],
          [
           "Diary of a Wimpy Kid: Rodrick Rules",
           [
            "Drama",
            "Chinese Movies"
           ]
          ],
          [
           "The Perks of Being a Wallflower",
           [
            "Filipino Movies",
            "Sci-Fi Horror",
            "Horror",
            "Science Fiction",
            "Creature Film"
           ]
          ],
          [
           "Mirror Mirror",
           [
            "Wuxia",
            "Horror",
            "World cinema",
            "Action/Adventure",
            "Martial Arts Film",
            "Horror Comedy",
            "Action",
            "Chinese Movies"
           ]
          ],
          [
           "Creature",
           [
            "Parody",
            "Screwball comedy",
            "Comedy"
           ]
          ],
          [
           "The Awakening",
           [
            "Filipino Movies"
           ]
          ],
          [
           "The Invisible Woman",
           [
            "Drama"
           ]
          ],
          [
           "Les Misérables",
           [
            "Science Fiction",
            "Drama",
            "Film adaptation"
           ]
          ],
          [
           "Ender's Game",
           [
            "Crime Fiction",
            "Thriller",
            "Adventure",
            "Costume drama",
            "Comedy film",
            "Mystery",
            "Drama"
           ]
          ],
          [
           "Snow White and the Huntsman",
           [
            "Crime Fiction",
            "Action/Adventure",
            "Action",
            "Drama",
            "Thriller"
           ]
          ],
          [
           "The Island",
           [
            "Crime Fiction",
            "Mystery",
            "Detective fiction",
            "Detective"
           ]
          ],
          [
           "Frankenstein: Day of the Beast",
           [
            "Western",
            "Action",
            "Romance Film"
           ]
          ],
          [
           "Anna Karenina",
           [
            "Western"
           ]
          ],
          [
           "Angel",
           [
            "Western",
            "Drama",
            "Comedy"
           ]
          ],
          [
           "Great Expectations",
           [
            "Western"
           ]
          ],
          [
           "Trishna",
           [
            "Western"
           ]
          ],
          [
           "Dracula 3D",
           [
            "Wuxia",
            "Action",
            "Fantasy",
            "Romance Film",
            "Chinese Movies"
           ]
          ],
          [
           "City of God",
           [
            "Thriller",
            "Action/Adventure",
            "Action"
           ]
          ],
          [
           "Love Story",
           [
            "Western"
           ]
          ],
          [
           "After the Wizard",
           [
            "Thriller",
            "Mystery",
            "Science Fiction",
            "Horror"
           ]
          ],
          [
           "Beladingala Baale",
           [
            "Crime Fiction",
            "Drama"
           ]
          ],
          [
           "Diary of a Wimpy Kid: Dog Days",
           [
            "Romantic drama",
            "Romance Film",
            "Drama",
            "Period piece",
            "Film adaptation"
           ]
          ],
          [
           "The Road",
           [
            "Action/Adventure",
            "Wuxia",
            "Martial Arts Film",
            "Chinese Movies",
            "World cinema"
           ]
          ],
          [
           "Starship Troopers: Invasion",
           [
            "Swashbuckler films",
            "Action",
            "Adventure"
           ]
          ],
          [
           "Poola Rangadu",
           [
            "Thriller",
            "Horror"
           ]
          ],
          [
           "Cobra",
           [
            "Bollywood",
            "Family Film",
            "Drama",
            "Musical",
            "World cinema"
           ]
          ],
          [
           "War of the Worlds: Goliath",
           [
            "Thriller",
            "Fantasy",
            "Horror",
            "Supernatural"
           ]
          ],
          [
           "Action",
           [
            "Thriller",
            "Crime Fiction",
            "Drama",
            "Suspense",
            "Crime Thriller"
           ]
          ],
          [
           "Rambo",
           [
            "Cult",
            "Thriller",
            "Film adaptation",
            "Horror",
            "Supernatural"
           ]
          ],
          [
           "The Forest",
           [
            "History",
            "Romance Film",
            "Action",
            "Drama"
           ]
          ],
          [
           "Airport",
           [
            "Crime Fiction",
            "Drama"
           ]
          ],
          [
           "The Last Days of Pompeii",
           [
            "Mystery",
            "Romance Film",
            "Drama"
           ]
          ],
          [
           "The Picture of Dorian Gray",
           [
            "Fantasy Comedy",
            "Adventure",
            "Children's/Family",
            "Computer Animation",
            "Fairy tale",
            "Animation",
            "Fantasy",
            "Comedy",
            "Family Film",
            "Action",
            "Children's Fantasy"
           ]
          ],
          [
           "Broken Blossoms",
           [
            "Romance Film",
            "Drama"
           ]
          ],
          [
           "The Head of Janus",
           [
            "Action",
            "Adventure"
           ]
          ],
          [
           "The Prince and the Pauper",
           [
            "Thriller",
            "Mystery",
            "Drama",
            "Black-and-white",
            "Film adaptation"
           ]
          ],
          [
           "The Fall of the House of Usher",
           [
            "Thriller",
            "Drama"
           ]
          ],
          [
           "Woman in the Moon",
           [
            "Romantic comedy",
            "Adventure",
            "Coming of age",
            "Comedy",
            "Film adaptation",
            "Drama",
            "Romance Film"
           ]
          ],
          [
           "The Blue Angel",
           [
            "Thriller",
            "Science Fiction",
            "Adventure",
            "Drama",
            "Reboot",
            "Action"
           ]
          ],
          [
           "Earth",
           [
            "Drama",
            "Comedy",
            "World cinema",
            "Drama",
            "Comedy",
            "World cinema",
            "Drama",
            "Comedy",
            "World cinema"
           ]
          ],
          [
           "Emil and the Detectives",
           [
            "Martial Arts Film"
           ]
          ],
          [
           "Ecstasy",
           [
            "Thriller",
            "Mystery",
            "Science Fiction",
            "Psychological thriller",
            "Crime Thriller"
           ]
          ],
          [
           "High and Low",
           [
            "Thriller",
            "Crime Thriller",
            "Suspense",
            "Film noir",
            "Film adaptation"
           ]
          ],
          [
           "Bride of Frankenstein",
           [
            "Coming of age",
            "Family Film",
            "Family Drama",
            "Drama"
           ]
          ],
          [
           "The New Gulliver",
           [
            "Family Film",
            "Drama",
            "Comedy"
           ]
          ],
          [
           "The Hound of the Baskervilles",
           [
            "Thriller",
            "Crime Fiction",
            "Action"
           ]
          ],
          [
           "The Baker's Wife",
           [
            "Crime Fiction",
            "Drama"
           ]
          ],
          [
           "Northwest Passage",
           [
            "Crime Fiction",
            "Drama"
           ]
          ],
          [
           "The Count of Monte Cristo",
           [
            "Thriller",
            "Mystery",
            "Romance Film",
            "Thriller",
            "Mystery",
            "Romance Film"
           ]
          ],
          [
           "The Devil and Daniel Webster",
           [
            "Drama"
           ]
          ],
          [
           "The Comedians",
           [
            "Romance Film",
            "Action",
            "Western",
            "Adventure"
           ]
          ],
          [
           "The Count of Monte Cristo",
           [
            "Western"
           ]
          ],
          [
           "Sanshiro Sugata",
           [
            "Action/Adventure",
            "Western",
            "Drama"
           ]
          ],
          [
           "The Turning Point",
           [
            "Thriller",
            "Action/Adventure",
            "Science Fiction",
            "Action",
            "Adventure"
           ]
          ],
          [
           "Beauty and the Beast",
           [
            "Thriller",
            "Crime Fiction",
            "Action/Adventure",
            "Comedy",
            "Crime Thriller",
            "Action"
           ]
          ],
          [
           "Devil in the Flesh",
           [
            "Drama"
           ]
          ],
          [
           "Crisis",
           [
            "Western",
            "Action"
           ]
          ],
          [
           "Fun and Fancy Free",
           [
            "Drama",
            "Comedy-drama",
            "Coming of age",
            "Comedy",
            "Indie"
           ]
          ],
          [
           "The Damned",
           [
            "Crime Fiction",
            "Drama",
            "Horror"
           ]
          ],
          [
           "Les Misérables",
           [
            "Sports",
            "Science Fiction",
            "Action",
            "Drama"
           ]
          ],
          [
           "Secret Agent",
           [
            "Crime Fiction",
            "Thriller",
            "Gangster Film",
            "Black-and-white",
            "Crime Thriller",
            "Film noir"
           ]
          ],
          [
           "Abbott and Costello Meet Frankenstein",
           [
            "Crime Fiction",
            "Crime Thriller",
            "Detective fiction",
            "Detective",
            "Mystery"
           ]
          ],
          [
           "Pippi Longstocking",
           [
            "Drama",
            "Period piece",
            "Coming of age",
            "War film"
           ]
          ],
          [
           "Diary of a Country Priest",
           [
            "Western",
            "Comedy",
            "Comedy Western"
           ]
          ],
          [
           "The Emperor's Nightingale",
           [
            "Thriller",
            "Indie",
            "World cinema",
            "Drama",
            "Romantic drama",
            "Romance Film"
           ]
          ],
          [
           "Cops and Robbers",
           [
            "Western",
            "Action"
           ]
          ],
          [
           "No Greater Love",
           [
            "Thriller",
            "Drama"
           ]
          ],
          [
           "The Thief of Bagdad",
           [
            "Silent film",
            "Western"
           ]
          ],
          [
           "The Wages of Fear",
           [
            "Adventure"
           ]
          ],
          [
           "Ugetsu",
           [
            "Comedy",
            "Fantasy",
            "Adventure",
            "Animation"
           ]
          ],
          [
           "Ulysses",
           [
            "Drama"
           ]
          ],
          [
           "Sound of the Mountain",
           [
            "Computer Animation",
            "Musical",
            "Family Film",
            "Comedy",
            "Animation"
           ]
          ],
          [
           "Heidi and Peter",
           [
            "Comedy film",
            "Drama"
           ]
          ],
          [
           "Snow White and the Seven Dwarfs",
           [
            "Swashbuckler films",
            "Action/Adventure",
            "Musical",
            "Drama",
            "Comedy",
            "Film adaptation",
            "Action"
           ]
          ],
          [
           "The Unknown Soldier",
           [
            "Thriller",
            "Drama",
            "Horror",
            "Supernatural"
           ]
          ],
          [
           "The Burmese Harp",
           [
            "Fantasy",
            "Fantasy Adventure",
            "Horror",
            "Adventure"
           ]
          ],
          [
           "The Hunchback of Notre Dame",
           [
            "Musical"
           ]
          ],
          [
           "The Snow Queen",
           [
            "Thriller",
            "Musical",
            "Bollywood",
            "World cinema"
           ]
          ],
          [
           "Snow Country",
           [
            "Drama"
           ]
          ],
          [
           "Elevator to the Gallows",
           [
            "Drama",
            "Adventure"
           ]
          ],
          [
           "Ashes and Diamonds",
           [
            "Thriller",
            "Drama"
           ]
          ],
          [
           "Odd Obsession",
           [
            "Action/Adventure",
            "Romance Film",
            "Action",
            "Adventure"
           ]
          ],
          [
           "Fires on the Plain",
           [
            "Drama",
            "Indie",
            "World cinema",
            "Drama",
            "Indie",
            "World cinema"
           ]
          ],
          [
           "First Spaceship on Venus",
           [
            "Music",
            "Drama",
            "Black-and-white"
           ]
          ],
          [
           "Captain Blood",
           [
            "Mystery"
           ]
          ],
          [
           "The Lady with the Dog",
           [
            "Drama"
           ]
          ],
          [
           "House of Usher",
           [
            "Romance Film",
            "Drama"
           ]
          ],
          [
           "Seven Days... Seven Nights",
           [
            "Comedy"
           ]
          ],
          [
           "Alakazam the Great",
           [
            "Drama"
           ]
          ],
          [
           "The Fabulous Baron Munchausen",
           [
            "Romantic drama",
            "Romance Film",
            "Film adaptation",
            "Drama",
            "War film"
           ]
          ],
          [
           "War of the Buttons",
           [
            "Drama"
           ]
          ],
          [
           "The Miracle of Father Malachia",
           [
            "Comedy"
           ]
          ],
          [
           "Adorable Julia",
           [
            "Romance Film",
            "Drama",
            "Film noir"
           ]
          ],
          [
           "The Fire Within",
           [
            "Historical Epic",
            "Drama",
            "Adventure",
            "Epic"
           ]
          ],
          [
           "The Leopard",
           [
            "Crime Fiction",
            "Drama",
            "Horror"
           ]
          ],
          [
           "Atragon",
           [
            "Crime Fiction",
            "Thriller",
            "Mystery",
            "Drama",
            "Suspense",
            "Film adaptation",
            "Crime Thriller",
            "Courtroom Drama"
           ]
          ],
          [
           "Contempt",
           [
            "Music",
            "Drama"
           ]
          ],
          [
           "High and Low",
           [
            "Adventure",
            "Historical drama"
           ]
          ],
          [
           "Youth of the Beast",
           [
            "Drama"
           ]
          ],
          [
           "Zorba the Greek",
           [
            "Comedy"
           ]
          ],
          [
           "Dear John",
           [
            "Swashbuckler films",
            "Adventure"
           ]
          ],
          [
           "Gate of Flesh",
           [
            "Family Film"
           ]
          ],
          [
           "The Castle",
           [
            "Spy"
           ]
          ],
          [
           "Dracula: Prince of Darkness",
           [
            "Silent film",
            "Comedy-drama"
           ]
          ],
          [
           "Story of a Prostitute",
           [
            "Family Film",
            "Adventure"
           ]
          ],
          [
           "Havoc in Heaven",
           [
            "Romantic comedy",
            "Romance Film",
            "Drama",
            "Comedy"
           ]
          ],
          [
           "The Sword of Doom",
           [
            "Thriller",
            "World cinema",
            "Psychological thriller",
            "Mystery",
            "Drama",
            "Suspense"
           ]
          ],
          [
           "Pharaoh",
           [
            "Crime Fiction",
            "Comedy film"
           ]
          ],
          [
           "The Pornographers",
           [
            "Silent film",
            "Drama"
           ]
          ],
          [
           "Fighting Elegy",
           [
            "Action",
            "Drama",
            "Bollywood"
           ]
          ],
          [
           "The 25th Hour",
           [
            "Action",
            "Spy"
           ]
          ],
          [
           "The Brothers Karamazov",
           [
            "Drama",
            "Drama"
           ]
          ],
          [
           "Dark of the Sun",
           [
            "Family Film",
            "Animation"
           ]
          ],
          [
           "Witchfinder General",
           [
            "Drama",
            "Period piece",
            "Comedy-drama"
           ]
          ],
          [
           "The Castle",
           [
            "Family Film",
            "Action",
            "Adventure"
           ]
          ],
          [
           "Death Sentence",
           [
            "Drama"
           ]
          ],
          [
           "Army of Shadows",
           [
            "Thriller",
            "Crime Thriller",
            "Psychological thriller"
           ]
          ],
          [
           "The Damned",
           [
            "B-movie",
            "Horror"
           ]
          ],
          [
           "Puss in Boots",
           [
            "Romance Film",
            "Drama"
           ]
          ],
          [
           "Colonel Wolodyjowski",
           [
            "Family Film",
            "Action",
            "Fantasy",
            "Adventure"
           ]
          ],
          [
           "This Man Must Die",
           [
            "Crime Fiction",
            "Thriller",
            "Remake",
            "Drama",
            "Film adaptation",
            "Romantic drama",
            "Romance Film",
            "Film noir"
           ]
          ],
          [
           "Mississippi Mermaid",
           [
            "Action/Adventure",
            "Western",
            "Action",
            "Romance Film"
           ]
          ],
          [
           "Count Dracula",
           [
            "Action/Adventure",
            "Western"
           ]
          ],
          [
           "Dorian Gray",
           [
            "Romantic drama",
            "Romance Film",
            "Drama",
            "World cinema"
           ]
          ],
          [
           "Pippi in the South Seas",
           [
            "Thriller",
            "Crime Fiction",
            "Drama"
           ]
          ],
          [
           "Pippi on the Run",
           [
            "Mystery",
            "Drama",
            "Art film",
            "World cinema"
           ]
          ],
          [
           "Animal Treasure Island",
           [
            "Silent film"
           ]
          ],
          [
           "The World of Hans Christian Andersen",
           [
            "Western",
            "Action"
           ]
          ],
          [
           "The Captain",
           [
            "Drama",
            "World cinema"
           ]
          ],
          [
           "Death in Venice",
           [
            "Family Film",
            "Comedy"
           ]
          ],
          [
           "Four Nights of a Dreamer",
           [
            "Adventure",
            "Comedy"
           ]
          ],
          [
           "The Canterbury Tales",
           [
            "Family Drama",
            "Drama",
            "Children's/Family"
           ]
          ],
          [
           "The Salamander",
           [
            "Western",
            "Drama",
            "Family Film",
            "Adventure"
           ]
          ],
          [
           "Love",
           [
            "Romance Film",
            "Drama"
           ]
          ],
          [
           "Business Is Business",
           [
            "Black comedy",
            "Satire",
            "Drama",
            "Comedy",
            "Film adaptation"
           ]
          ],
          [
           "Dirty Weekend",
           [
            "Family Film",
            "Comedy"
           ]
          ],
          [
           "The Man Called Noon",
           [
            "Mystery"
           ]
          ],
          [
           "No Way Out",
           [
            "Romance Film",
            "Fantasy",
            "Romance Film",
            "Fantasy"
           ]
          ],
          [
           "The Scarlet Letter",
           [
            "Drama",
            "Japanese Movies",
            "World cinema"
           ]
          ],
          [
           "The Water Margin",
           [
            "Silent film"
           ]
          ],
          [
           "Solaris",
           [
            "Romantic drama",
            "Romance Film",
            "Drama",
            "Film adaptation"
           ]
          ],
          [
           "Tarzan and the Brown Prince",
           [
            "Comedy film",
            "Animation"
           ]
          ],
          [
           "The Deadly Duo",
           [
            "Comedy film"
           ]
          ],
          [
           "The Bride",
           [
            "Silent film"
           ]
          ],
          [
           "The Little Mermaid",
           [
            "Romance Film",
            "Drama"
           ]
          ],
          [
           "Fantastic Planet",
           [
            "Comedy film"
           ]
          ],
          [
           "The Others",
           [
            "Science Fiction",
            "Indie",
            "World cinema",
            "Silent film",
            "Black-and-white",
            "Drama",
            "Fantasy",
            "Romance Film",
            "Adventure"
           ]
          ],
          [
           "Blood for Dracula",
           [
            "Drama"
           ]
          ],
          [
           "All Men Are Brothers",
           [
            "Thriller",
            "Natural horror films",
            "Science Fiction",
            "Horror",
            "B-movie"
           ]
          ],
          [
           "Arabian Nights",
           [
            "Cult",
            "Horror",
            "Psychological thriller",
            "Supernatural"
           ]
          ],
          [
           "The Deluge",
           [
            "Action/Adventure",
            "Action",
            "Martial Arts Film",
            "Drama",
            "World cinema"
           ]
          ],
          [
           "Challenge to White Fang",
           [
            "Adventure"
           ]
          ],
          [
           "Graveyard of Honor",
           [
            "Crime Fiction",
            "Drama",
            "Indie",
            "Courtroom Drama"
           ]
          ],
          [
           "The Devil Is a Woman",
           [
            "Romance Film",
            "Drama"
           ]
          ],
          [
           "The American Friend",
           [
            "Drama",
            "Adventure"
           ]
          ],
          [
           "The Brothers Lionheart",
           [
            "Romance Film",
            "Drama",
            "Comedy"
           ]
          ],
          [
           "That Obscure Object of Desire",
           [
            "Drama",
            "Adventure"
           ]
          ],
          [
           "Boys",
           [
            "Drama",
            "War film"
           ]
          ],
          [
           "The Place Without Limits",
           [
            "Drama",
            "Adventure"
           ]
          ],
          [
           "Madame Rosa",
           [
            "Drama"
           ]
          ],
          [
           "The Brave Archer",
           [
            "Drama"
           ]
          ],
          [
           "Laura",
           [
            "Crime Fiction",
            "Drama"
           ]
          ],
          [
           "Nutcracker Fantasy",
           [
            "Comedy film",
            "Comedy"
           ]
          ],
          [
           "Unidentified Flying Oddball",
           [
            "Drama"
           ]
          ],
          [
           "Peter-No-Tail",
           [
            "Crime Fiction",
            "Mystery",
            "Horror"
           ]
          ],
          [
           "Little Dragon Maiden",
           [
            "Action/Adventure",
            "Science Fiction",
            "Action",
            "Drama",
            "Action/Adventure",
            "Science Fiction",
            "Action",
            "Drama"
           ]
          ],
          [
           "The Wizard of Oz",
           [
            "Musical"
           ]
          ],
          [
           "The Key",
           [
            "Drama"
           ]
          ],
          [
           "Beauty and the Beast",
           [
            "Horror",
            "Documentary"
           ]
          ],
          [
           "The Twin",
           [
            "Adventure"
           ]
          ],
          [
           "1984",
           [
            "Family Film",
            "Comedy",
            "Adventure"
           ]
          ],
          [
           "The Burmese Harp",
           [
            "Family-Oriented Adventure",
            "Children's/Family"
           ]
          ],
          [
           "Detective",
           [
            "Science Fiction",
            "Horror"
           ]
          ],
          [
           "Why Me?",
           [
            "Thriller",
            "Mystery"
           ]
          ],
          [
           "The Unknown Soldier",
           [
            "Action/Adventure",
            "Silent film",
            "Western",
            "Drama",
            "Epic"
           ]
          ],
          [
           "The Assault",
           [
            "Action",
            "Drama",
            "Action",
            "Drama"
           ]
          ],
          [
           "Biggles: Adventures in Time",
           [
            "Crime Fiction",
            "Romance Film",
            "Drama"
           ]
          ],
          [
           "9½ Weeks",
           [
            "Romance Film",
            "Drama"
           ]
          ],
          [
           "Mio in the Land of Faraway",
           [
            "Comedy film",
            "Comedy"
           ]
          ],
          [
           "Dark Eyes",
           [
            "Crime Fiction",
            "Drama"
           ]
          ],
          [
           "The Possessed",
           [
            "Romance Film",
            "Drama",
            "Silent film"
           ]
          ],
          [
           "Slugs",
           [
            "Romance Film",
            "Adventure",
            "War film"
           ]
          ],
          [
           "The Reader",
           [
            "Drama"
           ]
          ],
          [
           "Wuthering Heights",
           [
            "Family Film",
            "Adventure"
           ]
          ],
          [
           "The Bear",
           [
            "Drama"
           ]
          ],
          [
           "Hard to Be a God",
           [
            "Music",
            "Western",
            "Action"
           ]
          ],
          [
           "Blood and Sand",
           [
            "Romance Film",
            "Drama"
           ]
          ],
          [
           "Like Water for Chocolate",
           [
            "Black-and-white"
           ]
          ],
          [
           "Original Sin",
           [
            "Drama"
           ]
          ],
          [
           "Farewell My Concubine",
           [
            "Romance Film",
            "Silent film",
            "Adventure"
           ]
          ],
          [
           "The Eagle Shooting Heroes",
           [
            "Family Film",
            "Drama",
            "Romance Film"
           ]
          ],
          [
           "Kung Fu Cult Master",
           [
            "Drama"
           ]
          ],
          [
           "It's a Wonderful Life",
           [
            "Drama"
           ]
          ],
          [
           "Ashes of Time",
           [
            "Family Film",
            "Children's/Family",
            "Adventure",
            "Comedy"
           ]
          ],
          [
           "Revenge of the Musketeers",
           [
            "Silent film"
           ]
          ],
          [
           "Nightwatch",
           [
            "Drama"
           ]
          ],
          [
           "The NeverEnding Story III",
           [
            "Drama",
            "Adventure"
           ]
          ],
          [
           "The Convent",
           [
            "Comedy film"
           ]
          ],
          [
           "Ulysses' Gaze",
           [
            "Drama"
           ]
          ],
          [
           "Kitchen",
           [
            "Science Fiction",
            "Action",
            "Remake",
            "Adventure"
           ]
          ],
          [
           "Earth",
           [
            "Western",
            "Romance Film"
           ]
          ],
          [
           "Live Flesh",
           [
            "Horror"
           ]
          ],
          [
           "The River",
           [
            "Romance Film",
            "Drama",
            "Silent film"
           ]
          ],
          [
           "The Phantom of the Opera",
           [
            "Science Fiction",
            "Action"
           ]
          ],
          [
           "Captain Khorshid",
           [
            "Western"
           ]
          ],
          [
           "The Story of a Mother",
           [
            "Musical",
            "Drama",
            "Family Film"
           ]
          ],
          [
           "Pippi Goes on Board",
           [
            "Family Film",
            "Comedy"
           ]
          ],
          [
           "The Flying Liftboy",
           [
            "Adventure",
            "Family Drama",
            "Drama",
            "Film adaptation",
            "Coming of age",
            "Family Film"
           ]
          ],
          [
           "Innocence",
           [
            "Horror",
            "Filipino Movies"
           ]
          ],
          [
           "Love Story",
           [
            "Drama"
           ]
          ],
          [
           "Hitman",
           [
            "Adventure",
            "Historical fiction",
            "Adventure Comedy",
            "Comedy",
            "Drama",
            "Family Film",
            "Action"
           ]
          ],
          [
           "Cinderella",
           [
            "Sports",
            "Drama",
            "Boxing"
           ]
          ],
          [
           "The White Ship",
           [
            "Silent film"
           ]
          ],
          [
           "Crouching Tiger, Hidden Dragon",
           [
            "Silent film"
           ]
          ],
          [
           "Swindle",
           [
            "Silent film",
            "Drama",
            "Comedy"
           ]
          ],
          [
           "Twin Sisters",
           [
            "Silent film",
            "Drama",
            "Comedy"
           ]
          ],
          [
           "The Forest",
           [
            "Crime Fiction",
            "Mystery",
            "Thriller",
            "Drama"
           ]
          ],
          [
           "The Blue Bird",
           [
            "Family Film"
           ]
          ],
          [
           "The Key",
           [
            "Family Film",
            "Fantasy",
            "Animation"
           ]
          ],
          [
           "Sleepless",
           [
            "Silent film"
           ]
          ],
          [
           "Chased by the Dogs",
           [
            "Silent film"
           ]
          ],
          [
           "Zero Focus",
           [
            "Action/Adventure",
            "Western"
           ]
          ],
          [
           "The Crimson Rivers",
           [
            "Comedy Western",
            "Action/Adventure",
            "Western",
            "Drama",
            "Film adaptation",
            "Action"
           ]
          ],
          [
           "Audition",
           [
            "Action/Adventure",
            "Western",
            "Action"
           ]
          ],
          [
           "The River",
           [
            "Drama"
           ]
          ],
          [
           "Emil and the Detectives",
           [
            "Drama",
            "Comedy-drama"
           ]
          ],
          [
           "Battle Royale",
           [
            "Chinese Movies",
            "Animation"
           ]
          ],
          [
           "Nightmare",
           [
            "Silent film"
           ]
          ],
          [
           "Season of the Sun",
           [
            "Western",
            "Action",
            "Adventure"
           ]
          ],
          [
           "Earth",
           [
            "Crime Fiction",
            "Music",
            "Romance Film",
            "Drama"
           ]
          ],
          [
           "The Ring Virus",
           [
            "Musical",
            "Drama"
           ]
          ],
          [
           "Alice in Wonderland",
           [
            "Romance Film",
            "Drama"
           ]
          ],
          [
           "Balzac and the Little Chinese Seamstress",
           [
            "Thriller",
            "Drama",
            "Adventure"
           ]
          ],
          [
           "The Devils",
           [
            "Action/Adventure",
            "Action",
            "Comedy",
            "World cinema",
            "Adventure"
           ]
          ],
          [
           "Dark Water",
           [
            "Mystery",
            "Romance Film",
            "Drama"
           ]
          ],
          [
           "Graveyard of Honor",
           [
            "Animation"
           ]
          ],
          [
           "City of God",
           [
            "Comedy film",
            "Drama"
           ]
          ],
          [
           "Fear and Trembling",
           [
            "Thriller",
            "Period piece",
            "Horror"
           ]
          ],
          [
           "Twin Sisters",
           [
            "Romance Film",
            "Romance Film"
           ]
          ],
          [
           "Antikiller",
           [
            "Comedy film",
            "Fantasy"
           ]
          ],
          [
           "The Star",
           [
            "Science Fiction",
            "Action",
            "Animation"
           ]
          ],
          [
           "Boogiepop and Others",
           [
            "Romance Film",
            "Drama"
           ]
          ],
          [
           "Mother of Mine",
           [
            "Mystery"
           ]
          ],
          [
           "Troublesome Night 16",
           [
            "Drama",
            "Fantasy",
            "Comedy",
            "Adventure"
           ]
          ],
          [
           "Howl's Moving Castle",
           [
            "Silent film",
            "Drama",
            "Adventure"
           ]
          ],
          [
           "Blind Shaft",
           [
            "Thriller",
            "Action/Adventure",
            "Mystery",
            "Suspense",
            "Crime Thriller",
            "Action",
            "Film noir"
           ]
          ],
          [
           "Princess Iron Fan",
           [
            "Romantic comedy",
            "Romance Film",
            "Americana",
            "Comedy"
           ]
          ],
          [
           "Pippi Longstocking",
           [
            "Drama"
           ]
          ],
          [
           "Fateless",
           [
            "Comedy film"
           ]
          ],
          [
           "Singles",
           [
            "Horror"
           ]
          ],
          [
           "Untold Scandal",
           [
            "Thriller",
            "Mystery",
            "Drama"
           ]
          ],
          [
           "Green Tea",
           [
            "Crime Fiction",
            "Silent film",
            "Drama"
           ]
          ],
          [
           "Adventures of Robinson Crusoe, a Sailor from York",
           [
            "Fantasy",
            "Drama"
           ]
          ],
          [
           "Frozen Land",
           [
            "Drama",
            "Silent film",
            "Fantasy"
           ]
          ],
          [
           "Night Watch",
           [
            "Action"
           ]
          ],
          [
           "Day Watch",
           [
            "Romance Film",
            "Musical",
            "Comedy film"
           ]
          ],
          [
           "Laura's Star",
           [
            "Drama"
           ]
          ],
          [
           "Red Cliff",
           [
            "Romance Film",
            "Drama"
           ]
          ],
          [
           "The Scarlet Letter",
           [
            "Crime Fiction",
            "Silent film",
            "Drama"
           ]
          ],
          [
           "The Elementary Particles",
           [
            "Thriller",
            "Science Fiction"
           ]
          ],
          [
           "Election",
           [
            "Western"
           ]
          ],
          [
           "Gruesome School Trip",
           [
            "Comedy film"
           ]
          ],
          [
           "A Christmas Carol",
           [
            "Romance Film",
            "War film"
           ]
          ],
          [
           "Stormbreaker",
           [
            "Romance Film",
            "Drama"
           ]
          ],
          [
           "7 Dwarves: The Forest Is Not Enough",
           [
            "Thriller",
            "Crime Thriller",
            "Political thriller"
           ]
          ],
          [
           "The Host",
           [
            "Action",
            "Bollywood"
           ]
          ],
          [
           "The Red Shoes",
           [
            "Mystery",
            "Drama"
           ]
          ],
          [
           "A Chinese Tall Story",
           [
            "Fantasy",
            "Silent film",
            "Horror"
           ]
          ],
          [
           "Princess Iron Fan",
           [
            null
           ]
          ],
          [
           "Everlasting Regret",
           [
            "Thriller",
            "Crime Fiction",
            "Action",
            "Drama"
           ]
          ],
          [
           "The Unforgiven",
           [
            "Western",
            "Adventure"
           ]
          ],
          [
           "The Illusionist",
           [
            "Family Film"
           ]
          ],
          [
           "The Sin",
           [
            "Family Film"
           ]
          ],
          [
           "The Girl Who Leapt Through Time",
           [
            "Thriller",
            "Comedy film",
            "Action",
            "Family Film"
           ]
          ],
          [
           "Cinderella",
           [
            "Drama"
           ]
          ],
          [
           "The Island",
           [
            "Horror"
           ]
          ],
          [
           "Franklin and the Turtle Lake Treasure",
           [
            "Silent film",
            "Drama"
           ]
          ],
          [
           "Snow White: The Sequel",
           [
            "Thriller",
            "Mystery"
           ]
          ],
          [
           "Hansel and Gretel",
           [
            "Comedy film"
           ]
          ],
          [
           "The Wave",
           [
            "Drama",
            "Adventure"
           ]
          ],
          [
           "The Detective",
           [
            "Drama"
           ]
          ],
          [
           "The Girl with the Dragon Tattoo",
           [
            "Thriller",
            "Crime Fiction",
            "Drama",
            "Film noir"
           ]
          ],
          [
           "Let the Right One In",
           [
            null
           ]
          ],
          [
           "Suspect X",
           [
            "Family Film",
            "Drama"
           ]
          ],
          [
           "Vicky the Viking",
           [
            "Family Film",
            "Drama"
           ]
          ],
          [
           "The Girl Who Played with Fire",
           [
            "Drama"
           ]
          ],
          [
           "The Last Flight",
           [
            "Drama"
           ]
          ],
          [
           "Little Nicholas",
           [
            "World cinema",
            "Animation",
            "Action/Adventure",
            "Anime",
            "Comedy",
            "Action"
           ]
          ],
          [
           "Zero Focus",
           [
            "Drama"
           ]
          ],
          [
           "Alice's Birthday",
           [
            "Comedy film"
           ]
          ],
          [
           "White Night",
           [
            "Drama"
           ]
          ],
          [
           "Almayer's Folly",
           [
            "Crime Fiction",
            "Adventure"
           ]
          ],
          [
           "The Princess of Montpensier",
           [
            "Silent film",
            "Drama",
            "Adventure"
           ]
          ],
          [
           "Into The White Night",
           [
            null
           ]
          ],
          [
           "Monkey King vs. Er Lang Shen",
           [
            "Comedy film",
            "Family Film"
           ]
          ],
          [
           "The Lost Bladesman",
           [
            "Silent film",
            "Drama"
           ]
          ],
          [
           "Oslo, August 31st",
           [
            "Silent film",
            "Adventure"
           ]
          ],
          [
           "Innocence",
           [
            "Family Film",
            "Fantasy",
            "Adventure",
            "Comedy film",
            "Animation"
           ]
          ],
          [
           "The Snows of Kilimanjaro",
           [
            "Silent film",
            "Drama"
           ]
          ],
          [
           "Rust and Bone",
           [
            "Drama",
            "Action",
            "Fantasy",
            "Adventure"
           ]
          ],
          [
           "The Assassins",
           [
            "Silent film",
            "Drama"
           ]
          ],
          [
           "Dangerous Liaisons",
           [
            "Family Film",
            "Fantasy"
           ]
          ],
          [
           "The Client",
           [
            "Thriller",
            "Action",
            "Drama"
           ]
          ],
          [
           "Love",
           [
            "Softcore Porn",
            "Drama"
           ]
          ],
          [
           "Helpless",
           [
            "Science Fiction",
            "Drama"
           ]
          ],
          [
           "Nightmare",
           [
            null
           ]
          ]
         ],
         "hovertemplate": "MovieName=%{customdata[0]}<br>Genre=%{customdata[1]}<br>Label=%{marker.color}<extra></extra>",
         "legendgroup": "",
         "marker": {
          "color": [
           1,
           2,
           1,
           9,
           0,
           2,
           7,
           10,
           2,
           3,
           2,
           3,
           2,
           4,
           2,
           4,
           6,
           7,
           8,
           5,
           1,
           1,
           5,
           1,
           5,
           8,
           10,
           10,
           5,
           8,
           10,
           4,
           10,
           5,
           6,
           3,
           1,
           8,
           5,
           6,
           0,
           3,
           1,
           8,
           1,
           1,
           5,
           4,
           4,
           10,
           1,
           2,
           1,
           1,
           4,
           4,
           10,
           5,
           4,
           4,
           8,
           3,
           10,
           2,
           4,
           6,
           4,
           4,
           5,
           5,
           4,
           2,
           10,
           8,
           7,
           1,
           5,
           2,
           8,
           4,
           2,
           0,
           8,
           6,
           5,
           5,
           1,
           2,
           6,
           0,
           6,
           9,
           2,
           3,
           8,
           5,
           6,
           9,
           7,
           8,
           8,
           8,
           10,
           10,
           1,
           8,
           9,
           8,
           6,
           1,
           8,
           2,
           3,
           6,
           2,
           1,
           1,
           1,
           6,
           10,
           10,
           0,
           1,
           5,
           2,
           1,
           8,
           5,
           6,
           1,
           2,
           6,
           3,
           3,
           2,
           10,
           6,
           3,
           2,
           10,
           4,
           1,
           6,
           9,
           10,
           10,
           8,
           10,
           1,
           1,
           5,
           3,
           1,
           5,
           10,
           7,
           7,
           6,
           8,
           1,
           7,
           8,
           7,
           8,
           2,
           2,
           5,
           3,
           6,
           2,
           1,
           1,
           1,
           6,
           2,
           3,
           3,
           7,
           6,
           5,
           5,
           1,
           1,
           6,
           5,
           2,
           5,
           10,
           6,
           4,
           8,
           5,
           8,
           8,
           5,
           5,
           3,
           3,
           9,
           8,
           7,
           2,
           8,
           6,
           2,
           2,
           1,
           2,
           1,
           7,
           4,
           2,
           3,
           6,
           2,
           10,
           2,
           6,
           3,
           6,
           2,
           6,
           5,
           5,
           6,
           9,
           4,
           10,
           6,
           5,
           3,
           5,
           0,
           6,
           2,
           2,
           10,
           1,
           6,
           4,
           0,
           5,
           7,
           6,
           4,
           4,
           6,
           7,
           6,
           5,
           2,
           6,
           6,
           5,
           3,
           6,
           10,
           8,
           10,
           1,
           1,
           2,
           2,
           4,
           6,
           8,
           9,
           10,
           2,
           1,
           2,
           3,
           4,
           2,
           2,
           1,
           10,
           8,
           3,
           4,
           6,
           8,
           5,
           10,
           9,
           7,
           2,
           6,
           2,
           1,
           10,
           4,
           10,
           2,
           6,
           4,
           4,
           10,
           2,
           4,
           2,
           1,
           7,
           10,
           3,
           4,
           1,
           6,
           9,
           6,
           1,
           10,
           6,
           4,
           6,
           8,
           9,
           7,
           10,
           6,
           10,
           2,
           10,
           4,
           3,
           1,
           2,
           1,
           9,
           3,
           7,
           5,
           2,
           1,
           8,
           6,
           6,
           1,
           4,
           7,
           6,
           4,
           4,
           9,
           4,
           10,
           6,
           6,
           4,
           6,
           6,
           4,
           6,
           4,
           2,
           6,
           2,
           8,
           6,
           6,
           6,
           6,
           3,
           5,
           7,
           10,
           10,
           2,
           4,
           5,
           10,
           1,
           5,
           10,
           2,
           9,
           9,
           6,
           9,
           6,
           4,
           6,
           2,
           6,
           8,
           6,
           6,
           10,
           6,
           6,
           3,
           10,
           9,
           6,
           3,
           6,
           6,
           2,
           8,
           8,
           6,
           6,
           8,
           2,
           8,
           10,
           6,
           6,
           2,
           0,
           3,
           6,
           6,
           2,
           2,
           10,
           1,
           2,
           10,
           4,
           9,
           2,
           2,
           1,
           4,
           2,
           4,
           3,
           4,
           6,
           6,
           1,
           4,
           8,
           10,
           2,
           8,
           1,
           7,
           5,
           0,
           2,
           10,
           10,
           2,
           4,
           9,
           4,
           4,
           2,
           4,
           10,
           2,
           10,
           6,
           6,
           9,
           9,
           3,
           0,
           10,
           7,
           9,
           6,
           3,
           9,
           1,
           9,
           2,
           7,
           4,
           9,
           9,
           5,
           8,
           10,
           2,
           8,
           10,
           8,
           8,
           1,
           5,
           6,
           3,
           10,
           8,
           10,
           6,
           4,
           5,
           3,
           10,
           6,
           8,
           7,
           5,
           7,
           8,
           1,
           2,
           8,
           8,
           10,
           2,
           2,
           5,
           1,
           8,
           4,
           1,
           4,
           2,
           1,
           1,
           10,
           8,
           2,
           5,
           10,
           10,
           2,
           9,
           6,
           7,
           7,
           4,
           4,
           3,
           8,
           9,
           2,
           1,
           6,
           10,
           10,
           1,
           0,
           3,
           5,
           9,
           10,
           8,
           7,
           6,
           6,
           8,
           3,
           4,
           3,
           1,
           10,
           10,
           7,
           4,
           2,
           1,
           1,
           1,
           0,
           6,
           5,
           1,
           8,
           2,
           1,
           0,
           7,
           5,
           9,
           7,
           10,
           4,
           10,
           8,
           6,
           10,
           8,
           8,
           2,
           10,
           2,
           1,
           3,
           4,
           7,
           5,
           6,
           5,
           1,
           0,
           8,
           6,
           2,
           6,
           1,
           10,
           1,
           8,
           6,
           1,
           1,
           8,
           6,
           6,
           9,
           2,
           1,
           10,
           4,
           10,
           2,
           2,
           6,
           2,
           3,
           2,
           1,
           1,
           5,
           6,
           5,
           1,
           5,
           5,
           4,
           6,
           9,
           4,
           4,
           5,
           10,
           6,
           6,
           6,
           10,
           4,
           2,
           8,
           2,
           10,
           2,
           2,
           2,
           5,
           10,
           7,
           7,
           2,
           2,
           2,
           4,
           2,
           1,
           6,
           5,
           4,
           1,
           4,
           2,
           8,
           9,
           0,
           2,
           9,
           7,
           8,
           2,
           4,
           4,
           6,
           2,
           4,
           8,
           9,
           3,
           9,
           2,
           1,
           5,
           7,
           2,
           3,
           8,
           5,
           1,
           2,
           8,
           8,
           0,
           4,
           10,
           4,
           8,
           2,
           10,
           9,
           0,
           9,
           2,
           1,
           10,
           4,
           2,
           10,
           8,
           7,
           2,
           6,
           2,
           4,
           6,
           7,
           2,
           8,
           2,
           9,
           1,
           10,
           5,
           2,
           8,
           2,
           8,
           1,
           2,
           2,
           5,
           10,
           7,
           2,
           8,
           6,
           10,
           8,
           8,
           9,
           5,
           5,
           8,
           8,
           10,
           5,
           2,
           6,
           8,
           7,
           9,
           4,
           4,
           4,
           9,
           4,
           3,
           2,
           5,
           4,
           4,
           5,
           4,
           4,
           4,
           4,
           4,
           4,
           4,
           2,
           2,
           4,
           2,
           4,
           10,
           4,
           0,
           3,
           1,
           1,
           3,
           8,
           5,
           4,
           0,
           10,
           9,
           10,
           1,
           0,
           7,
           7,
           3,
           5,
           1,
           8,
           9,
           0,
           1,
           4,
           4,
           10,
           5,
           9,
           8,
           10,
           10,
           3,
           8,
           7,
           7,
           6,
           7,
           5,
           5,
           4,
           8,
           10,
           3,
           0,
           4,
           9,
           1,
           9,
           3,
           1,
           3,
           1,
           0,
           4,
           4,
           5,
           3,
           2,
           4,
           9,
           6,
           2,
           5,
           4,
           0,
           2,
           8,
           1,
           6,
           6,
           6,
           2,
           1,
           2,
           1,
           9,
           4,
           4,
           3,
           10,
           1,
           1,
           10,
           9,
           10,
           2,
           9,
           9,
           4,
           5,
           9,
           3,
           4,
           6,
           5,
           7,
           4,
           8,
           8,
           2,
           5,
           9,
           1,
           8,
           1,
           8,
           4,
           10,
           1,
           0,
           10,
           2,
           7,
           10,
           2,
           2,
           8,
           8,
           4,
           1,
           2,
           4,
           3,
           5,
           3,
           8,
           1,
           1,
           5,
           10,
           1,
           4,
           5,
           5,
           8,
           6,
           5,
           4,
           10,
           10,
           1,
           1,
           6,
           6,
           6,
           2,
           0,
           2,
           4,
           2,
           2,
           4,
           4,
           9,
           8,
           2,
           5,
           2,
           4,
           4,
           3,
           1,
           1,
           5,
           4,
           1,
           4,
           6,
           4,
           5,
           4,
           10,
           3,
           10,
           4,
           1,
           6,
           6,
           1,
           2,
           9,
           10,
           5,
           1,
           9,
           2,
           0,
           9,
           6,
           6,
           4,
           2,
           4,
           2,
           3,
           1,
           4,
           3,
           6,
           2,
           8,
           6,
           0,
           10,
           7,
           0,
           9,
           1,
           6,
           4,
           10,
           6,
           0,
           2,
           5,
           6,
           5,
           4,
           2,
           1,
           7,
           6,
           3,
           5,
           1,
           9,
           4,
           5,
           1,
           7,
           9,
           5,
           8,
           8,
           6,
           1,
           1,
           7,
           2,
           6,
           2,
           10,
           8,
           4,
           4,
           4,
           4,
           4,
           9,
           6,
           5,
           7,
           6,
           4,
           5,
           5,
           9,
           9,
           8,
           5,
           6,
           2,
           7,
           4,
           1,
           6,
           4,
           6,
           2,
           4,
           4,
           3,
           2,
           2,
           4,
           2,
           8,
           9,
           6,
           10,
           5,
           3,
           4,
           1,
           2,
           5,
           2,
           10,
           3,
           10,
           9,
           2,
           1,
           1,
           6,
           4,
           10,
           8,
           1,
           0,
           6,
           4,
           2,
           1,
           3,
           5,
           8,
           3,
           6,
           0,
           0,
           3,
           8,
           8,
           3,
           6,
           6,
           8,
           2,
           7,
           1,
           2,
           10,
           5,
           6,
           2,
           3,
           3,
           0,
           1,
           2,
           1,
           4,
           5,
           2,
           6,
           7,
           5,
           10,
           4,
           5,
           2,
           3,
           4,
           1,
           2,
           5,
           4,
           4,
           9,
           10,
           8,
           1,
           6,
           0,
           2,
           6,
           2,
           9,
           6,
           9,
           9,
           4,
           3,
           4,
           7,
           6,
           4,
           5,
           10,
           7,
           7,
           0,
           3,
           4,
           1,
           10,
           4,
           5,
           8,
           4,
           8,
           0,
           2,
           6,
           10,
           9,
           4,
           6,
           9,
           10,
           1,
           6,
           0,
           5,
           5,
           6,
           4,
           5,
           8,
           2,
           1,
           2,
           7,
           2,
           4,
           8,
           4,
           5,
           4,
           8,
           5,
           1,
           1,
           10,
           3,
           5,
           1,
           1,
           2,
           8,
           3,
           0,
           0,
           8,
           1,
           4,
           4,
           7,
           6,
           10,
           3,
           0,
           0,
           8,
           9,
           9,
           4,
           1,
           1,
           2,
           2,
           8,
           5,
           6,
           6,
           9,
           2,
           4,
           10,
           5,
           5,
           1,
           9,
           8,
           7,
           1,
           0,
           4,
           6,
           8,
           4,
           0,
           0,
           1,
           8,
           4,
           2,
           6,
           1,
           6,
           8,
           1,
           0,
           1,
           6,
           8,
           4,
           5,
           6,
           6,
           5,
           7,
           6,
           10,
           7,
           2,
           4,
           4,
           10,
           6,
           4,
           6,
           10,
           10,
           1,
           10,
           8,
           2,
           0,
           3,
           7,
           1,
           8,
           1,
           4,
           1,
           9,
           1,
           1,
           2,
           6,
           5,
           3,
           10,
           2,
           4,
           5,
           6,
           6,
           7,
           8,
           10,
           9,
           0,
           2,
           2,
           1,
           10,
           2,
           1,
           2,
           1,
           2,
           8,
           8,
           6,
           8,
           10,
           10,
           3,
           2,
           2,
           1,
           10,
           4,
           10,
           3,
           5,
           2,
           1,
           6,
           7,
           7,
           4,
           7,
           4,
           6,
           5,
           3,
           6,
           7,
           1,
           9,
           8,
           4,
           7,
           5,
           4,
           1,
           2,
           7,
           7,
           6,
           4,
           2,
           7,
           9,
           9,
           5,
           6,
           4,
           3,
           1,
           10,
           2,
           2,
           1,
           1,
           1,
           4,
           2,
           5,
           1,
           1,
           8,
           1,
           1,
           1,
           4,
           4,
           6,
           4,
           4,
           6,
           8,
           2,
           2,
           8,
           6,
           6,
           10,
           5,
           3,
           4,
           4,
           1,
           4,
           5,
           5,
           0,
           5,
           5,
           3,
           1,
           6,
           8,
           5,
           2,
           10,
           9,
           6,
           4,
           2,
           2,
           8,
           2,
           1,
           2,
           5,
           0,
           5,
           1,
           0,
           1,
           4,
           1,
           1,
           2,
           9,
           4,
           5,
           4,
           10,
           4,
           1,
           6,
           9,
           9,
           10,
           4,
           6,
           4,
           1,
           9,
           2,
           8,
           10,
           8,
           0,
           4,
           4,
           10,
           7,
           9,
           9,
           8,
           6,
           1,
           3,
           8,
           8,
           2,
           7,
           10,
           4,
           3,
           2,
           5,
           3,
           5,
           2,
           3,
           5,
           6,
           2,
           0,
           0,
           5,
           2,
           1,
           0,
           8,
           9,
           6,
           4,
           0,
           10,
           7,
           0,
           1,
           10,
           2,
           7,
           8,
           2,
           6,
           5,
           10,
           2,
           7,
           10,
           4,
           1,
           3,
           3,
           9,
           9,
           5,
           8,
           2,
           9,
           9,
           6,
           2,
           2,
           10,
           10,
           10,
           2,
           10,
           10,
           6,
           0,
           4,
           4,
           10,
           7,
           5,
           8,
           8,
           8,
           6,
           0,
           6,
           2,
           5,
           10,
           2,
           4,
           8,
           9,
           1,
           7,
           5,
           8,
           10,
           10,
           1,
           9,
           4,
           8,
           6,
           6,
           6,
           10,
           6,
           10,
           9,
           6,
           0,
           2,
           5,
           6,
           3,
           8,
           9,
           7,
           1,
           1,
           8,
           2,
           7,
           3,
           3,
           4,
           6,
           8,
           10,
           5,
           3,
           4,
           5,
           0,
           8,
           0,
           1,
           8,
           4,
           4,
           6,
           4,
           3,
           3,
           10,
           7,
           3,
           9,
           4,
           1,
           3,
           3,
           4,
           0,
           6,
           9,
           10,
           1,
           8,
           10,
           6,
           0,
           1,
           6,
           5,
           5,
           4,
           1,
           6,
           10,
           10,
           5,
           7,
           1,
           4,
           8,
           5,
           7,
           7,
           9,
           5,
           3,
           8,
           0,
           6,
           8,
           9,
           6,
           10,
           5,
           10,
           4,
           5,
           2,
           8,
           9,
           9,
           3,
           3,
           4,
           8,
           8,
           3,
           5,
           5,
           8,
           10,
           6,
           0,
           6,
           6,
           6,
           9,
           3,
           7,
           2,
           2,
           7,
           9,
           0,
           0,
           4,
           0,
           0,
           0,
           1,
           8,
           2,
           9,
           1,
           9,
           1,
           9,
           4,
           7,
           10,
           5,
           6,
           0,
           5,
           7,
           6,
           2,
           0,
           7,
           8,
           4,
           0,
           5,
           6,
           10,
           4,
           8,
           5,
           4,
           8,
           6,
           1,
           9,
           5,
           6,
           1,
           1,
           6,
           0,
           10,
           3,
           3,
           1,
           2,
           9,
           4,
           1,
           8,
           7,
           7,
           4,
           2,
           0,
           0,
           0,
           4,
           7,
           5,
           7,
           4,
           3,
           4,
           4,
           5,
           3,
           8,
           10,
           5,
           0,
           0,
           0,
           10,
           1,
           7,
           8,
           2,
           2,
           9,
           8,
           4,
           7,
           5,
           6,
           4,
           0,
           1,
           5,
           8,
           0,
           8,
           6,
           5,
           7,
           4,
           2,
           10,
           0,
           9,
           7,
           4,
           10,
           5,
           7,
           6,
           9,
           0,
           6,
           0,
           9,
           3,
           2,
           10,
           10,
           6,
           0,
           9,
           3,
           1,
           1,
           0,
           4,
           6,
           8,
           4,
           8,
           7,
           7,
           6,
           5,
           1,
           1,
           1,
           2,
           4,
           5,
           0,
           1,
           0,
           8,
           3,
           4,
           4,
           2,
           6,
           5,
           0,
           0,
           0,
           0,
           0,
           9,
           2,
           0,
           2,
           2,
           0,
           1,
           1,
           8,
           1,
           3,
           1,
           4,
           5,
           6,
           9,
           8,
           7,
           8,
           2,
           5,
           1,
           5,
           5,
           9,
           8,
           9,
           7,
           1,
           4,
           4,
           5,
           8,
           6,
           1,
           3,
           7,
           5,
           1,
           8,
           3,
           8,
           9,
           9,
           5,
           7,
           9,
           5,
           1,
           10,
           10,
           5,
           1,
           1,
           1,
           4,
           6,
           10,
           2,
           1,
           1,
           4,
           9,
           8,
           1,
           10,
           5,
           8,
           0,
           6,
           3,
           5,
           4,
           3,
           4,
           2,
           3,
           5,
           6,
           1,
           4,
           10,
           7,
           3,
           9,
           6,
           6,
           5,
           2,
           7,
           4,
           10,
           4,
           8,
           2,
           6,
           6,
           7,
           7,
           6,
           6,
           10,
           7,
           5,
           5,
           3,
           5,
           5,
           7,
           10,
           2,
           10,
           0,
           3,
           1,
           8,
           5,
           1,
           0,
           0,
           9,
           2,
           1,
           6,
           6,
           7,
           0,
           9,
           0,
           7,
           8,
           7,
           4,
           2,
           10,
           1,
           6,
           1,
           5,
           4,
           4,
           6,
           3,
           7,
           1,
           8,
           0,
           0,
           0,
           0,
           7,
           10,
           0,
           8,
           9,
           1,
           4,
           1,
           4,
           9,
           9,
           4,
           4,
           4,
           0,
           5,
           5,
           5,
           4,
           8,
           7,
           2,
           8,
           0,
           7,
           5,
           0,
           0,
           3,
           5,
           8,
           10,
           8,
           3,
           1,
           2,
           3,
           7,
           8,
           3,
           7,
           7,
           7,
           7,
           4,
           10,
           6,
           8,
           4,
           9,
           4,
           2,
           6,
           8,
           7,
           5,
           8,
           6,
           5,
           0,
           0,
           1,
           0,
           0,
           0,
           5,
           10,
           1,
           9,
           1,
           5,
           6,
           5,
           3,
           8,
           9,
           0,
           4,
           1,
           5,
           1,
           1,
           9,
           5,
           8,
           0,
           0,
           2,
           7,
           2,
           5,
           5,
           6,
           6,
           0,
           9,
           5,
           1,
           1,
           7,
           8,
           0,
           10,
           0,
           2,
           1,
           4,
           8,
           10,
           3,
           4,
           0,
           0,
           0,
           7,
           8,
           5,
           5,
           1,
           7,
           2,
           9,
           5,
           6,
           4,
           10,
           5,
           5,
           2,
           4,
           2,
           9,
           0,
           5,
           0,
           5,
           0,
           5,
           4,
           5,
           9,
           5,
           1,
           6,
           0,
           0,
           7,
           0,
           7,
           1,
           9,
           8,
           0,
           8,
           4,
           6,
           6,
           8,
           0,
           7,
           0,
           2,
           5,
           8,
           5,
           3,
           5,
           2,
           1,
           0,
           0,
           0,
           0,
           0,
           9,
           0,
           9,
           10,
           0,
           4,
           8,
           0,
           10,
           0,
           0,
           6,
           6,
           8,
           0,
           3,
           7,
           2,
           8,
           0,
           7,
           6,
           5,
           9,
           4,
           6,
           6,
           0,
           0,
           1,
           0,
           7,
           5,
           4,
           0,
           8,
           6,
           5,
           10,
           6,
           8,
           7,
           6,
           4,
           5,
           7,
           6,
           8,
           5,
           1,
           8,
           7,
           10,
           1,
           3,
           8,
           5,
           1,
           1,
           4,
           0,
           7,
           9,
           7,
           1,
           0,
           7,
           10,
           5,
           7,
           2,
           10,
           8,
           5,
           9,
           10,
           4,
           9,
           5,
           6,
           10,
           7,
           9,
           7,
           8,
           4,
           4,
           9,
           2,
           2,
           3,
           2,
           9,
           8,
           6,
           0,
           7,
           4,
           4,
           1,
           5,
           7,
           7,
           4,
           5,
           3,
           10,
           9,
           9,
           3,
           7,
           10,
           6,
           5,
           5,
           8,
           3,
           9,
           10,
           2,
           8,
           3,
           7,
           1,
           3,
           8,
           9,
           5,
           5,
           2,
           1,
           2,
           0,
           10,
           4,
           9,
           1,
           4,
           8,
           5,
           5,
           6,
           7,
           6,
           4,
           8,
           7,
           8,
           6,
           5,
           8,
           5,
           3,
           5,
           5,
           2,
           8,
           9,
           9,
           8,
           5,
           7,
           6,
           1,
           0,
           4,
           10,
           7,
           6,
           2,
           10,
           9,
           3,
           5,
           8,
           6,
           2,
           4,
           1,
           4,
           3,
           2,
           7,
           7,
           1,
           4,
           7,
           6,
           0,
           7,
           6,
           7,
           7,
           6,
           1,
           5,
           0,
           6,
           5,
           4,
           7,
           4,
           8,
           9,
           10,
           0,
           1,
           1,
           2,
           0,
           9,
           1,
           1,
           2,
           0,
           4,
           6,
           6,
           9,
           6,
           2,
           2,
           5,
           5,
           1,
           0,
           6,
           10,
           4,
           5,
           0,
           10,
           5,
           4,
           3,
           3,
           5,
           2,
           2,
           5,
           10,
           1,
           2,
           9,
           5,
           2,
           1,
           6,
           9,
           0,
           7,
           2,
           5,
           6,
           7,
           8,
           5,
           7,
           10,
           9,
           7,
           5,
           10,
           9,
           0,
           9,
           3,
           7,
           9,
           4,
           4,
           10,
           9,
           9,
           4,
           3,
           9,
           6,
           9,
           6,
           0,
           6,
           9,
           4,
           6,
           4,
           7,
           7,
           0,
           4,
           10,
           10,
           10,
           9,
           8,
           4,
           7,
           1,
           7,
           9,
           4,
           8,
           4,
           9,
           6,
           9,
           0,
           1,
           5,
           6,
           6,
           9,
           8,
           3,
           3,
           3,
           7,
           6,
           7,
           9,
           3,
           7,
           7,
           7,
           7,
           4,
           6,
           5,
           9,
           8,
           7,
           7,
           4,
           1,
           10,
           2,
           7,
           7,
           0,
           7,
           9,
           1,
           6,
           9,
           0,
           7,
           5,
           5,
           4,
           9,
           9,
           9,
           7,
           1,
           2,
           2,
           2,
           0,
           0,
           1,
           0,
           0,
           9,
           10,
           0,
           4,
           5,
           3,
           9,
           0,
           4,
           7,
           4,
           2,
           4,
           1,
           5,
           3,
           6,
           8,
           0,
           5,
           10,
           8,
           10,
           5,
           9,
           2,
           2,
           7,
           7,
           2,
           5,
           5,
           10,
           7,
           0,
           0,
           1,
           10,
           2,
           7,
           0,
           7,
           5,
           1,
           2,
           2,
           1,
           9,
           3,
           0,
           10,
           0,
           0,
           9,
           7,
           6,
           7,
           1,
           10,
           4,
           9,
           10,
           7,
           1,
           10,
           0,
           5,
           5,
           10,
           7,
           8,
           9,
           7,
           1,
           7,
           9,
           8,
           1,
           5,
           2,
           7,
           9,
           7,
           9,
           0,
           6,
           0,
           9,
           6,
           8,
           10,
           9,
           5,
           1,
           0,
           7,
           6,
           1,
           6,
           7,
           2,
           4,
           8,
           6,
           2,
           0,
           0,
           8,
           2,
           10,
           4,
           0,
           5,
           6,
           9,
           7,
           6,
           8,
           1,
           6,
           10,
           4,
           5,
           4,
           3,
           9,
           9,
           4,
           8,
           9,
           3,
           7,
           4,
           4,
           1,
           0,
           5,
           8,
           1,
           8,
           1,
           1,
           1,
           7,
           7,
           5,
           9,
           7,
           2,
           1,
           9,
           7,
           4,
           0,
           6,
           6,
           4,
           10,
           1,
           1,
           8,
           8,
           9,
           5,
           8,
           0,
           7,
           6,
           7,
           0,
           8,
           4,
           7,
           0,
           8,
           7,
           7,
           6,
           4,
           7,
           1,
           9,
           7,
           10,
           0,
           4,
           8,
           9,
           0,
           7,
           6,
           6,
           4,
           7,
           6,
           7,
           4,
           4,
           5,
           5,
           2,
           6,
           6,
           4,
           4,
           0,
           1,
           0,
           7,
           7,
           9,
           4,
           0,
           8,
           7,
           8,
           10,
           9,
           3,
           9,
           7,
           4,
           1,
           9,
           9,
           8,
           10,
           1,
           1,
           2,
           8,
           7,
           9,
           4,
           10,
           5,
           7,
           5,
           0,
           9,
           7,
           8,
           5,
           10,
           0,
           9,
           0,
           8,
           2,
           9,
           10,
           4,
           0,
           2,
           0,
           6,
           6,
           6,
           7,
           4,
           5,
           10,
           9,
           1,
           7,
           2,
           0,
           7,
           7,
           7,
           7,
           9,
           7,
           9,
           7,
           0,
           1,
           0,
           6,
           5,
           0,
           6,
           5,
           1,
           5,
           6,
           10,
           7,
           7,
           0
          ],
          "coloraxis": "coloraxis",
          "symbol": "circle"
         },
         "mode": "markers",
         "name": "",
         "showlegend": false,
         "type": "scattergl",
         "x": [
          -8.54538345336914,
          -19.601537704467773,
          -15.759063720703125,
          10.470191955566406,
          56.49492645263672,
          6.546750545501709,
          -12.355222702026367,
          -0.4627653956413269,
          -6.2768096923828125,
          -36.23768997192383,
          -2.2675487995147705,
          -37.086402893066406,
          -8.47761344909668,
          25.080989837646484,
          -6.024359703063965,
          19.053485870361328,
          26.103208541870117,
          -12.068016052246094,
          -25.13417625427246,
          -38.93412780761719,
          -1.7209513187408447,
          -14.491063117980957,
          -17.1950740814209,
          1.8394982814788818,
          -15.747230529785156,
          -32.8000602722168,
          -1.2978568077087402,
          -1.9077821969985962,
          -16.410873413085938,
          -30.679889678955078,
          16.24217987060547,
          17.03067970275879,
          2.2479681968688965,
          -27.459735870361328,
          12.125641822814941,
          -52.375892639160156,
          -8.00223159790039,
          -35.85325622558594,
          -38.23042297363281,
          20.834510803222656,
          48.59837341308594,
          -48.032352447509766,
          -18.805614471435547,
          -34.93576431274414,
          -7.478036403656006,
          -18.685728073120117,
          -27.46012306213379,
          32.50122833251953,
          12.099457740783691,
          10.383852005004883,
          -19.014860153198242,
          0.15559236705303192,
          -0.20621229708194733,
          -15.893988609313965,
          30.63588523864746,
          19.559345245361328,
          3.748465061187744,
          -24.99178123474121,
          16.068937301635742,
          30.0090274810791,
          -30.677871704101562,
          -35.7596435546875,
          -0.1400437206029892,
          -23.15822410583496,
          34.59823989868164,
          19.31494140625,
          29.34064292907715,
          10.47668743133545,
          -19.308305740356445,
          -33.33456802368164,
          20.793590545654297,
          1.6520609855651855,
          14.60171890258789,
          -33.48179626464844,
          3.4291234016418457,
          -8.328665733337402,
          -26.424057006835938,
          -20.64398956298828,
          -44.916568756103516,
          29.096025466918945,
          -20.574865341186523,
          38.24233627319336,
          -26.816951751708984,
          30.513423919677734,
          -31.529325485229492,
          -31.52271842956543,
          -1.7056400775909424,
          -6.093413829803467,
          21.592008590698242,
          44.341270446777344,
          9.82317066192627,
          31.015697479248047,
          -21.67299461364746,
          -45.99824905395508,
          -33.48008728027344,
          -15.556427955627441,
          13.961236000061035,
          36.000423431396484,
          -1.2375478744506836,
          -31.508529663085938,
          -26.86147117614746,
          -28.07371711730957,
          -4.204434871673584,
          4.5755181312561035,
          -9.30148696899414,
          -31.48472023010254,
          34.41678237915039,
          -38.251956939697266,
          5.915432453155518,
          -5.37148380279541,
          -20.0933895111084,
          -24.68930435180664,
          -42.79666519165039,
          26.00503921508789,
          -0.7982460260391235,
          -17.745391845703125,
          -14.588991165161133,
          -15.05823802947998,
          13.733415603637695,
          12.191784858703613,
          -3.306318521499634,
          39.19151306152344,
          -14.521745681762695,
          -30.830059051513672,
          -16.529098510742188,
          -15.105469703674316,
          -24.80194854736328,
          -24.24372100830078,
          8.983428955078125,
          -4.009156703948975,
          -15.742409706115723,
          21.234498977661133,
          -48.1419792175293,
          -45.73587417602539,
          -20.4727840423584,
          3.5165560245513916,
          12.183592796325684,
          -48.020442962646484,
          -14.344154357910156,
          1.3579130172729492,
          28.707612991333008,
          -8.9804105758667,
          12.356973648071289,
          35.17450714111328,
          17.52506446838379,
          9.25277042388916,
          -28.268733978271484,
          -0.9674883484840393,
          -5.230312824249268,
          -8.904322624206543,
          -18.677244186401367,
          -45.37809753417969,
          -5.459198474884033,
          -19.307571411132812,
          -5.14382266998291,
          -14.871206283569336,
          -11.58849811553955,
          7.10837459564209,
          -38.725318908691406,
          -15.002172470092773,
          -12.227617263793945,
          -30.677135467529297,
          -16.772113800048828,
          -38.11452102661133,
          -10.410924911499023,
          -20.574989318847656,
          -19.553176879882812,
          -47.313819885253906,
          19.61634063720703,
          -1.0458089113235474,
          5.122425079345703,
          5.122432708740234,
          5.122537612915039,
          12.890767097473145,
          -1.8255664110183716,
          -48.21175765991211,
          -48.11777877807617,
          3.6736838817596436,
          7.920544147491455,
          -33.06111145019531,
          -33.51530075073242,
          -14.761754035949707,
          -14.459066390991211,
          18.10869789123535,
          -33.98030471801758,
          -16.19081687927246,
          -16.44965171813965,
          -4.2946343421936035,
          15.858498573303223,
          21.230241775512695,
          -44.41030502319336,
          -29.090328216552734,
          -38.0457763671875,
          -30.372638702392578,
          -16.938425064086914,
          -16.00316619873047,
          -47.69750213623047,
          -44.65639877319336,
          33.25920867919922,
          -38.771785736083984,
          -14.000017166137695,
          1.652108907699585,
          -34.839664459228516,
          15.766626358032227,
          -2.2961947917938232,
          -14.396918296813965,
          -14.71250057220459,
          -1.820799469947815,
          5.122515678405762,
          -9.976716041564941,
          15.609221458435059,
          -22.172147750854492,
          -41.484920501708984,
          24.67485237121582,
          -6.05558967590332,
          5.893845081329346,
          -21.80727767944336,
          20.784954071044922,
          -46.15465545654297,
          26.914024353027344,
          -17.8067569732666,
          22.56084632873535,
          -16.41070556640625,
          -27.313066482543945,
          21.23397445678711,
          34.414207458496094,
          14.784831047058105,
          2.364565134048462,
          25.08383560180664,
          -11.710288047790527,
          -52.24307632446289,
          -33.198463439941406,
          40.67686080932617,
          18.324655532836914,
          -6.090632438659668,
          -13.707701683044434,
          4.575321197509766,
          0.4378678500652313,
          29.756505966186523,
          21.23149299621582,
          38.362606048583984,
          -16.535490036010742,
          -2.716902017593384,
          25.12938690185547,
          11.506827354431152,
          13.774214744567871,
          18.14358139038086,
          -2.578876256942749,
          24.48857879638672,
          -27.46088218688965,
          -6.752682209014893,
          21.59227180480957,
          20.784786224365234,
          -27.459623336791992,
          -43.97075271606445,
          35.28177261352539,
          7.458429336547852,
          -33.23836898803711,
          1.5028597116470337,
          -14.765495300292969,
          2.634429693222046,
          -6.0928544998168945,
          -1.652895450592041,
          30.416234970092773,
          26.914628982543945,
          -42.38451385498047,
          15.38283634185791,
          -1.0763978958129883,
          -8.245166778564453,
          -0.9463772773742676,
          5.9775261878967285,
          -45.26532745361328,
          17.3209285736084,
          -20.300981521606445,
          -12.229009628295898,
          -12.20368766784668,
          11.289088249206543,
          -34.17863464355469,
          -48.297088623046875,
          19.904083251953125,
          21.4467830657959,
          -26.828004837036133,
          -29.083484649658203,
          8.09635066986084,
          32.36842727661133,
          -11.462372779846191,
          -9.15567398071289,
          22.54258155822754,
          -12.341036796569824,
          -6.510254859924316,
          7.329185485839844,
          10.265904426574707,
          7.9540114402771,
          -14.121315956115723,
          29.183866500854492,
          13.774433135986328,
          21.186439514160156,
          5.999080181121826,
          -20.301027297973633,
          22.691265106201172,
          0.095276840031147,
          -17.57538414001465,
          -12.123373031616211,
          6.7578511238098145,
          -41.89264678955078,
          23.11094856262207,
          -2.0651543140411377,
          16.332185745239258,
          27.901535034179688,
          16.189369201660156,
          -20.995834350585938,
          8.223847389221191,
          29.776714324951172,
          20.073026657104492,
          11.0096435546875,
          -30.681184768676758,
          20.266759872436523,
          -10.327075004577637,
          12.258261680603027,
          29.776721954345703,
          8.13078498840332,
          -1.2043077945709229,
          5.923562049865723,
          25.032127380371094,
          -48.648067474365234,
          -2.2287700176239014,
          -8.456976890563965,
          -0.4989605247974396,
          21.225866317749023,
          -48.662261962890625,
          -12.398040771484375,
          -20.487411499023438,
          -10.047008514404297,
          -2.829594850540161,
          -20.093219757080078,
          12.12497329711914,
          5.597573280334473,
          -5.179651737213135,
          23.09674072265625,
          -11.079879760742188,
          25.84107208251953,
          20.168758392333984,
          14.172228813171387,
          33.113372802734375,
          24.40348243713379,
          16.409948348999023,
          30.733718872070312,
          30.73395538330078,
          18.664453506469727,
          30.733924865722656,
          13.675905227661133,
          27.389205932617188,
          14.165952682495117,
          9.324324607849121,
          4.984286785125732,
          23.001888275146484,
          -1.821091651916504,
          -34.74043655395508,
          18.109268188476562,
          11.021656036376953,
          17.575897216796875,
          6.587884426116943,
          -45.37823486328125,
          -17.491819381713867,
          -14.871170997619629,
          8.078927993774414,
          7.458276748657227,
          -14.153656005859375,
          14.55413818359375,
          -16.67035484313965,
          13.229867935180664,
          -0.04736684635281563,
          -19.46581268310547,
          12.074413299560547,
          -8.45726490020752,
          33.47550582885742,
          20.794540405273438,
          10.40115737915039,
          34.69780731201172,
          27.23167610168457,
          19.4390811920166,
          25.12952995300293,
          -16.0863037109375,
          35.27931213378906,
          -26.80499839782715,
          18.974044799804688,
          11.74897289276123,
          0.9722467064857483,
          27.905344009399414,
          29.40339469909668,
          -48.32481002807617,
          -6.668990135192871,
          23.535524368286133,
          6.530648708343506,
          -39.896156311035156,
          20.571067810058594,
          18.40433692932129,
          -16.06221580505371,
          -28.074050903320312,
          -21.91124725341797,
          27.7108097076416,
          6.531641960144043,
          -25.434524536132812,
          -14.247771263122559,
          -35.396121978759766,
          16.856950759887695,
          26.6555118560791,
          12.125834465026855,
          -0.9631294012069702,
          48.85886001586914,
          -48.4752311706543,
          19.739013671875,
          31.242931365966797,
          -15.503196716308594,
          -10.827531814575195,
          -0.15482455492019653,
          -16.439210891723633,
          -10.595128059387207,
          -4.635658264160156,
          22.667030334472656,
          22.155771255493164,
          2.138746500015259,
          -3.5059475898742676,
          3.5854766368865967,
          23.783201217651367,
          -21.806987762451172,
          22.824369430541992,
          -48.93141555786133,
          32.62386703491211,
          21.550048828125,
          29.402856826782227,
          -8.545412063598633,
          19.789716720581055,
          -37.7103157043457,
          -4.635239601135254,
          -5.675974369049072,
          -37.763427734375,
          -13.650432586669922,
          -9.897977828979492,
          -21.690155029296875,
          60.31914138793945,
          -14.124314308166504,
          -4.25978422164917,
          12.28580093383789,
          -1.0395315885543823,
          24.723968505859375,
          34.48029327392578,
          14.894770622253418,
          25.37031364440918,
          -11.29587173461914,
          14.17280387878418,
          -1.3810431957244873,
          -0.8073301315307617,
          8.006958961486816,
          18.109516143798828,
          15.923779487609863,
          34.542640686035156,
          30.437482833862305,
          -48.23253631591797,
          38.39779281616211,
          -0.2827625870704651,
          -13.729104042053223,
          31.393569946289062,
          6.531890869140625,
          -42.446022033691406,
          31.54134178161621,
          4.454225540161133,
          20.166854858398438,
          -14.24019718170166,
          0.13180071115493774,
          24.714155197143555,
          34.55674743652344,
          32.36856460571289,
          -22.393075942993164,
          -27.971782684326172,
          3.517143487930298,
          -14.612964630126953,
          -37.64291763305664,
          11.726062774658203,
          -19.604507446289062,
          -33.62731170654297,
          2.876476526260376,
          -33.34146499633789,
          27.231342315673828,
          -41.799617767333984,
          14.33342456817627,
          -35.59205627441406,
          16.40972900390625,
          18.616600036621094,
          24.599145889282227,
          -33.105892181396484,
          -44.6556510925293,
          7.961799621582031,
          24.779064178466797,
          -21.681175231933594,
          -1.2379364967346191,
          -22.937965393066406,
          -10.019025802612305,
          -31.419111251831055,
          -16.604440689086914,
          -14.66396713256836,
          -42.50181579589844,
          -30.854896545410156,
          12.258405685424805,
          6.37161111831665,
          -10.409401893615723,
          -11.645416259765625,
          0.12125983834266663,
          -41.868900299072266,
          20.42120933532715,
          -0.3723800480365753,
          13.774823188781738,
          -4.5794453620910645,
          2.8571579456329346,
          -5.168262004852295,
          10.233906745910645,
          -39.913482666015625,
          -3.506101608276367,
          -28.291383743286133,
          -5.022802829742432,
          4.978684902191162,
          -21.807416915893555,
          21.622488021850586,
          28.15182113647461,
          3.6750478744506836,
          2.469667673110962,
          13.638126373291016,
          14.173150062561035,
          -39.89599609375,
          -35.21290588378906,
          17.77047348022461,
          -11.29590892791748,
          -5.44589900970459,
          18.36541748046875,
          2.8404648303985596,
          4.0605621337890625,
          -14.513016700744629,
          37.53401565551758,
          -37.08747863769531,
          -26.03128433227539,
          17.92801856994629,
          6.744440078735352,
          -42.27922439575195,
          -10.673179626464844,
          28.77713966369629,
          24.136754989624023,
          -35.15309524536133,
          -45.83914566040039,
          12.356958389282227,
          -48.4151611328125,
          2.87444806098938,
          7.5637288093566895,
          6.5373663902282715,
          -13.051066398620605,
          11.788450241088867,
          -1.3142218589782715,
          -6.510683536529541,
          -9.302955627441406,
          -15.18565559387207,
          39.234092712402344,
          23.003206253051758,
          -38.23324966430664,
          3.3179991245269775,
          -40.7524528503418,
          -10.409224510192871,
          1.3371070623397827,
          60.305538177490234,
          -11.64104175567627,
          -15.078791618347168,
          20.983131408691406,
          -6.742599964141846,
          4.0078654289245605,
          33.237125396728516,
          18.078824996948242,
          -26.204477310180664,
          24.81473731994629,
          1.1154029369354248,
          -27.091402053833008,
          -18.316450119018555,
          -15.339076042175293,
          10.938244819641113,
          -0.9483683705329895,
          -0.4360184967517853,
          -41.330013275146484,
          7.834655284881592,
          -12.989913940429688,
          -18.335237503051758,
          15.11526870727539,
          -33.030094146728516,
          -15.18089485168457,
          39.02983856201172,
          -27.545551300048828,
          27.433629989624023,
          -24.0953369140625,
          25.01178550720215,
          3.3183183670043945,
          1.900017499923706,
          -0.9524314403533936,
          -35.88888931274414,
          18.144058227539062,
          -1.260191559791565,
          -14.581794738769531,
          -30.67934799194336,
          21.439498901367188,
          30.372915267944336,
          24.256540298461914,
          -13.707462310791016,
          -15.75926399230957,
          10.320898056030273,
          23.586278915405273,
          13.135507583618164,
          -16.201492309570312,
          -23.113521575927734,
          10.924173355102539,
          1.6718871593475342,
          -48.38103485107422,
          6.371748447418213,
          -16.564434051513672,
          -2.831066846847534,
          -38.391971588134766,
          22.642276763916016,
          -27.461034774780273,
          -2.4597246646881104,
          -16.44110870361328,
          -16.834739685058594,
          25.088865280151367,
          26.659549713134766,
          29.071016311645508,
          20.66636848449707,
          20.518470764160156,
          -33.33396530151367,
          1.5395478010177612,
          19.73841667175293,
          20.83438491821289,
          17.9284610748291,
          6.40330696105957,
          12.100716590881348,
          -23.568401336669922,
          -20.42601203918457,
          -8.700289726257324,
          12.889010429382324,
          -6.277120113372803,
          -14.815664291381836,
          -13.599475860595703,
          -20.48880386352539,
          5.106022357940674,
          -1.8421146869659424,
          -13.026301383972168,
          -12.341496467590332,
          -21.807292938232422,
          -23.223859786987305,
          24.555986404418945,
          -0.8031133413314819,
          3.3191046714782715,
          26.144765853881836,
          -31.378568649291992,
          13.017404556274414,
          -19.636018753051758,
          25.08759117126465,
          -0.8013849258422852,
          -37.452537536621094,
          34.569496154785156,
          60.917823791503906,
          -15.750433921813965,
          27.664384841918945,
          -13.060501098632812,
          -41.8690071105957,
          -14.500872611999512,
          25.098983764648438,
          19.053749084472656,
          30.735139846801758,
          -10.404088973999023,
          18.99026107788086,
          -33.2380256652832,
          31.603803634643555,
          -48.09521484375,
          17.768972396850586,
          -23.295583724975586,
          -15.304516792297363,
          -17.60165023803711,
          -0.28469786047935486,
          -20.575380325317383,
          -37.08696365356445,
          -21.68091583251953,
          -24.060216903686523,
          -18.74173927307129,
          -23.533504486083984,
          -26.82722282409668,
          -24.0071964263916,
          39.20991134643555,
          23.097078323364258,
          8.192668914794922,
          27.388813018798828,
          -27.090734481811523,
          -6.002934455871582,
          4.861695289611816,
          33.52733612060547,
          38.88334274291992,
          27.664663314819336,
          -5.927588939666748,
          -4.8600687980651855,
          3.94875168800354,
          15.60966682434082,
          -10.82715129852295,
          10.258716583251953,
          -42.463470458984375,
          -12.24198055267334,
          -24.635009765625,
          31.124292373657227,
          -5.619596481323242,
          10.490586280822754,
          31.12409210205078,
          3.42685866355896,
          -15.36098575592041,
          -32.831085205078125,
          -23.13669204711914,
          14.285163879394531,
          -5.485471248626709,
          8.261711120605469,
          -27.461318969726562,
          -1.820885181427002,
          -35.76930618286133,
          -23.582782745361328,
          -33.24080276489258,
          -7.3573760986328125,
          -24.63503074645996,
          -12.106304168701172,
          -16.85433006286621,
          7.330711364746094,
          -12.307809829711914,
          -7.496326923370361,
          -35.786415100097656,
          13.877497673034668,
          16.243247985839844,
          -21.680997848510742,
          -31.20890235900879,
          34.42759704589844,
          -27.25296974182129,
          -26.754514694213867,
          -30.990713119506836,
          -26.827945709228516,
          10.645376205444336,
          -31.536739349365234,
          -21.807453155517578,
          29.40437126159668,
          -30.31141471862793,
          -18.520366668701172,
          21.002830505371094,
          21.186824798583984,
          21.692434310913086,
          22.067716598510742,
          14.659650802612305,
          32.62205123901367,
          -44.47950744628906,
          -23.13286018371582,
          -26.072715759277344,
          17.1573543548584,
          20.073347091674805,
          -11.718021392822266,
          27.537151336669922,
          25.32613754272461,
          15.313305854797363,
          21.18889808654785,
          21.18927764892578,
          21.185216903686523,
          33.3944206237793,
          6.371037006378174,
          6.371274948120117,
          35.76499557495117,
          -20.574474334716797,
          25.240955352783203,
          6.375612735748291,
          32.62348175048828,
          38.553489685058594,
          -49.009395599365234,
          -22.38174057006836,
          -1.3564311265945435,
          -35.76057815551758,
          -32.81645965576172,
          -31.37885093688965,
          17.369823455810547,
          39.24488067626953,
          10.61164379119873,
          21.622461318969727,
          11.428446769714355,
          4.995347499847412,
          49.62504196166992,
          1.2794822454452515,
          -1.7111217975616455,
          -49.17155838012695,
          -26.64655113220215,
          -10.834495544433594,
          -25.61598777770996,
          35.9981689453125,
          56.394996643066406,
          6.975074291229248,
          32.6242790222168,
          25.1862735748291,
          5.878274917602539,
          -33.79715347290039,
          17.86823844909668,
          -44.91729736328125,
          -3.7587854862213135,
          -4.225861549377441,
          -43.610260009765625,
          -40.56755065917969,
          2.2242777347564697,
          -1.8412145376205444,
          23.002044677734375,
          1.6660341024398804,
          -25.1645565032959,
          -26.75607681274414,
          17.1809024810791,
          -31.043493270874023,
          12.63763427734375,
          -49.05233383178711,
          60.09333801269531,
          25.285791397094727,
          33.26069641113281,
          -4.718897819519043,
          35.074249267578125,
          -45.37786865234375,
          -21.663461685180664,
          -48.03874206542969,
          2.566223382949829,
          59.51702880859375,
          35.343505859375,
          15.610432624816895,
          -10.784582138061523,
          -48.7357063293457,
          -1.3598442077636719,
          10.209247589111328,
          24.35025405883789,
          22.65448760986328,
          -23.211841583251953,
          -31.546287536621094,
          22.668790817260742,
          45.51897048950195,
          -10.047002792358398,
          -18.931598663330078,
          -18.805957794189453,
          28.826444625854492,
          26.72735595703125,
          23.000715255737305,
          -3.738770008087158,
          -1.7058261632919312,
          -23.401044845581055,
          -7.922520637512207,
          35.07221603393555,
          27.537586212158203,
          13.722750663757324,
          -46.788516998291016,
          12.192030906677246,
          -1.595173954963684,
          -4.458638668060303,
          4.008242130279541,
          31.422725677490234,
          -3.1357011795043945,
          1.1282039880752563,
          24.25788116455078,
          29.60869789123535,
          12.277974128723145,
          -21.465423583984375,
          19.882810592651367,
          -45.73613739013672,
          29.34295082092285,
          20.691303253173828,
          -27.81785774230957,
          0.29421016573905945,
          20.515636444091797,
          -41.04301071166992,
          -35.86470413208008,
          -9.070575714111328,
          -15.747293472290039,
          34.503082275390625,
          -5.443050861358643,
          -23.954103469848633,
          -15.801607131958008,
          -44.917057037353516,
          34.29304122924805,
          15.258463859558105,
          -6.934829235076904,
          39.82901382446289,
          10.613077163696289,
          -6.279383659362793,
          -12.494490623474121,
          -8.086234092712402,
          -23.248661041259766,
          -15.339423179626465,
          -38.172359466552734,
          -26.82619857788086,
          14.527652740478516,
          -4.959624767303467,
          -1.7896132469177246,
          23.071998596191406,
          -45.73661422729492,
          -16.6830997467041,
          -48.11931228637695,
          -38.66822814941406,
          2.952648639678955,
          -4.812066555023193,
          -34.07206726074219,
          6.375425338745117,
          6.086169242858887,
          29.346046447753906,
          -28.292177200317383,
          -26.837488174438477,
          -44.91984939575195,
          20.378162384033203,
          -16.756723403930664,
          28.338253021240234,
          12.471455574035645,
          9.494607925415039,
          -21.459732055664062,
          -1.5312554836273193,
          29.218427658081055,
          24.115476608276367,
          23.00187873840332,
          4.486980438232422,
          39.0887451171875,
          -23.137849807739258,
          29.017683029174805,
          -7.486259937286377,
          -14.868515968322754,
          10.26613712310791,
          25.112592697143555,
          34.79810333251953,
          -26.820301055908203,
          -10.447196006774902,
          -32.23545455932617,
          -6.280608177185059,
          37.343814849853516,
          10.264822006225586,
          -46.78852844238281,
          -15.167801856994629,
          -4.358954429626465,
          -26.137670516967773,
          28.26934051513672,
          1.3106207847595215,
          34.030452728271484,
          12.357671737670898,
          25.721839904785156,
          -25.41188621520996,
          23.7828369140625,
          5.599850654602051,
          -45.474544525146484,
          12.474562644958496,
          28.544599533081055,
          0.9010999798774719,
          6.379974365234375,
          35.32910919189453,
          3.584843635559082,
          -1.148505449295044,
          21.995779037475586,
          9.180821418762207,
          -22.8626708984375,
          -12.759696960449219,
          20.801362991333008,
          -10.410751342773438,
          55.13337707519531,
          33.36123275756836,
          12.358195304870605,
          29.765256881713867,
          28.54584312438965,
          1.2731409072875977,
          25.183496475219727,
          -12.13977336883545,
          -48.80088806152344,
          0.2933439016342163,
          21.066789627075195,
          -48.5742073059082,
          6.514324188232422,
          -23.607053756713867,
          -45.8243293762207,
          22.99798583984375,
          38.587852478027344,
          5.778627872467041,
          -1.8376154899597168,
          59.487464904785156,
          29.581518173217773,
          -0.228277787566185,
          29.217731475830078,
          25.414783477783203,
          10.779449462890625,
          29.784494400024414,
          40.86615753173828,
          -12.106254577636719,
          -30.99508285522461,
          36.96255874633789,
          -31.540760040283203,
          10.954132080078125,
          -10.4055757522583,
          -4.522152423858643,
          -11.462326049804688,
          7.793764114379883,
          -46.15489959716797,
          -15.981779098510742,
          -14.757807731628418,
          35.07353591918945,
          25.255657196044922,
          -21.46575927734375,
          -3.7483677864074707,
          -13.49930191040039,
          20.64592742919922,
          -17.051244735717773,
          -25.225435256958008,
          -30.803592681884766,
          26.657068252563477,
          2.7895748615264893,
          -2.8011891841888428,
          -5.722934722900391,
          -16.90843391418457,
          27.350479125976562,
          -11.667078018188477,
          12.647198677062988,
          -30.917707443237305,
          31.11066246032715,
          32.62545394897461,
          32.62679672241211,
          32.6265754699707,
          26.03923988342285,
          24.257911682128906,
          19.985782623291016,
          -15.982175827026367,
          -10.285600662231445,
          12.125792503356934,
          36.49357223510742,
          -35.897525787353516,
          -36.99576950073242,
          29.681230545043945,
          21.68342399597168,
          -38.8447265625,
          -26.086856842041016,
          9.976486206054688,
          -5.839242935180664,
          -11.202055931091309,
          28.677854537963867,
          -4.2478790283203125,
          24.488054275512695,
          18.99026107788086,
          10.580233573913574,
          -11.564499855041504,
          23.111116409301758,
          25.242584228515625,
          -48.76364517211914,
          -13.92864990234375,
          -15.341351509094238,
          21.18761444091797,
          -5.731723308563232,
          -33.4735221862793,
          27.656898498535156,
          19.260358810424805,
          4.575735092163086,
          -17.378353118896484,
          -49.017086029052734,
          35.202693939208984,
          -4.878813743591309,
          -12.947757720947266,
          -16.654926300048828,
          -14.868890762329102,
          -4.991427421569824,
          -48.999778747558594,
          3.513911485671997,
          35.07276153564453,
          -24.70320701599121,
          -1.7063039541244507,
          -5.725340843200684,
          20.693143844604492,
          13.346961975097656,
          -7.476724147796631,
          -35.6307487487793,
          -15.020756721496582,
          38.88999557495117,
          11.28802490234375,
          23.112773895263672,
          -13.711459159851074,
          2.1054940223693848,
          -48.47589111328125,
          -25.918231964111328,
          -40.45951843261719,
          -49.46565628051758,
          12.357043266296387,
          55.11232376098633,
          55.11941146850586,
          -43.91289138793945,
          -27.085750579833984,
          -31.165851593017578,
          -45.90378189086914,
          31.069717407226562,
          22.607059478759766,
          -35.80048370361328,
          -7.915590763092041,
          -1.8427411317825317,
          -0.6592788696289062,
          -5.3616766929626465,
          -2.9587903022766113,
          -25.926074981689453,
          8.025052070617676,
          -1.3623273372650146,
          -41.89189529418945,
          -44.6549072265625,
          39.77370834350586,
          1.3101677894592285,
          1.6504641771316528,
          4.995291709899902,
          24.55335235595703,
          -17.492938995361328,
          -5.495180606842041,
          20.833948135375977,
          -13.39637279510498,
          -32.679168701171875,
          5.239964008331299,
          32.501285552978516,
          -24.90981674194336,
          -23.873565673828125,
          -48.188514709472656,
          26.0079402923584,
          -1.7071309089660645,
          -19.78913688659668,
          -21.920225143432617,
          33.49935531616211,
          20.64950942993164,
          14.773187637329102,
          18.07940101623535,
          -25.61591148376465,
          -13.949738502502441,
          25.477903366088867,
          44.3275260925293,
          -0.3611542880535126,
          23.857772827148438,
          -15.34025764465332,
          34.85134506225586,
          13.676209449768066,
          32.959129333496094,
          33.11415481567383,
          30.92432403564453,
          -45.8553581237793,
          11.4521484375,
          -12.567948341369629,
          20.695566177368164,
          10.266109466552734,
          -31.55276870727539,
          2.894556999206543,
          -12.383111953735352,
          -10.849472045898438,
          44.47125244140625,
          -52.7619514465332,
          25.84616470336914,
          -2.241112232208252,
          14.579103469848633,
          30.696056365966797,
          -18.520280838012695,
          -27.230222702026367,
          13.900520324707031,
          -44.91782760620117,
          35.29317092895508,
          0.5626681447029114,
          29.41407585144043,
          -4.633277416229248,
          27.22385025024414,
          20.409008026123047,
          7.1865925788879395,
          35.07310104370117,
          12.883248329162598,
          -5.251471996307373,
          26.918399810791016,
          63.86699295043945,
          -20.344776153564453,
          -20.491361618041992,
          20.69098472595215,
          18.794553756713867,
          -11.400673866271973,
          -27.09034538269043,
          -6.984513282775879,
          0.026534952223300934,
          -7.383039474487305,
          -10.345345497131348,
          -14.905411720275879,
          32.68381881713867,
          -44.918548583984375,
          33.017723083496094,
          -18.930248260498047,
          21.182344436645508,
          -23.881593704223633,
          -31.322935104370117,
          -13.43999195098877,
          -7.166025161743164,
          4.6268086433410645,
          -47.69817352294922,
          -28.488061904907227,
          -5.19777774810791,
          3.584775686264038,
          -14.540042877197266,
          -26.813552856445312,
          -44.65602493286133,
          39.222232818603516,
          59.55888366699219,
          -42.78845977783203,
          -15.173272132873535,
          36.49399185180664,
          36.49358367919922,
          -1.7027024030685425,
          34.126312255859375,
          7.432139873504639,
          -35.75997543334961,
          48.888221740722656,
          48.8669319152832,
          -40.541011810302734,
          20.427762985229492,
          20.913789749145508,
          10.26917839050293,
          -7.3857951164245605,
          -7.924857139587402,
          -5.941763401031494,
          -22.468036651611328,
          -26.820751190185547,
          -34.241920471191406,
          26.915990829467773,
          12.121769905090332,
          21.62166404724121,
          -23.828353881835938,
          17.310144424438477,
          3.287609338760376,
          -27.950634002685547,
          -26.286415100097656,
          -14.647503852844238,
          34.46587371826172,
          -45.14147186279297,
          2.2264480590820312,
          -4.742953300476074,
          59.70344924926758,
          14.171721458435059,
          26.656227111816406,
          -43.468013763427734,
          34.02942657470703,
          39.53575897216797,
          39.383026123046875,
          -15.778011322021484,
          -37.45453643798828,
          35.217247009277344,
          -1.8056492805480957,
          12.181973457336426,
          -5.458890914916992,
          5.303619384765625,
          -34.18077850341797,
          -14.758048057556152,
          57.213497161865234,
          -13.619353294372559,
          26.389991760253906,
          -37.47846221923828,
          23.098596572875977,
          -30.609161376953125,
          5.9161553382873535,
          26.355573654174805,
          -15.122223854064941,
          -0.1203908920288086,
          5.917038917541504,
          15.179970741271973,
          -6.742886066436768,
          -10.847976684570312,
          19.904998779296875,
          24.566091537475586,
          16.24408721923828,
          6.58812141418457,
          22.067054748535156,
          6.426732063293457,
          6.403135776519775,
          12.286253929138184,
          -13.975388526916504,
          5.8678975105285645,
          -18.932039260864258,
          -14.107349395751953,
          38.84614944458008,
          -45.998477935791016,
          -12.570487976074219,
          -15.490660667419434,
          -24.68987464904785,
          -14.775357246398926,
          23.339448928833008,
          -7.065191268920898,
          31.543405532836914,
          -1.579955816268921,
          -13.894975662231445,
          -22.651439666748047,
          24.115428924560547,
          -25.930238723754883,
          -35.76081466674805,
          5.59970235824585,
          -15.340902328491211,
          22.066858291625977,
          -33.407188415527344,
          31.064037322998047,
          16.005550384521484,
          -0.7896588444709778,
          -25.043153762817383,
          7.914577960968018,
          27.663537979125977,
          44.471065521240234,
          -1.2650196552276611,
          -5.678171634674072,
          0.0689910352230072,
          -1.7750176191329956,
          -14.243569374084473,
          -3.8086440563201904,
          -3.9876577854156494,
          -2.4125149250030518,
          -1.1043423414230347,
          -22.544015884399414,
          -44.92093276977539,
          29.359331130981445,
          -28.542448043823242,
          6.918302536010742,
          12.74349308013916,
          -48.13987731933594,
          -6.275898456573486,
          -7.843103408813477,
          3.5843348503112793,
          6.230096340179443,
          22.116722106933594,
          -1.907691478729248,
          -42.198726654052734,
          -14.648024559020996,
          -12.341254234313965,
          -4.803678512573242,
          35.41608810424805,
          -12.573335647583008,
          2.469515085220337,
          19.052358627319336,
          -18.520423889160156,
          35.51713180541992,
          8.761052131652832,
          -38.540008544921875,
          -37.09111404418945,
          19.265737533569336,
          -12.704785346984863,
          7.12234354019165,
          23.63165855407715,
          -44.91880416870117,
          21.65455436706543,
          0.3105735182762146,
          -16.472673416137695,
          12.756644248962402,
          -2.830472469329834,
          -11.822032928466797,
          -1.8329094648361206,
          -4.806338787078857,
          6.398858070373535,
          21.693559646606445,
          -22.652204513549805,
          -9.835784912109375,
          21.624547958374023,
          28.842472076416016,
          -28.185630798339844,
          12.16364574432373,
          28.27109718322754,
          -37.80438995361328,
          -1.7059637308120728,
          10.646500587463379,
          -22.65235710144043,
          -23.135229110717773,
          -8.329645156860352,
          -8.545038223266602,
          -3.4342474937438965,
          10.652527809143066,
          1.1063940525054932,
          -33.46610641479492,
          -0.5311771035194397,
          -17.681575775146484,
          -37.483699798583984,
          -15.535017967224121,
          -1.7057050466537476,
          3.5847744941711426,
          29.344379425048828,
          18.020137786865234,
          7.798449516296387,
          27.39173698425293,
          32.60227966308594,
          35.359779357910156,
          -29.708271026611328,
          1.652838945388794,
          -1.8187379837036133,
          -25.065275192260742,
          37.16990661621094,
          12.355445861816406,
          5.436642646789551,
          -18.334819793701172,
          -48.78603744506836,
          28.913291931152344,
          8.041779518127441,
          -8.329789161682129,
          36.4942741394043,
          -33.392555236816406,
          -34.434749603271484,
          59.73149108886719,
          -34.10835647583008,
          -33.635887145996094,
          -41.45404052734375,
          -4.248445510864258,
          16.245880126953125,
          -42.77767562866211,
          -33.412391662597656,
          -7.383109092712402,
          17.885562896728516,
          34.82675552368164,
          19.777454376220703,
          22.06635856628418,
          -3.7245707511901855,
          4.984174728393555,
          -34.17869567871094,
          -23.136032104492188,
          -2.8008434772491455,
          -13.07083511352539,
          -33.31870651245117,
          39.921573638916016,
          -33.38972091674805,
          -18.80691146850586,
          39.92425537109375,
          -18.069198608398438,
          25.783432006835938,
          1.2645256519317627,
          -15.021703720092773,
          -17.63831329345703,
          16.93492889404297,
          11.25644302368164,
          -16.939655303955078,
          19.251462936401367,
          5.599971294403076,
          35.19806671142578,
          3.322183847427368,
          6.532171249389648,
          32.959529876708984,
          35.27943420410156,
          4.194474220275879,
          34.81342315673828,
          6.441756725311279,
          22.664926528930664,
          5.901547431945801,
          34.6715202331543,
          -14.244264602661133,
          -38.56401443481445,
          -1.426042914390564,
          -33.676231384277344,
          39.64323425292969,
          10.456151008605957,
          25.133163452148438,
          14.666074752807617,
          -11.461499214172363,
          20.727182388305664,
          34.818885803222656,
          -31.483545303344727,
          6.526463508605957,
          -0.8445231914520264,
          -49.114139556884766,
          -35.88922119140625,
          -44.01334762573242,
          -15.339483261108398,
          -0.23297449946403503,
          10.25756549835205,
          35.414310455322266,
          -52.38204574584961,
          -5.692679405212402,
          -27.387670516967773,
          -48.955055236816406,
          -11.255593299865723,
          -12.400174140930176,
          -49.26333999633789,
          -16.669654846191406,
          29.216934204101562,
          -10.402177810668945,
          45.51897048950195,
          57.208160400390625,
          -26.756492614746094,
          -12.77908992767334,
          -18.80585289001465,
          38.24378204345703,
          -43.92757034301758,
          21.1867733001709,
          24.795272827148438,
          13.77365493774414,
          63.50836181640625,
          5.600608825683594,
          3.4268269538879395,
          40.235225677490234,
          4.214953899383545,
          7.666800498962402,
          -1.7952615022659302,
          -15.514992713928223,
          -43.347694396972656,
          -15.277336120605469,
          6.535181999206543,
          -17.491668701171875,
          7.941225528717041,
          -13.712133407592773,
          -9.91385555267334,
          7.667873382568359,
          35.88530349731445,
          4.804989337921143,
          -48.986690521240234,
          -49.63954162597656,
          13.674838066101074,
          34.952735900878906,
          -17.04317855834961,
          -27.09017562866211,
          0.09630180895328522,
          23.253787994384766,
          30.436046600341797,
          22.56041145324707,
          -11.295534133911133,
          -23.137361526489258,
          7.656530857086182,
          8.114094734191895,
          7.956170082092285,
          0.09693481773138046,
          9.252803802490234,
          7.989794731140137,
          24.385892868041992,
          39.99204635620117,
          37.177215576171875,
          33.01789093017578,
          1.502934455871582,
          -8.485506057739258,
          -26.756484985351562,
          -42.908294677734375,
          -38.668357849121094,
          -37.59242630004883,
          20.69266700744629,
          61.325435638427734,
          27.317955017089844,
          -0.36121684312820435,
          -17.492496490478516,
          6.003885269165039,
          -14.70882511138916,
          36.49368667602539,
          -20.09263801574707,
          10.634621620178223,
          -2.829559564590454,
          0.31066402792930603,
          -33.44099807739258,
          -30.682382583618164,
          10.648804664611816,
          -7.4861884117126465,
          -1.5957345962524414,
          23.046335220336914,
          10.267963409423828,
          -41.86974334716797,
          13.07818603515625,
          22.871904373168945,
          22.56216049194336,
          -5.324070930480957,
          9.976292610168457,
          -6.907424449920654,
          18.447633743286133,
          19.739641189575195,
          40.86643981933594,
          -16.042211532592773,
          -26.277366638183594,
          6.67723274230957,
          -50.02627944946289,
          -38.92523193359375,
          32.95951461791992,
          -13.216630935668945,
          -1.2323520183563232,
          -0.11510790884494781,
          -20.092580795288086,
          1.423729419708252,
          -5.150538444519043,
          -48.476539611816406,
          -49.964515686035156,
          38.159305572509766,
          26.919858932495117,
          -23.165136337280273,
          14.825581550598145,
          -17.493873596191406,
          -45.84038162231445,
          13.039095878601074,
          -24.05327796936035,
          41.4909782409668,
          -39.92344665527344,
          41.78898620605469,
          -19.001901626586914,
          -43.40256881713867,
          24.927385330200195,
          21.19162368774414,
          31.450531005859375,
          25.162796020507812,
          -46.87663269042969,
          -43.84021759033203,
          -5.794788837432861,
          -13.759252548217773,
          -48.4999885559082,
          29.14643669128418,
          10.267963409423828,
          -8.904213905334473,
          -50.298492431640625,
          -48.4999885559082,
          35.79978942871094,
          42.03723907470703,
          20.696775436401367,
          24.146608352661133,
          12.88303279876709,
          -13.00870132446289,
          -38.39258575439453,
          12.287062644958496,
          6.9009480476379395,
          44.39581298828125,
          -4.724392890930176,
          14.167573928833008,
          -17.276201248168945,
          -26.07070541381836,
          21.931669235229492,
          4.805654525756836,
          6.537080764770508,
          7.329302787780762,
          16.410646438598633,
          -17.232763290405273,
          -11.453243255615234,
          3.330195188522339,
          10.328483581542969,
          -38.76362991333008,
          -34.8583984375,
          -11.027600288391113,
          -14.283053398132324,
          19.43218994140625,
          -34.06751251220703,
          -49.51503372192383,
          -19.781307220458984,
          47.65837097167969,
          19.617630004882812,
          -42.341915130615234,
          29.10041046142578,
          9.976167678833008,
          0.9331420063972473,
          -26.038681030273438,
          5.73764181137085,
          30.80797004699707,
          -34.6237907409668,
          -5.548317909240723,
          -32.38838577270508,
          23.816804885864258,
          31.989730834960938,
          -41.46961975097656,
          -48.4999885559082,
          18.564430236816406,
          -33.48292541503906,
          -33.480899810791016,
          -48.16435241699219,
          -33.60417938232422,
          -33.696693420410156,
          -43.038658142089844,
          0.9692190885543823,
          19.281492233276367,
          63.50918197631836,
          26.59454917907715,
          22.87163543701172,
          16.333148956298828,
          22.3077449798584,
          -48.315673828125,
          4.0827436447143555,
          -16.230690002441406,
          -23.579669952392578,
          -12.518927574157715,
          20.26728057861328,
          60.87388610839844,
          60.27019119262695,
          21.19285774230957,
          60.56665802001953,
          63.50969314575195,
          63.509315490722656,
          -0.7048219442367554,
          -32.3717155456543,
          -23.845853805541992,
          22.607986450195312,
          4.996193885803223,
          24.146896362304688,
          -4.945182800292969,
          30.769208908081055,
          18.022480010986328,
          -15.15293025970459,
          -7.486021995544434,
          -25.41206169128418,
          23.00412368774414,
          55.08456039428711,
          -35.35834503173828,
          -12.774328231811523,
          29.787710189819336,
          -3.9888672828674316,
          41.415645599365234,
          -14.516780853271484,
          -20.092580795288086,
          24.82699966430664,
          55.22461700439453,
          -26.837329864501953,
          23.43574333190918,
          4.028375625610352,
          24.734987258911133,
          -31.255552291870117,
          -38.23748779296875,
          32.62622833251953,
          -20.092145919799805,
          27.23444938659668,
          -17.39925765991211,
          20.347492218017578,
          -26.75745391845703,
          29.218713760375977,
          -7.934752464294434,
          -1.5955225229263306,
          17.89826202392578,
          40.95771408081055,
          4.296628952026367,
          -49.43449401855469,
          -41.98876190185547,
          -1.7083886861801147,
          -5.573583602905273,
          16.000593185424805,
          29.42531967163086,
          3.330228328704834,
          -31.20948600769043,
          -11.523975372314453,
          -1.827774167060852,
          22.248245239257812,
          -11.033991813659668,
          60.15726089477539,
          57.33688735961914,
          44.848331451416016,
          36.49321746826172,
          3.4219017028808594,
          -31.559358596801758,
          -13.554461479187012,
          34.21760559082031,
          -49.52107238769531,
          21.61809730529785,
          38.121944427490234,
          -19.819149017333984,
          -48.624324798583984,
          -38.50912094116211,
          4.912124156951904,
          -26.40329933166504,
          61.32447814941406,
          41.11513137817383,
          57.62685775756836,
          16.789710998535156,
          -15.25267505645752,
          -10.333484649658203,
          -20.092769622802734,
          -13.706526756286621,
          -1.313833475112915,
          21.143552780151367,
          -39.3857536315918,
          36.41298294067383,
          -1.8302233219146729,
          -38.23994445800781,
          6.451625347137451,
          23.136009216308594,
          59.327720642089844,
          -0.8834187984466553,
          -36.53950881958008,
          -29.705280303955078,
          63.61553192138672,
          -32.02927780151367,
          20.834674835205078,
          -35.05172348022461,
          1.7243279218673706,
          36.49427795410156,
          -13.01520824432373,
          6.365458965301514,
          55.01628494262695,
          20.209468841552734,
          -11.919255256652832,
          27.478431701660156,
          7.688025951385498,
          -24.880748748779297,
          -14.304722785949707,
          26.938678741455078,
          21.01426887512207,
          44.477962493896484,
          6.684088706970215,
          40.25053405761719,
          20.2100887298584,
          -49.4262580871582,
          0.09670796990394592,
          13.444270133972168,
          12.474043846130371,
          6.4527812004089355,
          63.615238189697266,
          35.107120513916016,
          -48.955665588378906,
          -5.964658260345459,
          -18.741884231567383,
          60.56665802001953,
          11.25963020324707,
          24.79496192932129,
          -18.49283790588379,
          25.290775299072266,
          -42.62376403808594,
          -12.405314445495605,
          -8.95938777923584,
          27.234373092651367,
          -24.2724666595459,
          -8.70914363861084,
          -8.544788360595703,
          2.865015983581543,
          -11.295553207397461,
          7.931865215301514,
          -34.422122955322266,
          56.42263412475586,
          -8.330243110656738,
          57.63463592529297,
          -39.42470932006836,
          -49.77497863769531,
          35.28814697265625,
          35.421295166015625,
          -11.66602897644043,
          8.76154613494873,
          -34.67414855957031,
          60.2694206237793,
          40.801002502441406,
          59.83509063720703,
          60.87388610839844,
          61.019203186035156,
          20.909605026245117,
          -16.061246871948242,
          61.11033630371094,
          0.5624799132347107,
          -11.295862197875977,
          57.81914520263672,
          -15.259193420410156,
          -5.966964244842529,
          -25.946319580078125,
          -21.03179931640625,
          -49.406681060791016,
          4.805566310882568,
          10.26681137084961,
          -34.38058853149414,
          24.538949966430664,
          12.865202903747559,
          -27.08346176147461,
          -12.145835876464844,
          -25.61607551574707,
          -9.405638694763184,
          -37.615570068359375,
          0.47915568947792053,
          -31.8807315826416,
          -28.488479614257812,
          33.36287307739258,
          -39.62171173095703,
          24.15325927734375,
          3.4237709045410156,
          -0.9225948452949524,
          14.171796798706055,
          13.403762817382812,
          -16.939313888549805,
          -42.81938171386719,
          11.02185344696045,
          -1.3821375370025635,
          -41.46967697143555,
          -12.312057495117188,
          -15.116558074951172,
          -6.578801155090332,
          -35.794715881347656,
          -50.68125534057617,
          -35.21300506591797,
          13.671329498291016,
          29.093238830566406,
          -30.865222930908203,
          -16.03316879272461,
          22.608226776123047,
          -28.582387924194336,
          -7.931500434875488,
          6.742945194244385,
          13.40080451965332,
          -27.469131469726562,
          -10.97204875946045,
          5.000746726989746,
          3.584946632385254,
          25.30303192138672,
          22.87190818786621,
          11.476604461669922,
          -23.138652801513672,
          -0.35220322012901306,
          -15.859884262084961,
          33.2554817199707,
          21.62260627746582,
          -33.4853401184082,
          -1.4351919889450073,
          7.6849541664123535,
          -32.5037727355957,
          -42.715911865234375,
          44.47132110595703,
          26.661081314086914,
          -49.937599182128906,
          -17.224462509155273,
          26.026012420654297,
          -44.65749740600586,
          28.272321701049805,
          -21.586271286010742,
          -52.236000061035156,
          -19.884389877319336,
          26.24003791809082,
          -15.718791007995605,
          9.680388450622559,
          3.6317667961120605,
          -12.113259315490723,
          -50.043724060058594,
          25.485151290893555,
          37.029273986816406,
          9.976367950439453,
          -21.078426361083984,
          -7.7428741455078125,
          -12.908228874206543,
          14.171671867370605,
          7.3343329429626465,
          30.132360458374023,
          -42.90584182739258,
          -1.328722596168518,
          11.39317798614502,
          16.01405906677246,
          3.4221584796905518,
          -14.041376113891602,
          7.769362926483154,
          22.161334991455078,
          5.697883605957031,
          -14.780536651611328,
          -35.03507614135742,
          -34.372161865234375,
          -49.58364486694336,
          -31.566741943359375,
          -33.708560943603516,
          -10.516654968261719,
          -4.5493083000183105,
          -7.382542133331299,
          -2.859694480895996,
          60.10416030883789,
          -36.08314895629883,
          4.454911708831787,
          -38.40409851074219,
          -31.725221633911133,
          -14.753755569458008,
          38.24274444580078,
          41.02394104003906,
          29.09833526611328,
          0.9430862665176392,
          -1.4624366760253906,
          29.409080505371094,
          5.301584243774414,
          -11.91977596282959,
          40.592010498046875,
          17.76999855041504,
          61.0887565612793,
          -1.7128163576126099,
          -27.546836853027344,
          0.29215604066848755,
          25.186067581176758,
          -17.638675689697266,
          -4.4099321365356445,
          -13.197004318237305,
          19.737041473388672,
          -1.595186471939087,
          -24.061100006103516,
          23.338298797607422,
          14.171157836914062,
          12.35757064819336,
          -49.76499938964844,
          -9.909529685974121,
          -8.333638191223145,
          -27.081758499145508,
          57.53205871582031,
          57.42237854003906,
          57.4177131652832,
          57.201324462890625,
          -1.239771842956543,
          14.462715148925781,
          57.590633392333984,
          -35.85859680175781,
          12.865313529968262,
          -18.80706024169922,
          24.94412612915039,
          -14.001338005065918,
          30.81614112854004,
          20.782102584838867,
          32.73490905761719,
          26.252748489379883,
          22.0681095123291,
          22.660903930664062,
          55.04401397705078,
          -34.745582580566406,
          -31.379413604736328,
          -34.145355224609375,
          36.338836669921875,
          -39.34091567993164,
          -11.013638496398926,
          -10.723199844360352,
          -26.310251235961914,
          55.40354537963867,
          1.2825994491577148,
          -34.861629486083984,
          60.567691802978516,
          57.820106506347656,
          -52.38209533691406,
          -33.66963195800781,
          -38.153079986572266,
          0.11872435361146927,
          -28.017210006713867,
          -38.61793899536133,
          -18.41535758972168,
          -23.139236450195312,
          -52.37797164916992,
          -5.150353908538818,
          -42.362186431884766,
          -48.4068603515625,
          -13.078756332397461,
          -12.166213035583496,
          -13.104935646057129,
          -11.38276195526123,
          18.663511276245117,
          12.28809928894043,
          26.660621643066406,
          -33.430419921875,
          10.268904685974121,
          20.45210075378418,
          22.497268676757812,
          -0.4189848303794861,
          5.914069175720215,
          -35.79230880737305,
          -13.417817115783691,
          -19.6971492767334,
          -38.84174346923828,
          11.750358581542969,
          -26.757402420043945,
          55.46392822265625,
          55.39617156982422,
          6.143692970275879,
          49.020233154296875,
          49.01385498046875,
          55.313316345214844,
          -33.675331115722656,
          -0.2925132215023041,
          5.577347278594971,
          29.146181106567383,
          -19.13603973388672,
          -24.56791877746582,
          29.788021087646484,
          -29.0922908782959,
          -49.523433685302734,
          -26.22166633605957,
          29.647541046142578,
          40.262908935546875,
          36.49403381347656,
          -5.000545501708984,
          -26.757686614990234,
          -15.807300567626953,
          -15.566106796264648,
          20.215160369873047,
          -31.379247665405273,
          -43.038673400878906,
          60.48208236694336,
          57.24581527709961,
          -23.84255027770996,
          -12.175402641296387,
          -23.827625274658203,
          -33.09724807739258,
          -33.71748733520508,
          18.501615524291992,
          5.655318737030029,
          55.44819259643555,
          21.624011993408203,
          -33.72418975830078,
          -1.708389401435852,
          -1.4324567317962646,
          3.4236655235290527,
          -39.145660400390625,
          57.50175094604492,
          0.12139720469713211,
          55.37703323364258,
          -14.210898399353027,
          -0.7768235802650452,
          22.661497116088867,
          -26.222915649414062,
          -4.2767333984375,
          -37.089271545410156,
          29.424924850463867,
          40.08440399169922,
          60.423912048339844,
          57.58503341674805,
          -13.734908103942871,
          -33.43008804321289,
          -34.34169006347656,
          -17.287771224975586,
          -9.352173805236816,
          -12.352617263793945,
          -16.062496185302734,
          25.3826961517334,
          -31.55980110168457,
          20.697595596313477,
          28.108964920043945,
          -9.009852409362793,
          -33.519081115722656,
          -34.605308532714844,
          -1.4000766277313232,
          19.6445369720459,
          -10.868682861328125,
          28.842334747314453,
          44.35749435424805,
          -18.6789608001709,
          59.52002716064453,
          -17.28655242919922,
          59.64382553100586,
          -25.925357818603516,
          33.01769256591797,
          -36.330604553222656,
          20.150693893432617,
          -34.883018493652344,
          2.8533096313476562,
          29.219064712524414,
          40.28173828125,
          56.4948616027832,
          -10.18146800994873,
          38.24274444580078,
          -13.891221046447754,
          -14.754281997680664,
          20.970882415771484,
          -32.38469696044922,
          40.880615234375,
          -41.22385787963867,
          29.425756454467773,
          6.535839080810547,
          30.74011993408203,
          -26.822418212890625,
          61.01509094238281,
          -12.791035652160645,
          44.506919860839844,
          -14.243029594421387,
          -16.939590454101562,
          -26.8161563873291,
          -35.01504898071289,
          -37.085411071777344,
          -38.238067626953125,
          -1.3952510356903076,
          6.144028186798096,
          60.04911804199219,
          49.03804016113281,
          48.87434387207031,
          39.47845458984375,
          48.87434387207031,
          24.14548683166504,
          40.44236373901367,
          34.74258041381836,
          13.13782787322998,
          48.98379135131836,
          35.2877311706543,
          -30.95012855529785,
          49.028907775878906,
          0.1230810359120369,
          49.03970718383789,
          44.32765579223633,
          26.24085807800293,
          18.81028938293457,
          -36.913719177246094,
          48.88079071044922,
          -48.47550582885742,
          0.31039753556251526,
          -4.488440990447998,
          -33.48220443725586,
          59.56622314453125,
          -13.008988380432129,
          14.1678466796875,
          -33.31000518798828,
          22.608631134033203,
          35.52462387084961,
          29.4053897857666,
          13.49691104888916,
          61.03400802612305,
          40.713768005371094,
          4.996514320373535,
          60.026329040527344,
          -10.707903861999512,
          -11.255942344665527,
          32.50231170654297,
          39.802188873291016,
          -31.24327850341797,
          22.614377975463867,
          -35.039302825927734,
          17.780027389526367,
          35.38225173950195,
          -42.796329498291016,
          -16.033191680908203,
          29.1860294342041,
          25.559677124023438,
          -31.37932586669922,
          -11.066858291625977,
          26.92167854309082,
          -31.234466552734375,
          -34.24863815307617,
          -1.588110327720642,
          -42.30988693237305,
          -11.916264533996582,
          12.260276794433594,
          -10.076922416687012,
          -41.89250564575195,
          -33.99540710449219,
          -19.139585494995117,
          -20.250646591186523,
          -3.2245514392852783,
          32.50229263305664,
          39.970848083496094,
          -13.62356185913086,
          20.3984432220459,
          -11.513208389282227,
          4.9964189529418945,
          40.880615234375,
          -10.435441017150879,
          -4.580809116363525,
          -33.50762176513672,
          -10.640217781066895,
          -23.848129272460938,
          3.8446779251098633,
          -35.80426788330078,
          -19.68297576904297,
          20.012786865234375,
          -2.9168012142181396,
          17.779403686523438,
          19.71012306213379,
          -27.468379974365234,
          6.535133361816406,
          4.2961106300354,
          -13.799001693725586,
          25.48565673828125,
          -7.89162015914917,
          -32.37264633178711,
          25.9681453704834,
          38.53676986694336,
          18.44701385498047,
          -10.895028114318848,
          -1.790230631828308,
          -49.76863098144531,
          -13.710492134094238,
          29.10707664489746,
          -35.89311218261719,
          19.3015079498291,
          40.676998138427734,
          -12.40519905090332,
          28.10895538330078,
          19.904525756835938,
          2.9057745933532715,
          -19.686031341552734,
          -11.398591041564941,
          -11.733416557312012,
          25.303070068359375,
          -34.04350662231445,
          -40.57168197631836,
          16.2517032623291,
          14.775481224060059,
          34.50553512573242,
          -49.88675308227539,
          -11.912567138671875,
          -4.339123249053955,
          19.702590942382812,
          -19.14214515686035,
          -33.827762603759766,
          -42.542964935302734,
          -37.08472442626953,
          32.736549377441406,
          14.48859691619873,
          -1.7923692464828491,
          -20.092161178588867,
          -48.614559173583984,
          -12.108098983764648,
          -15.911675453186035,
          -49.39436340332031,
          -37.6422119140625,
          33.585689544677734,
          -31.3797664642334,
          -38.23686981201172,
          -15.343735694885254,
          -0.8250116109848022,
          -6.288025856018066,
          39.57070541381836,
          -3.2937448024749756,
          29.425886154174805,
          31.992589950561523,
          -3.3750526905059814,
          33.01789474487305,
          -20.093048095703125,
          -38.60616683959961,
          -28.99553871154785,
          30.123550415039062,
          -12.306244850158691,
          19.27899169921875,
          25.074909210205078,
          -42.304447174072266,
          -14.983494758605957,
          -38.100929260253906,
          21.801496505737305,
          -35.42527770996094,
          -39.915836334228516,
          -23.302310943603516,
          -48.95537185668945,
          -34.77838134765625,
          -38.238304138183594,
          -11.810612678527832,
          -26.81658172607422,
          17.76995086669922,
          28.842227935791016,
          -28.477659225463867,
          -35.289268493652344,
          -13.198534965515137,
          12.508405685424805,
          -14.754613876342773,
          41.30575942993164,
          36.166751861572266,
          -7.484992980957031,
          -12.520079612731934,
          35.684478759765625,
          -16.214502334594727,
          -3.0659732818603516,
          35.165767669677734,
          -48.47662353515625,
          -17.15810775756836,
          -42.61859893798828,
          31.127151489257812,
          -5.446693420410156,
          25.843461990356445,
          -4.008085250854492,
          36.729896545410156,
          -50.33511734008789,
          -13.708070755004883,
          -16.705961227416992,
          0.29178592562675476,
          5.0016703605651855,
          25.874475479125977,
          -15.541322708129883,
          35.73741912841797,
          40.65131759643555,
          2.2009437084198,
          26.238527297973633,
          2.2009437084198,
          2.2009437084198,
          35.764949798583984,
          -9.35315990447998,
          -25.04927635192871,
          44.93858337402344,
          26.91478729248047,
          -26.417081832885742,
          36.34785842895508,
          -14.06398868560791,
          25.184425354003906,
          -35.47282409667969,
          24.143423080444336,
          7.340890884399414,
          40.94187927246094,
          0.28992700576782227,
          -3.4331746101379395,
          -0.8207690715789795,
          41.75345993041992,
          19.967456817626953,
          -18.741960525512695,
          -3.400783061981201,
          -16.214509963989258,
          44.93858337402344,
          24.40658950805664,
          29.789583206176758,
          20.69273567199707,
          21.143470764160156,
          23.00717544555664,
          -7.486447811126709,
          -15.502920150756836,
          -35.504493713378906,
          -35.504493713378906,
          -5.966894626617432,
          41.594146728515625,
          26.913755416870117,
          4.532088279724121,
          36.4254150390625,
          -19.104291915893555,
          42.03102111816406,
          -4.723130226135254,
          -26.4036922454834,
          29.425800323486328,
          -48.642208099365234,
          -38.61819839477539,
          -26.26543617248535,
          -7.38242769241333,
          -24.83070182800293,
          -38.2420539855957,
          16.647722244262695,
          -0.09761618822813034,
          -6.287829399108887,
          29.251110076904297,
          -35.73395538330078,
          0.0013109627179801464,
          -18.74167251586914,
          21.366729736328125,
          31.99289321899414,
          42.2999153137207,
          -11.885091781616211,
          -13.706567764282227,
          -19.87523078918457,
          22.87161636352539,
          -10.792430877685547,
          -44.92316818237305,
          -35.835121154785156,
          2.2137539386749268,
          -1.7770746946334839,
          35.9500846862793,
          -14.395242691040039,
          -17.121854782104492,
          14.8280029296875,
          29.245952606201172,
          60.670066833496094,
          34.77344512939453,
          -47.66410446166992,
          -13.207694053649902,
          24.14546775817871,
          35.97414016723633,
          36.78209686279297,
          12.26254940032959,
          24.14988136291504,
          14.776577949523926,
          36.29271697998047,
          -41.89616394042969,
          19.148521423339844,
          22.87118148803711,
          34.87980651855469,
          35.63713073730469,
          42.934417724609375,
          19.733604431152344,
          14.775346755981445,
          25.30830192565918,
          26.355518341064453,
          36.166751861572266,
          -11.358175277709961,
          -12.008336067199707,
          41.69167709350586,
          19.135557174682617,
          -6.906993389129639,
          4.578267574310303,
          14.528217315673828,
          28.842529296875,
          -25.615419387817383,
          22.658475875854492,
          -14.06398868560791,
          -0.19642628729343414,
          -14.06398868560791,
          29.24313735961914,
          36.768096923828125,
          -39.8969612121582,
          22.65829849243164,
          31.98836898803711,
          6.669848918914795,
          24.144773483276367,
          35.292503356933594,
          -0.5941242575645447,
          -18.343608856201172,
          22.56117057800293,
          29.421527862548828,
          19.45785140991211,
          -38.669857025146484,
          -51.732810974121094,
          -42.198204040527344,
          -50.33511734008789,
          -9.451152801513672,
          6.686508655548096,
          -1.8361685276031494,
          14.775226593017578,
          -44.76460647583008,
          -15.031123161315918,
          -15.252913475036621,
          -14.837322235107422,
          0.7179320454597473,
          27.39912223815918,
          35.637603759765625,
          -17.15810775756836,
          17.769338607788086,
          -38.36078643798828,
          -13.812407493591309,
          -12.19669246673584,
          21.064355850219727,
          -5.088288307189941,
          14.80459213256836,
          -14.70968246459961,
          -11.921685218811035,
          -13.754594802856445,
          42.67719268798828,
          -5.150630474090576,
          19.44426918029785,
          -4.337180137634277,
          23.856807708740234,
          19.10422706604004,
          42.75251388549805,
          -12.794378280639648,
          -19.30487632751465,
          -26.417081832885742,
          27.394269943237305,
          33.270572662353516,
          19.44426918029785,
          24.15068817138672,
          -16.342872619628906,
          -13.641623497009277,
          -10.895073890686035,
          -5.5344696044921875,
          -1.7647004127502441,
          44.9301643371582,
          42.150421142578125,
          -5.966894626617432,
          42.96158981323242,
          41.068538665771484,
          10.78853988647461,
          12.262566566467285,
          42.9127197265625,
          19.054088592529297,
          -19.30487632751465,
          -50.3491096496582,
          33.362430572509766,
          40.71315383911133,
          14.169493675231934,
          -0.41330283880233765,
          19.053661346435547,
          -14.67628002166748,
          17.157123565673828,
          -15.539908409118652,
          -19.87627601623535,
          -37.086856842041016,
          29.421554565429688,
          -39.34396743774414,
          40.11423873901367,
          -25.246591567993164,
          -4.628530025482178,
          -24.41538429260254,
          3.5585901737213135,
          -24.053071975708008,
          25.895254135131836,
          2.5120584964752197,
          -7.706920146942139,
          -1.249860405921936,
          -1.837063193321228,
          -1.3981953859329224,
          -19.55998992919922,
          -19.776391983032227,
          14.265752792358398,
          -12.369209289550781,
          44.63525390625,
          42.27861404418945,
          -0.355766236782074,
          16.265817642211914,
          -3.505974531173706,
          -8.559478759765625,
          40.76727294921875,
          -13.070013046264648,
          -20.16666603088379,
          5.281795978546143,
          -6.2895965576171875,
          -1.7594714164733887,
          -9.315524101257324,
          29.241661071777344,
          -40.94115447998047,
          42.02699661254883,
          -4.55038595199585,
          61.15251922607422,
          40.84677505493164,
          33.403316497802734,
          -16.607725143432617,
          22.752227783203125,
          -11.973509788513184,
          -8.905059814453125,
          7.326718330383301,
          23.337657928466797,
          16.001144409179688,
          15.21436882019043,
          -9.099029541015625,
          0.438932865858078,
          -4.5668230056762695,
          44.63525390625,
          -26.839752197265625,
          -38.39252853393555,
          14.835453987121582,
          -8.559478759765625,
          -37.94335174560547,
          19.0706787109375,
          -17.184192657470703,
          -15.539908409118652,
          -16.987926483154297,
          19.74104881286621,
          -35.83765411376953,
          -5.208701133728027,
          -20.16666603088379,
          -17.640886306762695,
          -5.150649070739746,
          35.07546615600586,
          -12.19669246673584,
          19.1241455078125,
          41.28662872314453,
          19.268308639526367,
          35.292503356933594,
          28.843185424804688,
          35.61027908325195,
          -31.165355682373047,
          -6.2204742431640625,
          24.25898551940918,
          -35.868202209472656,
          -4.004161834716797,
          37.405494689941406,
          -9.563634872436523,
          20.69273567199707,
          -18.741901397705078,
          35.5721321105957,
          -8.360719680786133,
          1.656866431236267,
          25.184375762939453,
          -38.916839599609375,
          29.770484924316406,
          -22.652517318725586,
          44.687129974365234,
          42.21364212036133,
          -42.67192459106445,
          -14.449991226196289,
          -9.009674072265625,
          36.720062255859375,
          42.29231643676758,
          -26.429325103759766,
          19.738832473754883,
          29.241661071777344,
          0.3050863742828369,
          6.686508655548096,
          -38.55350875854492,
          -18.742145538330078,
          19.735260009765625,
          14.49885368347168,
          23.0948486328125,
          -26.280094146728516,
          36.54053497314453,
          -50.202667236328125,
          21.143678665161133,
          19.784290313720703,
          35.86384582519531,
          -38.43764877319336,
          19.28933334350586,
          -40.0700569152832,
          -11.421144485473633,
          19.702491760253906,
          20.075647354125977,
          1.2645970582962036,
          40.5626335144043,
          -17.220945358276367,
          -39.49221420288086,
          0.5313251614570618,
          -31.16593360900879,
          0.5681895613670349,
          0.19737090170383453,
          0.5313251614570618,
          -11.970271110534668,
          -14.1931791305542,
          -19.30487632751465,
          19.517549514770508,
          -13.260076522827148,
          4.9812140464782715,
          4.804510593414307,
          16.000995635986328,
          -15.031123161315918,
          27.14107322692871,
          41.31158447265625,
          26.23774528503418,
          19.26979637145996,
          25.301755905151367,
          14.500566482543945,
          -7.934881210327148,
          -0.3022288978099823,
          -42.543190002441406,
          -39.069053649902344,
          20.133026123046875,
          -19.10883903503418,
          -35.895225524902344,
          44.9301643371582,
          -11.351018905639648,
          35.6029052734375,
          -11.490306854248047,
          41.77165603637695,
          -38.77048873901367,
          36.702091217041016,
          -13.49908447265625,
          48.598201751708984,
          -38.13941955566406,
          -12.32451057434082,
          -10.525147438049316,
          26.24148941040039,
          36.483154296875,
          -14.353501319885254,
          0.5681895613670349,
          20.5064754486084,
          -12.938206672668457,
          16.266157150268555,
          44.9301643371582,
          25.53572654724121,
          -35.83765411376953,
          34.87980651855469,
          40.450355529785156,
          -0.26443246006965637,
          19.734573364257812,
          8.451547622680664,
          28.272865295410156,
          -13.908711433410645,
          4.620020866394043,
          -18.212120056152344,
          35.97569274902344,
          35.80458450317383,
          -38.242027282714844,
          -38.24263381958008,
          -14.70968246459961,
          19.285959243774414,
          22.87165069580078,
          36.52576446533203,
          36.11247634887695,
          41.48189926147461,
          -7.173593521118164,
          41.571372985839844,
          -12.701436996459961,
          -11.817360877990723,
          23.25370216369629,
          35.995609283447266,
          41.52771759033203,
          -42.23979568481445,
          -5.150630474090576,
          -39.59969711303711,
          0.12084291130304337,
          27.698394775390625,
          -37.086578369140625,
          21.622303009033203,
          -11.8143310546875,
          17.315141677856445,
          -9.352405548095703,
          22.608421325683594,
          34.505279541015625,
          -39.66734313964844,
          14.8381986618042,
          6.190441131591797,
          5.002313613891602,
          -3.711378335952759,
          -37.79193115234375,
          -15.190094947814941,
          19.850738525390625,
          25.53572654724121,
          -4.725697994232178,
          -31.573320388793945,
          -6.74336051940918,
          -30.971040725708008,
          42.25870132446289,
          15.767878532409668,
          -10.8245210647583,
          -39.118431091308594,
          -31.572362899780273,
          18.080806732177734,
          42.652557373046875,
          19.151256561279297,
          44.62271499633789,
          -38.011863708496094,
          -3.7418510913848877,
          36.022830963134766,
          -4.745479583740234,
          29.34639549255371,
          40.881439208984375,
          -5.451903343200684,
          41.836387634277344,
          19.296579360961914,
          19.285888671875,
          28.151771545410156,
          -12.709858894348145,
          25.240842819213867,
          -35.76679229736328,
          14.731348037719727,
          19.770341873168945,
          -0.20174621045589447,
          -15.199430465698242,
          -23.491119384765625,
          40.881553649902344,
          0.29979345202445984,
          0.3044597804546356,
          -13.496490478515625,
          -14.026031494140625,
          27.409542083740234,
          -14.353063583374023,
          19.74436378479004,
          -14.625504493713379,
          44.472076416015625,
          5.002313613891602,
          40.881752014160156,
          19.736370086669922,
          -35.868202209472656,
          61.15251922607422,
          29.423330307006836,
          -35.064048767089844,
          4.804510593414307,
          -35.31843566894531,
          22.613840103149414,
          0.12014471739530563,
          -10.28552532196045,
          -6.743081569671631,
          40.881439208984375
         ],
         "xaxis": "x",
         "y": [
          4.210103988647461,
          37.50931167602539,
          -11.22742748260498,
          -9.749581336975098,
          0.8305976986885071,
          41.47059631347656,
          -26.697092056274414,
          7.883031845092773,
          44.97357177734375,
          0.6672200560569763,
          37.792625427246094,
          -0.5210907459259033,
          35.840152740478516,
          29.08243751525879,
          30.474035263061523,
          28.056337356567383,
          -23.105300903320312,
          -26.67322540283203,
          -20.240392684936523,
          13.639122009277344,
          0.013748983852565289,
          -13.845900535583496,
          18.30988121032715,
          -12.835348129272461,
          9.983366966247559,
          -13.857649803161621,
          17.63632583618164,
          8.56812572479248,
          4.41347074508667,
          -20.030641555786133,
          11.111248970031738,
          29.866493225097656,
          13.181195259094238,
          14.732462882995605,
          -34.74746322631836,
          -4.052707195281982,
          -8.995708465576172,
          -9.497759819030762,
          12.934922218322754,
          -37.711544036865234,
          -11.067388534545898,
          -1.644418716430664,
          -10.440474510192871,
          -13.80150032043457,
          0.9577780961990356,
          -11.121115684509277,
          14.732970237731934,
          22.077146530151367,
          35.36436462402344,
          30.004135131835938,
          -9.814858436584473,
          36.713531494140625,
          -16.621816635131836,
          -13.80518913269043,
          28.55422592163086,
          22.85439109802246,
          9.928228378295898,
          26.00415802001953,
          36.62559127807617,
          27.742734909057617,
          -20.050891876220703,
          -6.607906341552734,
          16.915565490722656,
          36.66770935058594,
          28.080854415893555,
          -35.5988883972168,
          27.081716537475586,
          41.28276443481445,
          17.57145118713379,
          18.331510543823242,
          27.104503631591797,
          43.090518951416016,
          18.641786575317383,
          -13.550082206726074,
          -32.78264236450195,
          6.2390828132629395,
          6.028041362762451,
          35.91114044189453,
          -19.217126846313477,
          17.829418182373047,
          36.5814094543457,
          3.373230457305908,
          -12.776666641235352,
          -32.343387603759766,
          30.337724685668945,
          30.344158172607422,
          -9.62636947631836,
          30.106237411499023,
          -34.14464569091797,
          -0.8713639378547668,
          -20.371429443359375,
          5.495091438293457,
          30.016695022583008,
          7.328154563903809,
          -13.551937103271484,
          10.175396919250488,
          -27.626827239990234,
          -12.756677627563477,
          -34.795570373535156,
          -22.730985641479492,
          -14.275288581848145,
          -23.010435104370117,
          17.468284606933594,
          14.523359298706055,
          -2.656857490539551,
          -22.575883865356445,
          -12.71506118774414,
          -25.947324752807617,
          -25.388200759887695,
          -2.4751861095428467,
          -21.807052612304688,
          35.789756774902344,
          -0.7797500491142273,
          -36.43952178955078,
          35.53047180175781,
          -13.35455322265625,
          -13.515725135803223,
          -13.698014259338379,
          -27.267026901245117,
          7.877574920654297,
          9.361137390136719,
          4.279500961303711,
          -13.695770263671875,
          20.1987361907959,
          30.46877098083496,
          0.7266437411308289,
          -12.770889282226562,
          5.495067596435547,
          -22.08085060119629,
          -6.170536994934082,
          28.79465103149414,
          -34.22245407104492,
          -1.139296293258667,
          -8.879522323608398,
          32.81929397583008,
          8.264554023742676,
          -29.764841079711914,
          -1.4403640031814575,
          35.09653091430664,
          19.619752883911133,
          26.227340698242188,
          -2.400604486465454,
          -32.46516036987305,
          -10.916108131408691,
          11.097679138183594,
          14.421748161315918,
          -13.399763107299805,
          13.371280670166016,
          -2.393115520477295,
          -6.557430744171143,
          12.233138084411621,
          0.836913526058197,
          -2.6157381534576416,
          17.572338104248047,
          12.137046813964844,
          -28.648273468017578,
          -39.65061950683594,
          -23.6972599029541,
          -25.942806243896484,
          -13.269104957580566,
          -26.660165786743164,
          -20.157623291015625,
          -39.9509162902832,
          -25.98537826538086,
          35.76214599609375,
          36.581478118896484,
          6.185217380523682,
          6.305117607116699,
          -36.10922622680664,
          35.22824478149414,
          -7.170144081115723,
          -7.170088768005371,
          -7.170238018035889,
          -26.237138748168945,
          42.237762451171875,
          7.712629795074463,
          -1.847459077835083,
          -28.33747673034668,
          -32.49878692626953,
          18.965347290039062,
          18.132226943969727,
          -0.1245359554886818,
          -13.925813674926758,
          -36.34038162231445,
          18.577720642089844,
          34.600643157958984,
          4.307193279266357,
          17.691884994506836,
          -35.184024810791016,
          23.9664249420166,
          -20.47893524169922,
          9.265349388122559,
          -26.213027954101562,
          -18.58783531188965,
          8.7537202835083,
          3.0453686714172363,
          -4.168552398681641,
          -4.0282063484191895,
          -0.7392944097518921,
          -25.933639526367188,
          -29.111099243164062,
          43.091060638427734,
          -18.532726287841797,
          -34.90654373168945,
          43.23147964477539,
          27.00326919555664,
          -13.377802848815918,
          42.23854064941406,
          -7.170712471008301,
          -28.93400764465332,
          38.69459915161133,
          33.385986328125,
          -1.528347134590149,
          -18.9958553314209,
          30.445911407470703,
          8.78378963470459,
          40.043121337890625,
          -38.73078536987305,
          -4.0069475173950195,
          -23.24836540222168,
          27.291318893432617,
          -36.49626541137695,
          4.442441463470459,
          24.06924819946289,
          -34.22243881225586,
          -12.725735664367676,
          36.88644790649414,
          8.344464302062988,
          -36.68110275268555,
          10.094773292541504,
          -4.695172309875488,
          22.267091751098633,
          4.5545220375061035,
          -35.23164749145508,
          30.39742088317871,
          39.59746170043945,
          24.81812858581543,
          -5.447187900543213,
          -26.01310157775879,
          23.967496871948242,
          -1.4614542722702026,
          4.1787614822387695,
          -28.958765029907227,
          -36.365318298339844,
          30.22184944152832,
          33.36283874511719,
          -37.37102508544922,
          -30.37172508239746,
          -34.484031677246094,
          14.734301567077637,
          27.657482147216797,
          -34.14518737792969,
          -38.73080062866211,
          14.733305931091309,
          -6.825488090515137,
          -26.67927360534668,
          34.450416564941406,
          -20.893939971923828,
          20.42945671081543,
          -0.12068039923906326,
          -7.112574577331543,
          30.107080459594727,
          34.297088623046875,
          28.292232513427734,
          -23.247108459472656,
          -15.721169471740723,
          -9.371292114257812,
          13.44789981842041,
          29.238239288330078,
          -13.176136016845703,
          42.17355728149414,
          1.1773699522018433,
          33.5821647644043,
          29.427082061767578,
          26.479101181030273,
          -12.808298110961914,
          18.044437408447266,
          -18.726829528808594,
          -2.189462184906006,
          24.531503677368164,
          -18.98682975769043,
          -12.791406631469727,
          13.400890350341797,
          15.888469696044922,
          -13.080886840820312,
          -34.54521179199219,
          26.4800968170166,
          -33.94700241088867,
          30.78999137878418,
          -0.5563420653343201,
          8.094964981079102,
          38.861328125,
          15.787680625915527,
          35.39305877685547,
          -32.012725830078125,
          33.36277389526367,
          35.50762176513672,
          9.002690315246582,
          29.426536560058594,
          29.208045959472656,
          32.533477783203125,
          -4.7073564529418945,
          -34.022796630859375,
          24.618732452392578,
          -0.7556989789009094,
          30.033676147460938,
          -0.6134809851646423,
          -33.86817169189453,
          -1.6362360715866089,
          -36.87578582763672,
          -5.606287479400635,
          17.129186630249023,
          -26.017486572265625,
          40.524906158447266,
          -29.78834342956543,
          -20.03437042236328,
          1.5561338663101196,
          -40.77109909057617,
          12.453574180603027,
          -26.01805305480957,
          15.972164154052734,
          35.24744415283203,
          31.547761917114258,
          37.668365478515625,
          6.366167068481445,
          -16.42713165283203,
          35.775238037109375,
          -13.04308032989502,
          0.9236735105514526,
          -1.6749826669692993,
          -26.71985626220703,
          6.35746431350708,
          30.55940818786621,
          -3.695939302444458,
          -21.80689811706543,
          -34.74766540527344,
          -24.092042922973633,
          0.8399112224578857,
          35.004783630371094,
          -39.95439147949219,
          -31.21768569946289,
          33.669158935546875,
          36.33112716674805,
          -11.20877742767334,
          41.03727340698242,
          12.967938423156738,
          -23.016386032104492,
          -23.0165958404541,
          25.415878295898438,
          -23.01677894592285,
          -22.952312469482422,
          31.448209762573242,
          -28.762056350708008,
          38.82667922973633,
          39.7562255859375,
          -23.0960750579834,
          42.24026107788086,
          -27.699562072753906,
          -36.340721130371094,
          -35.546424865722656,
          -36.51637268066406,
          -29.938888549804688,
          0.8384502530097961,
          16.128969192504883,
          -28.648387908935547,
          15.86080551147461,
          34.45051956176758,
          35.26021957397461,
          26.897520065307617,
          4.1017351150512695,
          7.601954460144043,
          -13.139105796813965,
          17.6201171875,
          21.281108856201172,
          35.775123596191406,
          -3.392167091369629,
          3.1466383934020996,
          -21.192092895507812,
          -10.243491172790527,
          -26.968130111694336,
          40.966331481933594,
          -36.36497116088867,
          27.95850372314453,
          -26.64936065673828,
          -21.24387550354004,
          -21.851221084594727,
          -20.981136322021484,
          8.833775520324707,
          -34.4776611328125,
          -33.27773666381836,
          -2.2089147567749023,
          16.682558059692383,
          -7.711806297302246,
          -24.438720703125,
          -10.032724380493164,
          -20.393821716308594,
          -35.38059997558594,
          30.2862548828125,
          -23.01028060913086,
          -14.542914390563965,
          -31.51545524597168,
          -24.43633460998535,
          -13.52626895904541,
          35.15849685668945,
          -26.200963973999023,
          9.600427627563477,
          -31.736974716186523,
          -34.748382568359375,
          35.79487228393555,
          -3.5777413845062256,
          -6.6137375831604,
          -20.62228012084961,
          -23.218923568725586,
          39.8922119140625,
          24.141965866088867,
          12.598977088928223,
          -2.282313585281372,
          25.717504501342773,
          20.348648071289062,
          17.330427169799805,
          -7.195825099945068,
          42.35383224487305,
          35.69798278808594,
          -16.631488800048828,
          31.0496826171875,
          40.043121337890625,
          29.411836624145508,
          -6.681691646575928,
          29.80008316040039,
          -29.55439567565918,
          -33.27922439575195,
          4.209890365600586,
          39.89373779296875,
          -23.06682014465332,
          20.349445343017578,
          31.618701934814453,
          -26.49272918701172,
          4.236339092254639,
          -25.843320846557617,
          16.38084602355957,
          0.6729992628097534,
          29.02092170715332,
          17.6466064453125,
          26.225635528564453,
          35.22924041748047,
          37.81743240356445,
          -12.599960327148438,
          32.732078552246094,
          37.571868896484375,
          26.353580474853516,
          36.331687927246094,
          17.697458267211914,
          35.64849853515625,
          28.570951461791992,
          -36.34156799316406,
          -32.58481216430664,
          -12.985039710998535,
          -10.892975807189941,
          7.703225612640381,
          -2.0890018939971924,
          12.425942420959473,
          -35.26752471923828,
          -11.892471313476562,
          -24.43971061706543,
          -3.142512083053589,
          -5.733888626098633,
          -4.882122039794922,
          1.8265289068222046,
          33.19084167480469,
          -23.43095588684082,
          37.838287353515625,
          -12.994552612304688,
          -13.08237361907959,
          10.009753227233887,
          -21.010622024536133,
          8.265626907348633,
          35.08641052246094,
          -26.27816390991211,
          7.475246429443359,
          -21.031280517578125,
          -7.085118770599365,
          -22.241069793701172,
          8.63705825805664,
          -26.968582153320312,
          -2.4619362354278564,
          22.16488265991211,
          -17.97344970703125,
          12.96676254272461,
          -19.939414978027344,
          38.087059020996094,
          18.612545013427734,
          -4.028476238250732,
          31.29662322998047,
          -26.70562744140625,
          -20.236244201660156,
          -34.79573440551758,
          1.5956215858459473,
          -41.24262619018555,
          -17.98264503479004,
          -2.042412042617798,
          36.913665771484375,
          -15.642178535461426,
          -19.81928253173828,
          12.45313549041748,
          41.00496292114258,
          35.76416015625,
          14.736797332763672,
          -13.228946685791016,
          -23.61661148071289,
          36.64763641357422,
          -13.641813278198242,
          33.36298751831055,
          29.528636932373047,
          -22.101627349853516,
          -2.3828465938568115,
          30.097705841064453,
          -12.494365692138672,
          35.697532653808594,
          30.39095687866211,
          19.910980224609375,
          29.805551528930664,
          40.04401397705078,
          -13.395589828491211,
          -19.748729705810547,
          -28.337417602539062,
          -31.00838851928711,
          33.854225158691406,
          36.33259582519531,
          -10.032938003540039,
          -28.44374656677246,
          -7.276072025299072,
          26.353811264038086,
          -2.5918047428131104,
          -19.794586181640625,
          14.845698356628418,
          24.83201789855957,
          -14.215422630310059,
          2.9555070400238037,
          -0.522124707698822,
          -0.14895424246788025,
          -2.2625648975372314,
          28.879758834838867,
          -23.358041763305664,
          -40.327430725097656,
          -22.268564224243164,
          -34.2631950378418,
          -28.933530807495117,
          -10.569011688232422,
          40.21381378173828,
          -0.8830239176750183,
          -21.773099899291992,
          28.173439025878906,
          24.718786239624023,
          -30.811113357543945,
          39.5925178527832,
          37.76805877685547,
          -0.556653618812561,
          -2.6551618576049805,
          -14.005838394165039,
          -1.214079737663269,
          -23.09391975402832,
          12.935654640197754,
          -5.979599475860596,
          -12.23580265045166,
          35.76529312133789,
          -1.4503834247589111,
          0.6881757974624634,
          -40.338558197021484,
          5.07835578918457,
          -3.4727985858917236,
          -37.79347229003906,
          9.974712371826172,
          18.98785972595215,
          17.511526107788086,
          -11.84021282196045,
          -35.937110900878906,
          18.851943969726562,
          -20.131319046020508,
          -22.378326416015625,
          28.056346893310547,
          11.866633415222168,
          35.7840576171875,
          -13.061732292175293,
          -3.9072635173797607,
          35.794044494628906,
          -39.62805938720703,
          2.2602853775024414,
          -29.37148094177246,
          19.292606353759766,
          -14.013779640197754,
          -1.9738932847976685,
          -13.777318000793457,
          -35.30193328857422,
          38.411067962646484,
          -19.236976623535156,
          -5.979223728179932,
          13.444174766540527,
          -13.180057525634766,
          -24.485017776489258,
          -37.371307373046875,
          -13.385482788085938,
          -14.339292526245117,
          -12.832533836364746,
          -37.81801223754883,
          -33.31476593017578,
          -0.7620950937271118,
          39.599464416503906,
          -11.227685928344727,
          10.956494331359863,
          26.183670043945312,
          14.535055160522461,
          32.74271011352539,
          36.83969497680664,
          -24.021028518676758,
          43.97616958618164,
          -1.006730079650879,
          41.0049934387207,
          -2.593197822570801,
          -3.696747303009033,
          19.673505783081055,
          -33.86589813232422,
          14.735577583312988,
          -8.532147407531738,
          4.6945929527282715,
          4.0526323318481445,
          29.089496612548828,
          -31.73685646057129,
          -4.819427490234375,
          37.15618896484375,
          25.582111358642578,
          8.648507118225098,
          20.63634490966797,
          -20.623029708862305,
          -37.712039947509766,
          -32.988704681396484,
          17.131778717041016,
          35.36490249633789,
          36.46656799316406,
          -22.689897537231445,
          29.841468811035156,
          11.444869041442871,
          44.974159240722656,
          35.228763580322266,
          40.419673919677734,
          6.3574981689453125,
          29.758899688720703,
          -29.32954216003418,
          -31.000581741333008,
          30.790611267089844,
          40.04472351074219,
          36.557342529296875,
          38.206233978271484,
          35.454830169677734,
          -5.979841709136963,
          -20.519569396972656,
          13.528512954711914,
          29.01786994934082,
          -1.4473990201950073,
          37.655479431152344,
          35.48362731933594,
          -26.624483108520508,
          -12.99803352355957,
          1.2828699350357056,
          36.277259826660156,
          -1.8050068616867065,
          -37.94160079956055,
          -23.616683959960938,
          35.06981658935547,
          29.055849075317383,
          28.055652618408203,
          -23.016386032104492,
          35.76362228393555,
          24.04630470275879,
          -20.893875122070312,
          -8.428503036499023,
          2.2808051109313965,
          -7.27548360824585,
          36.50668716430664,
          -16.61029052734375,
          17.739635467529297,
          -34.21596908569336,
          36.58256530761719,
          -0.521355390548706,
          -20.236160278320312,
          -3.5652241706848145,
          -3.1465330123901367,
          36.46036148071289,
          -12.790434837341309,
          -21.964982986450195,
          4.399955749511719,
          35.00482940673828,
          29.26405906677246,
          31.449146270751953,
          -20.1320858001709,
          29.995447158813477,
          14.950929641723633,
          -3.416229248046875,
          -1.3983558416366577,
          -1.8049167394638062,
          30.5354061126709,
          -2.4479475021362305,
          11.215988159179688,
          38.6959342956543,
          24.141721725463867,
          10.445344924926758,
          -15.663359642028809,
          -40.02647399902344,
          32.61229705810547,
          -27.438190460205078,
          28.41119956970215,
          37.29549026489258,
          -27.438247680664062,
          -32.78452682495117,
          26.740625381469727,
          -11.431053161621094,
          36.953426361083984,
          -14.089887619018555,
          -2.8745601177215576,
          29.379093170166016,
          14.736191749572754,
          42.24278259277344,
          -18.12024688720703,
          32.90598678588867,
          -20.89494514465332,
          -5.274437427520752,
          32.61228942871094,
          33.67667770385742,
          4.051447868347168,
          31.793682098388672,
          -39.5295524597168,
          31.197065353393555,
          -9.486993789672852,
          -21.103004455566406,
          11.111030578613281,
          -20.236074447631836,
          -6.053211212158203,
          -12.690640449523926,
          -1.3483318090438843,
          24.67298698425293,
          -19.796140670776367,
          -12.790331840515137,
          28.68413734436035,
          30.337148666381836,
          40.04438400268555,
          -33.28150939941406,
          -18.18665885925293,
          -39.60906219482422,
          -3.016789436340332,
          35.50901412963867,
          31.773662567138672,
          41.09901428222656,
          -4.169618129730225,
          29.801225662231445,
          -6.799441814422607,
          32.264129638671875,
          5.542679786682129,
          35.6528205871582,
          40.52516555786133,
          10.072233200073242,
          16.812725067138672,
          37.58977508544922,
          35.236366271972656,
          35.505680084228516,
          35.505863189697266,
          35.509437561035156,
          18.975191116333008,
          41.00495910644531,
          41.0051155090332,
          17.860401153564453,
          36.58433532714844,
          38.25727081298828,
          29.88383674621582,
          29.801443099975586,
          -2.5535309314727783,
          -2.695722818374634,
          -3.701164484024048,
          -13.576377868652344,
          -6.605283737182617,
          -11.2451810836792,
          13.528217315673828,
          33.81889343261719,
          -0.07529260963201523,
          18.22772216796875,
          -13.39552116394043,
          7.279446601867676,
          -0.1712542176246643,
          -2.5307013988494873,
          -34.055545806884766,
          -23.860488891601562,
          8.998808860778809,
          2.480983018875122,
          -18.01279067993164,
          -16.361019134521484,
          -11.987273216247559,
          5.658929347991943,
          -11.619364738464355,
          29.801029205322266,
          29.20096206665039,
          27.35211753845215,
          17.948760986328125,
          -6.852053642272949,
          -19.218265533447266,
          16.049882888793945,
          17.40770149230957,
          -7.022093772888184,
          -22.992374420166016,
          -28.796279907226562,
          -29.319091796875,
          -23.097169876098633,
          -27.99445915222168,
          25.464204788208008,
          24.670969009399414,
          29.817943572998047,
          -19.803178787231445,
          13.077657699584961,
          -2.287937879562378,
          0.7608951926231384,
          29.181352615356445,
          0.8859473466873169,
          -2.844029426574707,
          -5.0482964515686035,
          0.8388849496841431,
          -3.8184187412261963,
          9.639630317687988,
          -7.372411251068115,
          0.7982264161109924,
          18.225542068481445,
          38.699607849121094,
          15.310269355773926,
          -2.603144645690918,
          44.592384338378906,
          37.863407135009766,
          -13.049771308898926,
          -21.56832504272461,
          37.08594512939453,
          30.342697143554688,
          17.334064483642578,
          6.544589996337891,
          30.560888290405273,
          -15.580801963806152,
          -10.440370559692383,
          -22.13972282409668,
          -22.245473861694336,
          -23.095001220703125,
          42.88309097290039,
          -9.625988006591797,
          37.19254684448242,
          1.792893409729004,
          -5.0484113693237305,
          16.81185531616211,
          37.4111213684082,
          -7.632528305053711,
          7.877617835998535,
          -1.4698594808578491,
          -15.604580879211426,
          9.974207878112793,
          -10.997048377990723,
          9.37128734588623,
          43.06605911254883,
          -0.7614389061927795,
          -6.0563812255859375,
          40.29314041137695,
          9.731578826904297,
          1.3848718404769897,
          -8.881403923034668,
          27.08122444152832,
          -30.12297821044922,
          2.748981475830078,
          -23.87429428100586,
          25.582355499267578,
          -14.89399242401123,
          -9.5077543258667,
          26.259431838989258,
          9.983470916748047,
          -16.525245666503906,
          -2.9723310470581055,
          -21.84124755859375,
          -14.33399486541748,
          -19.218242645263672,
          28.058368682861328,
          11.247292518615723,
          -2.302335739135742,
          -1.1213184595108032,
          18.22820281982422,
          44.97777557373047,
          -26.822160720825195,
          16.21753692626953,
          37.1187744140625,
          28.05207633972168,
          -26.75803565979004,
          -12.784086227416992,
          26.816463470458984,
          0.2780390679836273,
          37.79248046875,
          41.30171585083008,
          -8.8788423538208,
          4.930148601531982,
          7.92130708694458,
          -22.755172729492188,
          0.742874801158905,
          -3.0187995433807373,
          17.79962158203125,
          29.88385581970215,
          -11.388463020324707,
          27.081159591674805,
          30.390962600708008,
          2.9829647541046143,
          -19.218158721923828,
          -25.990793228149414,
          4.956010341644287,
          13.896512985229492,
          9.29415512084961,
          13.89841079711914,
          -3.6559526920318604,
          -13.79354476928711,
          -35.647789001464844,
          -29.21265983581543,
          -23.090476989746094,
          39.3202018737793,
          -3.384115695953369,
          32.26162338256836,
          38.066585540771484,
          43.59614562988281,
          35.543025970458984,
          38.87168884277344,
          29.022748947143555,
          -12.971517562866211,
          -12.791726112365723,
          34.7414665222168,
          8.578548431396484,
          44.97882843017578,
          25.415327072143555,
          38.867984771728516,
          -7.632857322692871,
          -14.704137802124023,
          1.745207667350769,
          -0.10396696627140045,
          34.65650939941406,
          -5.7426934242248535,
          24.158329010009766,
          -32.47032928466797,
          37.711883544921875,
          4.771409034729004,
          31.0509033203125,
          26.073274612426758,
          -5.600765705108643,
          9.29341983795166,
          38.07424545288086,
          -6.202604293823242,
          -31.072744369506836,
          -26.548442840576172,
          -16.632335662841797,
          35.823524475097656,
          -9.12842845916748,
          16.404436111450195,
          1.8611606359481812,
          -13.054116249084473,
          -13.368511199951172,
          35.764530181884766,
          -3.1889243125915527,
          0.30779770016670227,
          -32.469940185546875,
          -26.01686668395996,
          38.073814392089844,
          35.10392761230469,
          35.10138702392578,
          23.771587371826172,
          -0.6531753540039062,
          -13.410870552062988,
          38.85600662231445,
          -2.431894540786743,
          -31.246963500976562,
          36.47825622558594,
          -19.357839584350586,
          -23.098745346069336,
          -0.8732115030288696,
          26.59416389465332,
          -29.32146644592285,
          0.44693896174430847,
          -3.7577075958251953,
          -13.781970024108887,
          -35.64876937866211,
          27.890262603759766,
          19.23389434814453,
          -26.0195255279541,
          8.625842094421387,
          33.67672348022461,
          31.561229705810547,
          -27.05954360961914,
          30.341794967651367,
          40.28364944458008,
          35.76918029785156,
          -15.665175437927246,
          -34.54553985595703,
          -28.958637237548828,
          -4.006279945373535,
          7.886707782745361,
          -0.13810333609580994,
          -5.0487260818481445,
          38.327484130859375,
          9.731099128723145,
          -10.198878288269043,
          -26.34366226196289,
          -4.221986293792725,
          4.939188003540039,
          -15.53197956085205,
          -20.332931518554688,
          -31.737634658813477,
          -4.92978048324585,
          -6.809891700744629,
          -39.270172119140625,
          35.898399353027344,
          -30.43252944946289,
          38.59883117675781,
          9.894028663635254,
          -20.37647247314453,
          30.53058624267578,
          29.79974937438965,
          29.798856735229492,
          29.80035972595215,
          38.232505798339844,
          -0.7610885500907898,
          -19.113178253173828,
          7.885624885559082,
          -37.41683578491211,
          -34.7499885559082,
          24.498186111450195,
          10.604504585266113,
          11.714008331298828,
          -6.2993645668029785,
          -1.0926814079284668,
          -22.19573211669922,
          -0.11814384907484055,
          -23.160171508789062,
          29.90900993347168,
          -40.7937126159668,
          27.815553665161133,
          -7.262308597564697,
          -34.48472213745117,
          24.045862197875977,
          -21.436077117919922,
          24.435192108154297,
          30.034469604492188,
          38.27578353881836,
          -0.6394670605659485,
          29.202173233032227,
          28.053939819335938,
          35.50856399536133,
          29.902896881103516,
          -13.563773155212402,
          -1.7900947332382202,
          -26.493391036987305,
          14.52408218383789,
          13.024921417236328,
          -1.223150610923767,
          18.583789825439453,
          -2.431396007537842,
          23.07541847229004,
          11.070939064025879,
          35.3331413269043,
          14.700725555419922,
          -1.3326765298843384,
          8.263370513916016,
          -5.048257350921631,
          38.55839920043945,
          -9.626709938049316,
          -6.0494585037231445,
          -30.12952995300293,
          29.602766036987305,
          20.219905853271484,
          -18.13932991027832,
          -13.255570411682129,
          -2.978442907333374,
          -24.78534698486328,
          30.034944534301758,
          39.60725021362305,
          -0.15410055220127106,
          -6.614745140075684,
          -1.9568933248519897,
          -11.021836280822754,
          -2.7536118030548096,
          -32.46905517578125,
          -3.19600248336792,
          -3.1917035579681396,
          -4.6909942626953125,
          -20.129512786865234,
          -19.855812072753906,
          -7.141239166259766,
          -22.47443199157715,
          -31.694204330444336,
          -9.325013160705566,
          43.91038131713867,
          -29.329830169677734,
          -13.77944278717041,
          44.40283966064453,
          10.776933670043945,
          -0.4082169234752655,
          -30.923763275146484,
          44.5950927734375,
          -0.7555649876594543,
          -4.028810501098633,
          -1.5020713806152344,
          -5.743254661560059,
          43.09390640258789,
          -0.17099684476852417,
          38.49234390258789,
          10.788756370544434,
          30.40089988708496,
          -37.712196350097656,
          -39.85626220703125,
          30.448659896850586,
          9.548287391662598,
          22.077516555786133,
          3.955646514892578,
          36.86256408691406,
          8.091338157653809,
          38.032840728759766,
          -9.627452850341797,
          37.28684997558594,
          9.821205139160156,
          24.198749542236328,
          27.078712463378906,
          -4.579052448272705,
          17.5112247467041,
          -16.361047744750977,
          4.69646692276001,
          -31.07349395751953,
          -12.350560188293457,
          38.512630462646484,
          -24.462024688720703,
          28.054899215698242,
          -14.467917442321777,
          -22.952316284179688,
          -8.67503547668457,
          -11.209386825561523,
          25.984256744384766,
          -10.62132740020752,
          29.214824676513672,
          -27.11515235900879,
          -30.135398864746094,
          38.87192916870117,
          30.335716247558594,
          13.947274208068848,
          -41.00848388671875,
          -41.17384719848633,
          3.369335412979126,
          -4.003573894500732,
          37.81685256958008,
          2.9363510608673096,
          18.656539916992188,
          22.263832092285156,
          4.219977855682373,
          -11.64432430267334,
          35.23794937133789,
          -19.218881607055664,
          8.952108383178711,
          44.75874328613281,
          -33.28187942504883,
          20.350393295288086,
          -7.077060222625732,
          34.47480773925781,
          -32.37094497680664,
          -5.048474311828613,
          21.49323081970215,
          -1.0895087718963623,
          -23.24394416809082,
          0.1694110929965973,
          14.915301322937012,
          6.3562235832214355,
          -30.126676559448242,
          26.912036895751953,
          15.561854362487793,
          -20.132713317871094,
          26.59458351135254,
          4.312681674957275,
          27.995264053344727,
          -28.201814651489258,
          35.439849853515625,
          21.73307991027832,
          -19.220407485961914,
          15.797380447387695,
          7.809804439544678,
          35.507442474365234,
          -13.606327056884766,
          9.07697582244873,
          3.9619545936584473,
          -5.484922409057617,
          24.774932861328125,
          -4.1687211990356445,
          12.347485542297363,
          -3.1530840396881104,
          -16.63237190246582,
          27.790687561035156,
          -12.788427352905273,
          -4.029179573059082,
          -2.328230381011963,
          0.7876009941101074,
          -15.687442779541016,
          -14.702630996704102,
          24.497854232788086,
          24.497976303100586,
          -27.484596252441406,
          -27.600629806518555,
          14.995630264282227,
          -6.6065144538879395,
          -3.551450729370117,
          -3.574004650115967,
          -14.733488082885742,
          -2.4350147247314453,
          -2.807081699371338,
          38.86555480957031,
          2.5956904888153076,
          1.7985637187957764,
          46.049747467041016,
          33.10663604736328,
          -12.787982940673828,
          7.693518161773682,
          -23.242834091186523,
          -34.74959182739258,
          -13.39736557006836,
          31.515953063964844,
          34.4771842956543,
          13.327174186706543,
          3.506080389022827,
          -0.111129030585289,
          -14.432862281799316,
          -15.92219352722168,
          -18.228404998779297,
          -28.79694938659668,
          -2.5935487747192383,
          0.11828627437353134,
          36.334049224853516,
          -31.740507125854492,
          -27.648548126220703,
          24.158660888671875,
          -1.8368961811065674,
          -0.6186589598655701,
          -14.351710319519043,
          -27.05535125732422,
          18.420597076416016,
          42.2524299621582,
          -29.766443252563477,
          -2.948394298553467,
          -29.13926124572754,
          -18.727495193481445,
          -0.13674679398536682,
          7.2009148597717285,
          -10.886253356933594,
          -24.658924102783203,
          -26.961881637573242,
          35.00510787963867,
          29.596420288085938,
          -22.298471450805664,
          -33.95161437988281,
          6.771970748901367,
          -39.033966064453125,
          -22.298843383789062,
          16.750598907470703,
          -37.79380798339844,
          31.259780883789062,
          24.53154754638672,
          38.48349380493164,
          11.108681678771973,
          -31.2420597076416,
          41.1019287109375,
          -31.02613067626953,
          17.13161849975586,
          26.221969604492188,
          -11.608118057250977,
          23.91486358642578,
          -15.581806182861328,
          35.50432205200195,
          -0.4386647343635559,
          7.328446865081787,
          -27.10807228088379,
          -2.4155235290527344,
          -12.61717700958252,
          -14.544353485107422,
          25.105030059814453,
          -6.19411563873291,
          -5.7356791496276855,
          -14.035048484802246,
          0.24535611271858215,
          30.264507293701172,
          -29.212892532348633,
          -0.4289577901363373,
          -6.604603290557861,
          26.0743408203125,
          28.053119659423828,
          41.098907470703125,
          8.601863861083984,
          -25.561344146728516,
          -32.553314208984375,
          -30.335779190063477,
          -20.191600799560547,
          15.785370826721191,
          -1.803035020828247,
          3.369283676147461,
          35.77861404418945,
          29.92099380493164,
          4.340680122375488,
          25.27718734741211,
          35.75691223144531,
          1.8149346113204956,
          40.8085823059082,
          2.881843090057373,
          35.21571350097656,
          -14.265891075134277,
          -19.220157623291016,
          -26.852691650390625,
          -12.10280704498291,
          26.174123764038086,
          22.07549476623535,
          7.815511226654053,
          44.9775276184082,
          27.474472045898438,
          -16.632028579711914,
          17.152185440063477,
          30.82567596435547,
          8.567851066589355,
          -3.1050920486450195,
          7.044003486633301,
          30.79357147216797,
          -2.5028903484344482,
          -26.915851593017578,
          -27.11066436767578,
          -31.008848190307617,
          28.055723190307617,
          -39.60911178588867,
          17.973255157470703,
          -25.88235855102539,
          19.14807891845703,
          -0.5215076804161072,
          -26.5115909576416,
          -40.35942840576172,
          -11.655631065368652,
          -0.8271403908729553,
          -19.220766067504883,
          17.41713523864746,
          -36.45541763305664,
          4.746435165405273,
          28.95952606201172,
          -3.6967785358428955,
          24.110919952392578,
          -29.320213317871094,
          -41.265079498291016,
          -31.126760482788086,
          31.77495765686035,
          30.264863967895508,
          -42.379638671875,
          -13.400201797485352,
          11.811707496643066,
          3.2198474407196045,
          -29.233245849609375,
          34.655391693115234,
          -1.2913848161697388,
          -2.920746088027954,
          28.683549880981445,
          30.26476287841797,
          32.261348724365234,
          6.241485595703125,
          4.210062026977539,
          -12.892322540283203,
          40.87131118774414,
          41.98926544189453,
          8.592791557312012,
          -8.663171768188477,
          -4.552595615386963,
          -27.354280471801758,
          -14.65445613861084,
          -9.625699043273926,
          -16.632238388061523,
          27.08177947998047,
          30.058137893676758,
          -28.956073760986328,
          31.450477600097656,
          31.003324508666992,
          -26.528474807739258,
          -21.710933685302734,
          43.095523834228516,
          42.249820709228516,
          -22.09758949279785,
          -24.363792419433594,
          -32.46964645385742,
          25.887672424316406,
          2.2594268321990967,
          -1.6384073495864868,
          13.182649612426758,
          35.59789276123047,
          6.241097450256348,
          24.49748992919922,
          8.610604286193848,
          17.762928009033203,
          0.13691440224647522,
          18.729598999023438,
          18.920204162597656,
          1.5065054893493652,
          -7.025402545928955,
          -36.50895690917969,
          -15.67793083190918,
          9.025496482849121,
          27.99508285522461,
          16.081462860107422,
          -12.948354721069336,
          -37.53047180175781,
          41.101463317871094,
          35.567596435546875,
          39.75718307495117,
          -18.728212356567383,
          32.26384353637695,
          -6.809482574462891,
          22.92047119140625,
          8.952421188354492,
          -2.103020429611206,
          9.014253616333008,
          -10.439608573913574,
          -0.3875914514064789,
          -1.9054394960403442,
          37.78919982910156,
          -0.9411072731018066,
          -14.67944622039795,
          27.37647247314453,
          -1.5945749282836914,
          29.978633880615234,
          8.757111549377441,
          17.50678825378418,
          26.073884963989258,
          18.723011016845703,
          -5.98092794418335,
          -24.444143295288086,
          -8.67617416381836,
          -10.649134635925293,
          29.336896896362305,
          28.099218368530273,
          -31.013065338134766,
          17.341156005859375,
          -1.434136152267456,
          -12.526827812194824,
          33.19001770019531,
          -26.506587982177734,
          11.163167953491211,
          -21.218198776245117,
          0.22569657862186432,
          31.18334197998047,
          29.012630462646484,
          10.25168514251709,
          -34.546051025390625,
          -2.671719551086426,
          -12.95438003540039,
          -22.57940101623535,
          -24.440452575683594,
          -13.921855926513672,
          -0.5142121911048889,
          -24.48528480529785,
          -16.244529724121094,
          28.053144454956055,
          -34.08053207397461,
          10.444485664367676,
          18.13213348388672,
          0.10913607478141785,
          30.551483154296875,
          16.04033851623535,
          2.1739702224731445,
          15.412641525268555,
          23.52834701538086,
          -2.8085434436798096,
          4.923543930053711,
          -35.64625930786133,
          35.76503372192383,
          6.544589996337891,
          7.076225280761719,
          24.671630859375,
          36.14551544189453,
          -10.440096855163574,
          3.3731296062469482,
          -19.102262496948242,
          0.9181684255599976,
          -26.663860321044922,
          33.360965728759766,
          -0.6142864227294922,
          26.07236099243164,
          -32.79289245605469,
          -0.2649117708206177,
          -10.717101097106934,
          15.947013854980469,
          42.26953887939453,
          -31.199390411376953,
          -27.606800079345703,
          32.56455993652344,
          -24.43115234375,
          16.128276824951172,
          16.238649368286133,
          39.60872268676758,
          -41.84862518310547,
          15.92735481262207,
          17.879119873046875,
          -10.159984588623047,
          -1.9109218120574951,
          7.023717880249023,
          1.596060872077942,
          -14.583830833435059,
          4.940190315246582,
          -20.130508422851562,
          32.53338623046875,
          -13.028472900390625,
          -10.893767356872559,
          -36.49965286254883,
          26.351882934570312,
          32.26090621948242,
          15.959856986999512,
          16.084110260009766,
          16.23369598388672,
          32.532554626464844,
          14.420992851257324,
          16.21919822692871,
          -30.89003562927246,
          -0.961933434009552,
          23.539722442626953,
          15.796862602233887,
          20.430410385131836,
          -24.718542098999023,
          24.670137405395508,
          -15.909347534179688,
          -22.75486183166504,
          -27.63580322265625,
          -30.1295108795166,
          3.2831950187683105,
          -36.231685638427734,
          38.51276779174805,
          10.788342475891113,
          9.917609214782715,
          35.1300163269043,
          24.49801254272461,
          -21.80892562866211,
          -9.767194747924805,
          -3.698542833328247,
          -36.45637512207031,
          9.036981582641602,
          -12.832661628723145,
          28.684858322143555,
          20.23181915283203,
          -1.4658750295639038,
          -6.444296836853027,
          38.871150970458984,
          -23.61646270751953,
          -23.28543472290039,
          -31.2607421875,
          -36.499691009521484,
          12.333571434020996,
          -23.160289764404297,
          16.988162994384766,
          -0.22150281071662903,
          -20.622039794921875,
          -3.5967037677764893,
          25.982269287109375,
          -0.6043797731399536,
          -31.040170669555664,
          -0.8473420739173889,
          -27.116954803466797,
          -8.67053508758545,
          -42.499107360839844,
          -15.008418083190918,
          -14.160223960876465,
          -21.81157112121582,
          45.71757507324219,
          -40.56465530395508,
          7.68621826171875,
          -1.3242566585540771,
          19.746679306030273,
          -23.245677947998047,
          -14.054296493530273,
          18.97650909423828,
          10.788046836853027,
          -10.570935249328613,
          29.16604995727539,
          -3.5758113861083984,
          -2.9805567264556885,
          -12.50080680847168,
          -3.616846799850464,
          -1.3779535293579102,
          -27.693021774291992,
          38.9232292175293,
          35.50652313232422,
          -25.43959617614746,
          38.99687957763672,
          8.875260353088379,
          -4.928662300109863,
          16.630146026611328,
          -42.634281158447266,
          8.131229400634766,
          -4.831557273864746,
          38.871150970458984,
          -6.557562828063965,
          -1.9028345346450806,
          8.131229400634766,
          18.747037887573242,
          -12.938421249389648,
          -30.132619857788086,
          8.011778831481934,
          21.493408203125,
          -14.685487747192383,
          -26.95094871520996,
          26.220745086669922,
          -25.383760452270508,
          -12.50964641571045,
          -2.837171792984009,
          -28.76170539855957,
          8.552899360656738,
          -0.606292188167572,
          41.65333557128906,
          -10.159832954406738,
          -24.443544387817383,
          31.793460845947266,
          12.965452194213867,
          4.748685359954834,
          -42.92398452758789,
          -5.983438968658447,
          37.19831466674805,
          -26.57596206665039,
          19.675945281982422,
          -42.77253723144531,
          -41.22793197631836,
          -7.8757548332214355,
          20.06179428100586,
          2.129932165145874,
          -15.387843132019043,
          -4.530416965484619,
          -36.110260009765625,
          -16.093215942382812,
          -4.811520099639893,
          -23.158979415893555,
          12.949678421020508,
          -0.5925173163414001,
          10.236207008361816,
          26.23867416381836,
          20.149118423461914,
          30.47199058532715,
          -8.628385543823242,
          -7.876899242401123,
          5.708416938781738,
          1.295901894569397,
          8.131229400634766,
          28.022207260131836,
          -13.542179107666016,
          -13.54529094696045,
          8.051785469055176,
          9.0197172164917,
          8.93298625946045,
          -13.579011917114258,
          8.834399223327637,
          -26.510942459106445,
          -0.6139777898788452,
          -18.678064346313477,
          -31.25739097595215,
          -33.867034912109375,
          -3.3905439376831055,
          8.16124153137207,
          -33.46152877807617,
          40.06139373779297,
          37.175193786621094,
          -29.18917465209961,
          1.556093692779541,
          0.053799502551555634,
          -0.1264636516571045,
          35.50570297241211,
          1.4520573616027832,
          -0.6148501038551331,
          -0.614710807800293,
          -14.488398551940918,
          -8.627413749694824,
          36.72307205200195,
          -7.287803649902344,
          -0.17086096107959747,
          8.012944221496582,
          -3.1171875,
          5.44867467880249,
          30.059545516967773,
          -30.47378921508789,
          20.231504440307617,
          4.770496368408203,
          -23.088224411010742,
          -3.544635772705078,
          19.63621711730957,
          -42.05177307128906,
          -26.02426528930664,
          40.81099319458008,
          -3.853062152862549,
          -41.76354217529297,
          -21.81157112121582,
          38.833255767822266,
          -3.6032822132110596,
          2.9841246604919434,
          -30.736764907836914,
          13.314910888671875,
          38.79054641723633,
          -20.157461166381836,
          12.937729835510254,
          29.802030563354492,
          -21.81096839904785,
          -26.96869659423828,
          -14.920291900634766,
          -3.2218198776245117,
          24.669355392456055,
          -35.648868560791016,
          1.8058319091796875,
          -1.4665528535842896,
          -33.13737869262695,
          -1.9682986736297607,
          27.00088119506836,
          -0.527445375919342,
          -5.160079479217529,
          -9.629134178161621,
          30.49175262451172,
          -9.304140090942383,
          17.236339569091797,
          -5.983218193054199,
          -6.0531768798828125,
          -43.30555725097656,
          -29.332277297973633,
          22.664276123046875,
          38.668060302734375,
          1.1074340343475342,
          7.32555627822876,
          -12.067638397216797,
          24.497941970825195,
          -32.794620513916016,
          30.330629348754883,
          -42.02928924560547,
          24.143739700317383,
          -1.7802305221557617,
          31.94572639465332,
          16.672462463378906,
          16.97545623779297,
          7.845483303070068,
          -27.454378128051758,
          13.884116172790527,
          3.5777170658111572,
          3.2831568717956543,
          -2.5965311527252197,
          7.2199883460998535,
          9.79743766784668,
          -14.076656341552734,
          -28.20846176147461,
          -21.81144905090332,
          39.63275146484375,
          37.76890563964844,
          -10.010093688964844,
          -26.8912353515625,
          15.079187393188477,
          -29.32015609741211,
          12.940544128417969,
          -31.21501350402832,
          34.87531280517578,
          -1.254084587097168,
          -15.168344497680664,
          21.299049377441406,
          -21.712488174438477,
          1.5171571969985962,
          -8.575206756591797,
          -37.71579360961914,
          19.572996139526367,
          -29.182113647460938,
          24.49846649169922,
          34.343772888183594,
          18.231700897216797,
          -3.3875818252563477,
          -3.7330434322357178,
          -26.768239974975586,
          15.533855438232422,
          16.14646339416504,
          5.0651373863220215,
          -40.500038146972656,
          -36.2469596862793,
          -3.2688796520233154,
          -12.050250053405762,
          -31.069812774658203,
          -3.4442646503448486,
          -3.7570106983184814,
          -1.0403188467025757,
          32.53349304199219,
          18.04351806640625,
          9.288780212402344,
          -30.99660873413086,
          1.5150470733642578,
          -3.9494967460632324,
          2.174316883087158,
          -11.363724708557129,
          -3.150348663330078,
          1.4520573616027832,
          38.56364059448242,
          -26.666542053222656,
          -22.323585510253906,
          29.181991577148438,
          -17.75132179260254,
          -42.350833892822266,
          -25.245521545410156,
          -26.968685150146484,
          5.385258197784424,
          1.1295137405395508,
          4.210405349731445,
          0.5479159355163574,
          26.350263595581055,
          35.616512298583984,
          19.611162185668945,
          0.8407736420631409,
          6.241313457489014,
          7.198462963104248,
          -26.443342208862305,
          8.084808349609375,
          19.034786224365234,
          19.283527374267578,
          38.59926986694336,
          -25.881277084350586,
          20.674640655517578,
          1.5231316089630127,
          -2.3737552165985107,
          1.4378618001937866,
          0.053799502551555634,
          -1.4063212871551514,
          -3.8396639823913574,
          30.28724479675293,
          0.3836206793785095,
          44.75918197631836,
          26.35086441040039,
          2.9289259910583496,
          -13.237136840820312,
          -11.366168022155762,
          -17.10314178466797,
          -5.343725681304932,
          -1.2798255681991577,
          -10.16023063659668,
          38.87209701538086,
          19.218412399291992,
          -35.186649322509766,
          -3.4454574584960938,
          -20.1301326751709,
          -43.02827453613281,
          -16.363597869873047,
          29.090106964111328,
          18.335731506347656,
          -13.65382194519043,
          9.689668655395508,
          12.347723007202148,
          0.30749908089637756,
          -26.792831420898438,
          8.012714385986328,
          -32.793521881103516,
          -15.132780075073242,
          36.33706283569336,
          36.600643157958984,
          8.7673978805542,
          -16.131574630737305,
          -35.5479736328125,
          -14.856639862060547,
          1.2950183153152466,
          -27.372533798217773,
          6.779239177703857,
          -12.310004234313965,
          -9.327627182006836,
          0.4968712329864502,
          -28.44378089904785,
          1.5965111255645752,
          -4.793580532073975,
          18.954011917114258,
          -36.76311492919922,
          -7.287750244140625,
          -0.8321581482887268,
          1.8068017959594727,
          28.88100814819336,
          21.216726303100586,
          14.741630554199219,
          -17.85997200012207,
          -0.17203103005886078,
          -16.632062911987305,
          29.13033676147461,
          -31.260953903198242,
          13.779322624206543,
          32.263084411621094,
          -1.3287423849105835,
          -14.212837219238281,
          15.502655982971191,
          -13.40334701538086,
          -13.53246784210205,
          -14.190168380737305,
          16.142494201660156,
          28.769426345825195,
          -16.20997428894043,
          3.3691797256469727,
          -31.739063262939453,
          -0.7513522505760193,
          4.758786678314209,
          38.41092300415039,
          -4.02825403213501,
          34.65626525878906,
          31.98804473876953,
          -3.803424596786499,
          17.28217887878418,
          -19.508939743041992,
          -13.50678825378418,
          39.659053802490234,
          14.991473197937012,
          -42.752471923828125,
          -2.372485637664795,
          2.234170913696289,
          -24.525217056274414,
          -23.160675048828125,
          6.058337211608887,
          36.01303482055664,
          -42.716609954833984,
          36.33488464355469,
          8.094160079956055,
          18.810779571533203,
          -15.957308769226074,
          35.7380256652832,
          -32.9140510559082,
          -32.67338562011719,
          -32.79431915283203,
          -42.19705581665039,
          -32.74821472167969,
          -22.932106018066406,
          29.950639724731445,
          -40.76766586303711,
          17.827306747436523,
          18.33725929260254,
          -0.5744893550872803,
          30.352191925048828,
          8.745198249816895,
          -41.72817611694336,
          17.244468688964844,
          27.995100021362305,
          18.124013900756836,
          1.4629496335983276,
          -0.919873058795929,
          -4.8827080726623535,
          -16.826297760009766,
          20.486446380615234,
          -0.13928095996379852,
          3.373115062713623,
          -3.140766143798828,
          -4.811415195465088,
          36.8065185546875,
          -14.617025375366211,
          -33.28620529174805,
          -29.139720916748047,
          -41.441261291503906,
          -2.9428272247314453,
          -7.27540397644043,
          0.2762890160083771,
          -23.8612060546875,
          -18.86114501953125,
          -23.874940872192383,
          35.10198211669922,
          27.375032424926758,
          17.237445831298828,
          -7.00956916809082,
          -20.620494842529297,
          -1.4665368795394897,
          -3.562429666519165,
          25.10405158996582,
          36.33485794067383,
          -32.47286605834961,
          -1.6303064823150635,
          -43.01358413696289,
          6.242915630340576,
          -20.127233505249023,
          7.31370210647583,
          7.34235954284668,
          6.903098106384277,
          7.158555030822754,
          -34.79822540283203,
          18.821422576904297,
          6.971994876861572,
          -9.49810791015625,
          -3.445329189300537,
          -10.439111709594727,
          30.986572265625,
          -15.714982986450195,
          16.523441314697266,
          -4.120153903961182,
          6.496318817138672,
          40.490440368652344,
          41.10075378417969,
          17.340290069580078,
          -3.4867076873779297,
          17.877885818481445,
          13.530099868774414,
          19.799009323120117,
          15.44702434539795,
          -26.30492401123047,
          -43.570613861083984,
          31.204622268676758,
          -15.823832511901855,
          -3.531780958175659,
          -34.05466079711914,
          18.57746696472168,
          -0.13404114544391632,
          2.931060791015625,
          0.10914725810289383,
          19.13062858581543,
          -27.071260452270508,
          10.558480262756348,
          -19.96535873413086,
          0.8803175687789917,
          -15.461525917053223,
          32.26090621948242,
          -4.053098678588867,
          -40.56452178955078,
          -16.117015838623047,
          7.670610427856445,
          -41.941261291503906,
          -40.70315933227539,
          -40.581268310546875,
          -41.44501876831055,
          25.411176681518555,
          26.220291137695312,
          -31.73621940612793,
          -15.289287567138672,
          38.870521545410156,
          -3.378870725631714,
          23.901866912841797,
          39.403465270996094,
          -22.29777717590332,
          -9.32854175567627,
          -41.44316482543945,
          16.84756851196289,
          -26.851041793823242,
          -20.978654861450195,
          24.669340133666992,
          -3.3630104064941406,
          -3.228407144546509,
          -16.081558227539062,
          -3.709683895111084,
          -3.7159245014190674,
          -3.5948143005371094,
          20.472408294677734,
          16.985803604125977,
          1.3809000253677368,
          -4.8313984870910645,
          -3.8308839797973633,
          -0.6611311435699463,
          -26.023475646972656,
          9.263568878173828,
          -1.8142313957214355,
          -10.355757713317871,
          -11.07259750366211,
          -2.7505805492401123,
          24.498273849487305,
          -3.1512582302093506,
          24.669410705566406,
          -13.63847541809082,
          -14.652148246765137,
          -3.0982747077941895,
          13.530105590820312,
          -13.579146385192871,
          -0.14238756895065308,
          6.994946479797363,
          36.98539352416992,
          -25.378583908081055,
          37.0029182434082,
          19.712017059326172,
          8.783221244812012,
          -25.26326560974121,
          -32.17301940917969,
          -3.4559578895568848,
          -13.403454780578613,
          8.834620475769043,
          -9.629406929016113,
          -3.0933244228363037,
          -32.79450988769531,
          -26.148651123046875,
          6.913680076599121,
          10.55959701538086,
          -3.2071518898010254,
          35.71817398071289,
          -14.488799095153809,
          17.341463088989258,
          -10.355305671691895,
          17.325359344482422,
          -0.5233676433563232,
          17.236268997192383,
          -3.980429172515869,
          0.4714887738227844,
          6.968247890472412,
          -41.01734924316406,
          -15.288797378540039,
          20.668331146240234,
          4.565583229064941,
          -20.101598739624023,
          -27.3553524017334,
          30.287395477294922,
          7.018333911895752,
          30.329490661621094,
          -30.133745193481445,
          14.437442779541016,
          19.578704833984375,
          19.6247501373291,
          18.563129425048828,
          35.51401138305664,
          22.649417877197266,
          28.23438835144043,
          11.811470031738281,
          -12.1677827835083,
          12.232187271118164,
          0.3438992202281952,
          4.470955848693848,
          1.2177488803863525,
          -0.40306347608566284,
          15.796804428100586,
          10.986228942871094,
          -4.363000392913818,
          20.101879119873047,
          0.5529146790504456,
          -35.64828872680664,
          -1.7534968852996826,
          0.8304697871208191,
          -43.58415985107422,
          3.373115062713623,
          -41.61758804321289,
          -0.13802774250507355,
          -3.7116732597351074,
          -8.630356788635254,
          8.628216743469238,
          -17.241558074951172,
          17.236068725585938,
          -24.444610595703125,
          -23.01507568359375,
          -12.781728744506836,
          1.058904767036438,
          -41.36392593383789,
          -12.615625381469727,
          35.76128005981445,
          8.767650604248047,
          -12.784655570983887,
          18.99424171447754,
          -0.5203588604927063,
          12.936970710754395,
          35.47714614868164,
          -16.07830810546875,
          -0.13924503326416016,
          -3.679525852203369,
          -3.566471576690674,
          -2.773707151412964,
          -3.566471576690674,
          8.010931968688965,
          -2.1388697624206543,
          -12.547630310058594,
          14.539603233337402,
          -3.728724241256714,
          19.069747924804688,
          -20.38340187072754,
          -3.698442220687866,
          10.559534072875977,
          -3.673403024673462,
          -12.290934562683105,
          -19.50815200805664,
          -22.047470092773438,
          -9.159113883972168,
          -3.5607364177703857,
          -6.61517333984375,
          -36.4564208984375,
          30.83592987060547,
          -13.545611381530762,
          1.049324870109558,
          -41.09854507446289,
          -28.761554718017578,
          20.042634963989258,
          -7.28859281539917,
          19.40061378479004,
          -33.283329010009766,
          -32.26259994506836,
          1.22153639793396,
          -4.012548446655273,
          -0.17106236517429352,
          -0.06596370041370392,
          -42.22827911376953,
          15.412641525268555,
          22.077232360839844,
          -3.138268232345581,
          -19.96002197265625,
          -26.48639678955078,
          22.200183868408203,
          11.100442886352539,
          -26.891620635986328,
          -15.687990188598633,
          -36.76309585571289,
          -32.01299285888672,
          38.401458740234375,
          13.528928756713867,
          -41.79884338378906,
          -23.24565887451172,
          -19.963790893554688,
          19.194761276245117,
          -14.444101333618164,
          -15.981919288635254,
          -42.42012023925781,
          12.452081680297852,
          -18.90203285217285,
          -0.7556835412979126,
          -13.030177116394043,
          17.385238647460938,
          -1.9423507452011108,
          -8.368087768554688,
          22.07786750793457,
          -2.5081160068511963,
          -40.53865432739258,
          -4.319706439971924,
          -41.99457931518555,
          -0.17109642922878265,
          8.628216743469238,
          -42.66116714477539,
          17.265214920043945,
          20.28378677368164,
          -43.25233840942383,
          36.732086181640625,
          28.715694427490234,
          -9.320398330688477,
          17.55725860595703,
          -4.4151811599731445,
          7.597232341766357,
          28.79998016357422,
          -4.3242034912109375,
          14.740653991699219,
          -24.44618797302246,
          26.999828338623047,
          -35.32492446899414,
          2.2327494621276855,
          -42.95669174194336,
          -8.626142501831055,
          38.52215576171875,
          18.16094970703125,
          -0.22211669385433197,
          27.77779197692871,
          42.27241134643555,
          -2.6411566734313965,
          39.61178207397461,
          -4.822691917419434,
          -9.472611427307129,
          -26.508113861083984,
          4.554573059082031,
          -41.73537826538086,
          14.437630653381348,
          24.533313751220703,
          -21.489864349365234,
          17.556276321411133,
          -42.391082763671875,
          -40.972049713134766,
          29.180076599121094,
          20.620351791381836,
          -8.883679389953613,
          11.106073379516602,
          -4.580009937286377,
          -16.527204513549805,
          -2.492290735244751,
          -26.780345916748047,
          17.710750579833984,
          -30.103242874145508,
          17.38799476623535,
          19.500579833984375,
          -26.751110076904297,
          -0.5196614265441895,
          6.496461391448975,
          18.7619571685791,
          42.26701736450195,
          -21.810867309570312,
          7.850375175476074,
          -41.825836181640625,
          -13.930682182312012,
          -2.06345534324646,
          -27.716371536254883,
          -13.531270980834961,
          13.529784202575684,
          12.937155723571777,
          28.043004989624023,
          -14.11591911315918,
          44.98430633544922,
          -3.706631898880005,
          11.17891788482666,
          17.236047744750977,
          5.708399295806885,
          4.551581382751465,
          15.796815872192383,
          -21.810436248779297,
          11.269891738891602,
          13.345733642578125,
          -33.9011344909668,
          -27.37497329711914,
          -26.526390075683594,
          31.179662704467773,
          -15.957080841064453,
          -41.353736877441406,
          -27.304441452026367,
          -26.30690574645996,
          18.136470794677734,
          -12.495095252990723,
          -3.6291253566741943,
          2.1742918491363525,
          19.02816390991211,
          12.939994812011719,
          33.77225112915039,
          -12.775276184082031,
          -7.276143550872803,
          11.8113431930542,
          -11.581725120544434,
          18.285764694213867,
          -45.10205841064453,
          -23.508188247680664,
          -0.13582764565944672,
          0.5091670155525208,
          19.473651885986328,
          20.232723236083984,
          -45.240562438964844,
          -26.537866592407227,
          32.73127365112305,
          7.471293926239014,
          -16.93867301940918,
          -6.614171981811523,
          4.201406002044678,
          -16.23826026916504,
          -27.44301414489746,
          30.150402069091797,
          38.846824645996094,
          -6.183528423309326,
          18.35763931274414,
          -1.2469240427017212,
          39.63438415527344,
          -45.4831657409668,
          -23.869789123535156,
          -0.17048165202140808,
          38.83040237426758,
          -45.83463668823242,
          -26.625335693359375,
          0.10827326029539108,
          -28.785017013549805,
          -19.509004592895508,
          -28.785017013549805,
          -28.785017013549805,
          -26.71137237548828,
          -20.101964950561523,
          0.4822840392589569,
          -12.14667797088623,
          -23.23497200012207,
          -0.26306140422821045,
          18.663311004638672,
          -46.737178802490234,
          35.10061264038086,
          -24.966358184814453,
          8.01148796081543,
          8.091599464416504,
          -0.9211081266403198,
          -14.96551513671875,
          -12.89203929901123,
          40.432308197021484,
          -0.5492092370986938,
          -2.43784761428833,
          -3.1492722034454346,
          4.64701509475708,
          32.73135757446289,
          -12.14667797088623,
          41.03963088989258,
          -26.029312133789062,
          -30.11479377746582,
          -10.008978843688965,
          -23.09364891052246,
          43.59728240966797,
          39.894588470458984,
          20.24235725402832,
          20.24235725402832,
          -11.364322662353516,
          -1.3534058332443237,
          -23.244428634643555,
          24.14735221862793,
          19.360881805419922,
          17.11839485168457,
          -1.0594444274902344,
          17.582117080688477,
          -0.4722861647605896,
          17.236202239990234,
          7.869871616363525,
          0.8805978298187256,
          14.64328670501709,
          27.994909286499023,
          38.048561096191406,
          12.940530776977539,
          13.187005043029785,
          -14.198543548583984,
          44.98664093017578,
          -4.814373970031738,
          18.51193618774414,
          34.85289001464844,
          -3.1496050357818604,
          -19.746057510375977,
          5.7085442543029785,
          -1.771316647529602,
          -27.215818405151367,
          39.63426208496094,
          17.318992614746094,
          -31.260082244873047,
          -46.28797912597656,
          -19.22073745727539,
          19.04823112487793,
          -28.79024887084961,
          25.277263641357422,
          -13.507163047790527,
          -43.851097106933594,
          4.163798809051514,
          18.802352905273438,
          -4.8174357414245605,
          0.7343569397926331,
          -12.55801773071289,
          0.5589078664779663,
          -44.335323333740234,
          8.01693344116211,
          18.690540313720703,
          18.659196853637695,
          12.451533317565918,
          8.01041316986084,
          -4.579370021820068,
          17.978029251098633,
          -0.7568702697753906,
          -3.0458521842956543,
          -31.25908660888672,
          -12.704976081848145,
          -26.927030563354492,
          -2.431920289993286,
          -20.618640899658203,
          -4.5781450271606445,
          29.117868423461914,
          -33.956443786621094,
          19.473651885986328,
          -47.493385314941406,
          -27.343482971191406,
          0.3216468393802643,
          17.483470916748047,
          16.98822593688965,
          14.527347564697266,
          19.010122299194336,
          11.811674118041992,
          -16.36882209777832,
          17.345439910888672,
          -46.737178802490234,
          -14.62224292755127,
          -46.737178802490234,
          -4.811286926269531,
          18.531620025634766,
          -16.527063369750977,
          17.34419822692871,
          5.710206031799316,
          -31.017030715942383,
          8.016016006469727,
          8.956296920776367,
          -15.29651927947998,
          2.248904228210449,
          -36.50447463989258,
          -33.28773498535156,
          -2.70234751701355,
          -22.756406784057617,
          -1.6658610105514526,
          -3.1043589115142822,
          -1.2469240427017212,
          -45.39406204223633,
          -31.11600685119629,
          -29.3038272857666,
          -4.578220844268799,
          -3.0719966888427734,
          -43.238983154296875,
          -42.56203842163086,
          -44.062255859375,
          -24.963468551635742,
          31.458288192749023,
          -26.502981185913086,
          4.201406002044678,
          -7.275234222412109,
          -27.660911560058594,
          -44.29155349731445,
          -44.397422790527344,
          38.857154846191406,
          1.0526554584503174,
          18.980953216552734,
          35.773887634277344,
          -45.17631149291992,
          -44.8926887512207,
          -1.0485554933547974,
          -40.56535339355469,
          -4.154977321624756,
          0.1112719252705574,
          -24.46175193786621,
          -3.263065814971924,
          -0.5387330651283264,
          -44.612464904785156,
          16.83799934387207,
          -0.26306140422821045,
          31.457094192504883,
          0.8535143733024597,
          -4.154977321624756,
          8.0142240524292,
          -44.34370040893555,
          4.235482692718506,
          27.778358459472656,
          29.994564056396484,
          42.315792083740234,
          -12.483779907226562,
          -2.169062614440918,
          -11.364322662353516,
          -1.4426342248916626,
          -0.1634329855442047,
          -9.776544570922852,
          12.451478958129883,
          -1.9418011903762817,
          28.049070358276367,
          16.83799934387207,
          -1.8054354190826416,
          0.30798494815826416,
          0.6151213645935059,
          36.33667755126953,
          -39.029170989990234,
          28.04981803894043,
          35.79707717895508,
          35.65385818481445,
          -13.347834587097168,
          17.29424285888672,
          -0.5208733677864075,
          -33.286739349365234,
          -27.895366668701172,
          0.46761375665664673,
          26.295673370361328,
          17.728435516357422,
          -17.000837326049805,
          7.88265323638916,
          -3.5755972862243652,
          6.635251998901367,
          43.24775314331055,
          44.78871154785156,
          -34.78792190551758,
          -29.304197311401367,
          35.478668212890625,
          16.783761978149414,
          16.916629791259766,
          20.552478790283203,
          -46.88094711303711,
          -11.999151229858398,
          -3.397815465927124,
          -14.527288436889648,
          11.108469009399414,
          35.698448181152344,
          -44.29703140258789,
          -0.5738445520401001,
          -30.576566696166992,
          19.54436683654785,
          -8.534135818481445,
          44.9875602722168,
          42.29790115356445,
          -2.6519222259521484,
          -4.818456649780273,
          -8.260672569274902,
          -1.4367005825042725,
          17.765426635742188,
          0.7291003465652466,
          -1.4900370836257935,
          -17.702280044555664,
          -41.30903625488281,
          -37.24704360961914,
          -27.318944931030273,
          -6.557847023010254,
          31.796798706054688,
          25.103513717651367,
          -9.303094863891602,
          16.592124938964844,
          -39.90041732788086,
          -14.741711616516113,
          17.254364013671875,
          -11.999151229858398,
          2.9960596561431885,
          19.67372703552246,
          18.823400497436523,
          -44.29703140258789,
          -28.061298370361328,
          -3.7159671783447266,
          -43.55107116699219,
          -13.347834587097168,
          -42.41912841796875,
          -3.4469189643859863,
          -9.314675331115723,
          -3.163299560546875,
          19.54436683654785,
          27.37331771850586,
          -40.565147399902344,
          -5.047919750213623,
          -44.397422790527344,
          -3.4480180740356445,
          -1.562069296836853,
          -26.49387550354004,
          8.956296920776367,
          11.811605453491211,
          -26.919898986816406,
          -20.320411682128906,
          20.757919311523438,
          -0.7612747550010681,
          19.596391677856445,
          -15.207450866699219,
          1.1701828241348267,
          -46.541351318359375,
          -30.11479377746582,
          -3.1495800018310547,
          -26.4754638671875,
          -41.607032775878906,
          43.09446334838867,
          35.10131072998047,
          -28.15020179748535,
          -26.025949478149414,
          30.26439666748047,
          -12.649812698364258,
          0.11979829519987106,
          -16.219165802001953,
          35.843101501464844,
          19.579246520996094,
          19.009572982788086,
          -0.3934478163719177,
          -0.3058438003063202,
          -20.616962432861328,
          -4.818456649780273,
          -36.46110153198242,
          -31.11600685119629,
          -28.1466064453125,
          -3.1498122215270996,
          -20.620786666870117,
          18.980403900146484,
          16.234800338745117,
          -0.604479193687439,
          19.268709182739258,
          -2.1643149852752686,
          -10.009566307067871,
          -2.4457554817199707,
          19.441770553588867,
          -28.228200912475586,
          -2.840871810913086,
          -10.052266120910645,
          -44.335426330566406,
          28.624174118041992,
          40.52756118774414,
          -0.9425446391105652,
          -1.4672658443450928,
          16.635841369628906,
          -27.662019729614258,
          -13.954567909240723,
          -20.322559356689453,
          -14.414615631103516,
          -15.087615966796875,
          -13.954567909240723,
          -43.69400405883789,
          -43.172428131103516,
          16.83799934387207,
          -2.542316198348999,
          -43.86702346801758,
          39.758663177490234,
          -10.160083770751953,
          -9.303797721862793,
          -43.238983154296875,
          39.49696731567383,
          -0.9529885649681091,
          -19.5090274810791,
          -26.50551986694336,
          29.1369686126709,
          18.990476608276367,
          1.8057267665863037,
          -15.21555233001709,
          -26.751585006713867,
          -27.41317367553711,
          -2.4076035022735596,
          17.101505279541016,
          -9.495728492736816,
          -12.483779907226562,
          -44.88473129272461,
          -26.928386688232422,
          -43.85909652709961,
          -5.392613410949707,
          -27.487287521362305,
          19.025646209716797,
          -42.95804214477539,
          -11.06857681274414,
          -29.934295654296875,
          -43.55308532714844,
          -44.12346649169922,
          -19.508214950561523,
          18.05008888244629,
          -44.58271408081055,
          -14.414615631103516,
          -2.5707039833068848,
          -43.44643783569336,
          11.107789993286133,
          -12.483779907226562,
          39.00032424926758,
          -9.314675331115723,
          -12.704976081848145,
          -0.9260479211807251,
          -38.928627014160156,
          -20.61857795715332,
          -25.0570068359375,
          34.65455627441406,
          -43.63442611694336,
          -25.692062377929688,
          -39.564510345458984,
          18.46688461303711,
          19.41937255859375,
          12.941093444824219,
          12.941126823425293,
          35.773887634277344,
          -26.500394821166992,
          -31.260459899902344,
          18.088716506958008,
          17.906118392944336,
          -0.3417195975780487,
          -5.491772174835205,
          -2.123530149459839,
          -43.83356475830078,
          -27.011838912963867,
          -13.029251098632812,
          18.732450485229492,
          -2.148742198944092,
          -24.72203826904297,
          -40.56535339355469,
          -27.388906478881836,
          10.552495002746582,
          -5.562051296234131,
          -0.5206019282341003,
          -13.403465270996094,
          -26.991485595703125,
          34.47611618041992,
          -20.10175132751465,
          -7.287771224975586,
          -16.54437255859375,
          -27.13064956665039,
          18.82718849182129,
          -11.341072082519531,
          -0.1706082969903946,
          37.73680877685547,
          -16.890960693359375,
          -41.97233963012695,
          -3.083435535430908,
          39.00032424926758,
          17.575029373168945,
          30.347965240478516,
          -37.79670333862305,
          19.091808319091797,
          -2.5832295417785645,
          -6.138900279998779,
          -44.47324752807617,
          -28.054664611816406,
          30.347402572631836,
          17.508068084716797,
          -2.99245285987854,
          -3.8533403873443604,
          -12.647273063659668,
          -28.07400131225586,
          42.88188171386719,
          -1.3166756629943848,
          17.49887466430664,
          27.075475692749023,
          8.630656242370605,
          30.118896484375,
          -2.8674471378326416,
          -26.510250091552734,
          -26.49065589904785,
          -19.74431800842285,
          -43.03849792480469,
          39.063499450683594,
          18.794052124023438,
          19.038719177246094,
          -3.3311643600463867,
          -15.21371841430664,
          -39.0378532409668,
          37.23188400268555,
          8.630753517150879,
          -36.465484619140625,
          -36.461265563964844,
          -43.376441955566406,
          -39.92292785644531,
          -5.690709114074707,
          -42.75593185424805,
          -3.7667174339294434,
          -42.33325958251953,
          3.3692359924316406,
          -0.1706082969903946,
          8.630914688110352,
          -20.620521545410156,
          19.596391677856445,
          0.7291003465652466,
          -33.286529541015625,
          20.6046085357666,
          -10.160083770751953,
          19.09252166748047,
          -26.483741760253906,
          10.552597999572754,
          -37.4169807434082,
          -37.796443939208984,
          8.630656242370605
         ],
         "yaxis": "y"
        }
       ],
       "layout": {
        "coloraxis": {
         "colorbar": {
          "title": {
           "text": "Label"
          }
         },
         "colorscale": [
          [
           0,
           "#0d0887"
          ],
          [
           0.1111111111111111,
           "#46039f"
          ],
          [
           0.2222222222222222,
           "#7201a8"
          ],
          [
           0.3333333333333333,
           "#9c179e"
          ],
          [
           0.4444444444444444,
           "#bd3786"
          ],
          [
           0.5555555555555556,
           "#d8576b"
          ],
          [
           0.6666666666666666,
           "#ed7953"
          ],
          [
           0.7777777777777778,
           "#fb9f3a"
          ],
          [
           0.8888888888888888,
           "#fdca26"
          ],
          [
           1,
           "#f0f921"
          ]
         ]
        },
        "height": 600,
        "legend": {
         "tracegroupgap": 0
        },
        "template": {
         "data": {
          "bar": [
           {
            "error_x": {
             "color": "#2a3f5f"
            },
            "error_y": {
             "color": "#2a3f5f"
            },
            "marker": {
             "line": {
              "color": "#E5ECF6",
              "width": 0.5
             },
             "pattern": {
              "fillmode": "overlay",
              "size": 10,
              "solidity": 0.2
             }
            },
            "type": "bar"
           }
          ],
          "barpolar": [
           {
            "marker": {
             "line": {
              "color": "#E5ECF6",
              "width": 0.5
             },
             "pattern": {
              "fillmode": "overlay",
              "size": 10,
              "solidity": 0.2
             }
            },
            "type": "barpolar"
           }
          ],
          "carpet": [
           {
            "aaxis": {
             "endlinecolor": "#2a3f5f",
             "gridcolor": "white",
             "linecolor": "white",
             "minorgridcolor": "white",
             "startlinecolor": "#2a3f5f"
            },
            "baxis": {
             "endlinecolor": "#2a3f5f",
             "gridcolor": "white",
             "linecolor": "white",
             "minorgridcolor": "white",
             "startlinecolor": "#2a3f5f"
            },
            "type": "carpet"
           }
          ],
          "choropleth": [
           {
            "colorbar": {
             "outlinewidth": 0,
             "ticks": ""
            },
            "type": "choropleth"
           }
          ],
          "contour": [
           {
            "colorbar": {
             "outlinewidth": 0,
             "ticks": ""
            },
            "colorscale": [
             [
              0,
              "#0d0887"
             ],
             [
              0.1111111111111111,
              "#46039f"
             ],
             [
              0.2222222222222222,
              "#7201a8"
             ],
             [
              0.3333333333333333,
              "#9c179e"
             ],
             [
              0.4444444444444444,
              "#bd3786"
             ],
             [
              0.5555555555555556,
              "#d8576b"
             ],
             [
              0.6666666666666666,
              "#ed7953"
             ],
             [
              0.7777777777777778,
              "#fb9f3a"
             ],
             [
              0.8888888888888888,
              "#fdca26"
             ],
             [
              1,
              "#f0f921"
             ]
            ],
            "type": "contour"
           }
          ],
          "contourcarpet": [
           {
            "colorbar": {
             "outlinewidth": 0,
             "ticks": ""
            },
            "type": "contourcarpet"
           }
          ],
          "heatmap": [
           {
            "colorbar": {
             "outlinewidth": 0,
             "ticks": ""
            },
            "colorscale": [
             [
              0,
              "#0d0887"
             ],
             [
              0.1111111111111111,
              "#46039f"
             ],
             [
              0.2222222222222222,
              "#7201a8"
             ],
             [
              0.3333333333333333,
              "#9c179e"
             ],
             [
              0.4444444444444444,
              "#bd3786"
             ],
             [
              0.5555555555555556,
              "#d8576b"
             ],
             [
              0.6666666666666666,
              "#ed7953"
             ],
             [
              0.7777777777777778,
              "#fb9f3a"
             ],
             [
              0.8888888888888888,
              "#fdca26"
             ],
             [
              1,
              "#f0f921"
             ]
            ],
            "type": "heatmap"
           }
          ],
          "heatmapgl": [
           {
            "colorbar": {
             "outlinewidth": 0,
             "ticks": ""
            },
            "colorscale": [
             [
              0,
              "#0d0887"
             ],
             [
              0.1111111111111111,
              "#46039f"
             ],
             [
              0.2222222222222222,
              "#7201a8"
             ],
             [
              0.3333333333333333,
              "#9c179e"
             ],
             [
              0.4444444444444444,
              "#bd3786"
             ],
             [
              0.5555555555555556,
              "#d8576b"
             ],
             [
              0.6666666666666666,
              "#ed7953"
             ],
             [
              0.7777777777777778,
              "#fb9f3a"
             ],
             [
              0.8888888888888888,
              "#fdca26"
             ],
             [
              1,
              "#f0f921"
             ]
            ],
            "type": "heatmapgl"
           }
          ],
          "histogram": [
           {
            "marker": {
             "pattern": {
              "fillmode": "overlay",
              "size": 10,
              "solidity": 0.2
             }
            },
            "type": "histogram"
           }
          ],
          "histogram2d": [
           {
            "colorbar": {
             "outlinewidth": 0,
             "ticks": ""
            },
            "colorscale": [
             [
              0,
              "#0d0887"
             ],
             [
              0.1111111111111111,
              "#46039f"
             ],
             [
              0.2222222222222222,
              "#7201a8"
             ],
             [
              0.3333333333333333,
              "#9c179e"
             ],
             [
              0.4444444444444444,
              "#bd3786"
             ],
             [
              0.5555555555555556,
              "#d8576b"
             ],
             [
              0.6666666666666666,
              "#ed7953"
             ],
             [
              0.7777777777777778,
              "#fb9f3a"
             ],
             [
              0.8888888888888888,
              "#fdca26"
             ],
             [
              1,
              "#f0f921"
             ]
            ],
            "type": "histogram2d"
           }
          ],
          "histogram2dcontour": [
           {
            "colorbar": {
             "outlinewidth": 0,
             "ticks": ""
            },
            "colorscale": [
             [
              0,
              "#0d0887"
             ],
             [
              0.1111111111111111,
              "#46039f"
             ],
             [
              0.2222222222222222,
              "#7201a8"
             ],
             [
              0.3333333333333333,
              "#9c179e"
             ],
             [
              0.4444444444444444,
              "#bd3786"
             ],
             [
              0.5555555555555556,
              "#d8576b"
             ],
             [
              0.6666666666666666,
              "#ed7953"
             ],
             [
              0.7777777777777778,
              "#fb9f3a"
             ],
             [
              0.8888888888888888,
              "#fdca26"
             ],
             [
              1,
              "#f0f921"
             ]
            ],
            "type": "histogram2dcontour"
           }
          ],
          "mesh3d": [
           {
            "colorbar": {
             "outlinewidth": 0,
             "ticks": ""
            },
            "type": "mesh3d"
           }
          ],
          "parcoords": [
           {
            "line": {
             "colorbar": {
              "outlinewidth": 0,
              "ticks": ""
             }
            },
            "type": "parcoords"
           }
          ],
          "pie": [
           {
            "automargin": true,
            "type": "pie"
           }
          ],
          "scatter": [
           {
            "fillpattern": {
             "fillmode": "overlay",
             "size": 10,
             "solidity": 0.2
            },
            "type": "scatter"
           }
          ],
          "scatter3d": [
           {
            "line": {
             "colorbar": {
              "outlinewidth": 0,
              "ticks": ""
             }
            },
            "marker": {
             "colorbar": {
              "outlinewidth": 0,
              "ticks": ""
             }
            },
            "type": "scatter3d"
           }
          ],
          "scattercarpet": [
           {
            "marker": {
             "colorbar": {
              "outlinewidth": 0,
              "ticks": ""
             }
            },
            "type": "scattercarpet"
           }
          ],
          "scattergeo": [
           {
            "marker": {
             "colorbar": {
              "outlinewidth": 0,
              "ticks": ""
             }
            },
            "type": "scattergeo"
           }
          ],
          "scattergl": [
           {
            "marker": {
             "colorbar": {
              "outlinewidth": 0,
              "ticks": ""
             }
            },
            "type": "scattergl"
           }
          ],
          "scattermapbox": [
           {
            "marker": {
             "colorbar": {
              "outlinewidth": 0,
              "ticks": ""
             }
            },
            "type": "scattermapbox"
           }
          ],
          "scatterpolar": [
           {
            "marker": {
             "colorbar": {
              "outlinewidth": 0,
              "ticks": ""
             }
            },
            "type": "scatterpolar"
           }
          ],
          "scatterpolargl": [
           {
            "marker": {
             "colorbar": {
              "outlinewidth": 0,
              "ticks": ""
             }
            },
            "type": "scatterpolargl"
           }
          ],
          "scatterternary": [
           {
            "marker": {
             "colorbar": {
              "outlinewidth": 0,
              "ticks": ""
             }
            },
            "type": "scatterternary"
           }
          ],
          "surface": [
           {
            "colorbar": {
             "outlinewidth": 0,
             "ticks": ""
            },
            "colorscale": [
             [
              0,
              "#0d0887"
             ],
             [
              0.1111111111111111,
              "#46039f"
             ],
             [
              0.2222222222222222,
              "#7201a8"
             ],
             [
              0.3333333333333333,
              "#9c179e"
             ],
             [
              0.4444444444444444,
              "#bd3786"
             ],
             [
              0.5555555555555556,
              "#d8576b"
             ],
             [
              0.6666666666666666,
              "#ed7953"
             ],
             [
              0.7777777777777778,
              "#fb9f3a"
             ],
             [
              0.8888888888888888,
              "#fdca26"
             ],
             [
              1,
              "#f0f921"
             ]
            ],
            "type": "surface"
           }
          ],
          "table": [
           {
            "cells": {
             "fill": {
              "color": "#EBF0F8"
             },
             "line": {
              "color": "white"
             }
            },
            "header": {
             "fill": {
              "color": "#C8D4E3"
             },
             "line": {
              "color": "white"
             }
            },
            "type": "table"
           }
          ]
         },
         "layout": {
          "annotationdefaults": {
           "arrowcolor": "#2a3f5f",
           "arrowhead": 0,
           "arrowwidth": 1
          },
          "autotypenumbers": "strict",
          "coloraxis": {
           "colorbar": {
            "outlinewidth": 0,
            "ticks": ""
           }
          },
          "colorscale": {
           "diverging": [
            [
             0,
             "#8e0152"
            ],
            [
             0.1,
             "#c51b7d"
            ],
            [
             0.2,
             "#de77ae"
            ],
            [
             0.3,
             "#f1b6da"
            ],
            [
             0.4,
             "#fde0ef"
            ],
            [
             0.5,
             "#f7f7f7"
            ],
            [
             0.6,
             "#e6f5d0"
            ],
            [
             0.7,
             "#b8e186"
            ],
            [
             0.8,
             "#7fbc41"
            ],
            [
             0.9,
             "#4d9221"
            ],
            [
             1,
             "#276419"
            ]
           ],
           "sequential": [
            [
             0,
             "#0d0887"
            ],
            [
             0.1111111111111111,
             "#46039f"
            ],
            [
             0.2222222222222222,
             "#7201a8"
            ],
            [
             0.3333333333333333,
             "#9c179e"
            ],
            [
             0.4444444444444444,
             "#bd3786"
            ],
            [
             0.5555555555555556,
             "#d8576b"
            ],
            [
             0.6666666666666666,
             "#ed7953"
            ],
            [
             0.7777777777777778,
             "#fb9f3a"
            ],
            [
             0.8888888888888888,
             "#fdca26"
            ],
            [
             1,
             "#f0f921"
            ]
           ],
           "sequentialminus": [
            [
             0,
             "#0d0887"
            ],
            [
             0.1111111111111111,
             "#46039f"
            ],
            [
             0.2222222222222222,
             "#7201a8"
            ],
            [
             0.3333333333333333,
             "#9c179e"
            ],
            [
             0.4444444444444444,
             "#bd3786"
            ],
            [
             0.5555555555555556,
             "#d8576b"
            ],
            [
             0.6666666666666666,
             "#ed7953"
            ],
            [
             0.7777777777777778,
             "#fb9f3a"
            ],
            [
             0.8888888888888888,
             "#fdca26"
            ],
            [
             1,
             "#f0f921"
            ]
           ]
          },
          "colorway": [
           "#636efa",
           "#EF553B",
           "#00cc96",
           "#ab63fa",
           "#FFA15A",
           "#19d3f3",
           "#FF6692",
           "#B6E880",
           "#FF97FF",
           "#FECB52"
          ],
          "font": {
           "color": "#2a3f5f"
          },
          "geo": {
           "bgcolor": "white",
           "lakecolor": "white",
           "landcolor": "#E5ECF6",
           "showlakes": true,
           "showland": true,
           "subunitcolor": "white"
          },
          "hoverlabel": {
           "align": "left"
          },
          "hovermode": "closest",
          "mapbox": {
           "style": "light"
          },
          "paper_bgcolor": "white",
          "plot_bgcolor": "#E5ECF6",
          "polar": {
           "angularaxis": {
            "gridcolor": "white",
            "linecolor": "white",
            "ticks": ""
           },
           "bgcolor": "#E5ECF6",
           "radialaxis": {
            "gridcolor": "white",
            "linecolor": "white",
            "ticks": ""
           }
          },
          "scene": {
           "xaxis": {
            "backgroundcolor": "#E5ECF6",
            "gridcolor": "white",
            "gridwidth": 2,
            "linecolor": "white",
            "showbackground": true,
            "ticks": "",
            "zerolinecolor": "white"
           },
           "yaxis": {
            "backgroundcolor": "#E5ECF6",
            "gridcolor": "white",
            "gridwidth": 2,
            "linecolor": "white",
            "showbackground": true,
            "ticks": "",
            "zerolinecolor": "white"
           },
           "zaxis": {
            "backgroundcolor": "#E5ECF6",
            "gridcolor": "white",
            "gridwidth": 2,
            "linecolor": "white",
            "showbackground": true,
            "ticks": "",
            "zerolinecolor": "white"
           }
          },
          "shapedefaults": {
           "line": {
            "color": "#2a3f5f"
           }
          },
          "ternary": {
           "aaxis": {
            "gridcolor": "white",
            "linecolor": "white",
            "ticks": ""
           },
           "baxis": {
            "gridcolor": "white",
            "linecolor": "white",
            "ticks": ""
           },
           "bgcolor": "#E5ECF6",
           "caxis": {
            "gridcolor": "white",
            "linecolor": "white",
            "ticks": ""
           }
          },
          "title": {
           "x": 0.05
          },
          "xaxis": {
           "automargin": true,
           "gridcolor": "white",
           "linecolor": "white",
           "ticks": "",
           "title": {
            "standoff": 15
           },
           "zerolinecolor": "white",
           "zerolinewidth": 2
          },
          "yaxis": {
           "automargin": true,
           "gridcolor": "white",
           "linecolor": "white",
           "ticks": "",
           "title": {
            "standoff": 15
           },
           "zerolinecolor": "white",
           "zerolinewidth": 2
          }
         }
        },
        "title": {
         "text": "KMeans Clustering on t-SNE Reduced Data of Adapted Movies"
        },
        "width": 600,
        "xaxis": {
         "anchor": "y",
         "domain": [
          0,
          1
         ],
         "title": {
          "text": "Dimension 1"
         }
        },
        "yaxis": {
         "anchor": "x",
         "domain": [
          0,
          1
         ],
         "title": {
          "text": "Dimension 2"
         }
        }
       }
      }
     },
     "metadata": {},
     "output_type": "display_data"
    }
   ],
   "source": [
    "labels = KMeans(n_clusters=11, random_state=13).fit_predict(X_reduced_tsne)\n",
    "title = 'KMeans Clustering on t-SNE Reduced Data of Adapted Movies'\n",
    "\n",
    "data = {\n",
    "    'Dimension 1': X_reduced_tsne[:, 0],\n",
    "    'Dimension 2': X_reduced_tsne[:, 1],\n",
    "    'Label': labels,\n",
    "    'MovieName': df_transformed_adapted['MovieName'],\n",
    "    'Genre': genres\n",
    "}\n",
    "df = pd.DataFrame(data)"
   ]
  },
  {
   "cell_type": "code",
   "execution_count": null,
   "metadata": {},
   "outputs": [
    {
     "data": {
      "text/plain": [
       "Cluster\n",
       "4     321\n",
       "6     308\n",
       "1     299\n",
       "2     292\n",
       "5     278\n",
       "8     253\n",
       "10    238\n",
       "7     230\n",
       "9     214\n",
       "0     210\n",
       "3     152\n",
       "Name: count, dtype: int64"
      ]
     },
     "execution_count": 131,
     "metadata": {},
     "output_type": "execute_result"
    }
   ],
   "source": [
    "labels = pd.Series(labels, name='Cluster')\n",
    "genres = pd.Series(genres, name='Genres')\n",
    "df = pd.concat([df_transformed_adapted, labels, genres], axis = 1)"
   ]
  },
  {
   "cell_type": "code",
   "execution_count": 160,
   "metadata": {},
   "outputs": [
    {
     "data": {
      "text/plain": [
       "['Western', 'Adventure', 'Action', 'Black-and-white', 'Action/Adventure']"
      ]
     },
     "execution_count": 160,
     "metadata": {},
     "output_type": "execute_result"
    }
   ],
   "source": [
    "cluster_analysis = analysis_by_cluster(df)\n"
   ]
  },
  {
   "cell_type": "code",
   "execution_count": 161,
   "metadata": {},
   "outputs": [
    {
     "data": {
      "text/html": [
       "<div>\n",
       "<style scoped>\n",
       "    .dataframe tbody tr th:only-of-type {\n",
       "        vertical-align: middle;\n",
       "    }\n",
       "\n",
       "    .dataframe tbody tr th {\n",
       "        vertical-align: top;\n",
       "    }\n",
       "\n",
       "    .dataframe thead th {\n",
       "        text-align: right;\n",
       "    }\n",
       "</style>\n",
       "<table border=\"1\" class=\"dataframe\">\n",
       "  <thead>\n",
       "    <tr style=\"text-align: right;\">\n",
       "      <th></th>\n",
       "      <th>Average Box Office</th>\n",
       "      <th>Average Rating</th>\n",
       "      <th>Box Office Variance</th>\n",
       "      <th>Rating Variance</th>\n",
       "      <th>GenresList</th>\n",
       "      <th>ClusterSize</th>\n",
       "    </tr>\n",
       "    <tr>\n",
       "      <th>Cluster</th>\n",
       "      <th></th>\n",
       "      <th></th>\n",
       "      <th></th>\n",
       "      <th></th>\n",
       "      <th></th>\n",
       "      <th></th>\n",
       "    </tr>\n",
       "  </thead>\n",
       "  <tbody>\n",
       "    <tr>\n",
       "      <th>0</th>\n",
       "      <td>6.903534e+07</td>\n",
       "      <td>6.480476</td>\n",
       "      <td>1.465179e+08</td>\n",
       "      <td>0.887041</td>\n",
       "      <td>[Western, Adventure, Action, Black-and-white, ...</td>\n",
       "      <td>210</td>\n",
       "    </tr>\n",
       "    <tr>\n",
       "      <th>1</th>\n",
       "      <td>6.228390e+07</td>\n",
       "      <td>6.459532</td>\n",
       "      <td>9.396955e+07</td>\n",
       "      <td>1.008355</td>\n",
       "      <td>[Drama, Adventure, Film adaptation, Action/Adv...</td>\n",
       "      <td>299</td>\n",
       "    </tr>\n",
       "    <tr>\n",
       "      <th>2</th>\n",
       "      <td>6.577511e+07</td>\n",
       "      <td>6.431849</td>\n",
       "      <td>1.262701e+08</td>\n",
       "      <td>0.927462</td>\n",
       "      <td>[Thriller, Crime Fiction, Drama, Crime Thrille...</td>\n",
       "      <td>292</td>\n",
       "    </tr>\n",
       "    <tr>\n",
       "      <th>3</th>\n",
       "      <td>9.497363e+07</td>\n",
       "      <td>6.459868</td>\n",
       "      <td>1.667812e+08</td>\n",
       "      <td>0.948632</td>\n",
       "      <td>[Drama, Romance Film, Romantic drama, Film ada...</td>\n",
       "      <td>152</td>\n",
       "    </tr>\n",
       "    <tr>\n",
       "      <th>4</th>\n",
       "      <td>7.715148e+07</td>\n",
       "      <td>6.438006</td>\n",
       "      <td>1.428921e+08</td>\n",
       "      <td>0.975058</td>\n",
       "      <td>[Horror, Black-and-white, Thriller, Science Fi...</td>\n",
       "      <td>321</td>\n",
       "    </tr>\n",
       "    <tr>\n",
       "      <th>5</th>\n",
       "      <td>8.742517e+07</td>\n",
       "      <td>6.448201</td>\n",
       "      <td>1.217108e+08</td>\n",
       "      <td>0.931468</td>\n",
       "      <td>[Drama, Black-and-white, Film adaptation, Crim...</td>\n",
       "      <td>278</td>\n",
       "    </tr>\n",
       "    <tr>\n",
       "      <th>6</th>\n",
       "      <td>7.989702e+07</td>\n",
       "      <td>6.518182</td>\n",
       "      <td>1.540857e+08</td>\n",
       "      <td>0.834161</td>\n",
       "      <td>[Family Film, Adventure, Fantasy, Drama, Anima...</td>\n",
       "      <td>308</td>\n",
       "    </tr>\n",
       "    <tr>\n",
       "      <th>7</th>\n",
       "      <td>5.584443e+07</td>\n",
       "      <td>6.426522</td>\n",
       "      <td>8.786528e+07</td>\n",
       "      <td>1.007154</td>\n",
       "      <td>[Drama, Family Film, Comedy, Family Drama, Adv...</td>\n",
       "      <td>230</td>\n",
       "    </tr>\n",
       "    <tr>\n",
       "      <th>8</th>\n",
       "      <td>8.442514e+07</td>\n",
       "      <td>6.467589</td>\n",
       "      <td>1.664959e+08</td>\n",
       "      <td>0.979379</td>\n",
       "      <td>[Romance Film, Drama, Romantic drama, Comedy, ...</td>\n",
       "      <td>253</td>\n",
       "    </tr>\n",
       "    <tr>\n",
       "      <th>9</th>\n",
       "      <td>8.267750e+07</td>\n",
       "      <td>6.352804</td>\n",
       "      <td>1.500297e+08</td>\n",
       "      <td>1.058463</td>\n",
       "      <td>[Comedy, Action, Adventure, Science Fiction, A...</td>\n",
       "      <td>214</td>\n",
       "    </tr>\n",
       "    <tr>\n",
       "      <th>10</th>\n",
       "      <td>9.980305e+07</td>\n",
       "      <td>6.471008</td>\n",
       "      <td>1.845169e+08</td>\n",
       "      <td>0.947103</td>\n",
       "      <td>[Thriller, Drama, Action, Action/Adventure, My...</td>\n",
       "      <td>238</td>\n",
       "    </tr>\n",
       "  </tbody>\n",
       "</table>\n",
       "</div>"
      ],
      "text/plain": [
       "         Average Box Office  Average Rating  Box Office Variance  \\\n",
       "Cluster                                                            \n",
       "0              6.903534e+07        6.480476         1.465179e+08   \n",
       "1              6.228390e+07        6.459532         9.396955e+07   \n",
       "2              6.577511e+07        6.431849         1.262701e+08   \n",
       "3              9.497363e+07        6.459868         1.667812e+08   \n",
       "4              7.715148e+07        6.438006         1.428921e+08   \n",
       "5              8.742517e+07        6.448201         1.217108e+08   \n",
       "6              7.989702e+07        6.518182         1.540857e+08   \n",
       "7              5.584443e+07        6.426522         8.786528e+07   \n",
       "8              8.442514e+07        6.467589         1.664959e+08   \n",
       "9              8.267750e+07        6.352804         1.500297e+08   \n",
       "10             9.980305e+07        6.471008         1.845169e+08   \n",
       "\n",
       "         Rating Variance                                         GenresList  \\\n",
       "Cluster                                                                       \n",
       "0               0.887041  [Western, Adventure, Action, Black-and-white, ...   \n",
       "1               1.008355  [Drama, Adventure, Film adaptation, Action/Adv...   \n",
       "2               0.927462  [Thriller, Crime Fiction, Drama, Crime Thrille...   \n",
       "3               0.948632  [Drama, Romance Film, Romantic drama, Film ada...   \n",
       "4               0.975058  [Horror, Black-and-white, Thriller, Science Fi...   \n",
       "5               0.931468  [Drama, Black-and-white, Film adaptation, Crim...   \n",
       "6               0.834161  [Family Film, Adventure, Fantasy, Drama, Anima...   \n",
       "7               1.007154  [Drama, Family Film, Comedy, Family Drama, Adv...   \n",
       "8               0.979379  [Romance Film, Drama, Romantic drama, Comedy, ...   \n",
       "9               1.058463  [Comedy, Action, Adventure, Science Fiction, A...   \n",
       "10              0.947103  [Thriller, Drama, Action, Action/Adventure, My...   \n",
       "\n",
       "         ClusterSize  \n",
       "Cluster               \n",
       "0                210  \n",
       "1                299  \n",
       "2                292  \n",
       "3                152  \n",
       "4                321  \n",
       "5                278  \n",
       "6                308  \n",
       "7                230  \n",
       "8                253  \n",
       "9                214  \n",
       "10               238  "
      ]
     },
     "execution_count": 161,
     "metadata": {},
     "output_type": "execute_result"
    }
   ],
   "source": [
    "cluster_analysis"
   ]
  }
 ],
 "metadata": {
  "kernelspec": {
   "display_name": "ada",
   "language": "python",
   "name": "python3"
  },
  "language_info": {
   "codemirror_mode": {
    "name": "ipython",
    "version": 3
   },
   "file_extension": ".py",
   "mimetype": "text/x-python",
   "name": "python",
   "nbconvert_exporter": "python",
   "pygments_lexer": "ipython3",
   "version": "3.11.9"
  }
 },
 "nbformat": 4,
 "nbformat_minor": 2
}
