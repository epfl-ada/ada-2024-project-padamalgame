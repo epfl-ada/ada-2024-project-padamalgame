{
 "cells": [
  {
   "cell_type": "markdown",
   "id": "8385d313-2b02-4767-a0e7-59fa2ea234aa",
   "metadata": {},
   "source": [
    "# Dataset from IMDB dowloaded from https://developer.imdb.com/non-commercial-datasets/\n",
    "## Please download title.basics.tsv.gz and title.ratings.tsv.gz and put them in the data/ folder (unzip)"
   ]
  },
  {
   "cell_type": "code",
   "execution_count": 27,
   "id": "0250f541-92ac-46b0-a1d4-dbace90edebd",
   "metadata": {},
   "outputs": [],
   "source": [
    "import requests\n",
    "from bs4 import BeautifulSoup\n",
    "import pandas as pd\n",
    "import re\n",
    "import importlib\n",
    "import os\n",
    "import kagglehub\n",
    "import ast\n",
    "import math\n",
    "import warnings\n",
    "warnings.filterwarnings(\"ignore\")"
   ]
  },
  {
   "cell_type": "code",
   "execution_count": 28,
   "id": "85ab193b-fb2d-4fb4-aa1e-c590f9126c91",
   "metadata": {},
   "outputs": [],
   "source": [
    "import sys\n",
    "sys.path.append('scripts/')\n",
    "import scraping, merge_goodreads, merge_cmu, merge_imdb\n",
    "from scraping import *\n",
    "from merge_goodreads import *\n",
    "from merge_cmu import *\n",
    "from merge_imdb import *"
   ]
  },
  {
   "cell_type": "markdown",
   "id": "6fa7a2bb-95b0-47b0-9a22-0fc0a7f9dfaa",
   "metadata": {},
   "source": [
    "# Scraping data from wikipedia\n",
    "We must first define the url that we will scrap data from. They will allow us to make a mapping between books and their film adaptation."
   ]
  },
  {
   "cell_type": "code",
   "execution_count": 29,
   "id": "835b7c47-14ce-4ca7-b017-d5b4ad709a1d",
   "metadata": {},
   "outputs": [],
   "source": [
    "# URL of the Wikipedia page\n",
    "url_0_C = \"https://en.wikipedia.org/wiki/List_of_fiction_works_made_into_feature_films_(0%E2%80%939,_A%E2%80%93C)\"\n",
    "url_D_J = \"https://en.wikipedia.org/wiki/List_of_fiction_works_made_into_feature_films_(D%E2%80%93J)\"\n",
    "url_K_R = \"https://en.wikipedia.org/wiki/List_of_fiction_works_made_into_feature_films_(K%E2%80%93R)\"\n",
    "url_S_Z = \"https://en.wikipedia.org/wiki/List_of_fiction_works_made_into_feature_films_(S%E2%80%93Z)\"\n",
    "url_short = \"https://en.wikipedia.org/wiki/List_of_short_fiction_made_into_feature_films\"\n",
    "url_kids = \"https://en.wikipedia.org/wiki/List_of_children%27s_books_made_into_feature_films\"\n",
    "\n",
    "urls = [url_0_C, url_D_J, url_K_R, url_S_Z, url_short, url_kids]"
   ]
  },
  {
   "cell_type": "markdown",
   "id": "7f18c99c-593d-4829-84e2-e14d4a8fd3f6",
   "metadata": {},
   "source": [
    "Then, we scrap and process data from these wikipedia pages."
   ]
  },
  {
   "cell_type": "code",
   "execution_count": 30,
   "id": "ef9e631e-07cd-4afd-adf1-559944accf53",
   "metadata": {},
   "outputs": [],
   "source": [
    "# Launches the scrapping on every url selected\n",
    "dataframes = []\n",
    "for url in urls: \n",
    "    df = scrap_book_to_movie(url)\n",
    "    clean_df = scrap_post_processing(df)\n",
    "    dataframes.append(clean_df)\n",
    "\n",
    "book_adaptations = pd.concat(dataframes).reset_index(drop=True)\n",
    "book_adaptations = book_adaptations.drop_duplicates().reset_index(drop=True)\n",
    "book_adaptations.to_csv('book_adaptations.csv', index=False)"
   ]
  },
  {
   "cell_type": "markdown",
   "id": "0b5b936c-d0b6-4913-bff4-9a94acdc1a50",
   "metadata": {},
   "source": [
    "We now have a dataframe with 4941 film adaptations together with the book they are adapting."
   ]
  },
  {
   "cell_type": "markdown",
   "id": "7560729e",
   "metadata": {},
   "source": [
    "# Merge with Goodreads\n",
    "We will now merge the book to movie mapping with the goodreads dataset to have additional information on the books.\n"
   ]
  },
  {
   "cell_type": "markdown",
   "id": "fa66fcfa",
   "metadata": {},
   "source": [
    "First we download the dataset from kaggle"
   ]
  },
  {
   "cell_type": "code",
   "execution_count": null,
   "id": "40e5fd9b",
   "metadata": {},
   "outputs": [],
   "source": [
    "path = kagglehub.dataset_download(\"bahramjannesarr/goodreads-book-datasets-10m\")"
   ]
  },
  {
   "cell_type": "code",
   "execution_count": null,
   "id": "aa9db444",
   "metadata": {},
   "outputs": [],
   "source": [
    "df_movies = book_adaptations.copy()\n",
    "df_goodreads = books_csv_to_df(path)\n",
    "\n",
    "df_goodreads['merge_authors'] = clean_spaces(df_goodreads['Authors'])\n",
    "df_goodreads['merge_names'] = clean_spaces(df_goodreads['Name'])\n",
    "df_goodreads['merge_names'] = remove_parenthesis(df_goodreads['merge_names'])\n",
    "\n",
    "\n",
    "df_movies['merge_authors'] = clean_spaces(df_movies['BookAuthor'])\n",
    "df_movies['merge_names'] = clean_spaces(df_movies['BookTitle'])\n",
    "df_movies['merge_names'] = remove_parenthesis(df_movies['merge_names'])\n",
    "\n",
    "merge_goodreads = df_goodreads.merge(right=df_movies, how=\"right\", left_on=['merge_authors', 'merge_names'], right_on=['merge_authors', 'merge_names'], copy=False)\n",
    "merge_goodreads = merge_goodreads.drop_duplicates(subset = df_movies.columns).reset_index(drop=True)\n",
    "columns = ['FilmYear', 'FilmTitle', 'BookAuthor', 'BookTitle', 'BookStartYear', 'BookEndYear', 'Description', 'Rating', 'RatingDistTotal', 'Language']\n",
    "merge_goodreads = merge_goodreads[columns]\n",
    "merge_goodreads.rename({'RatingDistTotal': 'BookRatingNb', 'Description' : 'BookDescription', 'Rating': 'BookRating', 'Language' : 'BookLanguage'}, axis=1, inplace=True)\n",
    "merge_goodreads.BookRatingNb = merge_goodreads.BookRatingNb.apply(lambda x: x.split(\":\")[-1] if isinstance(x, str) else None)\n",
    "merge_goodreads"
   ]
  },
  {
   "cell_type": "markdown",
   "id": "afce9a90-1e29-4044-8ccc-952c173ac066",
   "metadata": {},
   "source": [
    "# Merge with CMU\n",
    "We will now merge this data with the CMU dataset to add extra information on these films."
   ]
  },
  {
   "cell_type": "code",
   "execution_count": null,
   "id": "25893c73-6893-4184-8fe4-fc8ac8ee37b9",
   "metadata": {},
   "outputs": [],
   "source": [
    "# Merge df with CMU depending on title_film and year_film\n",
    "merge_cmu = merge_with_CMU(merge_goodreads)\n",
    "merge_cmu"
   ]
  },
  {
   "cell_type": "markdown",
   "id": "7adae965-c3a9-438c-a509-35f2d03e6e6d",
   "metadata": {},
   "source": [
    "Now we have more information on the films that are an adaptation of a book, such as their genres. Let's add more information such as the film's rating by merging with IMDB's dataset."
   ]
  },
  {
   "cell_type": "markdown",
   "id": "fbfb587c-f2b7-46c6-b73f-e009c90aaf3b",
   "metadata": {},
   "source": [
    "# Merge with IMDB\n",
    "## Dataset from IMDB dowloaded from https://developer.imdb.com/non-commercial-datasets/\n",
    "### Please download title.basics.tsv.gz and title.ratings.tsv.gz and put them in the data/ folder (unzip)"
   ]
  },
  {
   "cell_type": "code",
   "execution_count": null,
   "id": "66503eea-6daf-474c-9f1c-520bdf180f1f",
   "metadata": {},
   "outputs": [],
   "source": [
    "merge_imdb = merge_with_imdb(merge_cmu)\n",
    "merge_imdb"
   ]
  },
  {
   "cell_type": "markdown",
   "id": "94a66bdc-541c-49bf-8fa1-de4cb2c86387",
   "metadata": {},
   "source": [
    "We now have 2841 film samples that are adaptations from known books and which can use for analysis."
   ]
  },
  {
   "cell_type": "markdown",
   "id": "4668365a",
   "metadata": {},
   "source": [
    "# Merge with CMU plots"
   ]
  },
  {
   "cell_type": "code",
   "execution_count": 17,
   "id": "d863d43c",
   "metadata": {},
   "outputs": [],
   "source": [
    "cmu_plots = pd.read_csv(\"../MovieSummaries/plot_summaries.txt\", sep='\\t', names=['wikipedia_id', 'MoviePlot'], header=None)"
   ]
  },
  {
   "cell_type": "code",
   "execution_count": 21,
   "id": "539418b5",
   "metadata": {},
   "outputs": [],
   "source": [
    "# adapted movies with plot\n",
    "adapted_movies_df = merge_imdb.merge(right=cmu_plots, how=\"left\", left_on='wikipedia_id', right_on='wikipedia_id', copy=False)\n",
    "adapted_movies_df.to_csv('adapted_movies.csv', index=False, errors='ignore')"
   ]
  },
  {
   "cell_type": "markdown",
   "id": "f41d02a3",
   "metadata": {},
   "source": [
    "# All movies merge (non-adapted movies included)"
   ]
  },
  {
   "cell_type": "code",
   "execution_count": null,
   "id": "d3830d94",
   "metadata": {},
   "outputs": [],
   "source": [
    "# all movies with plots\n",
    "cmu_movies = clean_cmu(\"../MovieSummaries/movie.metadata.tsv\")\n",
    "cmu_movies = cmu_movies.dropna(subset=['movie_date'])\n",
    "cmu_movies = cmu_movies[cmu_movies.movie_date != \"nan\"]\n",
    "cmu_movies['movie_date'] = cmu_movies['movie_date'].astype('int64')\n",
    "all_movies_df = merge_with_imdb(cmu_movies)\n",
    "all_movies_df = all_movies_df.merge(right=cmu_plots, how=\"left\", left_on='wikipedia_id', right_on='wikipedia_id', copy=False)\n",
    "all_movies_df.to_csv('all_movies.csv', index=False, errors='ignore')\n",
    "all_movies_df"
   ]
  }
 ],
 "metadata": {
  "kernelspec": {
   "display_name": "ada",
   "language": "python",
   "name": "python3"
  },
  "language_info": {
   "codemirror_mode": {
    "name": "ipython",
    "version": 3
   },
   "file_extension": ".py",
   "mimetype": "text/x-python",
   "name": "python",
   "nbconvert_exporter": "python",
   "pygments_lexer": "ipython3",
   "version": "3.11.9"
  }
 },
 "nbformat": 4,
 "nbformat_minor": 5
}
