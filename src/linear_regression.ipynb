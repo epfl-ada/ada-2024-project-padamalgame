{
 "cells": [
  {
   "cell_type": "code",
   "execution_count": 1,
   "metadata": {},
   "outputs": [],
   "source": [
    "import pandas as pd\n",
    "import os\n",
    "import numpy as np\n",
    "import matplotlib.pyplot as plt\n",
    "import seaborn as sns\n",
    "import statsmodels.api as sm\n",
    "import statsmodels.formula.api as smf\n",
    "from transformers import pipeline\n",
    "from nltk.tokenize import sent_tokenize\n",
    "from scripts.sentiment_analysis import *\n",
    "import math\n",
    "from scipy import stats\n",
    "from collections import defaultdict\n",
    "from scripts.clustering import *\n",
    "from scripts.linear_regression import *\n",
    "import json"
   ]
  },
  {
   "cell_type": "code",
   "execution_count": 2,
   "metadata": {},
   "outputs": [],
   "source": [
    "with open('../data/genre_categories.json', 'r') as f:\n",
    "    genre_categories = json.load(f)\n",
    "data = create_regression_dataset(genre_categories)"
   ]
  },
  {
   "cell_type": "code",
   "execution_count": null,
   "metadata": {},
   "outputs": [],
   "source": [
    "df = pd.read_csv('linear_regression_data.csv')"
   ]
  },
  {
   "cell_type": "markdown",
   "metadata": {},
   "source": [
    "### Regression on Box Office"
   ]
  },
  {
   "cell_type": "markdown",
   "metadata": {},
   "source": [
    "#### Basic regression on box office with all features"
   ]
  },
  {
   "cell_type": "code",
   "execution_count": null,
   "metadata": {},
   "outputs": [],
   "source": [
    "df_boxoffice = df.copy()\n",
    "#df_boxoffice['MovieBoxOfficeLog'] = np.log(df_boxoffice.MovieBoxOffice)\n",
    "# as we want to predict ahead of time, we remove rating information from movie\n",
    "df_boxoffice.drop(columns = ['MovieGenre', 'MovieRatingNb', 'MovieRating'], inplace=True)\n",
    "\n",
    "target = 'MovieBoxOffice'\n",
    "features = [col for col in df_boxoffice.columns.tolist() if (col != target and col != 'wikipedia_id')]\n",
    "formula = f\"{target} ~ {' + '.join(features)}\"\n",
    "\n",
    "model = train_linear_regression(df_boxoffice, formula)\n"
   ]
  },
  {
   "cell_type": "markdown",
   "metadata": {},
   "source": [
    "#### Regression on log of box office with all features"
   ]
  },
  {
   "cell_type": "markdown",
   "metadata": {},
   "source": [
    "#### Forward selection to pick features"
   ]
  },
  {
   "cell_type": "code",
   "execution_count": null,
   "metadata": {},
   "outputs": [],
   "source": [
    "df = pd.read_csv('linear_regression_data.csv')\n",
    "df['LogMovieBoxOffice'] = np.log(df.MovieBoxOffice)\n",
    "# as we want to predict ahead of time, we remove rating information from movie\n",
    "df.drop(columns = ['MovieGenre', 'MovieRatingNb', 'MovieRating', 'MovieBoxOffice'], inplace=True)\n",
    "target = 'LogMovieBoxOffice'\n",
    "features = [col for col in df.columns.tolist() if (col != target and col != 'wikipedia_id')]\n",
    "selected_features = forward_selection(df, target, features)\n",
    "print(\"Selected Features:\", selected_features)\n"
   ]
  },
  {
   "cell_type": "markdown",
   "metadata": {},
   "source": [
    "#### Backward selection to pick features"
   ]
  },
  {
   "cell_type": "code",
   "execution_count": null,
   "metadata": {},
   "outputs": [],
   "source": [
    "# as we want to predict ahead of time, we remove rating information from movie\n",
    "df.drop(columns = ['MovieGenre', 'MovieRatingNb', 'MovieRating', 'MovieBoxOffice'], inplace=True)\n",
    "target = 'LogMovieBoxOffice'\n",
    "features = [col for col in df.columns.tolist() if (col != target and col != 'wikipedia_id')]\n",
    "backward_selected_features = backward_elimination(df, target, features)\n",
    "print(\"Selected Features:\", selected_features)\n"
   ]
  },
  {
   "cell_type": "markdown",
   "metadata": {},
   "source": [
    "#### Final linear regression "
   ]
  },
  {
   "cell_type": "code",
   "execution_count": null,
   "metadata": {},
   "outputs": [],
   "source": [
    "target = 'LogMovieBoxOffice'\n",
    "features = selected_features\n",
    "formula = f\"{target} ~ {' + '.join(features)}\"\n",
    "\n",
    "model = train_linear_regression(df, formula)\n",
    "\n",
    "# have significance as colour !! \n",
    "plot_coefficients(results_boxoffice_adapted)"
   ]
  },
  {
   "cell_type": "markdown",
   "metadata": {},
   "source": [
    "### Regression on movie rating"
   ]
  },
  {
   "cell_type": "markdown",
   "metadata": {},
   "source": [
    "#### Basic regression on box office with all features"
   ]
  },
  {
   "cell_type": "markdown",
   "metadata": {},
   "source": [
    "#### Regression on log of box office with all features"
   ]
  },
  {
   "cell_type": "markdown",
   "metadata": {},
   "source": [
    "#### Forward selection to pick features"
   ]
  },
  {
   "cell_type": "markdown",
   "metadata": {},
   "source": [
    "#### Backward selection to pick features"
   ]
  },
  {
   "cell_type": "markdown",
   "metadata": {},
   "source": [
    "#### Final linear regression "
   ]
  }
 ],
 "metadata": {
  "kernelspec": {
   "display_name": "ada",
   "language": "python",
   "name": "python3"
  },
  "language_info": {
   "codemirror_mode": {
    "name": "ipython",
    "version": 3
   },
   "file_extension": ".py",
   "mimetype": "text/x-python",
   "name": "python",
   "nbconvert_exporter": "python",
   "pygments_lexer": "ipython3",
   "version": "3.11.9"
  }
 },
 "nbformat": 4,
 "nbformat_minor": 2
}
