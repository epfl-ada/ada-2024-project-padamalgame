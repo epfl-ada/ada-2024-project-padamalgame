{
 "cells": [
  {
   "cell_type": "code",
   "execution_count": 1,
   "id": "b2398ac5-48f0-4d26-bbe2-921a7e87752a",
   "metadata": {},
   "outputs": [],
   "source": [
    "# Import CMU"
   ]
  },
  {
   "cell_type": "code",
   "execution_count": 72,
   "id": "44ec3ef7-5e02-4e57-a164-e80cd6c8dc7f",
   "metadata": {},
   "outputs": [],
   "source": [
    "# Merge with book_adaptations.csv depending on title_film and year_film\n",
    "\n",
    "import pandas as pd\n",
    "\n",
    "book_to_adaptations = pd.read_csv(\"book_adaptations.csv\", usecols=[2,3,4,5])\n",
    "cmu_movies = pd.read_csv(\"../MovieSummaries/movie.metadata.tsv\", sep='\\t', usecols=[2,3,4,5,6,7,8], names=['movie_name', 'date', 'box_office', 'runtime', 'language', 'countries', 'genres'])\n",
    "\n",
    "# To lowercase and remove whitespace of the Movie name\n",
    "name_column = cmu_movies['movie_name']\n",
    "new_name_column = name_column.apply(lambda name: name.lower().replace(\" \", \"\"))\n",
    "cmu_movies['movie_name'] = new_name_column\n",
    "\n",
    "title_column = book_to_adaptations['title_film']\n",
    "new_title_column = title_column.apply(lambda name: name.lower().replace(\" \", \"\"))\n",
    "book_to_adaptations['title_film'] = new_title_column\n",
    "\n",
    "# Extract only the year of the Movie release date\n",
    "date_column = cmu_movies['date']\n",
    "new_date_column = date_column.apply(lambda x : str(x)[0:4])\n",
    "cmu_movies['date'] = new_date_column\n",
    "\n",
    "# Do the merge\n",
    "merge_cmu = cmu_movies.merge(right=book_to_adaptations, how=\"inner\", left_on=['movie_name', 'date'], right_on=['title_film', 'year_film'], copy=False)\n",
    "merge_cmu.to_csv(\"merge_cmu.csv\")"
   ]
  }
 ],
 "metadata": {
  "kernelspec": {
   "display_name": "Python 3 (ipykernel)",
   "language": "python",
   "name": "python3"
  },
  "language_info": {
   "codemirror_mode": {
    "name": "ipython",
    "version": 3
   },
   "file_extension": ".py",
   "mimetype": "text/x-python",
   "name": "python",
   "nbconvert_exporter": "python",
   "pygments_lexer": "ipython3",
   "version": "3.12.4"
  }
 },
 "nbformat": 4,
 "nbformat_minor": 5
}
