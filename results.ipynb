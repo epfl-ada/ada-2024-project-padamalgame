{
 "cells": [
  {
   "cell_type": "code",
   "execution_count": 1,
   "metadata": {},
   "outputs": [],
   "source": [
    "import pandas as pd\n",
    "import matplotlib.pyplot as plt\n",
    "import seaborn as sns\n",
    "import json\n",
    "from src.scripts.merge_cmu import clean_cmu\n",
    "from src.scripts.category_analysis import *"
   ]
  },
  {
   "cell_type": "code",
   "execution_count": 2,
   "metadata": {},
   "outputs": [
    {
     "name": "stdout",
     "output_type": "stream",
     "text": [
      "Requirement already satisfied: colorcet in /home/julia/Anaconda3/lib/python3.12/site-packages (3.1.0)\n",
      "Note: you may need to restart the kernel to use updated packages.\n"
     ]
    }
   ],
   "source": [
    "# Install colorcet if not already installed\n",
    "%pip install colorcet\n",
    "import colorcet as cc"
   ]
  },
  {
   "cell_type": "markdown",
   "metadata": {},
   "source": [
    "## Load Dataset Merged CMU-IMDB"
   ]
  },
  {
   "cell_type": "code",
   "execution_count": 3,
   "metadata": {
    "scrolled": true
   },
   "outputs": [
    {
     "data": {
      "text/html": [
       "<div>\n",
       "<style scoped>\n",
       "    .dataframe tbody tr th:only-of-type {\n",
       "        vertical-align: middle;\n",
       "    }\n",
       "\n",
       "    .dataframe tbody tr th {\n",
       "        vertical-align: top;\n",
       "    }\n",
       "\n",
       "    .dataframe thead th {\n",
       "        text-align: right;\n",
       "    }\n",
       "</style>\n",
       "<table border=\"1\" class=\"dataframe\">\n",
       "  <thead>\n",
       "    <tr style=\"text-align: right;\">\n",
       "      <th></th>\n",
       "      <th>imdbID</th>\n",
       "      <th>isAdult</th>\n",
       "      <th>movie_name</th>\n",
       "      <th>movie_date</th>\n",
       "      <th>box_office</th>\n",
       "      <th>runtime</th>\n",
       "      <th>language</th>\n",
       "      <th>countries</th>\n",
       "      <th>genres</th>\n",
       "      <th>author_book</th>\n",
       "      <th>year_book</th>\n",
       "      <th>rating</th>\n",
       "      <th>numVotes</th>\n",
       "    </tr>\n",
       "  </thead>\n",
       "  <tbody>\n",
       "    <tr>\n",
       "      <th>0</th>\n",
       "      <td>tt0000679</td>\n",
       "      <td>0</td>\n",
       "      <td>thefairylogueandradio-plays</td>\n",
       "      <td>1908</td>\n",
       "      <td>NaN</td>\n",
       "      <td>120.0</td>\n",
       "      <td>English Language</td>\n",
       "      <td>United States of America</td>\n",
       "      <td>Silent film, Black-and-white</td>\n",
       "      <td>L. Frank Baum</td>\n",
       "      <td>1900</td>\n",
       "      <td>5.2</td>\n",
       "      <td>76</td>\n",
       "    </tr>\n",
       "    <tr>\n",
       "      <th>1</th>\n",
       "      <td>tt0002646</td>\n",
       "      <td>0</td>\n",
       "      <td>atlantis</td>\n",
       "      <td>1913</td>\n",
       "      <td>NaN</td>\n",
       "      <td>113.0</td>\n",
       "      <td>English Language, Danish Language</td>\n",
       "      <td>Denmark</td>\n",
       "      <td>Silent film, Drama, Indie, Black-and-white</td>\n",
       "      <td>Gerhart Hauptmann</td>\n",
       "      <td>1912</td>\n",
       "      <td>6.5</td>\n",
       "      <td>500</td>\n",
       "    </tr>\n",
       "    <tr>\n",
       "      <th>2</th>\n",
       "      <td>tt0003022</td>\n",
       "      <td>0</td>\n",
       "      <td>ivanhoe</td>\n",
       "      <td>1913</td>\n",
       "      <td>NaN</td>\n",
       "      <td>NaN</td>\n",
       "      <td>Silent film, English Language</td>\n",
       "      <td>United States of America</td>\n",
       "      <td>Swashbuckler films, Silent film, Drama, Adventure</td>\n",
       "      <td>Sir Walter Scott</td>\n",
       "      <td>1820</td>\n",
       "      <td>5.6</td>\n",
       "      <td>97</td>\n",
       "    </tr>\n",
       "    <tr>\n",
       "      <th>3</th>\n",
       "      <td>tt0004099</td>\n",
       "      <td>0</td>\n",
       "      <td>hismajesty,thescarecrowofoz</td>\n",
       "      <td>1914</td>\n",
       "      <td>NaN</td>\n",
       "      <td>60.0</td>\n",
       "      <td>English Language</td>\n",
       "      <td>United States of America</td>\n",
       "      <td>Silent film, Adventure, Children's/Family, Bla...</td>\n",
       "      <td>L. Frank Baum</td>\n",
       "      <td>1900</td>\n",
       "      <td>5.3</td>\n",
       "      <td>533</td>\n",
       "    </tr>\n",
       "    <tr>\n",
       "      <th>4</th>\n",
       "      <td>tt0004182</td>\n",
       "      <td>0</td>\n",
       "      <td>thejungle</td>\n",
       "      <td>1914</td>\n",
       "      <td>NaN</td>\n",
       "      <td>NaN</td>\n",
       "      <td>Silent film, English Language</td>\n",
       "      <td>NaN</td>\n",
       "      <td>Silent film</td>\n",
       "      <td>Upton Sinclair</td>\n",
       "      <td>1906</td>\n",
       "      <td>6.8</td>\n",
       "      <td>70</td>\n",
       "    </tr>\n",
       "  </tbody>\n",
       "</table>\n",
       "</div>"
      ],
      "text/plain": [
       "      imdbID  isAdult                   movie_name  movie_date  box_office  \\\n",
       "0  tt0000679        0  thefairylogueandradio-plays        1908         NaN   \n",
       "1  tt0002646        0                     atlantis        1913         NaN   \n",
       "2  tt0003022        0                      ivanhoe        1913         NaN   \n",
       "3  tt0004099        0  hismajesty,thescarecrowofoz        1914         NaN   \n",
       "4  tt0004182        0                    thejungle        1914         NaN   \n",
       "\n",
       "   runtime                           language                 countries  \\\n",
       "0    120.0                   English Language  United States of America   \n",
       "1    113.0  English Language, Danish Language                   Denmark   \n",
       "2      NaN      Silent film, English Language  United States of America   \n",
       "3     60.0                   English Language  United States of America   \n",
       "4      NaN      Silent film, English Language                       NaN   \n",
       "\n",
       "                                              genres        author_book  \\\n",
       "0                       Silent film, Black-and-white      L. Frank Baum   \n",
       "1         Silent film, Drama, Indie, Black-and-white  Gerhart Hauptmann   \n",
       "2  Swashbuckler films, Silent film, Drama, Adventure   Sir Walter Scott   \n",
       "3  Silent film, Adventure, Children's/Family, Bla...      L. Frank Baum   \n",
       "4                                        Silent film     Upton Sinclair   \n",
       "\n",
       "  year_book  rating  numVotes  \n",
       "0      1900     5.2        76  \n",
       "1      1912     6.5       500  \n",
       "2      1820     5.6        97  \n",
       "3      1900     5.3       533  \n",
       "4      1906     6.8        70  "
      ]
     },
     "execution_count": 3,
     "metadata": {},
     "output_type": "execute_result"
    }
   ],
   "source": [
    "# Load the dataset CMU\n",
    "cmu_movies = clean_cmu(\"MovieSummaries/movie.metadata.tsv\")\n",
    "\n",
    "# Load the dataset merge_imdb\n",
    "df = pd.read_csv('data/merge_imdb.csv')\n",
    "df.head()"
   ]
  },
  {
   "cell_type": "markdown",
   "metadata": {},
   "source": [
    "## Basic dataset analysis"
   ]
  },
  {
   "cell_type": "code",
   "execution_count": null,
   "metadata": {},
   "outputs": [],
   "source": [
    "# Display basic information about the dataframe\n",
    "print(df.info())"
   ]
  },
  {
   "cell_type": "code",
   "execution_count": null,
   "metadata": {},
   "outputs": [],
   "source": [
    "# Display summary statistics of the dataframe\n",
    "print(df.describe())"
   ]
  },
  {
   "cell_type": "code",
   "execution_count": null,
   "metadata": {},
   "outputs": [],
   "source": [
    "# Check for missing values\n",
    "print(df.isnull().sum())"
   ]
  },
  {
   "cell_type": "code",
   "execution_count": null,
   "metadata": {},
   "outputs": [],
   "source": [
    "# Display the column names\n",
    "print(df.columns)"
   ]
  },
  {
   "cell_type": "code",
   "execution_count": null,
   "metadata": {},
   "outputs": [],
   "source": [
    "# Display basic statistics for each column in the dataframe\n",
    "print(df.describe(include='all'))"
   ]
  },
  {
   "cell_type": "markdown",
   "metadata": {},
   "source": [
    "## Book-to-movie analysis by categories\n",
    "We begin our analysis by exploring the types of books that are most frequently adapted into movies. We want to understand which literacy works resonate with filmakers and audiences. \n"
   ]
  },
  {
   "cell_type": "code",
   "execution_count": 4,
   "metadata": {},
   "outputs": [],
   "source": [
    "adaptation_category_counts,_ = analysis_by_category(df)\n",
    "cmu_category_counts,_ = analysis_by_category(cmu_movies)"
   ]
  },
  {
   "cell_type": "code",
   "execution_count": null,
   "metadata": {},
   "outputs": [],
   "source": [
    "# Convert counts in percentage\n",
    "adaptation_category_perc = adaptation_category_counts.apply(lambda x: (x/len(df) * 100))\n",
    "cmu_category_perc = cmu_category_counts.apply(lambda x: (x/len(cmu_movies) *100))"
   ]
  },
  {
   "cell_type": "code",
   "execution_count": null,
   "metadata": {},
   "outputs": [],
   "source": [
    "# Convert in DataFrame and merge to compare\n",
    "df_adaptation_category = pd.DataFrame(adaptation_category_perc, columns=['count'])\n",
    "df_cmu_category = pd.DataFrame(cmu_category_perc, columns=['count'])\n",
    "\n",
    "adaptation_vs_cmu_categories = pd.merge(df_adaptation_category, df_cmu_category, left_index=True, right_index=True)\n",
    "adaptation_vs_cmu_categories.columns = ['Adaptation', 'Movie']"
   ]
  },
  {
   "cell_type": "code",
   "execution_count": null,
   "metadata": {},
   "outputs": [],
   "source": [
    "# Comparison Adaptation vs Movies Main Categories\n",
    "index = range(len(adaptation_vs_cmu_categories))\n",
    "bar_width = 0.4  # Width of the bars\n",
    "plt.figure(figsize=(10, 6))\n",
    "# Plot the adaptation dataset\n",
    "plt.bar(index, adaptation_vs_cmu_categories['Adaptation'], width=bar_width, label='Adaptations', color='blue')\n",
    "# Plot the movie dataset\n",
    "plt.bar([i + bar_width for i in index], adaptation_vs_cmu_categories['Movie'], width=bar_width, label='CMU Movies', color='orange')\n",
    "\n",
    "plt.xlabel('Categories')\n",
    "plt.ylabel('Percentage %')\n",
    "plt.title('Percentage of Movies per Category : Adaptation Movies vs CMU Movies')\n",
    "plt.xticks([i + bar_width / 2 for i in index], adaptation_vs_cmu_categories.index, rotation=90)\n",
    "plt.legend()\n",
    "plt.tight_layout()\n",
    "plt.show()\n"
   ]
  },
  {
   "cell_type": "code",
   "execution_count": null,
   "metadata": {},
   "outputs": [],
   "source": [
    "plt.figure(figsize=(10, 6))\n",
    "plt.bar(index, adaptation_vs_cmu_categories['Adaptation'], width=bar_width, label='Adaptations', color='blue')\n",
    "plt.xlabel('Categories')\n",
    "plt.ylabel('Percentage %')\n",
    "plt.title('Percentage of Movies per Category : Adaptation Movies')\n",
    "plt.xticks([i for i in index], adaptation_vs_cmu_categories.index, rotation=90)\n",
    "plt.legend()\n",
    "plt.tight_layout()\n",
    "plt.show()"
   ]
  },
  {
   "cell_type": "code",
   "execution_count": null,
   "metadata": {},
   "outputs": [],
   "source": [
    "plt.figure(figsize=(10, 6))\n",
    "plt.bar(index, adaptation_vs_cmu_categories['Movie'].sort_values(ascending=False), width=bar_width, label='CMU Movies', color='orange')\n",
    "plt.xlabel('Categories')\n",
    "plt.ylabel('Percentage %')\n",
    "plt.title('Percentage of Movies per Category : Adaptation Movies')\n",
    "plt.xticks([i for i in index], adaptation_vs_cmu_categories.index, rotation=90)\n",
    "plt.legend()\n",
    "plt.tight_layout()\n",
    "plt.show()"
   ]
  },
  {
   "cell_type": "markdown",
   "metadata": {},
   "source": [
    "### Average movie date for each category \n",
    "Which categories of book adaptations are gaining popularity over time?"
   ]
  },
  {
   "cell_type": "code",
   "execution_count": null,
   "metadata": {},
   "outputs": [],
   "source": [
    "genre_categories = load_genre_categories('data/genre_categories.json')"
   ]
  },
  {
   "cell_type": "code",
   "execution_count": null,
   "metadata": {},
   "outputs": [],
   "source": [
    "df_genres_exploded = explode_genres(df)"
   ]
  },
  {
   "cell_type": "code",
   "execution_count": null,
   "metadata": {},
   "outputs": [],
   "source": [
    "# Calculate the average movie date for each genre category\n",
    "average_movie_date = df_genres_exploded.groupby('genres')['movie_date'].mean()\n",
    "\n",
    "# Map genres to categories\n",
    "average_movie_date_category = average_movie_date.reset_index()\n",
    "average_movie_date_category['category'] = average_movie_date_category['genres'].map(lambda x: next((k for k, v in genre_categories.items() if x in v), 'Other'))\n",
    "\n",
    "# Calculate the average movie date for each category\n",
    "average_movie_date_category = average_movie_date_category.groupby('category')['movie_date'].mean()\n",
    "\n",
    "# Sort the average movie date by descending order\n",
    "average_movie_date_category = average_movie_date_category.sort_values(ascending=True)\n",
    "\n",
    "# Plot the average movie date for each genre category\n",
    "plt.figure(figsize=(8, 4))\n",
    "average_movie_date_category.plot(kind='bar')\n",
    "plt.title('Average Movie Date per Genre Category')\n",
    "plt.xlabel('Genre Category')\n",
    "plt.ylabel('Average Movie Date')\n",
    "plt.xticks(rotation=90)\n",
    "plt.ylim(average_movie_date_category.min() - 10, average_movie_date_category.max() + 10)\n",
    "plt.show()"
   ]
  },
  {
   "cell_type": "code",
   "execution_count": null,
   "metadata": {},
   "outputs": [],
   "source": []
  },
  {
   "cell_type": "markdown",
   "metadata": {},
   "source": [
    "### Average box office for each genre category\n",
    "Which genre category has attracted the most attention based on box office performance?\\\n",
    "Although this analysis is very simple, we are planning to conduct a more detailed analysis, taking into account the inflation for instance, to give a  more accurate picture of box office trends."
   ]
  },
  {
   "cell_type": "code",
   "execution_count": null,
   "metadata": {},
   "outputs": [],
   "source": [
    "# Calculate the average box office for each genre category\n",
    "average_box_office = df_genres_exploded.dropna(subset=['box_office']).groupby('genres')['box_office'].mean()\n",
    "\n",
    "# Map genres to categories\n",
    "average_box_office_category = average_box_office.reset_index()\n",
    "average_box_office_category['category'] = average_box_office_category['genres'].map(lambda x: next((k for k, v in genre_categories.items() if x in v), 'Other'))\n",
    "\n",
    "# Calculate the average box office for each category\n",
    "average_box_office_category = average_box_office_category.groupby('category')['box_office'].mean()\n",
    "\n",
    "# Sort the average box office by descending order\n",
    "average_box_office_category = average_box_office_category.sort_values(ascending=False)\n",
    "\n",
    "# Plot the average box office for each genre category\n",
    "plt.figure(figsize=(8, 4))\n",
    "average_box_office_category.plot(kind='bar')\n",
    "plt.title('Average Box Office per Genre Category')\n",
    "plt.xlabel('Genre Category')\n",
    "plt.ylabel('Average Box Office ($100 million)')\n",
    "plt.xticks(rotation=90)\n",
    "plt.ylim(0, average_box_office_category.max() + average_box_office_category.max()/10)\n",
    "plt.show()"
   ]
  },
  {
   "cell_type": "markdown",
   "metadata": {},
   "source": [
    "### Average runtime for each category \n",
    "Although this would need further investigation, analyzing the runtime of book-to-movie adaptations by category can provide insight into how different genres balance storytelling depth and audience expectations. It can highlight the compromises between narrative compression and fidelity to the source material."
   ]
  },
  {
   "cell_type": "code",
   "execution_count": null,
   "metadata": {},
   "outputs": [],
   "source": [
    "# Calculate the average runtime for each genre category\n",
    "average_runtime = df_genres_exploded.dropna(subset=['runtime']).groupby('genres')['runtime'].mean()\n",
    "\n",
    "# Map genres to categories\n",
    "average_runtime_category = average_runtime.reset_index()\n",
    "average_runtime_category['category'] = average_runtime_category['genres'].map(lambda x: next((k for k, v in genre_categories.items() if x in v), 'Other'))\n",
    "\n",
    "# Calculate the average runtime for each category\n",
    "average_runtime_category = average_runtime_category.groupby('category')['runtime'].mean()\n",
    "\n",
    "# Sort the average runtime by descending order\n",
    "average_runtime_category = average_runtime_category.sort_values(ascending=False)\n",
    "\n",
    "# Plot the average runtime for each genre category\n",
    "plt.figure(figsize=(8, 4))\n",
    "average_runtime_category.plot(kind='bar')\n",
    "plt.title('Average Runtime per Genre Category')\n",
    "plt.xlabel('Genre Category')\n",
    "plt.ylabel('Average Runtime (minutes)')\n",
    "plt.xticks(rotation=90)\n",
    "plt.ylim(average_runtime_category.min() - 10, average_runtime_category.max() + 10)\n",
    "plt.show()"
   ]
  },
  {
   "cell_type": "markdown",
   "metadata": {},
   "source": [
    "## Book-to-movie analysis by language and category\n",
    "This analysis examines the distribution of movies across different genre categories and languages. This can provide insights into how genre preferences vary across linguistic contexts, potentially reflecting cultural influences. "
   ]
  },
  {
   "cell_type": "code",
   "execution_count": null,
   "metadata": {},
   "outputs": [],
   "source": [
    "# Separate the languages by each comma and explode the list into separate rows\n",
    "df_genres_exploded['language'] = df_genres_exploded['language'].str.split(', ')\n",
    "df_genres_exploded_languages_exploded = df_genres_exploded.explode('language')\n",
    "\n",
    "# Clean the languages by removing the word \"Language\"\n",
    "df_genres_exploded_languages_exploded['language'] = df_genres_exploded_languages_exploded['language'].str.replace(' Language', '')"
   ]
  },
  {
   "cell_type": "code",
   "execution_count": null,
   "metadata": {},
   "outputs": [],
   "source": [
    "# Group by genre categories and languages, and count the number of movies in each combination\n",
    "language_counts = df_genres_exploded_languages_exploded.groupby(['genres', 'language']).size().unstack()\n",
    "\n",
    "# Get the top 10 most used languages\n",
    "top_languages = language_counts.sum().sort_values(ascending=False).head(10).index\n",
    "\n",
    "# Map genres to categories\n",
    "language_counts['category'] = language_counts.index.map(lambda x: next((k for k, v in genre_categories.items() if x in v), 'Other'))\n",
    "\n",
    "# Group by genre categories and languages, and count the number of movies in each combination\n",
    "language_counts = language_counts.groupby('category').sum()\n",
    "\n",
    "# Keep only the top 10 languages and group the rest into 'Other'\n",
    "language_counts['Other'] = language_counts.drop(columns=top_languages).sum(axis=1)\n",
    "language_counts = language_counts[top_languages.tolist() + ['Other']]\n",
    "\n",
    "# Sort the genre categories by the total number of movies in descending order\n",
    "language_counts = language_counts.loc[language_counts.sum(axis=1).sort_values(ascending=False).index]\n",
    "\n",
    "# Plot the stacked bar chart\n",
    "unique_languages = language_counts.columns\n",
    "colors = sns.color_palette(cc.glasbey_category10, n_colors=len(unique_languages))  # Get a unique color for each language\n",
    "\n",
    "language_counts[unique_languages].plot(kind='bar', stacked=True, figsize=(8, 4), color=colors)\n",
    "plt.title('Number of Movies per Language in each Genre Category')\n",
    "plt.xlabel('Genre Category')\n",
    "plt.ylabel('Number of Movies')\n",
    "plt.xticks(rotation=90)\n",
    "plt.legend(title='Language', bbox_to_anchor=(1.05, 1), loc='upper left')\n",
    "plt.show()\n",
    "\n",
    "# Calculate the percentage of movies in each language for each genre category\n",
    "language_counts_percentage = language_counts.div(language_counts.sum(axis=1), axis=0) * 100\n",
    "\n",
    "# Plot the stacked bar chart by percentage\n",
    "language_counts_percentage[unique_languages].plot(kind='bar', stacked=True, figsize=(8, 4), color=colors)\n",
    "plt.title('Percentage of Movies per Language in each Genre Category')\n",
    "plt.xlabel('Genre Category')\n",
    "plt.ylabel('Percentage of Movies')\n",
    "plt.xticks(rotation=90)\n",
    "plt.legend(title='Language', bbox_to_anchor=(1.05, 1), loc='upper left')\n",
    "plt.show()"
   ]
  },
  {
   "cell_type": "markdown",
   "metadata": {},
   "source": [
    "## Book-to-movie analysis by country and category\n"
   ]
  },
  {
   "cell_type": "code",
   "execution_count": null,
   "metadata": {},
   "outputs": [],
   "source": [
    "# Separate the countries by each comma and explode the list into separate rows\n",
    "df_genres_exploded['countries'] = df_genres_exploded['countries'].str.split(', ')\n",
    "df_genres_exploded_countries_exploded = df_genres_exploded.explode('countries')"
   ]
  },
  {
   "cell_type": "code",
   "execution_count": null,
   "metadata": {},
   "outputs": [],
   "source": [
    "# Group by genre categories and countries, and count the number of movies in each combination\n",
    "country_counts = df_genres_exploded_countries_exploded.groupby(['genres', 'countries']).size().unstack()\n",
    "\n",
    "# Get the top 10 most used countries\n",
    "top_countries = country_counts.sum().sort_values(ascending=False).head(10).index\n",
    "\n",
    "# Map genres to categories\n",
    "country_counts['category'] = country_counts.index.map(lambda x: next((k for k, v in genre_categories.items() if x in v), 'Other'))\n",
    "\n",
    "# Group by genre categories and countries, and count the number of movies in each combination\n",
    "country_counts = country_counts.groupby('category').sum()\n",
    "\n",
    "# Keep only the top 10 countries and group the rest into 'Other'\n",
    "country_counts['Other'] = country_counts.drop(columns=top_countries).sum(axis=1)\n",
    "country_counts = country_counts[top_countries.tolist() + ['Other']]\n",
    "\n",
    "# Sort the genre categories by the total number of movies in descending order\n",
    "country_counts = country_counts.loc[country_counts.sum(axis=1).sort_values(ascending=False).index]\n",
    "\n",
    "# Plot the stacked bar chart\n",
    "unique_countries = country_counts.columns\n",
    "colors = sns.color_palette(cc.glasbey_category10, n_colors=len(unique_countries))  # Get a unique color for each country\n",
    "\n",
    "country_counts[unique_countries].plot(kind='bar', stacked=True, figsize=(8, 4), color=colors)\n",
    "plt.title('Number of Movies per Country in each Genre Category')\n",
    "plt.xlabel('Genre Category')\n",
    "plt.ylabel('Number of Movies')\n",
    "plt.xticks(rotation=90)\n",
    "plt.legend(title='Country', bbox_to_anchor=(1.05, 1), loc='upper left')\n",
    "plt.show()\n",
    "\n",
    "# Calculate the percentage of movies in each country for each genre category\n",
    "country_counts_percentage = country_counts.div(country_counts.sum(axis=1), axis=0) * 100\n",
    "\n",
    "# Plot the stacked bar chart by percentage\n",
    "country_counts_percentage[unique_countries].plot(kind='bar', stacked=True, figsize=(8, 4), color=colors)\n",
    "plt.title('Percentage of Movies per Country in each Genre Category')\n",
    "plt.xlabel('Genre Category')\n",
    "plt.ylabel('Percentage of Movies')\n",
    "plt.xticks(rotation=90)\n",
    "plt.legend(title='Country', bbox_to_anchor=(1.05, 1), loc='upper left')\n",
    "plt.show()"
   ]
  },
  {
   "cell_type": "markdown",
   "metadata": {},
   "source": [
    "## Authors Cherished by the World of Cinema\n",
    "This analysis highlights authors whose works have inspired the most movie adaptations. This can offer insights into literary trends that are particularly popular in cinema."
   ]
  },
  {
   "cell_type": "code",
   "execution_count": null,
   "metadata": {},
   "outputs": [],
   "source": [
    "# Get the top 10 authors by the number of movies\n",
    "top_authors = df['author_book'].value_counts().head(25)\n",
    "\n",
    "# Plot the bar chart\n",
    "plt.figure(figsize=(8, 4))\n",
    "top_authors.plot(kind='bar')\n",
    "plt.title('Number of Movies per Author')\n",
    "plt.xlabel('Author')\n",
    "plt.ylabel('Number of Movies')\n",
    "plt.xticks(rotation=90, ha='right')\n",
    "plt.show()"
   ]
  },
  {
   "cell_type": "markdown",
   "metadata": {},
   "source": [
    "## Number of adaptations from books made over time\n",
    "This analysis could reveal periods of increased interest in book-to-movie adaptations, helping identify cultural, societal, or industry-driven factors that influenced these trends, such as shifts in audience preferences."
   ]
  },
  {
   "cell_type": "code",
   "execution_count": null,
   "metadata": {},
   "outputs": [],
   "source": [
    "adpt_per_year = df.groupby('movie_date').size().reset_index(name='movie_count')"
   ]
  },
  {
   "cell_type": "code",
   "execution_count": null,
   "metadata": {},
   "outputs": [],
   "source": [
    "plt.figure(figsize=(10, 6))\n",
    "plt.plot(adpt_per_year['movie_date'], adpt_per_year['movie_count'], marker='o')\n",
    "\n",
    "plt.title('Number of Movies Released Each Year')\n",
    "plt.xlabel('Year')\n",
    "plt.ylabel('Number of Movies')\n",
    "plt.show()"
   ]
  },
  {
   "cell_type": "markdown",
   "metadata": {},
   "source": [
    "## Impact of Book Release Dates on Movie Adaptations\n",
    "How does the timing of a book’s release influence its cinematic potential ?\\\n",
    "This analysis explores the correlation between the release dates of books and the number of movie adaptations they inspire. "
   ]
  },
  {
   "cell_type": "code",
   "execution_count": null,
   "metadata": {
    "vscode": {
     "languageId": "ruby"
    }
   },
   "outputs": [],
   "source": [
    "# Extract the first year if the date is in the format xxxx-xxxx\n",
    "df['year_book'] = df['year_book'].str.split('–').str[0]\n",
    "df['year_book'] = df['year_book'].str.split('-').str[0]\n",
    "\n",
    "# Drop rows with NaN values in 'year_book'\n",
    "df = df.dropna(subset=['year_book'])\n",
    "\n",
    "# Convert 'year_book' to integer\n",
    "df['year_book'] = df['year_book'].astype(int)\n",
    "\n",
    "# Create a new column for the decade\n",
    "df['decade'] = (df['year_book'] // 10) * 10\n",
    "\n",
    "# Plot the bar chart grouped by decade\n",
    "plt.figure(figsize=(10, 4))\n",
    "df['decade'].value_counts().sort_index().plot(kind='bar')\n",
    "plt.title('Number of Movies per Book Release Date')\n",
    "plt.xlabel('Book Release Date (decade)')\n",
    "plt.ylabel('Number of Movies')\n",
    "plt.xticks(rotation=90)\n",
    "plt.show()"
   ]
  },
  {
   "cell_type": "code",
   "execution_count": null,
   "metadata": {},
   "outputs": [],
   "source": []
  },
  {
   "cell_type": "code",
   "execution_count": null,
   "metadata": {},
   "outputs": [],
   "source": []
  }
 ],
 "metadata": {
  "kernelspec": {
   "display_name": "Python 3 (ipykernel)",
   "language": "python",
   "name": "python3"
  },
  "language_info": {
   "codemirror_mode": {
    "name": "ipython",
    "version": 3
   },
   "file_extension": ".py",
   "mimetype": "text/x-python",
   "name": "python",
   "nbconvert_exporter": "python",
   "pygments_lexer": "ipython3",
   "version": "3.12.4"
  }
 },
 "nbformat": 4,
 "nbformat_minor": 4
}
