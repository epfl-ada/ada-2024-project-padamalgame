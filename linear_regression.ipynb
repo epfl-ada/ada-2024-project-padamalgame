{
 "cells": [
  {
   "cell_type": "code",
   "execution_count": 106,
   "metadata": {},
   "outputs": [],
   "source": [
    "import pandas as pd\n",
    "import os\n",
    "import numpy as np\n",
    "import matplotlib.pyplot as plt\n",
    "import seaborn as sns\n",
    "import statsmodels.api as sm\n",
    "import statsmodels.formula.api as smf\n",
    "from transformers import pipeline\n",
    "from nltk.tokenize import sent_tokenize\n",
    "from scripts.sentiment_analysis import *\n",
    "import math\n",
    "from scipy import stats\n",
    "from collections import defaultdict\n",
    "from src.scripts.linear_regression import *\n",
    "import json\n",
    "from sklearn.preprocessing import StandardScaler"
   ]
  },
  {
   "cell_type": "code",
   "execution_count": 107,
   "metadata": {},
   "outputs": [],
   "source": [
    "with open('data/genre_categories.json', 'r') as f:\n",
    "    genre_categories = json.load(f)\n",
    "data = create_regression_dataset(genre_categories)"
   ]
  },
  {
   "cell_type": "code",
   "execution_count": 108,
   "metadata": {},
   "outputs": [
    {
     "data": {
      "text/plain": [
       "Index(['wikipedia_id', 'BookRating', 'MovieRuntime', 'MovieRating',\n",
       "       'MovieBoxOffice', 'MovieRatingNb', 'MovieGenre', 'neg', 'neu', 'pos',\n",
       "       'compound', 'polarity', 'subjectivity', 'sadness', 'joy', 'love',\n",
       "       'anger', 'fear', 'surprise', 'EnglishLanguage', 'FrenchLanguage',\n",
       "       'GermanLanguage', 'SpanishLanguage', 'ActionAdventure', 'Comedy',\n",
       "       'CrimeGangster', 'Drama', 'FamilyChildren', 'FantasyScienceFiction',\n",
       "       'HistoricalPeriod', 'HorrorSupernatural', 'OtherGenre',\n",
       "       'RomanceRelationship', 'ThrillersMysteries'],\n",
       "      dtype='object')"
      ]
     },
     "execution_count": 108,
     "metadata": {},
     "output_type": "execute_result"
    }
   ],
   "source": [
    "df = pd.read_csv('data/linear_regression_data.csv')\n",
    "df.columns"
   ]
  },
  {
   "cell_type": "markdown",
   "metadata": {},
   "source": [
    "### Regression on Box Office"
   ]
  },
  {
   "cell_type": "markdown",
   "metadata": {},
   "source": [
    "#### Basic regression on box office with all features"
   ]
  },
  {
   "cell_type": "code",
   "execution_count": 109,
   "metadata": {},
   "outputs": [
    {
     "name": "stdout",
     "output_type": "stream",
     "text": [
      "                            OLS Regression Results                            \n",
      "==============================================================================\n",
      "Dep. Variable:         MovieBoxOffice   R-squared:                       0.229\n",
      "Model:                            OLS   Adj. R-squared:                  0.206\n",
      "Method:                 Least Squares   F-statistic:                     9.842\n",
      "Date:                Fri, 20 Dec 2024   Prob (F-statistic):           1.15e-37\n",
      "Time:                        10:00:51   Log-Likelihood:                -19901.\n",
      "No. Observations:                 991   AIC:                         3.986e+04\n",
      "Df Residuals:                     961   BIC:                         4.001e+04\n",
      "Df Model:                          29                                         \n",
      "Covariance Type:            nonrobust                                         \n",
      "=========================================================================================\n",
      "                            coef    std err          t      P>|t|      [0.025      0.975]\n",
      "-----------------------------------------------------------------------------------------\n",
      "Intercept              7.617e+13   2.65e+14      0.287      0.774   -4.44e+14    5.96e+14\n",
      "BookRating             4.385e+07   2.19e+07      2.003      0.045    8.91e+05    8.68e+07\n",
      "MovieRuntime           1.682e+06    1.8e+05      9.328      0.000    1.33e+06    2.04e+06\n",
      "neg                   -1.546e+10   8.83e+09     -1.751      0.080   -3.28e+10    1.86e+09\n",
      "neu                   -1.563e+10   8.83e+09     -1.770      0.077    -3.3e+10     1.7e+09\n",
      "pos                   -1.549e+10   8.83e+09     -1.755      0.080   -3.28e+10    1.83e+09\n",
      "compound               2.527e+06   8.27e+06      0.306      0.760   -1.37e+07    1.88e+07\n",
      "polarity               3.899e+07    5.3e+07      0.736      0.462   -6.49e+07    1.43e+08\n",
      "subjectivity          -6.256e+07   4.43e+07     -1.411      0.159    -1.5e+08    2.44e+07\n",
      "sadness               -7.616e+13   2.65e+14     -0.287      0.774   -5.96e+14    4.44e+14\n",
      "joy                   -7.616e+13   2.65e+14     -0.287      0.774   -5.96e+14    4.44e+14\n",
      "love                  -7.616e+13   2.65e+14     -0.287      0.774   -5.96e+14    4.44e+14\n",
      "anger                 -7.616e+13   2.65e+14     -0.287      0.774   -5.96e+14    4.44e+14\n",
      "fear                  -7.616e+13   2.65e+14     -0.287      0.774   -5.96e+14    4.44e+14\n",
      "surprise              -7.616e+13   2.65e+14     -0.287      0.774   -5.96e+14    4.44e+14\n",
      "EnglishLanguage        3.191e+07   2.56e+07      1.248      0.212   -1.83e+07    8.21e+07\n",
      "FrenchLanguage         2.315e+07   1.56e+07      1.480      0.139   -7.55e+06    5.39e+07\n",
      "GermanLanguage        -2.165e+07   1.92e+07     -1.129      0.259   -5.93e+07     1.6e+07\n",
      "SpanishLanguage        5.587e+07   1.96e+07      2.844      0.005    1.73e+07    9.44e+07\n",
      "ActionAdventure        3.245e+07   9.52e+06      3.409      0.001    1.38e+07    5.11e+07\n",
      "Comedy                 2.423e+07   1.07e+07      2.260      0.024    3.19e+06    4.53e+07\n",
      "CrimeGangster          -2.22e+06    1.3e+07     -0.171      0.864   -2.77e+07    2.32e+07\n",
      "Drama                 -2.882e+07   1.05e+07     -2.733      0.006   -4.95e+07   -8.13e+06\n",
      "FamilyChildren         5.579e+07   1.28e+07      4.361      0.000    3.07e+07    8.09e+07\n",
      "FantasyScienceFiction  7.301e+07   1.08e+07      6.758      0.000    5.18e+07    9.42e+07\n",
      "HistoricalPeriod       9.811e+06   9.71e+06      1.010      0.313   -9.24e+06    2.89e+07\n",
      "HorrorSupernatural     5.579e+06   1.44e+07      0.387      0.699   -2.27e+07    3.39e+07\n",
      "OtherGenre             5.561e+06   8.61e+06      0.646      0.518   -1.13e+07    2.25e+07\n",
      "RomanceRelationship    9.809e+06   1.14e+07      0.861      0.389   -1.25e+07    3.22e+07\n",
      "ThrillersMysteries     4.659e+07   1.11e+07      4.202      0.000    2.48e+07    6.83e+07\n",
      "==============================================================================\n",
      "Omnibus:                      616.281   Durbin-Watson:                   1.884\n",
      "Prob(Omnibus):                  0.000   Jarque-Bera (JB):             6927.381\n",
      "Skew:                           2.710   Prob(JB):                         0.00\n",
      "Kurtosis:                      14.764   Cond. No.                     1.98e+10\n",
      "==============================================================================\n",
      "\n",
      "Notes:\n",
      "[1] Standard Errors assume that the covariance matrix of the errors is correctly specified.\n",
      "[2] The smallest eigenvalue is 3.4e-14. This might indicate that there are\n",
      "strong multicollinearity problems or that the design matrix is singular.\n"
     ]
    }
   ],
   "source": [
    "df_boxoffice = df.copy()\n",
    "\n",
    "#scaler = StandardScaler()\n",
    "#col_to_stand = ['BookRating', 'MovieRuntime', 'MovieRatingNb','neg', 'neu', 'pos', 'compound', 'polarity', 'subjectivity','sadness', 'joy', 'love', 'fear', 'anger', 'surprise']\n",
    "#df_boxoffice[col_to_stand] = scaler.fit_transform(df_boxoffice[col_to_stand])\n",
    "\n",
    "# as we want to predict ahead of time, we remove rating information from movie\n",
    "df_boxoffice.drop(columns = ['MovieGenre', 'MovieRatingNb', 'MovieRating'], inplace=True)\n",
    "\n",
    "target = 'MovieBoxOffice'\n",
    "features = [col for col in df_boxoffice.columns.tolist() if (col != target and col != 'wikipedia_id')]\n",
    "formula = f\"{target} ~ {' + '.join(features)}\"\n",
    "\n",
    "model = train_linear_regression(df_boxoffice, formula)"
   ]
  },
  {
   "cell_type": "markdown",
   "metadata": {},
   "source": [
    "**Note:**\n",
    "The condition number is still large however it isn't anymore if you standardize the data which indicates that it is not a multicolinearity issue. We have decided not to standardize it in order to maintain interpretability"
   ]
  },
  {
   "cell_type": "markdown",
   "metadata": {},
   "source": [
    "#### Regression on log of box office with all features"
   ]
  },
  {
   "cell_type": "code",
   "execution_count": 110,
   "metadata": {},
   "outputs": [
    {
     "name": "stdout",
     "output_type": "stream",
     "text": [
      "                            OLS Regression Results                            \n",
      "==============================================================================\n",
      "Dep. Variable:      MovieBoxOfficeLog   R-squared:                       0.275\n",
      "Model:                            OLS   Adj. R-squared:                  0.253\n",
      "Method:                 Least Squares   F-statistic:                     12.56\n",
      "Date:                Fri, 20 Dec 2024   Prob (F-statistic):           2.12e-49\n",
      "Time:                        10:00:51   Log-Likelihood:                -1860.0\n",
      "No. Observations:                 991   AIC:                             3780.\n",
      "Df Residuals:                     961   BIC:                             3927.\n",
      "Df Model:                          29                                         \n",
      "Covariance Type:            nonrobust                                         \n",
      "=========================================================================================\n",
      "                            coef    std err          t      P>|t|      [0.025      0.975]\n",
      "-----------------------------------------------------------------------------------------\n",
      "Intercept             -3.222e+05   3.29e+06     -0.098      0.922   -6.78e+06    6.14e+06\n",
      "BookRating                0.2713      0.272      0.998      0.318      -0.262       0.805\n",
      "MovieRuntime              0.0235      0.002     10.490      0.000       0.019       0.028\n",
      "neg                    -197.1777    109.571     -1.800      0.072    -412.205      17.849\n",
      "neu                    -196.0213    109.589     -1.789      0.074    -411.083      19.041\n",
      "pos                    -194.1993    109.565     -1.772      0.077    -409.214      20.816\n",
      "compound                 -0.0180      0.103     -0.176      0.861      -0.219       0.183\n",
      "polarity                 -0.9093      0.658     -1.383      0.167      -2.200       0.381\n",
      "subjectivity             -0.8787      0.550     -1.596      0.111      -1.959       0.202\n",
      "sadness                3.224e+05   3.29e+06      0.098      0.922   -6.14e+06    6.78e+06\n",
      "joy                    3.224e+05   3.29e+06      0.098      0.922   -6.14e+06    6.78e+06\n",
      "love                   3.224e+05   3.29e+06      0.098      0.922   -6.14e+06    6.78e+06\n",
      "anger                  3.224e+05   3.29e+06      0.098      0.922   -6.14e+06    6.78e+06\n",
      "fear                   3.224e+05   3.29e+06      0.098      0.922   -6.14e+06    6.78e+06\n",
      "surprise               3.224e+05   3.29e+06      0.098      0.922   -6.14e+06    6.78e+06\n",
      "EnglishLanguage           0.8910      0.317      2.807      0.005       0.268       1.514\n",
      "FrenchLanguage            0.1229      0.194      0.633      0.527      -0.258       0.504\n",
      "GermanLanguage           -0.0070      0.238     -0.030      0.976      -0.474       0.460\n",
      "SpanishLanguage           0.4875      0.244      1.999      0.046       0.009       0.966\n",
      "ActionAdventure           0.1753      0.118      1.483      0.138      -0.057       0.407\n",
      "Comedy                    0.5467      0.133      4.106      0.000       0.285       0.808\n",
      "CrimeGangster             0.0943      0.161      0.585      0.558      -0.222       0.411\n",
      "Drama                    -0.4668      0.131     -3.566      0.000      -0.724      -0.210\n",
      "FamilyChildren            0.9625      0.159      6.061      0.000       0.651       1.274\n",
      "FantasyScienceFiction     0.6819      0.134      5.084      0.000       0.419       0.945\n",
      "HistoricalPeriod          0.2485      0.121      2.062      0.040       0.012       0.485\n",
      "HorrorSupernatural        0.0933      0.179      0.521      0.602      -0.258       0.444\n",
      "OtherGenre               -0.0334      0.107     -0.313      0.755      -0.243       0.176\n",
      "RomanceRelationship       0.4218      0.141      2.983      0.003       0.144       0.699\n",
      "ThrillersMysteries        0.9802      0.138      7.121      0.000       0.710       1.250\n",
      "==============================================================================\n",
      "Omnibus:                       32.929   Durbin-Watson:                   1.784\n",
      "Prob(Omnibus):                  0.000   Jarque-Bera (JB):               35.735\n",
      "Skew:                          -0.432   Prob(JB):                     1.74e-08\n",
      "Kurtosis:                       3.347   Cond. No.                     1.98e+10\n",
      "==============================================================================\n",
      "\n",
      "Notes:\n",
      "[1] Standard Errors assume that the covariance matrix of the errors is correctly specified.\n",
      "[2] The smallest eigenvalue is 3.4e-14. This might indicate that there are\n",
      "strong multicollinearity problems or that the design matrix is singular.\n"
     ]
    }
   ],
   "source": [
    "df_boxoffice = df.copy()\n",
    "df_boxoffice['MovieBoxOfficeLog'] = np.log(df_boxoffice.MovieBoxOffice)\n",
    "# as we want to predict ahead of time, we remove rating information from movie\n",
    "df_boxoffice.drop(columns = ['MovieGenre', 'MovieRatingNb', 'MovieRating', 'MovieBoxOffice'], inplace=True)\n",
    "\n",
    "target = 'MovieBoxOfficeLog'\n",
    "features = [col for col in df_boxoffice.columns.tolist() if (col != target and col != 'wikipedia_id')]\n",
    "formula = f\"{target} ~ {' + '.join(features)}\"\n",
    "\n",
    "model = train_linear_regression(df_boxoffice, formula)"
   ]
  },
  {
   "cell_type": "markdown",
   "metadata": {},
   "source": [
    "**Note:**\n",
    "We keep log movie box office as it improves R^squared value"
   ]
  },
  {
   "cell_type": "markdown",
   "metadata": {},
   "source": [
    "#### Forward selection to pick relevant and impactful features"
   ]
  },
  {
   "cell_type": "code",
   "execution_count": 111,
   "metadata": {},
   "outputs": [
    {
     "name": "stdout",
     "output_type": "stream",
     "text": [
      "Selected MovieRuntime with AIC 3979.3261109780497\n",
      "Selected FantasyScienceFiction with AIC 3905.302847261273\n",
      "Selected ThrillersMysteries with AIC 3859.021357389202\n",
      "Selected FamilyChildren with AIC 3808.2748583429725\n",
      "Selected Comedy with AIC 3795.3999971939725\n",
      "Selected Drama with AIC 3784.0301774030695\n",
      "Selected EnglishLanguage with AIC 3778.439345158975\n",
      "Selected RomanceRelationship with AIC 3773.246537759697\n",
      "Selected sadness with AIC 3767.444318296698\n",
      "Selected SpanishLanguage with AIC 3764.8939355687658\n",
      "Selected HistoricalPeriod with AIC 3762.137559477836\n",
      "Selected subjectivity with AIC 3759.703058473673\n",
      "Selected fear with AIC 3759.470460210252\n",
      "Selected ActionAdventure with AIC 3759.458333843913\n",
      "Forward Selected Features: ['MovieRuntime', 'FantasyScienceFiction', 'ThrillersMysteries', 'FamilyChildren', 'Comedy', 'Drama', 'EnglishLanguage', 'RomanceRelationship', 'sadness', 'SpanishLanguage', 'HistoricalPeriod', 'subjectivity', 'fear', 'ActionAdventure']\n"
     ]
    }
   ],
   "source": [
    "target = 'MovieBoxOfficeLog'\n",
    "features = [col for col in df_boxoffice.columns.tolist() if (col != target and col != 'wikipedia_id')]\n",
    "selected_features = forward_selection(df_boxoffice, target, features)\n",
    "print(\"Forward Selected Features:\", selected_features)\n"
   ]
  },
  {
   "cell_type": "markdown",
   "metadata": {},
   "source": [
    "#### Final linear regression "
   ]
  },
  {
   "cell_type": "code",
   "execution_count": 112,
   "metadata": {},
   "outputs": [
    {
     "name": "stdout",
     "output_type": "stream",
     "text": [
      "                            OLS Regression Results                            \n",
      "==============================================================================\n",
      "Dep. Variable:      MovieBoxOfficeLog   R-squared:                       0.268\n",
      "Model:                            OLS   Adj. R-squared:                  0.257\n",
      "Method:                 Least Squares   F-statistic:                     25.51\n",
      "Date:                Fri, 20 Dec 2024   Prob (F-statistic):           6.04e-57\n",
      "Time:                        10:00:57   Log-Likelihood:                -1864.7\n",
      "No. Observations:                 991   AIC:                             3759.\n",
      "Df Residuals:                     976   BIC:                             3833.\n",
      "Df Model:                          14                                         \n",
      "Covariance Type:            nonrobust                                         \n",
      "=========================================================================================\n",
      "                            coef    std err          t      P>|t|      [0.025      0.975]\n",
      "-----------------------------------------------------------------------------------------\n",
      "Intercept                12.8687      0.507     25.388      0.000      11.874      13.863\n",
      "MovieRuntime              0.0238      0.002     11.004      0.000       0.020       0.028\n",
      "FantasyScienceFiction     0.7019      0.129      5.431      0.000       0.448       0.956\n",
      "ThrillersMysteries        0.9756      0.125      7.835      0.000       0.731       1.220\n",
      "FamilyChildren            0.9852      0.152      6.498      0.000       0.688       1.283\n",
      "Comedy                    0.5231      0.131      4.003      0.000       0.267       0.780\n",
      "Drama                    -0.4720      0.126     -3.741      0.000      -0.720      -0.224\n",
      "EnglishLanguage           0.8289      0.311      2.666      0.008       0.219       1.439\n",
      "RomanceRelationship       0.3924      0.132      2.980      0.003       0.134       0.651\n",
      "sadness                  -1.3414      0.676     -1.983      0.048      -2.669      -0.014\n",
      "SpanishLanguage           0.5241      0.240      2.186      0.029       0.054       0.995\n",
      "HistoricalPeriod          0.2667      0.119      2.249      0.025       0.034       0.499\n",
      "subjectivity             -0.8640      0.526     -1.642      0.101      -1.896       0.168\n",
      "fear                      0.6531      0.439      1.486      0.138      -0.209       1.516\n",
      "ActionAdventure           0.1571      0.112      1.408      0.159      -0.062       0.376\n",
      "==============================================================================\n",
      "Omnibus:                       37.891   Durbin-Watson:                   1.760\n",
      "Prob(Omnibus):                  0.000   Jarque-Bera (JB):               42.094\n",
      "Skew:                          -0.459   Prob(JB):                     7.24e-10\n",
      "Kurtosis:                       3.421   Cond. No.                     1.63e+03\n",
      "==============================================================================\n",
      "\n",
      "Notes:\n",
      "[1] Standard Errors assume that the covariance matrix of the errors is correctly specified.\n",
      "[2] The condition number is large, 1.63e+03. This might indicate that there are\n",
      "strong multicollinearity or other numerical problems.\n"
     ]
    },
    {
     "data": {
      "image/png": "[encoded data removed]",
      "text/plain": [
       "<Figure size 640x480 with 1 Axes>"
      ]
     },
     "metadata": {},
     "output_type": "display_data"
    }
   ],
   "source": [
    "target = 'MovieBoxOfficeLog'\n",
    "features = selected_features\n",
    "formula = f\"{target} ~ {' + '.join(features)}\"\n",
    "\n",
    "model = train_linear_regression(df_boxoffice, formula)\n",
    "title = 'Log Box Office Regression Coefficients with 95% Confidence Interval'\n",
    "plot_coefficients(model, title)"
   ]
  },
  {
   "cell_type": "markdown",
   "metadata": {},
   "source": [
    "### Regression on movie rating"
   ]
  },
  {
   "cell_type": "markdown",
   "metadata": {},
   "source": [
    "#### Basic regression on box office with all features"
   ]
  },
  {
   "cell_type": "code",
   "execution_count": 113,
   "metadata": {},
   "outputs": [
    {
     "name": "stdout",
     "output_type": "stream",
     "text": [
      "                            OLS Regression Results                            \n",
      "==============================================================================\n",
      "Dep. Variable:            MovieRating   R-squared:                       0.303\n",
      "Model:                            OLS   Adj. R-squared:                  0.282\n",
      "Method:                 Least Squares   F-statistic:                     14.39\n",
      "Date:                Fri, 20 Dec 2024   Prob (F-statistic):           5.03e-57\n",
      "Time:                        10:00:57   Log-Likelihood:                -1165.2\n",
      "No. Observations:                 991   AIC:                             2390.\n",
      "Df Residuals:                     961   BIC:                             2537.\n",
      "Df Model:                          29                                         \n",
      "Covariance Type:            nonrobust                                         \n",
      "=========================================================================================\n",
      "                            coef    std err          t      P>|t|      [0.025      0.975]\n",
      "-----------------------------------------------------------------------------------------\n",
      "Intercept             -1.537e+06   1.63e+06     -0.942      0.347   -4.74e+06    1.67e+06\n",
      "BookRating                0.8712      0.135      6.464      0.000       0.607       1.136\n",
      "MovieRuntime              0.0094      0.001      8.425      0.000       0.007       0.012\n",
      "neg                     -31.3663     54.348     -0.577      0.564    -138.021      75.288\n",
      "neu                     -33.4242     54.357     -0.615      0.539    -140.096      73.248\n",
      "pos                     -30.8974     54.345     -0.569      0.570    -137.546      75.751\n",
      "compound                 -0.0809      0.051     -1.590      0.112      -0.181       0.019\n",
      "polarity                 -0.2591      0.326     -0.794      0.427      -0.899       0.381\n",
      "subjectivity              0.2288      0.273      0.838      0.402      -0.307       0.765\n",
      "sadness                1.537e+06   1.63e+06      0.942      0.347   -1.67e+06    4.74e+06\n",
      "joy                    1.537e+06   1.63e+06      0.942      0.347   -1.67e+06    4.74e+06\n",
      "love                   1.537e+06   1.63e+06      0.942      0.347   -1.67e+06    4.74e+06\n",
      "anger                  1.537e+06   1.63e+06      0.942      0.347   -1.67e+06    4.74e+06\n",
      "fear                   1.537e+06   1.63e+06      0.942      0.347   -1.67e+06    4.74e+06\n",
      "surprise               1.537e+06   1.63e+06      0.942      0.347   -1.67e+06    4.74e+06\n",
      "EnglishLanguage           0.0626      0.157      0.397      0.691      -0.246       0.371\n",
      "FrenchLanguage            0.3215      0.096      3.337      0.001       0.132       0.511\n",
      "GermanLanguage            0.2282      0.118      1.932      0.054      -0.004       0.460\n",
      "SpanishLanguage           0.2418      0.121      1.999      0.046       0.004       0.479\n",
      "ActionAdventure          -0.0863      0.059     -1.472      0.141      -0.201       0.029\n",
      "Comedy                   -0.0012      0.066     -0.018      0.985      -0.131       0.128\n",
      "CrimeGangster             0.2051      0.080      2.566      0.010       0.048       0.362\n",
      "Drama                     0.5173      0.065      7.967      0.000       0.390       0.645\n",
      "FamilyChildren            0.0853      0.079      1.083      0.279      -0.069       0.240\n",
      "FantasyScienceFiction     0.1506      0.067      2.263      0.024       0.020       0.281\n",
      "HistoricalPeriod         -0.0741      0.060     -1.240      0.215      -0.191       0.043\n",
      "HorrorSupernatural       -0.2436      0.089     -2.746      0.006      -0.418      -0.070\n",
      "OtherGenre                0.2369      0.053      4.470      0.000       0.133       0.341\n",
      "RomanceRelationship       0.0547      0.070      0.780      0.436      -0.083       0.192\n",
      "ThrillersMysteries        0.0519      0.068      0.760      0.447      -0.082       0.186\n",
      "==============================================================================\n",
      "Omnibus:                       44.734   Durbin-Watson:                   1.926\n",
      "Prob(Omnibus):                  0.000   Jarque-Bera (JB):               57.006\n",
      "Skew:                          -0.445   Prob(JB):                     4.18e-13\n",
      "Kurtosis:                       3.768   Cond. No.                     1.98e+10\n",
      "==============================================================================\n",
      "\n",
      "Notes:\n",
      "[1] Standard Errors assume that the covariance matrix of the errors is correctly specified.\n",
      "[2] The smallest eigenvalue is 3.4e-14. This might indicate that there are\n",
      "strong multicollinearity problems or that the design matrix is singular.\n"
     ]
    }
   ],
   "source": [
    "df_rating = df.copy()\n",
    "\n",
    "#scaler = StandardScaler()\n",
    "#col_to_stand = ['BookRating', 'MovieRuntime', 'MovieRatingNb','neg', 'neu', 'pos', 'compound', 'polarity', 'subjectivity','sadness', 'joy', 'love', 'fear', 'anger', 'surprise']\n",
    "#df_rating[col_to_stand] = scaler.fit_transform(df_rating[col_to_stand])\n",
    "\n",
    "# as we want to predict ahead of time, we remove rating information from movie\n",
    "df_rating.drop(columns = ['MovieGenre', 'MovieBoxOffice', 'MovieRatingNb'], inplace=True)\n",
    "\n",
    "target = 'MovieRating'\n",
    "features = [col for col in df_rating.columns.tolist() if (col != target and col != 'wikipedia_id')]\n",
    "formula = f\"{target} ~ {' + '.join(features)}\"\n",
    "\n",
    "model = train_linear_regression(df_rating, formula)"
   ]
  },
  {
   "cell_type": "markdown",
   "metadata": {},
   "source": [
    "#### Regression on log of box office with all features"
   ]
  },
  {
   "cell_type": "code",
   "execution_count": 114,
   "metadata": {},
   "outputs": [
    {
     "name": "stdout",
     "output_type": "stream",
     "text": [
      "                            OLS Regression Results                            \n",
      "==============================================================================\n",
      "Dep. Variable:         MovieRatingLog   R-squared:                       0.285\n",
      "Model:                            OLS   Adj. R-squared:                  0.263\n",
      "Method:                 Least Squares   F-statistic:                     13.19\n",
      "Date:                Fri, 20 Dec 2024   Prob (F-statistic):           4.59e-52\n",
      "Time:                        10:00:57   Log-Likelihood:                 629.73\n",
      "No. Observations:                 991   AIC:                            -1199.\n",
      "Df Residuals:                     961   BIC:                            -1052.\n",
      "Df Model:                          29                                         \n",
      "Covariance Type:            nonrobust                                         \n",
      "=========================================================================================\n",
      "                            coef    std err          t      P>|t|      [0.025      0.975]\n",
      "-----------------------------------------------------------------------------------------\n",
      "Intercept             -2.501e+05   2.67e+05     -0.937      0.349   -7.74e+05    2.73e+05\n",
      "BookRating                0.1317      0.022      5.977      0.000       0.088       0.175\n",
      "MovieRuntime              0.0014      0.000      7.556      0.000       0.001       0.002\n",
      "neg                      -6.2784      8.884     -0.707      0.480     -23.712      11.155\n",
      "neu                      -6.5973      8.885     -0.743      0.458     -24.034      10.839\n",
      "pos                      -6.1644      8.883     -0.694      0.488     -23.597      11.268\n",
      "compound                 -0.0139      0.008     -1.669      0.095      -0.030       0.002\n",
      "polarity                 -0.0262      0.053     -0.491      0.623      -0.131       0.078\n",
      "subjectivity              0.0370      0.045      0.829      0.407      -0.051       0.125\n",
      "sadness                2.501e+05   2.67e+05      0.938      0.349   -2.73e+05    7.74e+05\n",
      "joy                    2.501e+05   2.67e+05      0.938      0.349   -2.73e+05    7.74e+05\n",
      "love                   2.501e+05   2.67e+05      0.938      0.349   -2.73e+05    7.74e+05\n",
      "anger                  2.501e+05   2.67e+05      0.938      0.349   -2.73e+05    7.74e+05\n",
      "fear                   2.501e+05   2.67e+05      0.938      0.349   -2.73e+05    7.74e+05\n",
      "surprise               2.501e+05   2.67e+05      0.938      0.349   -2.73e+05    7.74e+05\n",
      "EnglishLanguage           0.0079      0.026      0.309      0.757      -0.043       0.058\n",
      "FrenchLanguage            0.0483      0.016      3.064      0.002       0.017       0.079\n",
      "GermanLanguage            0.0340      0.019      1.759      0.079      -0.004       0.072\n",
      "SpanishLanguage           0.0369      0.020      1.868      0.062      -0.002       0.076\n",
      "ActionAdventure          -0.0142      0.010     -1.485      0.138      -0.033       0.005\n",
      "Comedy                   -0.0002      0.011     -0.015      0.988      -0.021       0.021\n",
      "CrimeGangster             0.0302      0.013      2.311      0.021       0.005       0.056\n",
      "Drama                     0.0849      0.011      7.998      0.000       0.064       0.106\n",
      "FamilyChildren            0.0152      0.013      1.179      0.239      -0.010       0.040\n",
      "FantasyScienceFiction     0.0224      0.011      2.059      0.040       0.001       0.044\n",
      "HistoricalPeriod         -0.0110      0.010     -1.130      0.259      -0.030       0.008\n",
      "HorrorSupernatural       -0.0424      0.015     -2.922      0.004      -0.071      -0.014\n",
      "OtherGenre                0.0365      0.009      4.218      0.000       0.020       0.054\n",
      "RomanceRelationship       0.0107      0.011      0.936      0.350      -0.012       0.033\n",
      "ThrillersMysteries        0.0113      0.011      1.009      0.313      -0.011       0.033\n",
      "==============================================================================\n",
      "Omnibus:                      226.246   Durbin-Watson:                   1.910\n",
      "Prob(Omnibus):                  0.000   Jarque-Bera (JB):              713.542\n",
      "Skew:                          -1.109   Prob(JB):                    1.14e-155\n",
      "Kurtosis:                       6.516   Cond. No.                     1.98e+10\n",
      "==============================================================================\n",
      "\n",
      "Notes:\n",
      "[1] Standard Errors assume that the covariance matrix of the errors is correctly specified.\n",
      "[2] The smallest eigenvalue is 3.4e-14. This might indicate that there are\n",
      "strong multicollinearity problems or that the design matrix is singular.\n"
     ]
    }
   ],
   "source": [
    "df_rating = df.copy()\n",
    "df_rating['MovieRatingLog'] = np.log(df_rating.MovieRating)\n",
    "# as we want to predict ahead of time, we remove rating information from movie\n",
    "df_rating.drop(columns = ['MovieGenre', 'MovieBoxOffice', 'MovieRating', 'MovieRatingNb'], inplace=True)\n",
    "\n",
    "target = 'MovieRatingLog'\n",
    "features = [col for col in df_rating.columns.tolist() if (col != target and col != 'wikipedia_id')]\n",
    "formula = f\"{target} ~ {' + '.join(features)}\"\n",
    "\n",
    "model = train_linear_regression(df_rating, formula)"
   ]
  },
  {
   "cell_type": "markdown",
   "metadata": {},
   "source": [
    "**Note:**\n",
    "We keep movie rating as it has the best R^squared value"
   ]
  },
  {
   "cell_type": "markdown",
   "metadata": {},
   "source": [
    "#### Forward selection to pick features"
   ]
  },
  {
   "cell_type": "code",
   "execution_count": 118,
   "metadata": {},
   "outputs": [
    {
     "name": "stdout",
     "output_type": "stream",
     "text": [
      "Selected MovieRuntime with AIC 2570.5874629216773\n",
      "Selected Drama with AIC 2491.364805847557\n",
      "Selected BookRating with AIC 2445.654874668144\n",
      "Selected OtherGenre with AIC 2428.2313689804287\n",
      "Selected neg with AIC 2412.477921937566\n",
      "Selected FrenchLanguage with AIC 2396.7338776808447\n",
      "Selected CrimeGangster with AIC 2390.4907064720514\n",
      "Selected HorrorSupernatural with AIC 2385.8344212664833\n",
      "Selected FantasyScienceFiction with AIC 2380.4882269908385\n",
      "Selected SpanishLanguage with AIC 2376.904036696814\n",
      "Selected GermanLanguage with AIC 2374.609494473283\n",
      "Selected neu with AIC 2371.8779478122206\n",
      "Selected surprise with AIC 2370.2172840033645\n",
      "Selected compound with AIC 2369.7064556128626\n",
      "Selected ActionAdventure with AIC 2369.440287072305\n",
      "Forward Selected Features: ['MovieRuntime', 'Drama', 'BookRating', 'OtherGenre', 'neg', 'FrenchLanguage', 'CrimeGangster', 'HorrorSupernatural', 'FantasyScienceFiction', 'SpanishLanguage', 'GermanLanguage', 'neu', 'surprise', 'compound', 'ActionAdventure']\n"
     ]
    }
   ],
   "source": [
    "df_rating = df.copy()\n",
    "df_rating.drop(columns = ['MovieGenre', 'MovieBoxOffice', 'MovieRatingNb'], inplace=True)\n",
    "target = 'MovieRating'\n",
    "features = [col for col in df_rating.columns.tolist() if (col != target and col != 'wikipedia_id')]\n",
    "selected_features = forward_selection(df_rating, target, features)\n",
    "print(\"Forward Selected Features:\", selected_features)"
   ]
  },
  {
   "cell_type": "markdown",
   "metadata": {},
   "source": [
    "#### Final linear regression "
   ]
  },
  {
   "cell_type": "code",
   "execution_count": 120,
   "metadata": {},
   "outputs": [
    {
     "name": "stdout",
     "output_type": "stream",
     "text": [
      "                            OLS Regression Results                            \n",
      "==============================================================================\n",
      "Dep. Variable:            MovieRating   R-squared:                       0.298\n",
      "Model:                            OLS   Adj. R-squared:                  0.287\n",
      "Method:                 Least Squares   F-statistic:                     27.55\n",
      "Date:                Fri, 20 Dec 2024   Prob (F-statistic):           9.78e-65\n",
      "Time:                        10:04:19   Log-Likelihood:                -1168.7\n",
      "No. Observations:                 991   AIC:                             2369.\n",
      "Df Residuals:                     975   BIC:                             2448.\n",
      "Df Model:                          15                                         \n",
      "Covariance Type:            nonrobust                                         \n",
      "=========================================================================================\n",
      "                            coef    std err          t      P>|t|      [0.025      0.975]\n",
      "-----------------------------------------------------------------------------------------\n",
      "Intercept                 3.4445      0.948      3.635      0.000       1.585       5.304\n",
      "MovieRuntime              0.0089      0.001      8.381      0.000       0.007       0.011\n",
      "Drama                     0.4828      0.058      8.277      0.000       0.368       0.597\n",
      "BookRating                0.8845      0.131      6.737      0.000       0.627       1.142\n",
      "OtherGenre                0.2336      0.052      4.475      0.000       0.131       0.336\n",
      "neg                      -0.1261      1.274     -0.099      0.921      -2.625       2.373\n",
      "FrenchLanguage            0.3309      0.095      3.495      0.000       0.145       0.517\n",
      "CrimeGangster             0.2172      0.071      3.078      0.002       0.079       0.356\n",
      "HorrorSupernatural       -0.2343      0.081     -2.876      0.004      -0.394      -0.074\n",
      "FantasyScienceFiction     0.1760      0.062      2.818      0.005       0.053       0.298\n",
      "SpanishLanguage           0.2562      0.120      2.138      0.033       0.021       0.491\n",
      "GermanLanguage            0.2380      0.117      2.040      0.042       0.009       0.467\n",
      "neu                      -2.2797      0.846     -2.695      0.007      -3.940      -0.619\n",
      "surprise                  2.9270      1.554      1.883      0.060      -0.123       5.977\n",
      "compound                 -0.0838      0.050     -1.670      0.095      -0.182       0.015\n",
      "ActionAdventure          -0.0830      0.056     -1.494      0.135      -0.192       0.026\n",
      "==============================================================================\n",
      "Omnibus:                       47.208   Durbin-Watson:                   1.921\n",
      "Prob(Omnibus):                  0.000   Jarque-Bera (JB):               61.718\n",
      "Skew:                          -0.453   Prob(JB):                     3.96e-14\n",
      "Kurtosis:                       3.822   Cond. No.                     7.69e+03\n",
      "==============================================================================\n",
      "\n",
      "Notes:\n",
      "[1] Standard Errors assume that the covariance matrix of the errors is correctly specified.\n",
      "[2] The condition number is large, 7.69e+03. This might indicate that there are\n",
      "strong multicollinearity or other numerical problems.\n"
     ]
    },
    {
     "data": {
      "image/png": "[encoded data removed]",
      "text/plain": [
       "<Figure size 640x480 with 1 Axes>"
      ]
     },
     "metadata": {},
     "output_type": "display_data"
    }
   ],
   "source": [
    "target = 'MovieRating'\n",
    "features = selected_features\n",
    "formula = f\"{target} ~ {' + '.join(features)}\"\n",
    "\n",
    "model = train_linear_regression(df_rating, formula)\n",
    "title = 'Movie Rating Regression Coefficients with 95% Confidence Interval'\n",
    "plot_coefficients(model, title)"
   ]
  },
  {
   "cell_type": "code",
   "execution_count": null,
   "metadata": {},
   "outputs": [],
   "source": []
  }
 ],
 "metadata": {
  "kernelspec": {
   "display_name": "ada",
   "language": "python",
   "name": "python3"
  },
  "language_info": {
   "codemirror_mode": {
    "name": "ipython",
    "version": 3
   },
   "file_extension": ".py",
   "mimetype": "text/x-python",
   "name": "python",
   "nbconvert_exporter": "python",
   "pygments_lexer": "ipython3",
   "version": "3.11.9"
  }
 },
 "nbformat": 4,
 "nbformat_minor": 2
}
