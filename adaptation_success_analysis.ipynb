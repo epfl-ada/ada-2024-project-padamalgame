{
 "cells": [
  {
   "cell_type": "markdown",
   "metadata": {},
   "source": [
    "### The success of the adaptations\n",
    "\n",
    "In this notebook, we will analyze the success of the adaptations themselves: are they more successful than non-adaptations? Is there a correlation between the success of a book and of its adaptation? This success can both be represented in terms of box-office, rating and engagement (number of reviews)."
   ]
  },
  {
   "cell_type": "code",
   "execution_count": 1,
   "metadata": {},
   "outputs": [],
   "source": [
    "import pandas as pd\n",
    "import matplotlib.pyplot as plt\n",
    "import seaborn as sns\n",
    "import json\n",
    "from src.scripts.merge_cmu import clean_cmu\n",
    "from src.scripts.category_analysis import *"
   ]
  },
  {
   "cell_type": "code",
   "execution_count": 2,
   "metadata": {},
   "outputs": [],
   "source": [
    "# Load the dataset CMU\n",
    "cmu_movies = clean_cmu(\"MovieSummaries/movie.metadata.tsv\")\n",
    "\n",
    "# Load the dataset merge_imdb\n",
    "df = pd.read_csv('data/merge_imdb.csv')"
   ]
  },
  {
   "cell_type": "code",
   "execution_count": null,
   "metadata": {
    "vscode": {
     "languageId": "coffeescript"
    }
   },
   "outputs": [
    {
     "name": "stdout",
     "output_type": "stream",
     "text": [
      "Genres not in the json: {nan}\n"
     ]
    }
   ],
   "source": [
    "# Load the all_movies.csv dataset\n",
    "all_movies = pd.read_csv('src/all_movies.csv')\n",
    "\n",
    "# Explode the dataset by genre\n",
    "all_movies_exploded = explode_MovieGenre(all_movies)\n",
    "\n",
    "# Load the genre categories from the json file\n",
    "with open('data/genre_categories.json', 'r') as f:\n",
    "    genre_categories = json.load(f)\n",
    "\n",
    "# Get all the values from the json file and put them in a set\n",
    "json_genres = set()\n",
    "for genres in genre_categories.values():\n",
    "    json_genres.update(genres)\n",
    "\n",
    "# Check if all movie genres in all_movies_exploded are in the json_genres set\n",
    "genres_not_in_json = set(all_movies_exploded['MovieGenre'].explode().unique()) - json_genres\n",
    "\n",
    "# Print the genres that are not in the json\n",
    "print(\"Genres not in the json:\", genres_not_in_json)"
   ]
  }
 ],
 "metadata": {
  "kernelspec": {
   "display_name": "ada",
   "language": "python",
   "name": "python3"
  },
  "language_info": {
   "codemirror_mode": {
    "name": "ipython",
    "version": 3
   },
   "file_extension": ".py",
   "mimetype": "text/x-python",
   "name": "python",
   "nbconvert_exporter": "python",
   "pygments_lexer": "ipython3",
   "version": "3.11.10"
  }
 },
 "nbformat": 4,
 "nbformat_minor": 2
}
