{
 "cells": [
  {
   "cell_type": "markdown",
   "metadata": {},
   "source": [
    "### The success of the adaptations\n",
    "\n",
    "In this notebook, we will analyze the success of the adaptations themselves: are they more successful than non-adaptations? Is there a correlation between the success of a book and of its adaptation? This success can both be represented in terms of box-office, rating and engagement (number of reviews)."
   ]
  },
  {
   "cell_type": "code",
   "execution_count": null,
   "metadata": {},
   "outputs": [],
   "source": [
    "import pandas as pd\n",
    "import matplotlib.pyplot as plt\n",
    "import seaborn as sns\n",
    "import json\n",
    "from src.scripts.merge_cmu import clean_cmu\n",
    "from src.scripts.category_analysis import *"
   ]
  },
  {
   "cell_type": "code",
   "execution_count": null,
   "metadata": {},
   "outputs": [],
   "source": [
    "# Load the dataset CMU\n",
    "cmu_movies = clean_cmu(\"MovieSummaries/movie.metadata.tsv\")\n",
    "\n",
    "# Load the dataset merge_imdb\n",
    "df = pd.read_csv('data/merge_imdb.csv')"
   ]
  }
 ],
 "metadata": {
  "language_info": {
   "name": "python"
  }
 },
 "nbformat": 4,
 "nbformat_minor": 2
}
