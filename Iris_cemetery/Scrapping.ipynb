{
 "cells": [
  {
   "cell_type": "code",
   "execution_count": 349,
   "id": "abb2b7b3-eadd-4e0d-9ad2-46c3858cbc1f",
   "metadata": {},
   "outputs": [],
   "source": [
    "import requests\n",
    "from bs4 import BeautifulSoup\n",
    "import pandas as pd\n",
    "import re"
   ]
  },
  {
   "cell_type": "code",
   "execution_count": 350,
   "id": "a65c0acd-6f08-4910-8420-7f6fce370260",
   "metadata": {},
   "outputs": [],
   "source": [
    "# URL of the Wikipedia page\n",
    "url_0_C = \"https://en.wikipedia.org/wiki/List_of_fiction_works_made_into_feature_films_(0%E2%80%939,_A%E2%80%93C)\"\n",
    "url_D_J = \"https://en.wikipedia.org/wiki/List_of_fiction_works_made_into_feature_films_(D%E2%80%93J)\"\n",
    "url_K_R = \"https://en.wikipedia.org/wiki/List_of_fiction_works_made_into_feature_films_(K%E2%80%93R)\"\n",
    "url_S_Z = \"https://en.wikipedia.org/wiki/List_of_fiction_works_made_into_feature_films_(S%E2%80%93Z)\"\n",
    "\n",
    "urls = [url_0_C, url_D_J, url_K_R, url_S_Z]\n"
   ]
  },
  {
   "cell_type": "code",
   "execution_count": 351,
   "id": "0a58cb6f-4bd1-49b7-a76b-d6e80870559b",
   "metadata": {},
   "outputs": [],
   "source": [
    "def scrap_book_to_movie(url): \n",
    "    response = requests.get(url)\n",
    "    result = []\n",
    "    if response.status_code == 200:\n",
    "        soup = BeautifulSoup(response.content, 'html.parser')\n",
    "        content = soup.find('div', {'class': 'mw-parser-output'})\n",
    "        tables = content.find_all('table', {'class': 'wikitable'})\n",
    "        for table in tables:\n",
    "            rows = table.find_all('tr')\n",
    "            \n",
    "            for row in rows:\n",
    "                cells = row.find_all('td')\n",
    "\n",
    "                # splits into book and movie\n",
    "                cell_tab = [cell.get_text(strip=True) for cell in cells]\n",
    "                result.append(cell_tab)    \n",
    "\n",
    "    else:\n",
    "        print(f\"Failed to retrieve the page. Status code: {response.status_code}\")\n",
    "\n",
    "    result = pd.DataFrame(result)\n",
    "    result.columns = ['fiction_work', 'film_adaptations']\n",
    "    return result\n",
    "    "
   ]
  },
  {
   "cell_type": "code",
   "execution_count": 352,
   "id": "bccf8799-607e-418e-9aeb-921f0384846a",
   "metadata": {},
   "outputs": [],
   "source": [
    "library = scrap_book_to_movie(url)\n",
    "library.loc[library['film_adaptations'].isnull() & library['fiction_work'].notnull(), ['film_adaptations']] = library['fiction_work']\n",
    "library.loc[library['film_adaptations'] == library['fiction_work'], ['fiction_work']] = None\n"
   ]
  },
  {
   "cell_type": "code",
   "execution_count": 353,
   "id": "07eb5738-1dff-4721-82d5-4dbe5053ec56",
   "metadata": {},
   "outputs": [],
   "source": [
    "# fill nan fiction_work values with the last non null value of fiction_work\n",
    "library['fiction_work'] = library['fiction_work'].ffill()\n",
    "# drop nan where both columns are nan\n",
    "library = library.dropna(subset=['film_adaptations'])"
   ]
  },
  {
   "cell_type": "code",
   "execution_count": 354,
   "id": "a8fcf24e",
   "metadata": {},
   "outputs": [],
   "source": [
    "def extract_years(text):\n",
    "    format = []\n",
    "    #year = re.findall(r'\\((?:.*)(\\d{4}[–-]\\d{4})(?:.*)\\)|\\((?:.*)(\\d{4}[–-]present)(?:.*)\\)|\\((?:.*)(\\d{4})(?:.*)\\)', text)\n",
    "    years = re.findall(r'\\((?:[^)]*?)(\\d{4}(?:[–-](?:\\d{4}|present))?)(?:[^)]*?)\\)', text)\n",
    "    #print(year)\n",
    "    #if year == []:\n",
    "    #    print('hi')\n",
    "    return years[0] if years else None"
   ]
  },
  {
   "cell_type": "code",
   "execution_count": 355,
   "id": "e5dc58f4-3adf-4b99-838f-5d558d73806c",
   "metadata": {},
   "outputs": [],
   "source": [
    "library['title_book'] = library['fiction_work'].str.split('(').str[0]\n",
    "library['author_book'] = library['fiction_work'].str.split(',').str[-1]\n",
    "library['year_book'] = library['fiction_work'].apply(extract_years)\n",
    "\n",
    "library['title_film'] = library['film_adaptations'].str.split('(').str[0]\n",
    "library['year_film'] = library['film_adaptations'].apply(extract_years)\n",
    "\n",
    "library = library.drop(['fiction_work', 'film_adaptations'], axis = 1)\n",
    "save =  library.copy()"
   ]
  },
  {
   "cell_type": "code",
   "execution_count": 356,
   "id": "740710b3",
   "metadata": {},
   "outputs": [
    {
     "name": "stderr",
     "output_type": "stream",
     "text": [
      "C:\\Users\\Iris\\AppData\\Local\\Temp\\ipykernel_12664\\3180876489.py:5: FutureWarning: ChainedAssignmentError: behaviour will change in pandas 3.0!\n",
      "You are setting values through chained assignment. Currently this works in certain cases, but when using Copy-on-Write (which will become the default behaviour in pandas 3.0) this will never work to update the original DataFrame or Series, because the intermediate object on which we are setting values will behave as a copy.\n",
      "A typical example is when you are setting values in a column of a DataFrame, like:\n",
      "\n",
      "df[\"col\"][row_indexer] = value\n",
      "\n",
      "Use `df.loc[row_indexer, \"col\"] = values` instead, to perform the assignment in a single step and ensure this keeps updating the original `df`.\n",
      "\n",
      "See the caveats in the documentation: https://pandas.pydata.org/pandas-docs/stable/user_guide/indexing.html#returning-a-view-versus-a-copy\n",
      "\n",
      "  library['title_film'][indexes] = library['title_film'][target_ind]\n",
      "C:\\Users\\Iris\\AppData\\Local\\Temp\\ipykernel_12664\\3180876489.py:6: FutureWarning: ChainedAssignmentError: behaviour will change in pandas 3.0!\n",
      "You are setting values through chained assignment. Currently this works in certain cases, but when using Copy-on-Write (which will become the default behaviour in pandas 3.0) this will never work to update the original DataFrame or Series, because the intermediate object on which we are setting values will behave as a copy.\n",
      "A typical example is when you are setting values in a column of a DataFrame, like:\n",
      "\n",
      "df[\"col\"][row_indexer] = value\n",
      "\n",
      "Use `df.loc[row_indexer, \"col\"] = values` instead, to perform the assignment in a single step and ensure this keeps updating the original `df`.\n",
      "\n",
      "See the caveats in the documentation: https://pandas.pydata.org/pandas-docs/stable/user_guide/indexing.html#returning-a-view-versus-a-copy\n",
      "\n",
      "  library['year_film'][indexes] = library['year_film'][target_ind]\n",
      "C:\\Users\\Iris\\AppData\\Local\\Temp\\ipykernel_12664\\3180876489.py:13: FutureWarning: ChainedAssignmentError: behaviour will change in pandas 3.0!\n",
      "You are setting values through chained assignment. Currently this works in certain cases, but when using Copy-on-Write (which will become the default behaviour in pandas 3.0) this will never work to update the original DataFrame or Series, because the intermediate object on which we are setting values will behave as a copy.\n",
      "A typical example is when you are setting values in a column of a DataFrame, like:\n",
      "\n",
      "df[\"col\"][row_indexer] = value\n",
      "\n",
      "Use `df.loc[row_indexer, \"col\"] = values` instead, to perform the assignment in a single step and ensure this keeps updating the original `df`.\n",
      "\n",
      "See the caveats in the documentation: https://pandas.pydata.org/pandas-docs/stable/user_guide/indexing.html#returning-a-view-versus-a-copy\n",
      "\n",
      "  library['title_film'][indexes] = library['title_film'][target_ind]\n",
      "C:\\Users\\Iris\\AppData\\Local\\Temp\\ipykernel_12664\\3180876489.py:14: FutureWarning: ChainedAssignmentError: behaviour will change in pandas 3.0!\n",
      "You are setting values through chained assignment. Currently this works in certain cases, but when using Copy-on-Write (which will become the default behaviour in pandas 3.0) this will never work to update the original DataFrame or Series, because the intermediate object on which we are setting values will behave as a copy.\n",
      "A typical example is when you are setting values in a column of a DataFrame, like:\n",
      "\n",
      "df[\"col\"][row_indexer] = value\n",
      "\n",
      "Use `df.loc[row_indexer, \"col\"] = values` instead, to perform the assignment in a single step and ensure this keeps updating the original `df`.\n",
      "\n",
      "See the caveats in the documentation: https://pandas.pydata.org/pandas-docs/stable/user_guide/indexing.html#returning-a-view-versus-a-copy\n",
      "\n",
      "  library['year_film'][indexes] = library['year_film'][target_ind]\n"
     ]
    }
   ],
   "source": [
    "library = save.copy()\n",
    "indexes = library.index[library['title_film'] == 'same as above'].tolist()\n",
    "#print(indexes)\n",
    "target_ind =[(index - 1) for index in indexes]\n",
    "library['title_film'][indexes] = library['title_film'][target_ind]\n",
    "library['year_film'][indexes] = library['year_film'][target_ind]\n",
    "\n",
    "# print(library.loc[indexes], library.loc[target_ind])\n",
    "\n",
    "indexes = library.index[library['title_film'] == 'same as below'].tolist()\n",
    "#print(indexes)\n",
    "target_ind =[(index + 1) for index in indexes]\n",
    "library['title_film'][indexes] = library['title_film'][target_ind]\n",
    "library['year_film'][indexes] = library['year_film'][target_ind]\n",
    "\n",
    "# print(library.loc[indexes], library.loc[target_ind])"
   ]
  },
  {
   "cell_type": "code",
   "execution_count": 357,
   "id": "c4e4c10d",
   "metadata": {},
   "outputs": [
    {
     "name": "stdout",
     "output_type": "stream",
     "text": [
      "Empty DataFrame\n",
      "Columns: [title_book, author_book, year_book, title_film, year_film]\n",
      "Index: []\n",
      "      title_book        author_book year_book  title_film year_film\n",
      "133  Dharamputra  Acharya Chatursen      None  Dharmputra      1961\n"
     ]
    }
   ],
   "source": [
    "year_film = library.copy()['year_film']\n",
    "print(library[year_film.isnull()])\n",
    "\n",
    "year_book = library.copy()['year_book']\n",
    "print(library[year_book.isnull()])\n",
    "\n",
    "\n",
    "\n",
    "library.to_csv('table_D_J.csv')\n"
   ]
  },
  {
   "cell_type": "code",
   "execution_count": null,
   "id": "81344867",
   "metadata": {},
   "outputs": [],
   "source": [
    "dataframes = []\n",
    "for url in urls: \n",
    "    df = scrap_book_to_movie(url)\n",
    "    clean_df = #TO COMPLETE\n",
    "    dataframes.append(clean_df)\n",
    "\n",
    "book_adaptations = pd.concat(dataframes)\n",
    "book_adaptations.to_csv('book_adaptations.csv')"
   ]
  }
 ],
 "metadata": {
  "kernelspec": {
   "display_name": "ada",
   "language": "python",
   "name": "python3"
  },
  "language_info": {
   "codemirror_mode": {
    "name": "ipython",
    "version": 3
   },
   "file_extension": ".py",
   "mimetype": "text/x-python",
   "name": "python",
   "nbconvert_exporter": "python",
   "pygments_lexer": "ipython3",
   "version": "3.11.9"
  }
 },
 "nbformat": 4,
 "nbformat_minor": 5
}
